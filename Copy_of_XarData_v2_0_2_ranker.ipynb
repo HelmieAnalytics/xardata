{
  "cells": [
    {
      "cell_type": "markdown",
      "metadata": {
        "id": "view-in-github",
        "colab_type": "text"
      },
      "source": [
        "<a href=\"https://colab.research.google.com/github/HelmieAnalytics/xardata/blob/main/Copy_of_XarData_v2_0_2_ranker.ipynb\" target=\"_parent\"><img src=\"https://colab.research.google.com/assets/colab-badge.svg\" alt=\"Open In Colab\"/></a>"
      ]
    },
    {
      "cell_type": "markdown",
      "metadata": {
        "id": "xhMU8a7-u-OH"
      },
      "source": [
        "###Delete files in directories"
      ]
    },
    {
      "cell_type": "code",
      "execution_count": null,
      "metadata": {
        "id": "cuqiEqaeTCkj",
        "colab": {
          "base_uri": "https://localhost:8080/"
        },
        "outputId": "04bbfd4f-389d-4c3d-c86c-80bdb5d44701"
      },
      "outputs": [
        {
          "output_type": "stream",
          "name": "stdout",
          "text": [
            "Mounted at /content/drive\n"
          ]
        }
      ],
      "source": [
        "from google.colab import drive\n",
        "drive.mount('/content/drive')"
      ]
    },
    {
      "cell_type": "code",
      "execution_count": null,
      "metadata": {
        "id": "73iXhdGpU1Ku",
        "colab": {
          "base_uri": "https://localhost:8080/"
        },
        "outputId": "5b9272a8-6edc-455e-9074-81c592120ed9"
      },
      "outputs": [
        {
          "output_type": "stream",
          "name": "stdout",
          "text": [
            "Current working directory: /content/drive/MyDrive\n"
          ]
        }
      ],
      "source": [
        "\n",
        "import os\n",
        "\n",
        "# Specify the desired directory path\n",
        "directory_path = \"/content/drive/MyDrive\"\n",
        "\n",
        "# Change the current working directory\n",
        "os.chdir(directory_path)\n",
        "\n",
        "# Verify that the working directory has been updated\n",
        "print(\"Current working directory:\", os.getcwd())"
      ]
    },
    {
      "cell_type": "code",
      "execution_count": null,
      "metadata": {
        "id": "A3D7Q-w6uRf1",
        "outputId": "f664b207-df1b-4cfb-ab6e-7cf61a7b202b",
        "colab": {
          "base_uri": "https://localhost:8080/"
        }
      },
      "outputs": [
        {
          "output_type": "stream",
          "name": "stdout",
          "text": [
            "Deleted /content/drive/MyDrive/Stocks/4SI.JO.csv\n",
            "Deleted /content/drive/MyDrive/Stocks/ABG.JO.csv\n",
            "Deleted /content/drive/MyDrive/Stocks/ACL.JO.csv\n",
            "Deleted /content/drive/MyDrive/Stocks/ACS.JO.csv\n",
            "Deleted /content/drive/MyDrive/Stocks/ACT.JO.csv\n",
            "Deleted /content/drive/MyDrive/Stocks/ADH.JO.csv\n",
            "Deleted /content/drive/MyDrive/Stocks/ADR.JO.csv\n",
            "Deleted /content/drive/MyDrive/Stocks/ADW.JO.csv\n",
            "Deleted /content/drive/MyDrive/Stocks/AEG.JO.csv\n",
            "Deleted /content/drive/MyDrive/Stocks/AEL.JO.csv\n",
            "Deleted /content/drive/MyDrive/Stocks/AFE.JO.csv\n",
            "Deleted /content/drive/MyDrive/Stocks/AFH.JO.csv\n",
            "Deleted /content/drive/MyDrive/Stocks/AFT.JO.csv\n",
            "Deleted /content/drive/MyDrive/Stocks/AGL.JO.csv\n",
            "Deleted /content/drive/MyDrive/Stocks/AHL.JO.csv\n",
            "Deleted /content/drive/MyDrive/Stocks/AIL.JO.csv\n",
            "Deleted /content/drive/MyDrive/Stocks/AIP.JO.csv\n",
            "Deleted /content/drive/MyDrive/Stocks/AME.JO.csv\n",
            "Deleted /content/drive/MyDrive/Stocks/AMS.JO.csv\n",
            "Deleted /content/drive/MyDrive/Stocks/ANG.JO.csv\n",
            "Deleted /content/drive/MyDrive/Stocks/ANH.JO.csv\n",
            "Deleted /content/drive/MyDrive/Stocks/ANI.JO.csv\n",
            "Deleted /content/drive/MyDrive/Stocks/APF.JO.csv\n",
            "Deleted /content/drive/MyDrive/Stocks/APH.JO.csv\n",
            "Deleted /content/drive/MyDrive/Stocks/APN.JO.csv\n",
            "Deleted /content/drive/MyDrive/Stocks/APO.JO.csv\n",
            "Deleted /content/drive/MyDrive/Stocks/ARA.JO.csv\n",
            "Deleted /content/drive/MyDrive/Stocks/ARI.JO.csv\n",
            "Deleted /content/drive/MyDrive/Stocks/ARL.JO.csv\n",
            "Deleted /content/drive/MyDrive/Stocks/ART.JO.csv\n",
            "Deleted /content/drive/MyDrive/Stocks/ASC.JO.csv\n",
            "Deleted /content/drive/MyDrive/Stocks/ATT.JO.csv\n",
            "Deleted /content/drive/MyDrive/Stocks/AVI.JO.csv\n",
            "Deleted /content/drive/MyDrive/Stocks/AYO.JO.csv\n",
            "Deleted /content/drive/MyDrive/Stocks/BAT.JO.csv\n",
            "Deleted /content/drive/MyDrive/Stocks/BAW.JO.csv\n",
            "Deleted /content/drive/MyDrive/Stocks/BCF.JO.csv\n",
            "Deleted /content/drive/MyDrive/Stocks/BEL.JO.csv\n",
            "Deleted /content/drive/MyDrive/Stocks/BHG.JO.csv\n",
            "Deleted /content/drive/MyDrive/Stocks/BID.JO.csv\n",
            "Deleted /content/drive/MyDrive/Stocks/BIK.JO.csv\n",
            "Deleted /content/drive/MyDrive/Stocks/BKI.JO.csv\n",
            "Deleted /content/drive/MyDrive/Stocks/BLU.JO.csv\n",
            "Deleted /content/drive/MyDrive/Stocks/BRN.JO.csv\n",
            "Deleted /content/drive/MyDrive/Stocks/BRT.JO.csv\n",
            "Deleted /content/drive/MyDrive/Stocks/BTI.JO.csv\n",
            "Deleted /content/drive/MyDrive/Stocks/BTN.JO.csv\n",
            "Deleted /content/drive/MyDrive/Stocks/BVT.JO.csv\n",
            "Deleted /content/drive/MyDrive/Stocks/BWN.JO.csv\n",
            "Deleted /content/drive/MyDrive/Stocks/BYI.JO.csv\n",
            "Deleted /content/drive/MyDrive/Stocks/CAA.JO.csv\n",
            "Deleted /content/drive/MyDrive/Stocks/CAT.JO.csv\n",
            "Deleted /content/drive/MyDrive/Stocks/CFR.JO.csv\n",
            "Deleted /content/drive/MyDrive/Stocks/CGR.JO.csv\n",
            "Deleted /content/drive/MyDrive/Stocks/CHP.JO.csv\n",
            "Deleted /content/drive/MyDrive/Stocks/CKS.JO.csv\n",
            "Deleted /content/drive/MyDrive/Stocks/CLH.JO.csv\n",
            "Deleted /content/drive/MyDrive/Stocks/CLI.JO.csv\n",
            "Deleted /content/drive/MyDrive/Stocks/CLS.JO.csv\n",
            "Deleted /content/drive/MyDrive/Stocks/CMH.JO.csv\n",
            "Deleted /content/drive/MyDrive/Stocks/CML.JO.csv\n",
            "Deleted /content/drive/MyDrive/Stocks/CMO.JO.csv\n",
            "Deleted /content/drive/MyDrive/Stocks/CND.JO.csv\n",
            "Deleted /content/drive/MyDrive/Stocks/COH.JO.csv\n",
            "Deleted /content/drive/MyDrive/Stocks/CPI.JO.csv\n",
            "Deleted /content/drive/MyDrive/Stocks/CPP.JO.csv\n",
            "Deleted /content/drive/MyDrive/Stocks/CPR.JO.csv\n",
            "Deleted /content/drive/MyDrive/Stocks/CRP.JO.csv\n",
            "Deleted /content/drive/MyDrive/Stocks/CSB.JO.csv\n",
            "Deleted /content/drive/MyDrive/Stocks/CTA.JO.csv\n",
            "Deleted /content/drive/MyDrive/Stocks/DCP.JO.csv\n",
            "Deleted /content/drive/MyDrive/Stocks/DIB.JO.csv\n",
            "Deleted /content/drive/MyDrive/Stocks/DNB.JO.csv\n",
            "Deleted /content/drive/MyDrive/Stocks/DRA.JO.csv\n",
            "Deleted /content/drive/MyDrive/Stocks/DRD.JO.csv\n",
            "Deleted /content/drive/MyDrive/Stocks/DSY.JO.csv\n",
            "Deleted /content/drive/MyDrive/Stocks/DTC.JO.csv\n",
            "Deleted /content/drive/MyDrive/Stocks/ELI.JO.csv\n",
            "Deleted /content/drive/MyDrive/Stocks/EMH.JO.csv\n",
            "Deleted /content/drive/MyDrive/Stocks/EMI.JO.csv\n",
            "Deleted /content/drive/MyDrive/Stocks/EMN.JO.csv\n",
            "Deleted /content/drive/MyDrive/Stocks/ENX.JO.csv\n",
            "Deleted /content/drive/MyDrive/Stocks/EOH.JO.csv\n",
            "Deleted /content/drive/MyDrive/Stocks/EPE.JO.csv\n",
            "Deleted /content/drive/MyDrive/Stocks/EPS.JO.csv\n",
            "Deleted /content/drive/MyDrive/Stocks/EQU.JO.csv\n",
            "Deleted /content/drive/MyDrive/Stocks/EUZ.JO.csv\n",
            "Deleted /content/drive/MyDrive/Stocks/EXP.JO.csv\n",
            "Deleted /content/drive/MyDrive/Stocks/EXX.JO.csv\n",
            "Deleted /content/drive/MyDrive/Stocks/FBR.JO.csv\n",
            "Deleted /content/drive/MyDrive/Stocks/FFB.JO.csv\n",
            "Deleted /content/drive/MyDrive/Stocks/FGL.JO.csv\n",
            "Deleted /content/drive/MyDrive/Stocks/FSR.JO.csv\n",
            "Deleted /content/drive/MyDrive/Stocks/FTA.JO.csv\n",
            "Deleted /content/drive/MyDrive/Stocks/FTB.JO.csv\n",
            "Deleted /content/drive/MyDrive/Stocks/FTH.JO.csv\n",
            "Deleted /content/drive/MyDrive/Stocks/GFI.JO.csv\n",
            "Deleted /content/drive/MyDrive/Stocks/GLD.JO.csv\n",
            "Deleted /content/drive/MyDrive/Stocks/GLN.JO.csv\n",
            "Deleted /content/drive/MyDrive/Stocks/GML.JO.csv\n",
            "Deleted /content/drive/MyDrive/Stocks/GND.JO.csv\n",
            "Deleted /content/drive/MyDrive/Stocks/GPL.JO.csv\n",
            "Deleted /content/drive/MyDrive/Stocks/GRT.JO.csv\n",
            "Deleted /content/drive/MyDrive/Stocks/GSH.JO.csv\n",
            "Deleted /content/drive/MyDrive/Stocks/HAR.JO.csv\n",
            "Deleted /content/drive/MyDrive/Stocks/HCI.JO.csv\n",
            "Deleted /content/drive/MyDrive/Stocks/HDC.JO.csv\n",
            "Deleted /content/drive/MyDrive/Stocks/HIL.JO.csv\n",
            "Deleted /content/drive/MyDrive/Stocks/HLM.JO.csv\n",
            "Deleted /content/drive/MyDrive/Stocks/HMN.JO.csv\n",
            "Deleted /content/drive/MyDrive/Stocks/HUG.JO.csv\n",
            "Deleted /content/drive/MyDrive/Stocks/HYP.JO.csv\n",
            "Deleted /content/drive/MyDrive/Stocks/IMP.JO.csv\n",
            "Deleted /content/drive/MyDrive/Stocks/INL.JO.csv\n",
            "Deleted /content/drive/MyDrive/Stocks/INP.JO.csv\n",
            "Deleted /content/drive/MyDrive/Stocks/ISA.JO.csv\n",
            "Deleted /content/drive/MyDrive/Stocks/ISB.JO.csv\n",
            "Deleted /content/drive/MyDrive/Stocks/ITE.JO.csv\n",
            "Deleted /content/drive/MyDrive/Stocks/IVT.JO.csv\n",
            "Deleted /content/drive/MyDrive/Stocks/JBL.JO.csv\n",
            "Deleted /content/drive/MyDrive/Stocks/JSE.JO.csv\n",
            "Deleted /content/drive/MyDrive/Stocks/KAL.JO.csv\n",
            "Deleted /content/drive/MyDrive/Stocks/KAP.JO.csv\n",
            "Deleted /content/drive/MyDrive/Stocks/KBO.JO.csv\n",
            "Deleted /content/drive/MyDrive/Stocks/KIO.JO.csv\n",
            "Deleted /content/drive/MyDrive/Stocks/KP2.JO.csv\n",
            "Deleted /content/drive/MyDrive/Stocks/KRO.JO.csv\n",
            "Deleted /content/drive/MyDrive/Stocks/KST.JO.csv\n",
            "Deleted /content/drive/MyDrive/Stocks/LAB.JO.csv\n",
            "Deleted /content/drive/MyDrive/Stocks/LBR.JO.csv\n",
            "Deleted /content/drive/MyDrive/Stocks/LEW.JO.csv\n",
            "Deleted /content/drive/MyDrive/Stocks/LHC.JO.csv\n",
            "Deleted /content/drive/MyDrive/Stocks/LSK.JO.csv\n",
            "Deleted /content/drive/MyDrive/Stocks/LTE.JO.csv\n",
            "Deleted /content/drive/MyDrive/Stocks/MCG.JO.csv\n",
            "Deleted /content/drive/MyDrive/Stocks/MCZ.JO.csv\n",
            "Deleted /content/drive/MyDrive/Stocks/MDI.JO.csv\n",
            "Deleted /content/drive/MyDrive/Stocks/MFL.JO.csv\n",
            "Deleted /content/drive/MyDrive/Stocks/MHB.JO.csv\n",
            "Deleted /content/drive/MyDrive/Stocks/MKR.JO.csv\n",
            "Deleted /content/drive/MyDrive/Stocks/MMP.JO.csv\n",
            "Deleted /content/drive/MyDrive/Stocks/MNP.JO.csv\n",
            "Deleted /content/drive/MyDrive/Stocks/MPT.JO.csv\n",
            "Deleted /content/drive/MyDrive/Stocks/MRF.JO.csv\n",
            "Deleted /content/drive/MyDrive/Stocks/MRP.JO.csv\n",
            "Deleted /content/drive/MyDrive/Stocks/MSP.JO.csv\n",
            "Deleted /content/drive/MyDrive/Stocks/MST.JO.csv\n",
            "Deleted /content/drive/MyDrive/Stocks/MTA.JO.csv\n",
            "Deleted /content/drive/MyDrive/Stocks/MTH.JO.csv\n",
            "Deleted /content/drive/MyDrive/Stocks/MTM.JO.csv\n",
            "Deleted /content/drive/MyDrive/Stocks/MTN.JO.csv\n",
            "Deleted /content/drive/MyDrive/Stocks/MTU.JO.csv\n",
            "Deleted /content/drive/MyDrive/Stocks/MUR.JO.csv\n",
            "Deleted /content/drive/MyDrive/Stocks/N91.JO.csv\n",
            "Deleted /content/drive/MyDrive/Stocks/NCS.JO.csv\n",
            "Deleted /content/drive/MyDrive/Stocks/NED.JO.csv\n",
            "Deleted /content/drive/MyDrive/Stocks/NPH.JO.csv\n",
            "Deleted /content/drive/MyDrive/Stocks/NPK.JO.csv\n",
            "Deleted /content/drive/MyDrive/Stocks/NPN.JO.csv\n",
            "Deleted /content/drive/MyDrive/Stocks/NRP.JO.csv\n",
            "Deleted /content/drive/MyDrive/Stocks/NTC.JO.csv\n",
            "Deleted /content/drive/MyDrive/Stocks/NVS.JO.csv\n",
            "Deleted /content/drive/MyDrive/Stocks/NWL.JO.csv\n",
            "Deleted /content/drive/MyDrive/Stocks/NY1.JO.csv\n",
            "Deleted /content/drive/MyDrive/Stocks/OAO.JO.csv\n",
            "Deleted /content/drive/MyDrive/Stocks/OAS.JO.csv\n",
            "Deleted /content/drive/MyDrive/Stocks/OCE.JO.csv\n",
            "Deleted /content/drive/MyDrive/Stocks/OCT.JO.csv\n",
            "Deleted /content/drive/MyDrive/Stocks/OMN.JO.csv\n",
            "Deleted /content/drive/MyDrive/Stocks/OMU.JO.csv\n",
            "Deleted /content/drive/MyDrive/Stocks/ORN.JO.csv\n",
            "Deleted /content/drive/MyDrive/Stocks/OUT.JO.csv\n",
            "Deleted /content/drive/MyDrive/Stocks/PAN.JO.csv\n",
            "Deleted /content/drive/MyDrive/Stocks/PBG.JO.csv\n",
            "Deleted /content/drive/MyDrive/Stocks/PIK.JO.csv\n",
            "Deleted /content/drive/MyDrive/Stocks/PMR.JO.csv\n",
            "Deleted /content/drive/MyDrive/Stocks/PMV.JO.csv\n",
            "Deleted /content/drive/MyDrive/Stocks/PPC.JO.csv\n",
            "Deleted /content/drive/MyDrive/Stocks/PPE.JO.csv\n",
            "Deleted /content/drive/MyDrive/Stocks/PPH.JO.csv\n",
            "Deleted /content/drive/MyDrive/Stocks/PPR.JO.csv\n",
            "Deleted /content/drive/MyDrive/Stocks/PRX.JO.csv\n",
            "Deleted /content/drive/MyDrive/Stocks/QFH.JO.csv\n",
            "Deleted /content/drive/MyDrive/Stocks/QLT.JO.csv\n",
            "Deleted /content/drive/MyDrive/Stocks/RBX.JO.csv\n",
            "Deleted /content/drive/MyDrive/Stocks/RCL.JO.csv\n",
            "Deleted /content/drive/MyDrive/Stocks/RDF.JO.csv\n",
            "Deleted /content/drive/MyDrive/Stocks/REA.JO.csv\n",
            "Deleted /content/drive/MyDrive/Stocks/REB.JO.csv\n",
            "Deleted /content/drive/MyDrive/Stocks/REM.JO.csv\n",
            "Deleted /content/drive/MyDrive/Stocks/REN.JO.csv\n",
            "Deleted /content/drive/MyDrive/Stocks/RES.JO.csv\n",
            "Deleted /content/drive/MyDrive/Stocks/RFG.JO.csv\n",
            "Deleted /content/drive/MyDrive/Stocks/RHB.JO.csv\n",
            "Deleted /content/drive/MyDrive/Stocks/RLO.JO.csv\n",
            "Deleted /content/drive/MyDrive/Stocks/RMH.JO.csv\n",
            "Deleted /content/drive/MyDrive/Stocks/RNG.JO.csv\n",
            "Deleted /content/drive/MyDrive/Stocks/RNI.JO.csv\n",
            "Deleted /content/drive/MyDrive/Stocks/RTN.JO.csv\n",
            "Deleted /content/drive/MyDrive/Stocks/RTO.JO.csv\n",
            "Deleted /content/drive/MyDrive/Stocks/S32.JO.csv\n",
            "Deleted /content/drive/MyDrive/Stocks/SAC.JO.csv\n",
            "Deleted /content/drive/MyDrive/Stocks/SAP.JO.csv\n",
            "Deleted /content/drive/MyDrive/Stocks/SAR.JO.csv\n",
            "Deleted /content/drive/MyDrive/Stocks/SBK.JO.csv\n",
            "Deleted /content/drive/MyDrive/Stocks/SBP.JO.csv\n",
            "Deleted /content/drive/MyDrive/Stocks/SCD.JO.csv\n",
            "Deleted /content/drive/MyDrive/Stocks/SDL.JO.csv\n",
            "Deleted /content/drive/MyDrive/Stocks/SDO.JO.csv\n",
            "Deleted /content/drive/MyDrive/Stocks/SEA.JO.csv\n",
            "Deleted /content/drive/MyDrive/Stocks/SEB.JO.csv\n",
            "Deleted /content/drive/MyDrive/Stocks/SEP.JO.csv\n",
            "Deleted /content/drive/MyDrive/Stocks/SFN.JO.csv\n",
            "Deleted /content/drive/MyDrive/Stocks/SHC.JO.csv\n",
            "Deleted /content/drive/MyDrive/Stocks/SHG.JO.csv\n",
            "Deleted /content/drive/MyDrive/Stocks/SHP.JO.csv\n",
            "Deleted /content/drive/MyDrive/Stocks/SLG.JO.csv\n",
            "Deleted /content/drive/MyDrive/Stocks/SLM.JO.csv\n",
            "Deleted /content/drive/MyDrive/Stocks/SNT.JO.csv\n",
            "Deleted /content/drive/MyDrive/Stocks/SNV.JO.csv\n",
            "Deleted /content/drive/MyDrive/Stocks/SOH.JO.csv\n",
            "Deleted /content/drive/MyDrive/Stocks/SOL.JO.csv\n",
            "Deleted /content/drive/MyDrive/Stocks/SPG.JO.csv\n",
            "Deleted /content/drive/MyDrive/Stocks/SPP.JO.csv\n",
            "Deleted /content/drive/MyDrive/Stocks/SRE.JO.csv\n",
            "Deleted /content/drive/MyDrive/Stocks/SSK.JO.csv\n",
            "Deleted /content/drive/MyDrive/Stocks/SSS.JO.csv\n",
            "Deleted /content/drive/MyDrive/Stocks/SSU.JO.csv\n",
            "Deleted /content/drive/MyDrive/Stocks/SSW.JO.csv\n",
            "Deleted /content/drive/MyDrive/Stocks/SUI.JO.csv\n",
            "Deleted /content/drive/MyDrive/Stocks/SUR.JO.csv\n",
            "Deleted /content/drive/MyDrive/Stocks/SXM.JO.csv\n",
            "Deleted /content/drive/MyDrive/Stocks/SYG.JO.csv\n",
            "Deleted /content/drive/MyDrive/Stocks/SZK.JO.csv\n",
            "Deleted /content/drive/MyDrive/Stocks/TBS.JO.csv\n",
            "Deleted /content/drive/MyDrive/Stocks/TCP.JO.csv\n",
            "Deleted /content/drive/MyDrive/Stocks/TEX.JO.csv\n",
            "Deleted /content/drive/MyDrive/Stocks/TFG.JO.csv\n",
            "Deleted /content/drive/MyDrive/Stocks/TGA.JO.csv\n",
            "Deleted /content/drive/MyDrive/Stocks/THA.JO.csv\n",
            "Deleted /content/drive/MyDrive/Stocks/TKG.JO.csv\n",
            "Deleted /content/drive/MyDrive/Stocks/TLM.JO.csv\n",
            "Deleted /content/drive/MyDrive/Stocks/TMT.JO.csv\n",
            "Deleted /content/drive/MyDrive/Stocks/TON.JO.csv\n",
            "Deleted /content/drive/MyDrive/Stocks/TPC.JO.csv\n",
            "Deleted /content/drive/MyDrive/Stocks/TRE.JO.csv\n",
            "Deleted /content/drive/MyDrive/Stocks/TRL.JO.csv\n",
            "Deleted /content/drive/MyDrive/Stocks/TRU.JO.csv\n",
            "Deleted /content/drive/MyDrive/Stocks/TSG.JO.csv\n",
            "Deleted /content/drive/MyDrive/Stocks/TTO.JO.csv\n",
            "Deleted /content/drive/MyDrive/Stocks/UPL.JO.csv\n",
            "Deleted /content/drive/MyDrive/Stocks/VIS.JO.csv\n",
            "Deleted /content/drive/MyDrive/Stocks/VKE.JO.csv\n",
            "Deleted /content/drive/MyDrive/Stocks/VOD.JO.csv\n",
            "Deleted /content/drive/MyDrive/Stocks/VUN.JO.csv\n",
            "Deleted /content/drive/MyDrive/Stocks/WBC.JO.csv\n",
            "Deleted /content/drive/MyDrive/Stocks/WBO.JO.csv\n",
            "Deleted /content/drive/MyDrive/Stocks/WEZ.JO.csv\n",
            "Deleted /content/drive/MyDrive/Stocks/WHL.JO.csv\n",
            "Deleted /content/drive/MyDrive/Stocks/WKF.JO.csv\n",
            "Deleted /content/drive/MyDrive/Stocks/YRK.JO.csv\n",
            "Deleted /content/drive/MyDrive/Stocks/ZED.JO.csv\n",
            "Deleted /content/drive/MyDrive/Stocks/ZZD.JO.csv\n",
            "Deleted /content/drive/MyDrive/Stocks/tickers.csv\n"
          ]
        }
      ],
      "source": [
        "\n",
        "import os\n",
        "import glob\n",
        "\n",
        "# Base directory containing the folders\n",
        "base_dir = '/content/drive/MyDrive/'\n",
        "exclude_subdir = ''  # Name of the subdirectory to exclude\n",
        "\n",
        "# Find all subdirectories within the base directory\n",
        "subdirs = [d for d in glob.glob(os.path.join(base_dir, '*')) if os.path.isdir(d)]\n",
        "\n",
        "# Iterate over each subdirectory and delete all files within them, except the excluded subdirectory\n",
        "for subdir in subdirs:\n",
        "    if os.path.basename(subdir) == exclude_subdir:\n",
        "        continue  # Skip the excluded subdirectory\n",
        "    files = glob.glob(os.path.join(subdir, '*'))  # Get all files in the subdirectory\n",
        "    for file in files:\n",
        "        try:\n",
        "            os.remove(file)  # Delete the file\n",
        "            print(f\"Deleted {file}\")\n",
        "        except Exception as e:\n",
        "            print(f\"Error deleting {file}: {e}\")"
      ]
    },
    {
      "cell_type": "code",
      "source": [
        "\n",
        "import shutil\n",
        "import os\n",
        "\n",
        "def delete_folder(folder_path):\n",
        "    if os.path.exists(folder_path):\n",
        "        shutil.rmtree(folder_path)\n",
        "        print(f\"Deleted folder: {folder_path}\")\n",
        "    else:\n",
        "        print(f\"Folder not found: {folder_path}\")\n",
        "\n",
        "# Example usage\n",
        "folder_path = '/content/drive/MyDrive/'\n",
        "delete_folder(folder_path)"
      ],
      "metadata": {
        "id": "H59V9XLLvSP5"
      },
      "execution_count": null,
      "outputs": []
    },
    {
      "cell_type": "code",
      "execution_count": null,
      "metadata": {
        "id": "mZtcnFibWTyp"
      },
      "outputs": [],
      "source": [
        "\n",
        "import os\n",
        "\n",
        "def delete_files_except_specific(directory, excluded_files, excluded_folders):\n",
        "    \"\"\"\n",
        "    Deletes all files in the specified directory except for the ones listed in `excluded_files`.\n",
        "    Args:\n",
        "        directory (str): Path to the directory.\n",
        "        excluded_files (list): List of filenames to exclude.\n",
        "        excluded_folders (list): List of folder names to exclude.\n",
        "    \"\"\"\n",
        "    for root, dirs, files in os.walk(directory):\n",
        "        # Exclude specific folders\n",
        "        dirs[:] = [d for d in dirs if d not in excluded_folders]\n",
        "\n",
        "        for filename in files:\n",
        "            if filename not in excluded_files:\n",
        "                file_path = os.path.join(root, filename)\n",
        "                os.remove(file_path)\n",
        "\n",
        "# Example usage:\n",
        "folder_path = '/content/drive/MyDrive'\n",
        "files_to_exclude = []  # Add filenames you want to exclude\n",
        "folders_to_exclude = []  # Add folder names you want to exclude\n",
        "delete_files_except_specific(folder_path, files_to_exclude, folders_to_exclude)"
      ]
    },
    {
      "cell_type": "code",
      "execution_count": null,
      "metadata": {
        "cellView": "form",
        "id": "nDC9_b4SWQVS"
      },
      "outputs": [],
      "source": [
        "# @title\n",
        "\n",
        "import os\n",
        "\n",
        "# Check current working directory\n",
        "print(os.getcwd())\n",
        "\n",
        "# Attempt to create a test file in the current directory\n",
        "try:\n",
        "    with open('test.txt', 'w') as f:\n",
        "        f.write('This is a test file.')\n",
        "    print('Test file created successfully.')\n",
        "except OSError as e:\n",
        "    print(f'Error creating test file: {e}')"
      ]
    },
    {
      "cell_type": "code",
      "source": [
        "\n",
        "from PIL import Image\n",
        "\n",
        "def convert_to_bitmap(input_image_path, output_image_path, new_size, dpi):\n",
        "    # Open the image file\n",
        "    with Image.open(input_image_path) as img:\n",
        "        # Resize the image while maintaining aspect ratio\n",
        "        img.thumbnail(new_size, Image.ANTIALIAS)\n",
        "\n",
        "        # Set DPI\n",
        "        img.info['dpi'] = (dpi, dpi)\n",
        "\n",
        "        # Convert image to '1' mode for a bitmap (binary) image\n",
        "        img = img.convert('1')\n",
        "\n",
        "        # Save the image in bitmap format\n",
        "        img.save(output_image_path, format='BMP', dpi=(dpi, dpi))\n",
        "        print(f\"Image saved as {output_image_path}\")\n",
        "\n",
        "# Example usage\n",
        "input_path = \"/content/Screenshot_20220923_182855.jpg\"  # Replace with your input image file path\n",
        "output_path = \"helmie_research_bitmap.bmp\"  # Replace with your desired output file path\n",
        "size = (200, 200)  # Set the desired size (width, height) for resizing\n",
        "dpi = 300  # Desired DPI for the output\n",
        "\n",
        "convert_to_bitmap(input_path, output_path, size, dpi)"
      ],
      "metadata": {
        "colab": {
          "base_uri": "https://localhost:8080/"
        },
        "id": "HHknmlA0MnGP",
        "outputId": "8b1cc76b-970e-4d69-aade-df2f188a9ab3"
      },
      "execution_count": null,
      "outputs": [
        {
          "output_type": "stream",
          "name": "stdout",
          "text": [
            "Image saved as helmie_research_bitmap.bmp\n"
          ]
        },
        {
          "output_type": "stream",
          "name": "stderr",
          "text": [
            "<ipython-input-55-a0cdd3f1a866>:7: DeprecationWarning: ANTIALIAS is deprecated and will be removed in Pillow 10 (2023-07-01). Use LANCZOS or Resampling.LANCZOS instead.\n",
            "  img.thumbnail(new_size, Image.ANTIALIAS)\n"
          ]
        }
      ]
    },
    {
      "cell_type": "markdown",
      "metadata": {
        "id": "oOqMYPtEBnw_"
      },
      "source": [
        "###Install packages"
      ]
    },
    {
      "cell_type": "code",
      "execution_count": null,
      "metadata": {
        "id": "IECOpw6H-TQX",
        "colab": {
          "base_uri": "https://localhost:8080/"
        },
        "outputId": "b9f3eb54-ef0f-4edd-ce13-071a0d155a28"
      },
      "outputs": [
        {
          "output_type": "stream",
          "name": "stdout",
          "text": [
            "Requirement already satisfied: yfinance in /usr/local/lib/python3.10/dist-packages (0.2.41)\n",
            "Requirement already satisfied: pandas>=1.3.0 in /usr/local/lib/python3.10/dist-packages (from yfinance) (2.1.4)\n",
            "Requirement already satisfied: numpy>=1.16.5 in /usr/local/lib/python3.10/dist-packages (from yfinance) (1.26.4)\n",
            "Requirement already satisfied: requests>=2.31 in /usr/local/lib/python3.10/dist-packages (from yfinance) (2.32.3)\n",
            "Requirement already satisfied: multitasking>=0.0.7 in /usr/local/lib/python3.10/dist-packages (from yfinance) (0.0.11)\n",
            "Requirement already satisfied: lxml>=4.9.1 in /usr/local/lib/python3.10/dist-packages (from yfinance) (4.9.4)\n",
            "Requirement already satisfied: platformdirs>=2.0.0 in /usr/local/lib/python3.10/dist-packages (from yfinance) (4.2.2)\n",
            "Requirement already satisfied: pytz>=2022.5 in /usr/local/lib/python3.10/dist-packages (from yfinance) (2024.1)\n",
            "Requirement already satisfied: frozendict>=2.3.4 in /usr/local/lib/python3.10/dist-packages (from yfinance) (2.4.4)\n",
            "Requirement already satisfied: peewee>=3.16.2 in /usr/local/lib/python3.10/dist-packages (from yfinance) (3.17.6)\n",
            "Requirement already satisfied: beautifulsoup4>=4.11.1 in /usr/local/lib/python3.10/dist-packages (from yfinance) (4.12.3)\n",
            "Requirement already satisfied: html5lib>=1.1 in /usr/local/lib/python3.10/dist-packages (from yfinance) (1.1)\n",
            "Requirement already satisfied: soupsieve>1.2 in /usr/local/lib/python3.10/dist-packages (from beautifulsoup4>=4.11.1->yfinance) (2.5)\n",
            "Requirement already satisfied: six>=1.9 in /usr/local/lib/python3.10/dist-packages (from html5lib>=1.1->yfinance) (1.16.0)\n",
            "Requirement already satisfied: webencodings in /usr/local/lib/python3.10/dist-packages (from html5lib>=1.1->yfinance) (0.5.1)\n",
            "Requirement already satisfied: python-dateutil>=2.8.2 in /usr/local/lib/python3.10/dist-packages (from pandas>=1.3.0->yfinance) (2.8.2)\n",
            "Requirement already satisfied: tzdata>=2022.1 in /usr/local/lib/python3.10/dist-packages (from pandas>=1.3.0->yfinance) (2024.1)\n",
            "Requirement already satisfied: charset-normalizer<4,>=2 in /usr/local/lib/python3.10/dist-packages (from requests>=2.31->yfinance) (3.3.2)\n",
            "Requirement already satisfied: idna<4,>=2.5 in /usr/local/lib/python3.10/dist-packages (from requests>=2.31->yfinance) (3.7)\n",
            "Requirement already satisfied: urllib3<3,>=1.21.1 in /usr/local/lib/python3.10/dist-packages (from requests>=2.31->yfinance) (2.0.7)\n",
            "Requirement already satisfied: certifi>=2017.4.17 in /usr/local/lib/python3.10/dist-packages (from requests>=2.31->yfinance) (2024.7.4)\n"
          ]
        }
      ],
      "source": [
        "!pip install yfinance"
      ]
    },
    {
      "cell_type": "code",
      "execution_count": null,
      "metadata": {
        "id": "iAeOLNoS-X0q",
        "colab": {
          "base_uri": "https://localhost:8080/"
        },
        "outputId": "f9428e0d-e5d4-44af-8a0d-9d2bf7310908"
      },
      "outputs": [
        {
          "output_type": "stream",
          "name": "stdout",
          "text": [
            "Collecting yahooquery\n",
            "  Downloading yahooquery-2.3.7-py3-none-any.whl.metadata (5.0 kB)\n",
            "Requirement already satisfied: beautifulsoup4<5.0.0,>=4.12.2 in /usr/local/lib/python3.10/dist-packages (from yahooquery) (4.12.3)\n",
            "Requirement already satisfied: lxml<5.0.0,>=4.9.3 in /usr/local/lib/python3.10/dist-packages (from yahooquery) (4.9.4)\n",
            "Requirement already satisfied: pandas<3.0.0,>=2.0.3 in /usr/local/lib/python3.10/dist-packages (from yahooquery) (2.1.4)\n",
            "Requirement already satisfied: requests<3.0.0,>=2.31.0 in /usr/local/lib/python3.10/dist-packages (from yahooquery) (2.32.3)\n",
            "Collecting requests-futures<2.0.0,>=1.0.1 (from yahooquery)\n",
            "  Downloading requests_futures-1.0.1-py2.py3-none-any.whl.metadata (12 kB)\n",
            "Requirement already satisfied: tqdm<5.0.0,>=4.65.0 in /usr/local/lib/python3.10/dist-packages (from yahooquery) (4.66.5)\n",
            "Requirement already satisfied: soupsieve>1.2 in /usr/local/lib/python3.10/dist-packages (from beautifulsoup4<5.0.0,>=4.12.2->yahooquery) (2.5)\n",
            "Requirement already satisfied: numpy<2,>=1.22.4 in /usr/local/lib/python3.10/dist-packages (from pandas<3.0.0,>=2.0.3->yahooquery) (1.26.4)\n",
            "Requirement already satisfied: python-dateutil>=2.8.2 in /usr/local/lib/python3.10/dist-packages (from pandas<3.0.0,>=2.0.3->yahooquery) (2.8.2)\n",
            "Requirement already satisfied: pytz>=2020.1 in /usr/local/lib/python3.10/dist-packages (from pandas<3.0.0,>=2.0.3->yahooquery) (2024.1)\n",
            "Requirement already satisfied: tzdata>=2022.1 in /usr/local/lib/python3.10/dist-packages (from pandas<3.0.0,>=2.0.3->yahooquery) (2024.1)\n",
            "Requirement already satisfied: charset-normalizer<4,>=2 in /usr/local/lib/python3.10/dist-packages (from requests<3.0.0,>=2.31.0->yahooquery) (3.3.2)\n",
            "Requirement already satisfied: idna<4,>=2.5 in /usr/local/lib/python3.10/dist-packages (from requests<3.0.0,>=2.31.0->yahooquery) (3.7)\n",
            "Requirement already satisfied: urllib3<3,>=1.21.1 in /usr/local/lib/python3.10/dist-packages (from requests<3.0.0,>=2.31.0->yahooquery) (2.0.7)\n",
            "Requirement already satisfied: certifi>=2017.4.17 in /usr/local/lib/python3.10/dist-packages (from requests<3.0.0,>=2.31.0->yahooquery) (2024.7.4)\n",
            "Requirement already satisfied: six>=1.5 in /usr/local/lib/python3.10/dist-packages (from python-dateutil>=2.8.2->pandas<3.0.0,>=2.0.3->yahooquery) (1.16.0)\n",
            "Downloading yahooquery-2.3.7-py3-none-any.whl (52 kB)\n",
            "\u001b[2K   \u001b[90m━━━━━━━━━━━━━━━━━━━━━━━━━━━━━━━━━━━━━━━━\u001b[0m \u001b[32m52.7/52.7 kB\u001b[0m \u001b[31m1.7 MB/s\u001b[0m eta \u001b[36m0:00:00\u001b[0m\n",
            "\u001b[?25hDownloading requests_futures-1.0.1-py2.py3-none-any.whl (7.6 kB)\n",
            "Installing collected packages: requests-futures, yahooquery\n",
            "Successfully installed requests-futures-1.0.1 yahooquery-2.3.7\n"
          ]
        }
      ],
      "source": [
        "!pip install yahooquery"
      ]
    },
    {
      "cell_type": "code",
      "execution_count": null,
      "metadata": {
        "id": "48Zx8u3_qM-z"
      },
      "outputs": [],
      "source": [
        "#!pip install mpld3"
      ]
    },
    {
      "cell_type": "code",
      "execution_count": null,
      "metadata": {
        "id": "QrD7a1dBvewh"
      },
      "outputs": [],
      "source": [
        "#!pip install -i https://test.pypi.org/simple/ xardata"
      ]
    },
    {
      "cell_type": "markdown",
      "metadata": {
        "id": "mE7Pscc7PRyu"
      },
      "source": [
        "###Settings"
      ]
    },
    {
      "cell_type": "code",
      "execution_count": null,
      "metadata": {
        "id": "PkP0SoUkxEzK",
        "outputId": "44d1e2d4-2c4b-49db-a703-dd97aa136095",
        "colab": {
          "base_uri": "https://localhost:8080/"
        }
      },
      "outputs": [
        {
          "output_type": "stream",
          "name": "stdout",
          "text": [
            "2024-08-13 - Last Month Result: 0.00%\n"
          ]
        }
      ],
      "source": [
        "\n",
        "import datetime\n",
        "from datetime import date\n",
        "import numpy as np\n",
        "\n",
        "\"\"\"\n",
        "Settings\n",
        "\"\"\"\n",
        "portfolio_value = 5000.00\n",
        "perf_last_month = 5000.00\n",
        "\n",
        "\n",
        "# Storing today's date into a variable\n",
        "today = date.today()\n",
        "# Storing the specific date\n",
        "trading_day = today\n",
        "# Calculate percent difference since last month\n",
        "perf_pct = (portfolio_value / perf_last_month) - 1\n",
        "# Print performance, format as percent with two decimals.\n",
        "print(\"{} - Last Month Result: {:.2%}\".format(trading_day, perf_pct))\n",
        "# Remember today's portfolio value for next month's calculation\n",
        "#perf_last_month = portfolio_value"
      ]
    },
    {
      "cell_type": "markdown",
      "metadata": {
        "id": "zPY-0m3Gvs64"
      },
      "source": [
        "###Run XarData v0.1.0"
      ]
    },
    {
      "cell_type": "markdown",
      "metadata": {
        "id": "vE9ebbp65LdU"
      },
      "source": [
        "###Import Benchmark Data"
      ]
    },
    {
      "cell_type": "code",
      "execution_count": null,
      "metadata": {
        "colab": {
          "base_uri": "https://localhost:8080/"
        },
        "id": "jMMdyGwmf3x0",
        "outputId": "e64ce6dd-3c06-4f89-eab7-5baedbf858b0"
      },
      "outputs": [
        {
          "output_type": "stream",
          "name": "stderr",
          "text": [
            "<ipython-input-46-e0700f43d53a>:73: UserWarning: This figure includes Axes that are not compatible with tight_layout, so results might be incorrect.\n",
            "  plt.tight_layout()\n"
          ]
        },
        {
          "output_type": "display_data",
          "data": {
            "text/plain": [
              "<Figure size 1000x600 with 2 Axes>"
            ],
            "image/png": "[encoded data removed]"
          },
          "metadata": {}
        }
      ],
      "source": [
        "%matplotlib inline\n",
        "\n",
        "import pandas as pd\n",
        "from datetime import datetime\n",
        "import yfinance as yf\n",
        "import yahooquery\n",
        "import matplotlib.pyplot as plt\n",
        "from PIL import Image\n",
        "\n",
        "# Set length of history\n",
        "#now = datetime.now().strftime(\"%Y-%m-%d\")\n",
        "start = '2022-06-01'\n",
        "end = '2024-08-08'\n",
        "\n",
        "# Get price history\n",
        "data = yf.Ticker(\"STXCAP.JO\")\n",
        "index = data.history(start=start,\n",
        "                     end=end)\n",
        "\n",
        "# Covert Date Column to datetime\n",
        "# Set Date Column as index\n",
        "resetindex = index.reset_index(inplace = True)\n",
        "index['Date'] = pd.to_datetime(index['Date']).dt.strftime('%Y-%m-%d')\n",
        "index.set_index(\"Date\", inplace=True)\n",
        "\n",
        "# Save benchmark data\n",
        "index.to_csv('/content/drive/MyDrive/STX.csv')\n",
        "\n",
        "# Read benchmark data\n",
        "# Load data from CSV (replace with your actual data)\n",
        "index_data = pd.read_csv(\"/content/drive/MyDrive/STX.csv\")  # Replace with your file\n",
        "\n",
        "# Convert date column to datetime format\n",
        "index_data['Date'] = pd.to_datetime(index_data['Date'])\n",
        "\n",
        "# Extract relevant columns (date and close prices)\n",
        "dates = index_data['Date']\n",
        "close_prices = index_data['Close']\n",
        "\n",
        "# Calculate the 200-day moving average\n",
        "moving_average = close_prices.rolling(window=200).mean()\n",
        "\n",
        "# Select the last 100 days\n",
        "dates_last_100 = dates[-90:]\n",
        "close_prices_last_100 = close_prices[-90:]\n",
        "moving_average_last_100 = moving_average[-90:]\n",
        "\n",
        "# Create the line chart\n",
        "plt.figure(figsize=(10, 6))\n",
        "plt.plot(dates_last_100, close_prices_last_100, label='Close Prices', color='grey')\n",
        "plt.plot(dates_last_100, moving_average_last_100, label='200-day mean', color='purple', linestyle='-')\n",
        "\n",
        "# Customize the chart\n",
        "plt.xlabel(\"Date\")\n",
        "plt.ylabel(\"Price\")\n",
        "plt.title(\"Satrix Capped All Share ETF (STXCAP)\")\n",
        "plt.xticks(rotation=0)\n",
        "plt.grid(False)\n",
        "plt.legend()\n",
        "\n",
        "# Add the logo\n",
        "logo_path = \"/content/drive/MyDrive/-j9g8q1.jpg\"  # Replace with your logo file path\n",
        "logo = Image.open(logo_path)\n",
        "logo.thumbnail((200, 200))  # Resize the logo to fit in the corner\n",
        "\n",
        "# Get the current figure and add a new axes for the logo\n",
        "fig = plt.gcf()\n",
        "newax = fig.add_axes([0.89, 0.0, 0.12, 0.1], anchor='SE', zorder=-1)\n",
        "newax.imshow(logo)\n",
        "newax.axis('off')\n",
        "\n",
        "\n",
        "plt.tight_layout()\n",
        "plt.show()"
      ]
    },
    {
      "cell_type": "markdown",
      "metadata": {
        "id": "PJFVtTcH91Cl"
      },
      "source": [
        "###data.py"
      ]
    },
    {
      "cell_type": "code",
      "source": [
        "\n",
        "import os\n",
        "import requests\n",
        "import json\n",
        "import pandas as pd\n",
        "import yfinance as yf\n",
        "import numpy as np\n",
        "from scipy import stats\n",
        "from pathlib import Path\n",
        "\n",
        "def get_tickers(api_token):\n",
        "    \"\"\"\n",
        "    Fetches JSE stock tickers from an API and prepares them for further processing.\n",
        "\n",
        "    Args:\n",
        "        api_token (str): Your EOD Historical Data API token.\n",
        "\n",
        "    Returns:\n",
        "        list: List of JSE stock tickers with '.JO' suffix.\n",
        "    \"\"\"\n",
        "    url = f'https://eodhd.com/api/exchange-symbol-list/JSE?api_token={api_token}&fmt=json'\n",
        "    data = requests.get(url).json()\n",
        "\n",
        "    # Serialize JSON data\n",
        "    json_object = json.dumps(data, indent=4)\n",
        "    with open(\"jse.json\", \"w\") as outfile:\n",
        "        outfile.write(json_object)\n",
        "\n",
        "    # Read from JSON file\n",
        "    with open('jse.json', 'r') as openfile:\n",
        "        json_object = json.load(openfile)\n",
        "    df = pd.json_normalize(json_object)\n",
        "\n",
        "    # Create modified DataFrame\n",
        "    df['tickers'] = df['Code'].astype(str) + '.JO'\n",
        "    df = df[df['Code'].str.len() <= 3]\n",
        "\n",
        "    # Extract tickers\n",
        "    tickers = df['tickers'].tolist()\n",
        "    return tickers\n",
        "\n",
        "if __name__ == '__main__':\n",
        "    # Example usage\n",
        "    api_token = '668ec587b96b99.42475935'  # Replace with your actual API token\n",
        "    tickers = get_tickers(api_token)\n",
        "    print(f'JSE tickers: {tickers}')\n",
        "\n",
        "\n",
        "def download_and_process(tickers, start_date, end_date, output_dir='Stocks'):\n",
        "    \"\"\"\n",
        "    Downloads stock price data for a list of tickers, processes it to handle outliers and missing data,\n",
        "    and saves the cleaned data to separate CSV files.\n",
        "\n",
        "    Args:\n",
        "        tickers (list): List of stock tickers (e.g., ['AAPL', 'MSFT', 'GOOGL']).\n",
        "        start_date (str): Start date in 'YYYY-MM-DD' format.\n",
        "        end_date (str): End date in 'YYYY-MM-DD' format.\n",
        "        output_dir (str, optional): Directory to save CSV files. Defaults to 'Stocks'.\n",
        "    \"\"\"\n",
        "    os.makedirs(output_dir, exist_ok=True)\n",
        "\n",
        "    for stock in tickers:\n",
        "        stock_data = yf.download(stock, start=start_date, end=end_date)\n",
        "        df = pd.DataFrame(stock_data)\n",
        "\n",
        "        # Parse the date column as datetime and set it as the index\n",
        "        df['Date'] = pd.to_datetime(df.index)\n",
        "        df.set_index('Date', inplace=True)\n",
        "\n",
        "        # Select OHLCV columns\n",
        "        df = df[[\"Open\", \"High\", \"Low\", \"Close\", \"Adj Close\", \"Volume\"]]\n",
        "\n",
        "        # Remove outliers using z-score\n",
        "        df = df[(np.abs(stats.zscore(df)) < 3).all(axis=1)]\n",
        "\n",
        "        # Handle missing data\n",
        "        df.fillna(method='ffill', inplace=True)  # Forward fill\n",
        "        df.fillna(method='bfill', inplace=True)  # Backward fill\n",
        "\n",
        "        # Save the cleaned data to a new CSV file\n",
        "        csv_filename = os.path.join(output_dir, f'{stock}.csv')\n",
        "        df.to_csv(csv_filename)\n",
        "        print(f'Processed and saved cleaned data for {stock} to {csv_filename}')\n",
        "\n",
        "    print(f'All data saved and processed in the \"{output_dir}\" directory.')\n",
        "\n",
        "if __name__ == '__main__':\n",
        "    # Example usage\n",
        "    tickers = tickers\n",
        "    start_date = '2022-06-01'\n",
        "    end_date = '2024-08-08'\n",
        "    download_and_process(tickers, start_date, end_date)\n",
        "\n",
        "def save_tickers(folder_path):\n",
        "    \"\"\"\n",
        "    Extracts unique tickers from CSV files in the specified folder.\n",
        "\n",
        "    Args:\n",
        "        folder_path (str): Path to the folder containing CSV files.\n",
        "\n",
        "    Returns:\n",
        "        pd.DataFrame: DataFrame with a single column 'tickers' containing unique tickers.\n",
        "    \"\"\"\n",
        "    tickers = []\n",
        "    for filename in os.listdir(folder_path):\n",
        "        if filename.endswith('.csv'):\n",
        "            tickers.append(filename[:-4])\n",
        "\n",
        "    unique_tickers = list(dict.fromkeys(tickers))\n",
        "    df = pd.DataFrame(unique_tickers, columns=['tickers'])\n",
        "    df.columns=df.iloc[1]\n",
        "    df.to_csv(os.path.join(folder_path, 'tickers.csv'), index=False)\n",
        "    print(f'Saved unique tickers to {folder_path}/tickers.csv')\n",
        "    return df\n",
        "\n",
        "if __name__ == '__main__':\n",
        "    # Example usage\n",
        "    folder_path = 'Stocks'\n",
        "    df = save_tickers(folder_path)"
      ],
      "metadata": {
        "id": "pZYJaZQpqr-S",
        "colab": {
          "base_uri": "https://localhost:8080/"
        },
        "outputId": "f7d1d396-b406-46a9-a86a-181dcea954bf"
      },
      "execution_count": null,
      "outputs": [
        {
          "output_type": "stream",
          "name": "stdout",
          "text": [
            "JSE tickers: ['4SI.JO', 'ABG.JO', 'ACL.JO', 'ACS.JO', 'ACT.JO', 'ADH.JO', 'ADR.JO', 'ADW.JO', 'AEG.JO', 'AEL.JO', 'AFE.JO', 'AFH.JO', 'AFT.JO', 'AGL.JO', 'AHL.JO', 'AIL.JO', 'AIP.JO', 'AME.JO', 'AMS.JO', 'ANG.JO', 'ANH.JO', 'ANI.JO', 'APF.JO', 'APH.JO', 'APN.JO', 'APO.JO', 'ARA.JO', 'ARI.JO', 'ARL.JO', 'ART.JO', 'ASC.JO', 'ATT.JO', 'AVI.JO', 'AYO.JO', 'BAT.JO', 'BAW.JO', 'BCF.JO', 'BEL.JO', 'BHG.JO', 'BID.JO', 'BIK.JO', 'BKI.JO', 'BLU.JO', 'BRN.JO', 'BRT.JO', 'BTI.JO', 'BTN.JO', 'BVT.JO', 'BWN.JO', 'BYI.JO', 'CAA.JO', 'CAT.JO', 'CFR.JO', 'CGR.JO', 'CHP.JO', 'CKS.JO', 'CLH.JO', 'CLI.JO', 'CLS.JO', 'CMH.JO', 'CML.JO', 'CMO.JO', 'CND.JO', 'COH.JO', 'CPI.JO', 'CPP.JO', 'CPR.JO', 'CRP.JO', 'CSB.JO', 'CTA.JO', 'DCP.JO', 'DIB.JO', 'DNB.JO', 'DRA.JO', 'DRD.JO', 'DSY.JO', 'DTC.JO', 'ELI.JO', 'EMH.JO', 'EMI.JO', 'EMN.JO', 'ENX.JO', 'EOH.JO', 'EPE.JO', 'EPS.JO', 'EQU.JO', 'EUZ.JO', 'EXP.JO', 'EXX.JO', 'FBR.JO', 'FFB.JO', 'FGL.JO', 'FSR.JO', 'FTA.JO', 'FTB.JO', 'FTH.JO', 'GFI.JO', 'GLD.JO', 'GLN.JO', 'GML.JO', 'GND.JO', 'GPL.JO', 'GRT.JO', 'GSH.JO', 'HAR.JO', 'HCI.JO', 'HDC.JO', 'HIL.JO', 'HLM.JO', 'HMN.JO', 'HUG.JO', 'HYP.JO', 'IMP.JO', 'INL.JO', 'INP.JO', 'ISA.JO', 'ISB.JO', 'ITE.JO', 'IVT.JO', 'JBL.JO', 'JSE.JO', 'KAL.JO', 'KAP.JO', 'KBO.JO', 'KIO.JO', 'KP2.JO', 'KRO.JO', 'KST.JO', 'LAB.JO', 'LBR.JO', 'LEW.JO', 'LHC.JO', 'LSK.JO', 'LTE.JO', 'MCG.JO', 'MCZ.JO', 'MDI.JO', 'MFL.JO', 'MHB.JO', 'MKR.JO', 'MMP.JO', 'MNP.JO', 'MPT.JO', 'MRF.JO', 'MRP.JO', 'MSP.JO', 'MST.JO', 'MTA.JO', 'MTH.JO', 'MTM.JO', 'MTN.JO', 'MTU.JO', 'MUR.JO', 'N91.JO', 'NCS.JO', 'NED.JO', 'NPH.JO', 'NPK.JO', 'NPN.JO', 'NRP.JO', 'NTC.JO', 'NVS.JO', 'NWL.JO', 'NY1.JO', 'OAO.JO', 'OAS.JO', 'OCE.JO', 'OCT.JO', 'OMN.JO', 'OMU.JO', 'ORN.JO', 'OUT.JO', 'PAN.JO', 'PBG.JO', 'PIK.JO', 'PMR.JO', 'PMV.JO', 'PPC.JO', 'PPE.JO', 'PPH.JO', 'PPR.JO', 'PRX.JO', 'QFH.JO', 'QLT.JO', 'RBX.JO', 'RCL.JO', 'RDF.JO', 'REA.JO', 'REB.JO', 'REM.JO', 'REN.JO', 'RES.JO', 'RFG.JO', 'RHB.JO', 'RLO.JO', 'RMH.JO', 'RNG.JO', 'RNI.JO', 'RTN.JO', 'RTO.JO', 'S32.JO', 'SAC.JO', 'SAP.JO', 'SAR.JO', 'SBK.JO', 'SBP.JO', 'SCD.JO', 'SDL.JO', 'SDO.JO', 'SEA.JO', 'SEB.JO', 'SEP.JO', 'SFN.JO', 'SHC.JO', 'SHG.JO', 'SHP.JO', 'SLG.JO', 'SLM.JO', 'SNT.JO', 'SNV.JO', 'SOH.JO', 'SOL.JO', 'SPG.JO', 'SPP.JO', 'SRE.JO', 'SSK.JO', 'SSS.JO', 'SSU.JO', 'SSW.JO', 'SUI.JO', 'SUR.JO', 'SXM.JO', 'SYG.JO', 'SZK.JO', 'TBS.JO', 'TCP.JO', 'TEX.JO', 'TFG.JO', 'TGA.JO', 'THA.JO', 'TKG.JO', 'TLM.JO', 'TMT.JO', 'TON.JO', 'TPC.JO', 'TRE.JO', 'TRL.JO', 'TRU.JO', 'TSG.JO', 'TTO.JO', 'UPL.JO', 'VIS.JO', 'VKE.JO', 'VOD.JO', 'VUN.JO', 'WBC.JO', 'WBO.JO', 'WEZ.JO', 'WHL.JO', 'WKF.JO', 'YRK.JO', 'ZED.JO', 'ZZD.JO']\n"
          ]
        },
        {
          "output_type": "stream",
          "name": "stderr",
          "text": [
            "\r[*********************100%%**********************]  1 of 1 completed\n",
            "<ipython-input-9-99d640f7bc11>:76: FutureWarning: DataFrame.fillna with 'method' is deprecated and will raise in a future version. Use obj.ffill() or obj.bfill() instead.\n",
            "  df.fillna(method='ffill', inplace=True)  # Forward fill\n",
            "<ipython-input-9-99d640f7bc11>:77: FutureWarning: DataFrame.fillna with 'method' is deprecated and will raise in a future version. Use obj.ffill() or obj.bfill() instead.\n",
            "  df.fillna(method='bfill', inplace=True)  # Backward fill\n"
          ]
        },
        {
          "output_type": "stream",
          "name": "stdout",
          "text": [
            "Processed and saved cleaned data for 4SI.JO to Stocks/4SI.JO.csv\n"
          ]
        },
        {
          "output_type": "stream",
          "name": "stderr",
          "text": [
            "\r[*********************100%%**********************]  1 of 1 completed\n",
            "<ipython-input-9-99d640f7bc11>:76: FutureWarning: DataFrame.fillna with 'method' is deprecated and will raise in a future version. Use obj.ffill() or obj.bfill() instead.\n",
            "  df.fillna(method='ffill', inplace=True)  # Forward fill\n",
            "<ipython-input-9-99d640f7bc11>:77: FutureWarning: DataFrame.fillna with 'method' is deprecated and will raise in a future version. Use obj.ffill() or obj.bfill() instead.\n",
            "  df.fillna(method='bfill', inplace=True)  # Backward fill\n"
          ]
        },
        {
          "output_type": "stream",
          "name": "stdout",
          "text": [
            "Processed and saved cleaned data for ABG.JO to Stocks/ABG.JO.csv\n"
          ]
        },
        {
          "output_type": "stream",
          "name": "stderr",
          "text": [
            "\r[*********************100%%**********************]  1 of 1 completed\n",
            "<ipython-input-9-99d640f7bc11>:76: FutureWarning: DataFrame.fillna with 'method' is deprecated and will raise in a future version. Use obj.ffill() or obj.bfill() instead.\n",
            "  df.fillna(method='ffill', inplace=True)  # Forward fill\n",
            "<ipython-input-9-99d640f7bc11>:77: FutureWarning: DataFrame.fillna with 'method' is deprecated and will raise in a future version. Use obj.ffill() or obj.bfill() instead.\n",
            "  df.fillna(method='bfill', inplace=True)  # Backward fill\n"
          ]
        },
        {
          "output_type": "stream",
          "name": "stdout",
          "text": [
            "Processed and saved cleaned data for ACL.JO to Stocks/ACL.JO.csv\n"
          ]
        },
        {
          "output_type": "stream",
          "name": "stderr",
          "text": [
            "\r[*********************100%%**********************]  1 of 1 completed\n",
            "<ipython-input-9-99d640f7bc11>:76: FutureWarning: DataFrame.fillna with 'method' is deprecated and will raise in a future version. Use obj.ffill() or obj.bfill() instead.\n",
            "  df.fillna(method='ffill', inplace=True)  # Forward fill\n",
            "<ipython-input-9-99d640f7bc11>:77: FutureWarning: DataFrame.fillna with 'method' is deprecated and will raise in a future version. Use obj.ffill() or obj.bfill() instead.\n",
            "  df.fillna(method='bfill', inplace=True)  # Backward fill\n"
          ]
        },
        {
          "output_type": "stream",
          "name": "stdout",
          "text": [
            "Processed and saved cleaned data for ACS.JO to Stocks/ACS.JO.csv\n"
          ]
        },
        {
          "output_type": "stream",
          "name": "stderr",
          "text": [
            "\r[*********************100%%**********************]  1 of 1 completed\n",
            "<ipython-input-9-99d640f7bc11>:76: FutureWarning: DataFrame.fillna with 'method' is deprecated and will raise in a future version. Use obj.ffill() or obj.bfill() instead.\n",
            "  df.fillna(method='ffill', inplace=True)  # Forward fill\n",
            "<ipython-input-9-99d640f7bc11>:77: FutureWarning: DataFrame.fillna with 'method' is deprecated and will raise in a future version. Use obj.ffill() or obj.bfill() instead.\n",
            "  df.fillna(method='bfill', inplace=True)  # Backward fill\n"
          ]
        },
        {
          "output_type": "stream",
          "name": "stdout",
          "text": [
            "Processed and saved cleaned data for ACT.JO to Stocks/ACT.JO.csv\n"
          ]
        },
        {
          "output_type": "stream",
          "name": "stderr",
          "text": [
            "\r[*********************100%%**********************]  1 of 1 completed\n",
            "<ipython-input-9-99d640f7bc11>:76: FutureWarning: DataFrame.fillna with 'method' is deprecated and will raise in a future version. Use obj.ffill() or obj.bfill() instead.\n",
            "  df.fillna(method='ffill', inplace=True)  # Forward fill\n",
            "<ipython-input-9-99d640f7bc11>:77: FutureWarning: DataFrame.fillna with 'method' is deprecated and will raise in a future version. Use obj.ffill() or obj.bfill() instead.\n",
            "  df.fillna(method='bfill', inplace=True)  # Backward fill\n"
          ]
        },
        {
          "output_type": "stream",
          "name": "stdout",
          "text": [
            "Processed and saved cleaned data for ADH.JO to Stocks/ADH.JO.csv\n"
          ]
        },
        {
          "output_type": "stream",
          "name": "stderr",
          "text": [
            "\r[*********************100%%**********************]  1 of 1 completed\n",
            "<ipython-input-9-99d640f7bc11>:76: FutureWarning: DataFrame.fillna with 'method' is deprecated and will raise in a future version. Use obj.ffill() or obj.bfill() instead.\n",
            "  df.fillna(method='ffill', inplace=True)  # Forward fill\n",
            "<ipython-input-9-99d640f7bc11>:77: FutureWarning: DataFrame.fillna with 'method' is deprecated and will raise in a future version. Use obj.ffill() or obj.bfill() instead.\n",
            "  df.fillna(method='bfill', inplace=True)  # Backward fill\n"
          ]
        },
        {
          "output_type": "stream",
          "name": "stdout",
          "text": [
            "Processed and saved cleaned data for ADR.JO to Stocks/ADR.JO.csv\n"
          ]
        },
        {
          "output_type": "stream",
          "name": "stderr",
          "text": [
            "\r[*********************100%%**********************]  1 of 1 completed\n",
            "<ipython-input-9-99d640f7bc11>:76: FutureWarning: DataFrame.fillna with 'method' is deprecated and will raise in a future version. Use obj.ffill() or obj.bfill() instead.\n",
            "  df.fillna(method='ffill', inplace=True)  # Forward fill\n",
            "<ipython-input-9-99d640f7bc11>:77: FutureWarning: DataFrame.fillna with 'method' is deprecated and will raise in a future version. Use obj.ffill() or obj.bfill() instead.\n",
            "  df.fillna(method='bfill', inplace=True)  # Backward fill\n"
          ]
        },
        {
          "output_type": "stream",
          "name": "stdout",
          "text": [
            "Processed and saved cleaned data for ADW.JO to Stocks/ADW.JO.csv\n"
          ]
        },
        {
          "output_type": "stream",
          "name": "stderr",
          "text": [
            "\r[*********************100%%**********************]  1 of 1 completed\n",
            "<ipython-input-9-99d640f7bc11>:76: FutureWarning: DataFrame.fillna with 'method' is deprecated and will raise in a future version. Use obj.ffill() or obj.bfill() instead.\n",
            "  df.fillna(method='ffill', inplace=True)  # Forward fill\n",
            "<ipython-input-9-99d640f7bc11>:77: FutureWarning: DataFrame.fillna with 'method' is deprecated and will raise in a future version. Use obj.ffill() or obj.bfill() instead.\n",
            "  df.fillna(method='bfill', inplace=True)  # Backward fill\n"
          ]
        },
        {
          "output_type": "stream",
          "name": "stdout",
          "text": [
            "Processed and saved cleaned data for AEG.JO to Stocks/AEG.JO.csv\n"
          ]
        },
        {
          "output_type": "stream",
          "name": "stderr",
          "text": [
            "\r[*********************100%%**********************]  1 of 1 completed\n",
            "<ipython-input-9-99d640f7bc11>:76: FutureWarning: DataFrame.fillna with 'method' is deprecated and will raise in a future version. Use obj.ffill() or obj.bfill() instead.\n",
            "  df.fillna(method='ffill', inplace=True)  # Forward fill\n",
            "<ipython-input-9-99d640f7bc11>:77: FutureWarning: DataFrame.fillna with 'method' is deprecated and will raise in a future version. Use obj.ffill() or obj.bfill() instead.\n",
            "  df.fillna(method='bfill', inplace=True)  # Backward fill\n"
          ]
        },
        {
          "output_type": "stream",
          "name": "stdout",
          "text": [
            "Processed and saved cleaned data for AEL.JO to Stocks/AEL.JO.csv\n"
          ]
        },
        {
          "output_type": "stream",
          "name": "stderr",
          "text": [
            "\r[*********************100%%**********************]  1 of 1 completed\n",
            "<ipython-input-9-99d640f7bc11>:76: FutureWarning: DataFrame.fillna with 'method' is deprecated and will raise in a future version. Use obj.ffill() or obj.bfill() instead.\n",
            "  df.fillna(method='ffill', inplace=True)  # Forward fill\n",
            "<ipython-input-9-99d640f7bc11>:77: FutureWarning: DataFrame.fillna with 'method' is deprecated and will raise in a future version. Use obj.ffill() or obj.bfill() instead.\n",
            "  df.fillna(method='bfill', inplace=True)  # Backward fill\n"
          ]
        },
        {
          "output_type": "stream",
          "name": "stdout",
          "text": [
            "Processed and saved cleaned data for AFE.JO to Stocks/AFE.JO.csv\n"
          ]
        },
        {
          "output_type": "stream",
          "name": "stderr",
          "text": [
            "\r[*********************100%%**********************]  1 of 1 completed\n",
            "<ipython-input-9-99d640f7bc11>:76: FutureWarning: DataFrame.fillna with 'method' is deprecated and will raise in a future version. Use obj.ffill() or obj.bfill() instead.\n",
            "  df.fillna(method='ffill', inplace=True)  # Forward fill\n",
            "<ipython-input-9-99d640f7bc11>:77: FutureWarning: DataFrame.fillna with 'method' is deprecated and will raise in a future version. Use obj.ffill() or obj.bfill() instead.\n",
            "  df.fillna(method='bfill', inplace=True)  # Backward fill\n"
          ]
        },
        {
          "output_type": "stream",
          "name": "stdout",
          "text": [
            "Processed and saved cleaned data for AFH.JO to Stocks/AFH.JO.csv\n"
          ]
        },
        {
          "output_type": "stream",
          "name": "stderr",
          "text": [
            "\r[*********************100%%**********************]  1 of 1 completed\n",
            "<ipython-input-9-99d640f7bc11>:76: FutureWarning: DataFrame.fillna with 'method' is deprecated and will raise in a future version. Use obj.ffill() or obj.bfill() instead.\n",
            "  df.fillna(method='ffill', inplace=True)  # Forward fill\n",
            "<ipython-input-9-99d640f7bc11>:77: FutureWarning: DataFrame.fillna with 'method' is deprecated and will raise in a future version. Use obj.ffill() or obj.bfill() instead.\n",
            "  df.fillna(method='bfill', inplace=True)  # Backward fill\n"
          ]
        },
        {
          "output_type": "stream",
          "name": "stdout",
          "text": [
            "Processed and saved cleaned data for AFT.JO to Stocks/AFT.JO.csv\n"
          ]
        },
        {
          "output_type": "stream",
          "name": "stderr",
          "text": [
            "\r[*********************100%%**********************]  1 of 1 completed\n",
            "<ipython-input-9-99d640f7bc11>:76: FutureWarning: DataFrame.fillna with 'method' is deprecated and will raise in a future version. Use obj.ffill() or obj.bfill() instead.\n",
            "  df.fillna(method='ffill', inplace=True)  # Forward fill\n",
            "<ipython-input-9-99d640f7bc11>:77: FutureWarning: DataFrame.fillna with 'method' is deprecated and will raise in a future version. Use obj.ffill() or obj.bfill() instead.\n",
            "  df.fillna(method='bfill', inplace=True)  # Backward fill\n"
          ]
        },
        {
          "output_type": "stream",
          "name": "stdout",
          "text": [
            "Processed and saved cleaned data for AGL.JO to Stocks/AGL.JO.csv\n"
          ]
        },
        {
          "output_type": "stream",
          "name": "stderr",
          "text": [
            "\r[*********************100%%**********************]  1 of 1 completed\n",
            "<ipython-input-9-99d640f7bc11>:76: FutureWarning: DataFrame.fillna with 'method' is deprecated and will raise in a future version. Use obj.ffill() or obj.bfill() instead.\n",
            "  df.fillna(method='ffill', inplace=True)  # Forward fill\n",
            "<ipython-input-9-99d640f7bc11>:77: FutureWarning: DataFrame.fillna with 'method' is deprecated and will raise in a future version. Use obj.ffill() or obj.bfill() instead.\n",
            "  df.fillna(method='bfill', inplace=True)  # Backward fill\n"
          ]
        },
        {
          "output_type": "stream",
          "name": "stdout",
          "text": [
            "Processed and saved cleaned data for AHL.JO to Stocks/AHL.JO.csv\n"
          ]
        },
        {
          "output_type": "stream",
          "name": "stderr",
          "text": [
            "\r[*********************100%%**********************]  1 of 1 completed\n",
            "<ipython-input-9-99d640f7bc11>:76: FutureWarning: DataFrame.fillna with 'method' is deprecated and will raise in a future version. Use obj.ffill() or obj.bfill() instead.\n",
            "  df.fillna(method='ffill', inplace=True)  # Forward fill\n",
            "<ipython-input-9-99d640f7bc11>:77: FutureWarning: DataFrame.fillna with 'method' is deprecated and will raise in a future version. Use obj.ffill() or obj.bfill() instead.\n",
            "  df.fillna(method='bfill', inplace=True)  # Backward fill\n"
          ]
        },
        {
          "output_type": "stream",
          "name": "stdout",
          "text": [
            "Processed and saved cleaned data for AIL.JO to Stocks/AIL.JO.csv\n"
          ]
        },
        {
          "output_type": "stream",
          "name": "stderr",
          "text": [
            "\r[*********************100%%**********************]  1 of 1 completed\n",
            "<ipython-input-9-99d640f7bc11>:76: FutureWarning: DataFrame.fillna with 'method' is deprecated and will raise in a future version. Use obj.ffill() or obj.bfill() instead.\n",
            "  df.fillna(method='ffill', inplace=True)  # Forward fill\n",
            "<ipython-input-9-99d640f7bc11>:77: FutureWarning: DataFrame.fillna with 'method' is deprecated and will raise in a future version. Use obj.ffill() or obj.bfill() instead.\n",
            "  df.fillna(method='bfill', inplace=True)  # Backward fill\n"
          ]
        },
        {
          "output_type": "stream",
          "name": "stdout",
          "text": [
            "Processed and saved cleaned data for AIP.JO to Stocks/AIP.JO.csv\n"
          ]
        },
        {
          "output_type": "stream",
          "name": "stderr",
          "text": [
            "\r[*********************100%%**********************]  1 of 1 completed\n",
            "<ipython-input-9-99d640f7bc11>:76: FutureWarning: DataFrame.fillna with 'method' is deprecated and will raise in a future version. Use obj.ffill() or obj.bfill() instead.\n",
            "  df.fillna(method='ffill', inplace=True)  # Forward fill\n",
            "<ipython-input-9-99d640f7bc11>:77: FutureWarning: DataFrame.fillna with 'method' is deprecated and will raise in a future version. Use obj.ffill() or obj.bfill() instead.\n",
            "  df.fillna(method='bfill', inplace=True)  # Backward fill\n"
          ]
        },
        {
          "output_type": "stream",
          "name": "stdout",
          "text": [
            "Processed and saved cleaned data for AME.JO to Stocks/AME.JO.csv\n"
          ]
        },
        {
          "output_type": "stream",
          "name": "stderr",
          "text": [
            "\r[*********************100%%**********************]  1 of 1 completed\n",
            "<ipython-input-9-99d640f7bc11>:76: FutureWarning: DataFrame.fillna with 'method' is deprecated and will raise in a future version. Use obj.ffill() or obj.bfill() instead.\n",
            "  df.fillna(method='ffill', inplace=True)  # Forward fill\n",
            "<ipython-input-9-99d640f7bc11>:77: FutureWarning: DataFrame.fillna with 'method' is deprecated and will raise in a future version. Use obj.ffill() or obj.bfill() instead.\n",
            "  df.fillna(method='bfill', inplace=True)  # Backward fill\n"
          ]
        },
        {
          "output_type": "stream",
          "name": "stdout",
          "text": [
            "Processed and saved cleaned data for AMS.JO to Stocks/AMS.JO.csv\n"
          ]
        },
        {
          "output_type": "stream",
          "name": "stderr",
          "text": [
            "\r[*********************100%%**********************]  1 of 1 completed\n",
            "<ipython-input-9-99d640f7bc11>:76: FutureWarning: DataFrame.fillna with 'method' is deprecated and will raise in a future version. Use obj.ffill() or obj.bfill() instead.\n",
            "  df.fillna(method='ffill', inplace=True)  # Forward fill\n",
            "<ipython-input-9-99d640f7bc11>:77: FutureWarning: DataFrame.fillna with 'method' is deprecated and will raise in a future version. Use obj.ffill() or obj.bfill() instead.\n",
            "  df.fillna(method='bfill', inplace=True)  # Backward fill\n"
          ]
        },
        {
          "output_type": "stream",
          "name": "stdout",
          "text": [
            "Processed and saved cleaned data for ANG.JO to Stocks/ANG.JO.csv\n"
          ]
        },
        {
          "output_type": "stream",
          "name": "stderr",
          "text": [
            "\r[*********************100%%**********************]  1 of 1 completed\n",
            "<ipython-input-9-99d640f7bc11>:76: FutureWarning: DataFrame.fillna with 'method' is deprecated and will raise in a future version. Use obj.ffill() or obj.bfill() instead.\n",
            "  df.fillna(method='ffill', inplace=True)  # Forward fill\n",
            "<ipython-input-9-99d640f7bc11>:77: FutureWarning: DataFrame.fillna with 'method' is deprecated and will raise in a future version. Use obj.ffill() or obj.bfill() instead.\n",
            "  df.fillna(method='bfill', inplace=True)  # Backward fill\n"
          ]
        },
        {
          "output_type": "stream",
          "name": "stdout",
          "text": [
            "Processed and saved cleaned data for ANH.JO to Stocks/ANH.JO.csv\n"
          ]
        },
        {
          "output_type": "stream",
          "name": "stderr",
          "text": [
            "\r[*********************100%%**********************]  1 of 1 completed\n",
            "<ipython-input-9-99d640f7bc11>:76: FutureWarning: DataFrame.fillna with 'method' is deprecated and will raise in a future version. Use obj.ffill() or obj.bfill() instead.\n",
            "  df.fillna(method='ffill', inplace=True)  # Forward fill\n",
            "<ipython-input-9-99d640f7bc11>:77: FutureWarning: DataFrame.fillna with 'method' is deprecated and will raise in a future version. Use obj.ffill() or obj.bfill() instead.\n",
            "  df.fillna(method='bfill', inplace=True)  # Backward fill\n"
          ]
        },
        {
          "output_type": "stream",
          "name": "stdout",
          "text": [
            "Processed and saved cleaned data for ANI.JO to Stocks/ANI.JO.csv\n"
          ]
        },
        {
          "output_type": "stream",
          "name": "stderr",
          "text": [
            "\r[*********************100%%**********************]  1 of 1 completed\n",
            "<ipython-input-9-99d640f7bc11>:76: FutureWarning: DataFrame.fillna with 'method' is deprecated and will raise in a future version. Use obj.ffill() or obj.bfill() instead.\n",
            "  df.fillna(method='ffill', inplace=True)  # Forward fill\n",
            "<ipython-input-9-99d640f7bc11>:77: FutureWarning: DataFrame.fillna with 'method' is deprecated and will raise in a future version. Use obj.ffill() or obj.bfill() instead.\n",
            "  df.fillna(method='bfill', inplace=True)  # Backward fill\n"
          ]
        },
        {
          "output_type": "stream",
          "name": "stdout",
          "text": [
            "Processed and saved cleaned data for APF.JO to Stocks/APF.JO.csv\n"
          ]
        },
        {
          "output_type": "stream",
          "name": "stderr",
          "text": [
            "\r[*********************100%%**********************]  1 of 1 completed\n",
            "<ipython-input-9-99d640f7bc11>:76: FutureWarning: DataFrame.fillna with 'method' is deprecated and will raise in a future version. Use obj.ffill() or obj.bfill() instead.\n",
            "  df.fillna(method='ffill', inplace=True)  # Forward fill\n",
            "<ipython-input-9-99d640f7bc11>:77: FutureWarning: DataFrame.fillna with 'method' is deprecated and will raise in a future version. Use obj.ffill() or obj.bfill() instead.\n",
            "  df.fillna(method='bfill', inplace=True)  # Backward fill\n"
          ]
        },
        {
          "output_type": "stream",
          "name": "stdout",
          "text": [
            "Processed and saved cleaned data for APH.JO to Stocks/APH.JO.csv\n"
          ]
        },
        {
          "output_type": "stream",
          "name": "stderr",
          "text": [
            "\r[*********************100%%**********************]  1 of 1 completed\n",
            "<ipython-input-9-99d640f7bc11>:76: FutureWarning: DataFrame.fillna with 'method' is deprecated and will raise in a future version. Use obj.ffill() or obj.bfill() instead.\n",
            "  df.fillna(method='ffill', inplace=True)  # Forward fill\n",
            "<ipython-input-9-99d640f7bc11>:77: FutureWarning: DataFrame.fillna with 'method' is deprecated and will raise in a future version. Use obj.ffill() or obj.bfill() instead.\n",
            "  df.fillna(method='bfill', inplace=True)  # Backward fill\n"
          ]
        },
        {
          "output_type": "stream",
          "name": "stdout",
          "text": [
            "Processed and saved cleaned data for APN.JO to Stocks/APN.JO.csv\n"
          ]
        },
        {
          "output_type": "stream",
          "name": "stderr",
          "text": [
            "\r[*********************100%%**********************]  1 of 1 completed\n",
            "<ipython-input-9-99d640f7bc11>:76: FutureWarning: DataFrame.fillna with 'method' is deprecated and will raise in a future version. Use obj.ffill() or obj.bfill() instead.\n",
            "  df.fillna(method='ffill', inplace=True)  # Forward fill\n",
            "<ipython-input-9-99d640f7bc11>:77: FutureWarning: DataFrame.fillna with 'method' is deprecated and will raise in a future version. Use obj.ffill() or obj.bfill() instead.\n",
            "  df.fillna(method='bfill', inplace=True)  # Backward fill\n"
          ]
        },
        {
          "output_type": "stream",
          "name": "stdout",
          "text": [
            "Processed and saved cleaned data for APO.JO to Stocks/APO.JO.csv\n"
          ]
        },
        {
          "output_type": "stream",
          "name": "stderr",
          "text": [
            "\r[*********************100%%**********************]  1 of 1 completed\n",
            "<ipython-input-9-99d640f7bc11>:76: FutureWarning: DataFrame.fillna with 'method' is deprecated and will raise in a future version. Use obj.ffill() or obj.bfill() instead.\n",
            "  df.fillna(method='ffill', inplace=True)  # Forward fill\n",
            "<ipython-input-9-99d640f7bc11>:77: FutureWarning: DataFrame.fillna with 'method' is deprecated and will raise in a future version. Use obj.ffill() or obj.bfill() instead.\n",
            "  df.fillna(method='bfill', inplace=True)  # Backward fill\n"
          ]
        },
        {
          "output_type": "stream",
          "name": "stdout",
          "text": [
            "Processed and saved cleaned data for ARA.JO to Stocks/ARA.JO.csv\n"
          ]
        },
        {
          "output_type": "stream",
          "name": "stderr",
          "text": [
            "\r[*********************100%%**********************]  1 of 1 completed\n",
            "<ipython-input-9-99d640f7bc11>:76: FutureWarning: DataFrame.fillna with 'method' is deprecated and will raise in a future version. Use obj.ffill() or obj.bfill() instead.\n",
            "  df.fillna(method='ffill', inplace=True)  # Forward fill\n",
            "<ipython-input-9-99d640f7bc11>:77: FutureWarning: DataFrame.fillna with 'method' is deprecated and will raise in a future version. Use obj.ffill() or obj.bfill() instead.\n",
            "  df.fillna(method='bfill', inplace=True)  # Backward fill\n"
          ]
        },
        {
          "output_type": "stream",
          "name": "stdout",
          "text": [
            "Processed and saved cleaned data for ARI.JO to Stocks/ARI.JO.csv\n"
          ]
        },
        {
          "output_type": "stream",
          "name": "stderr",
          "text": [
            "\r[*********************100%%**********************]  1 of 1 completed\n",
            "<ipython-input-9-99d640f7bc11>:76: FutureWarning: DataFrame.fillna with 'method' is deprecated and will raise in a future version. Use obj.ffill() or obj.bfill() instead.\n",
            "  df.fillna(method='ffill', inplace=True)  # Forward fill\n",
            "<ipython-input-9-99d640f7bc11>:77: FutureWarning: DataFrame.fillna with 'method' is deprecated and will raise in a future version. Use obj.ffill() or obj.bfill() instead.\n",
            "  df.fillna(method='bfill', inplace=True)  # Backward fill\n"
          ]
        },
        {
          "output_type": "stream",
          "name": "stdout",
          "text": [
            "Processed and saved cleaned data for ARL.JO to Stocks/ARL.JO.csv\n"
          ]
        },
        {
          "output_type": "stream",
          "name": "stderr",
          "text": [
            "\r[*********************100%%**********************]  1 of 1 completed\n",
            "<ipython-input-9-99d640f7bc11>:76: FutureWarning: DataFrame.fillna with 'method' is deprecated and will raise in a future version. Use obj.ffill() or obj.bfill() instead.\n",
            "  df.fillna(method='ffill', inplace=True)  # Forward fill\n",
            "<ipython-input-9-99d640f7bc11>:77: FutureWarning: DataFrame.fillna with 'method' is deprecated and will raise in a future version. Use obj.ffill() or obj.bfill() instead.\n",
            "  df.fillna(method='bfill', inplace=True)  # Backward fill\n"
          ]
        },
        {
          "output_type": "stream",
          "name": "stdout",
          "text": [
            "Processed and saved cleaned data for ART.JO to Stocks/ART.JO.csv\n"
          ]
        },
        {
          "output_type": "stream",
          "name": "stderr",
          "text": [
            "\r[*********************100%%**********************]  1 of 1 completed\n",
            "<ipython-input-9-99d640f7bc11>:76: FutureWarning: DataFrame.fillna with 'method' is deprecated and will raise in a future version. Use obj.ffill() or obj.bfill() instead.\n",
            "  df.fillna(method='ffill', inplace=True)  # Forward fill\n",
            "<ipython-input-9-99d640f7bc11>:77: FutureWarning: DataFrame.fillna with 'method' is deprecated and will raise in a future version. Use obj.ffill() or obj.bfill() instead.\n",
            "  df.fillna(method='bfill', inplace=True)  # Backward fill\n"
          ]
        },
        {
          "output_type": "stream",
          "name": "stdout",
          "text": [
            "Processed and saved cleaned data for ASC.JO to Stocks/ASC.JO.csv\n"
          ]
        },
        {
          "output_type": "stream",
          "name": "stderr",
          "text": [
            "\r[*********************100%%**********************]  1 of 1 completed\n",
            "<ipython-input-9-99d640f7bc11>:76: FutureWarning: DataFrame.fillna with 'method' is deprecated and will raise in a future version. Use obj.ffill() or obj.bfill() instead.\n",
            "  df.fillna(method='ffill', inplace=True)  # Forward fill\n",
            "<ipython-input-9-99d640f7bc11>:77: FutureWarning: DataFrame.fillna with 'method' is deprecated and will raise in a future version. Use obj.ffill() or obj.bfill() instead.\n",
            "  df.fillna(method='bfill', inplace=True)  # Backward fill\n"
          ]
        },
        {
          "output_type": "stream",
          "name": "stdout",
          "text": [
            "Processed and saved cleaned data for ATT.JO to Stocks/ATT.JO.csv\n"
          ]
        },
        {
          "output_type": "stream",
          "name": "stderr",
          "text": [
            "\r[*********************100%%**********************]  1 of 1 completed\n",
            "<ipython-input-9-99d640f7bc11>:76: FutureWarning: DataFrame.fillna with 'method' is deprecated and will raise in a future version. Use obj.ffill() or obj.bfill() instead.\n",
            "  df.fillna(method='ffill', inplace=True)  # Forward fill\n",
            "<ipython-input-9-99d640f7bc11>:77: FutureWarning: DataFrame.fillna with 'method' is deprecated and will raise in a future version. Use obj.ffill() or obj.bfill() instead.\n",
            "  df.fillna(method='bfill', inplace=True)  # Backward fill\n"
          ]
        },
        {
          "output_type": "stream",
          "name": "stdout",
          "text": [
            "Processed and saved cleaned data for AVI.JO to Stocks/AVI.JO.csv\n"
          ]
        },
        {
          "output_type": "stream",
          "name": "stderr",
          "text": [
            "\r[*********************100%%**********************]  1 of 1 completed\n",
            "<ipython-input-9-99d640f7bc11>:76: FutureWarning: DataFrame.fillna with 'method' is deprecated and will raise in a future version. Use obj.ffill() or obj.bfill() instead.\n",
            "  df.fillna(method='ffill', inplace=True)  # Forward fill\n",
            "<ipython-input-9-99d640f7bc11>:77: FutureWarning: DataFrame.fillna with 'method' is deprecated and will raise in a future version. Use obj.ffill() or obj.bfill() instead.\n",
            "  df.fillna(method='bfill', inplace=True)  # Backward fill\n"
          ]
        },
        {
          "output_type": "stream",
          "name": "stdout",
          "text": [
            "Processed and saved cleaned data for AYO.JO to Stocks/AYO.JO.csv\n"
          ]
        },
        {
          "output_type": "stream",
          "name": "stderr",
          "text": [
            "\r[*********************100%%**********************]  1 of 1 completed\n",
            "<ipython-input-9-99d640f7bc11>:76: FutureWarning: DataFrame.fillna with 'method' is deprecated and will raise in a future version. Use obj.ffill() or obj.bfill() instead.\n",
            "  df.fillna(method='ffill', inplace=True)  # Forward fill\n",
            "<ipython-input-9-99d640f7bc11>:77: FutureWarning: DataFrame.fillna with 'method' is deprecated and will raise in a future version. Use obj.ffill() or obj.bfill() instead.\n",
            "  df.fillna(method='bfill', inplace=True)  # Backward fill\n"
          ]
        },
        {
          "output_type": "stream",
          "name": "stdout",
          "text": [
            "Processed and saved cleaned data for BAT.JO to Stocks/BAT.JO.csv\n"
          ]
        },
        {
          "output_type": "stream",
          "name": "stderr",
          "text": [
            "\r[*********************100%%**********************]  1 of 1 completed\n",
            "<ipython-input-9-99d640f7bc11>:76: FutureWarning: DataFrame.fillna with 'method' is deprecated and will raise in a future version. Use obj.ffill() or obj.bfill() instead.\n",
            "  df.fillna(method='ffill', inplace=True)  # Forward fill\n",
            "<ipython-input-9-99d640f7bc11>:77: FutureWarning: DataFrame.fillna with 'method' is deprecated and will raise in a future version. Use obj.ffill() or obj.bfill() instead.\n",
            "  df.fillna(method='bfill', inplace=True)  # Backward fill\n"
          ]
        },
        {
          "output_type": "stream",
          "name": "stdout",
          "text": [
            "Processed and saved cleaned data for BAW.JO to Stocks/BAW.JO.csv\n"
          ]
        },
        {
          "output_type": "stream",
          "name": "stderr",
          "text": [
            "\r[*********************100%%**********************]  1 of 1 completed\n",
            "<ipython-input-9-99d640f7bc11>:76: FutureWarning: DataFrame.fillna with 'method' is deprecated and will raise in a future version. Use obj.ffill() or obj.bfill() instead.\n",
            "  df.fillna(method='ffill', inplace=True)  # Forward fill\n",
            "<ipython-input-9-99d640f7bc11>:77: FutureWarning: DataFrame.fillna with 'method' is deprecated and will raise in a future version. Use obj.ffill() or obj.bfill() instead.\n",
            "  df.fillna(method='bfill', inplace=True)  # Backward fill\n"
          ]
        },
        {
          "output_type": "stream",
          "name": "stdout",
          "text": [
            "Processed and saved cleaned data for BCF.JO to Stocks/BCF.JO.csv\n"
          ]
        },
        {
          "output_type": "stream",
          "name": "stderr",
          "text": [
            "\r[*********************100%%**********************]  1 of 1 completed\n",
            "<ipython-input-9-99d640f7bc11>:76: FutureWarning: DataFrame.fillna with 'method' is deprecated and will raise in a future version. Use obj.ffill() or obj.bfill() instead.\n",
            "  df.fillna(method='ffill', inplace=True)  # Forward fill\n",
            "<ipython-input-9-99d640f7bc11>:77: FutureWarning: DataFrame.fillna with 'method' is deprecated and will raise in a future version. Use obj.ffill() or obj.bfill() instead.\n",
            "  df.fillna(method='bfill', inplace=True)  # Backward fill\n"
          ]
        },
        {
          "output_type": "stream",
          "name": "stdout",
          "text": [
            "Processed and saved cleaned data for BEL.JO to Stocks/BEL.JO.csv\n"
          ]
        },
        {
          "output_type": "stream",
          "name": "stderr",
          "text": [
            "\r[*********************100%%**********************]  1 of 1 completed\n",
            "<ipython-input-9-99d640f7bc11>:76: FutureWarning: DataFrame.fillna with 'method' is deprecated and will raise in a future version. Use obj.ffill() or obj.bfill() instead.\n",
            "  df.fillna(method='ffill', inplace=True)  # Forward fill\n",
            "<ipython-input-9-99d640f7bc11>:77: FutureWarning: DataFrame.fillna with 'method' is deprecated and will raise in a future version. Use obj.ffill() or obj.bfill() instead.\n",
            "  df.fillna(method='bfill', inplace=True)  # Backward fill\n"
          ]
        },
        {
          "output_type": "stream",
          "name": "stdout",
          "text": [
            "Processed and saved cleaned data for BHG.JO to Stocks/BHG.JO.csv\n"
          ]
        },
        {
          "output_type": "stream",
          "name": "stderr",
          "text": [
            "\r[*********************100%%**********************]  1 of 1 completed\n",
            "<ipython-input-9-99d640f7bc11>:76: FutureWarning: DataFrame.fillna with 'method' is deprecated and will raise in a future version. Use obj.ffill() or obj.bfill() instead.\n",
            "  df.fillna(method='ffill', inplace=True)  # Forward fill\n",
            "<ipython-input-9-99d640f7bc11>:77: FutureWarning: DataFrame.fillna with 'method' is deprecated and will raise in a future version. Use obj.ffill() or obj.bfill() instead.\n",
            "  df.fillna(method='bfill', inplace=True)  # Backward fill\n"
          ]
        },
        {
          "output_type": "stream",
          "name": "stdout",
          "text": [
            "Processed and saved cleaned data for BID.JO to Stocks/BID.JO.csv\n"
          ]
        },
        {
          "output_type": "stream",
          "name": "stderr",
          "text": [
            "\r[*********************100%%**********************]  1 of 1 completed\n",
            "<ipython-input-9-99d640f7bc11>:76: FutureWarning: DataFrame.fillna with 'method' is deprecated and will raise in a future version. Use obj.ffill() or obj.bfill() instead.\n",
            "  df.fillna(method='ffill', inplace=True)  # Forward fill\n",
            "<ipython-input-9-99d640f7bc11>:77: FutureWarning: DataFrame.fillna with 'method' is deprecated and will raise in a future version. Use obj.ffill() or obj.bfill() instead.\n",
            "  df.fillna(method='bfill', inplace=True)  # Backward fill\n"
          ]
        },
        {
          "output_type": "stream",
          "name": "stdout",
          "text": [
            "Processed and saved cleaned data for BIK.JO to Stocks/BIK.JO.csv\n"
          ]
        },
        {
          "output_type": "stream",
          "name": "stderr",
          "text": [
            "\r[*********************100%%**********************]  1 of 1 completed\n",
            "<ipython-input-9-99d640f7bc11>:76: FutureWarning: DataFrame.fillna with 'method' is deprecated and will raise in a future version. Use obj.ffill() or obj.bfill() instead.\n",
            "  df.fillna(method='ffill', inplace=True)  # Forward fill\n",
            "<ipython-input-9-99d640f7bc11>:77: FutureWarning: DataFrame.fillna with 'method' is deprecated and will raise in a future version. Use obj.ffill() or obj.bfill() instead.\n",
            "  df.fillna(method='bfill', inplace=True)  # Backward fill\n"
          ]
        },
        {
          "output_type": "stream",
          "name": "stdout",
          "text": [
            "Processed and saved cleaned data for BKI.JO to Stocks/BKI.JO.csv\n"
          ]
        },
        {
          "output_type": "stream",
          "name": "stderr",
          "text": [
            "\r[*********************100%%**********************]  1 of 1 completed\n",
            "<ipython-input-9-99d640f7bc11>:76: FutureWarning: DataFrame.fillna with 'method' is deprecated and will raise in a future version. Use obj.ffill() or obj.bfill() instead.\n",
            "  df.fillna(method='ffill', inplace=True)  # Forward fill\n",
            "<ipython-input-9-99d640f7bc11>:77: FutureWarning: DataFrame.fillna with 'method' is deprecated and will raise in a future version. Use obj.ffill() or obj.bfill() instead.\n",
            "  df.fillna(method='bfill', inplace=True)  # Backward fill\n"
          ]
        },
        {
          "output_type": "stream",
          "name": "stdout",
          "text": [
            "Processed and saved cleaned data for BLU.JO to Stocks/BLU.JO.csv\n"
          ]
        },
        {
          "output_type": "stream",
          "name": "stderr",
          "text": [
            "\r[*********************100%%**********************]  1 of 1 completed\n",
            "<ipython-input-9-99d640f7bc11>:76: FutureWarning: DataFrame.fillna with 'method' is deprecated and will raise in a future version. Use obj.ffill() or obj.bfill() instead.\n",
            "  df.fillna(method='ffill', inplace=True)  # Forward fill\n",
            "<ipython-input-9-99d640f7bc11>:77: FutureWarning: DataFrame.fillna with 'method' is deprecated and will raise in a future version. Use obj.ffill() or obj.bfill() instead.\n",
            "  df.fillna(method='bfill', inplace=True)  # Backward fill\n"
          ]
        },
        {
          "output_type": "stream",
          "name": "stdout",
          "text": [
            "Processed and saved cleaned data for BRN.JO to Stocks/BRN.JO.csv\n"
          ]
        },
        {
          "output_type": "stream",
          "name": "stderr",
          "text": [
            "\r[*********************100%%**********************]  1 of 1 completed\n",
            "<ipython-input-9-99d640f7bc11>:76: FutureWarning: DataFrame.fillna with 'method' is deprecated and will raise in a future version. Use obj.ffill() or obj.bfill() instead.\n",
            "  df.fillna(method='ffill', inplace=True)  # Forward fill\n",
            "<ipython-input-9-99d640f7bc11>:77: FutureWarning: DataFrame.fillna with 'method' is deprecated and will raise in a future version. Use obj.ffill() or obj.bfill() instead.\n",
            "  df.fillna(method='bfill', inplace=True)  # Backward fill\n"
          ]
        },
        {
          "output_type": "stream",
          "name": "stdout",
          "text": [
            "Processed and saved cleaned data for BRT.JO to Stocks/BRT.JO.csv\n"
          ]
        },
        {
          "output_type": "stream",
          "name": "stderr",
          "text": [
            "\r[*********************100%%**********************]  1 of 1 completed\n",
            "<ipython-input-9-99d640f7bc11>:76: FutureWarning: DataFrame.fillna with 'method' is deprecated and will raise in a future version. Use obj.ffill() or obj.bfill() instead.\n",
            "  df.fillna(method='ffill', inplace=True)  # Forward fill\n",
            "<ipython-input-9-99d640f7bc11>:77: FutureWarning: DataFrame.fillna with 'method' is deprecated and will raise in a future version. Use obj.ffill() or obj.bfill() instead.\n",
            "  df.fillna(method='bfill', inplace=True)  # Backward fill\n"
          ]
        },
        {
          "output_type": "stream",
          "name": "stdout",
          "text": [
            "Processed and saved cleaned data for BTI.JO to Stocks/BTI.JO.csv\n"
          ]
        },
        {
          "output_type": "stream",
          "name": "stderr",
          "text": [
            "\r[*********************100%%**********************]  1 of 1 completed\n",
            "<ipython-input-9-99d640f7bc11>:76: FutureWarning: DataFrame.fillna with 'method' is deprecated and will raise in a future version. Use obj.ffill() or obj.bfill() instead.\n",
            "  df.fillna(method='ffill', inplace=True)  # Forward fill\n",
            "<ipython-input-9-99d640f7bc11>:77: FutureWarning: DataFrame.fillna with 'method' is deprecated and will raise in a future version. Use obj.ffill() or obj.bfill() instead.\n",
            "  df.fillna(method='bfill', inplace=True)  # Backward fill\n"
          ]
        },
        {
          "output_type": "stream",
          "name": "stdout",
          "text": [
            "Processed and saved cleaned data for BTN.JO to Stocks/BTN.JO.csv\n"
          ]
        },
        {
          "output_type": "stream",
          "name": "stderr",
          "text": [
            "\r[*********************100%%**********************]  1 of 1 completed\n",
            "<ipython-input-9-99d640f7bc11>:76: FutureWarning: DataFrame.fillna with 'method' is deprecated and will raise in a future version. Use obj.ffill() or obj.bfill() instead.\n",
            "  df.fillna(method='ffill', inplace=True)  # Forward fill\n",
            "<ipython-input-9-99d640f7bc11>:77: FutureWarning: DataFrame.fillna with 'method' is deprecated and will raise in a future version. Use obj.ffill() or obj.bfill() instead.\n",
            "  df.fillna(method='bfill', inplace=True)  # Backward fill\n"
          ]
        },
        {
          "output_type": "stream",
          "name": "stdout",
          "text": [
            "Processed and saved cleaned data for BVT.JO to Stocks/BVT.JO.csv\n"
          ]
        },
        {
          "output_type": "stream",
          "name": "stderr",
          "text": [
            "\r[*********************100%%**********************]  1 of 1 completed\n",
            "<ipython-input-9-99d640f7bc11>:76: FutureWarning: DataFrame.fillna with 'method' is deprecated and will raise in a future version. Use obj.ffill() or obj.bfill() instead.\n",
            "  df.fillna(method='ffill', inplace=True)  # Forward fill\n",
            "<ipython-input-9-99d640f7bc11>:77: FutureWarning: DataFrame.fillna with 'method' is deprecated and will raise in a future version. Use obj.ffill() or obj.bfill() instead.\n",
            "  df.fillna(method='bfill', inplace=True)  # Backward fill\n"
          ]
        },
        {
          "output_type": "stream",
          "name": "stdout",
          "text": [
            "Processed and saved cleaned data for BWN.JO to Stocks/BWN.JO.csv\n"
          ]
        },
        {
          "output_type": "stream",
          "name": "stderr",
          "text": [
            "\r[*********************100%%**********************]  1 of 1 completed\n",
            "<ipython-input-9-99d640f7bc11>:76: FutureWarning: DataFrame.fillna with 'method' is deprecated and will raise in a future version. Use obj.ffill() or obj.bfill() instead.\n",
            "  df.fillna(method='ffill', inplace=True)  # Forward fill\n",
            "<ipython-input-9-99d640f7bc11>:77: FutureWarning: DataFrame.fillna with 'method' is deprecated and will raise in a future version. Use obj.ffill() or obj.bfill() instead.\n",
            "  df.fillna(method='bfill', inplace=True)  # Backward fill\n"
          ]
        },
        {
          "output_type": "stream",
          "name": "stdout",
          "text": [
            "Processed and saved cleaned data for BYI.JO to Stocks/BYI.JO.csv\n"
          ]
        },
        {
          "output_type": "stream",
          "name": "stderr",
          "text": [
            "\r[*********************100%%**********************]  1 of 1 completed\n",
            "<ipython-input-9-99d640f7bc11>:76: FutureWarning: DataFrame.fillna with 'method' is deprecated and will raise in a future version. Use obj.ffill() or obj.bfill() instead.\n",
            "  df.fillna(method='ffill', inplace=True)  # Forward fill\n",
            "<ipython-input-9-99d640f7bc11>:77: FutureWarning: DataFrame.fillna with 'method' is deprecated and will raise in a future version. Use obj.ffill() or obj.bfill() instead.\n",
            "  df.fillna(method='bfill', inplace=True)  # Backward fill\n"
          ]
        },
        {
          "output_type": "stream",
          "name": "stdout",
          "text": [
            "Processed and saved cleaned data for CAA.JO to Stocks/CAA.JO.csv\n"
          ]
        },
        {
          "output_type": "stream",
          "name": "stderr",
          "text": [
            "\r[*********************100%%**********************]  1 of 1 completed\n",
            "<ipython-input-9-99d640f7bc11>:76: FutureWarning: DataFrame.fillna with 'method' is deprecated and will raise in a future version. Use obj.ffill() or obj.bfill() instead.\n",
            "  df.fillna(method='ffill', inplace=True)  # Forward fill\n",
            "<ipython-input-9-99d640f7bc11>:77: FutureWarning: DataFrame.fillna with 'method' is deprecated and will raise in a future version. Use obj.ffill() or obj.bfill() instead.\n",
            "  df.fillna(method='bfill', inplace=True)  # Backward fill\n"
          ]
        },
        {
          "output_type": "stream",
          "name": "stdout",
          "text": [
            "Processed and saved cleaned data for CAT.JO to Stocks/CAT.JO.csv\n"
          ]
        },
        {
          "output_type": "stream",
          "name": "stderr",
          "text": [
            "\r[*********************100%%**********************]  1 of 1 completed\n",
            "<ipython-input-9-99d640f7bc11>:76: FutureWarning: DataFrame.fillna with 'method' is deprecated and will raise in a future version. Use obj.ffill() or obj.bfill() instead.\n",
            "  df.fillna(method='ffill', inplace=True)  # Forward fill\n",
            "<ipython-input-9-99d640f7bc11>:77: FutureWarning: DataFrame.fillna with 'method' is deprecated and will raise in a future version. Use obj.ffill() or obj.bfill() instead.\n",
            "  df.fillna(method='bfill', inplace=True)  # Backward fill\n"
          ]
        },
        {
          "output_type": "stream",
          "name": "stdout",
          "text": [
            "Processed and saved cleaned data for CFR.JO to Stocks/CFR.JO.csv\n"
          ]
        },
        {
          "output_type": "stream",
          "name": "stderr",
          "text": [
            "\r[*********************100%%**********************]  1 of 1 completed\n",
            "<ipython-input-9-99d640f7bc11>:76: FutureWarning: DataFrame.fillna with 'method' is deprecated and will raise in a future version. Use obj.ffill() or obj.bfill() instead.\n",
            "  df.fillna(method='ffill', inplace=True)  # Forward fill\n",
            "<ipython-input-9-99d640f7bc11>:77: FutureWarning: DataFrame.fillna with 'method' is deprecated and will raise in a future version. Use obj.ffill() or obj.bfill() instead.\n",
            "  df.fillna(method='bfill', inplace=True)  # Backward fill\n"
          ]
        },
        {
          "output_type": "stream",
          "name": "stdout",
          "text": [
            "Processed and saved cleaned data for CGR.JO to Stocks/CGR.JO.csv\n"
          ]
        },
        {
          "output_type": "stream",
          "name": "stderr",
          "text": [
            "\r[*********************100%%**********************]  1 of 1 completed\n",
            "<ipython-input-9-99d640f7bc11>:76: FutureWarning: DataFrame.fillna with 'method' is deprecated and will raise in a future version. Use obj.ffill() or obj.bfill() instead.\n",
            "  df.fillna(method='ffill', inplace=True)  # Forward fill\n",
            "<ipython-input-9-99d640f7bc11>:77: FutureWarning: DataFrame.fillna with 'method' is deprecated and will raise in a future version. Use obj.ffill() or obj.bfill() instead.\n",
            "  df.fillna(method='bfill', inplace=True)  # Backward fill\n"
          ]
        },
        {
          "output_type": "stream",
          "name": "stdout",
          "text": [
            "Processed and saved cleaned data for CHP.JO to Stocks/CHP.JO.csv\n"
          ]
        },
        {
          "output_type": "stream",
          "name": "stderr",
          "text": [
            "\r[*********************100%%**********************]  1 of 1 completed\n",
            "<ipython-input-9-99d640f7bc11>:76: FutureWarning: DataFrame.fillna with 'method' is deprecated and will raise in a future version. Use obj.ffill() or obj.bfill() instead.\n",
            "  df.fillna(method='ffill', inplace=True)  # Forward fill\n",
            "<ipython-input-9-99d640f7bc11>:77: FutureWarning: DataFrame.fillna with 'method' is deprecated and will raise in a future version. Use obj.ffill() or obj.bfill() instead.\n",
            "  df.fillna(method='bfill', inplace=True)  # Backward fill\n"
          ]
        },
        {
          "output_type": "stream",
          "name": "stdout",
          "text": [
            "Processed and saved cleaned data for CKS.JO to Stocks/CKS.JO.csv\n"
          ]
        },
        {
          "output_type": "stream",
          "name": "stderr",
          "text": [
            "\r[*********************100%%**********************]  1 of 1 completed\n",
            "<ipython-input-9-99d640f7bc11>:76: FutureWarning: DataFrame.fillna with 'method' is deprecated and will raise in a future version. Use obj.ffill() or obj.bfill() instead.\n",
            "  df.fillna(method='ffill', inplace=True)  # Forward fill\n",
            "<ipython-input-9-99d640f7bc11>:77: FutureWarning: DataFrame.fillna with 'method' is deprecated and will raise in a future version. Use obj.ffill() or obj.bfill() instead.\n",
            "  df.fillna(method='bfill', inplace=True)  # Backward fill\n"
          ]
        },
        {
          "output_type": "stream",
          "name": "stdout",
          "text": [
            "Processed and saved cleaned data for CLH.JO to Stocks/CLH.JO.csv\n"
          ]
        },
        {
          "output_type": "stream",
          "name": "stderr",
          "text": [
            "\r[*********************100%%**********************]  1 of 1 completed\n",
            "<ipython-input-9-99d640f7bc11>:76: FutureWarning: DataFrame.fillna with 'method' is deprecated and will raise in a future version. Use obj.ffill() or obj.bfill() instead.\n",
            "  df.fillna(method='ffill', inplace=True)  # Forward fill\n",
            "<ipython-input-9-99d640f7bc11>:77: FutureWarning: DataFrame.fillna with 'method' is deprecated and will raise in a future version. Use obj.ffill() or obj.bfill() instead.\n",
            "  df.fillna(method='bfill', inplace=True)  # Backward fill\n"
          ]
        },
        {
          "output_type": "stream",
          "name": "stdout",
          "text": [
            "Processed and saved cleaned data for CLI.JO to Stocks/CLI.JO.csv\n"
          ]
        },
        {
          "output_type": "stream",
          "name": "stderr",
          "text": [
            "\r[*********************100%%**********************]  1 of 1 completed\n",
            "<ipython-input-9-99d640f7bc11>:76: FutureWarning: DataFrame.fillna with 'method' is deprecated and will raise in a future version. Use obj.ffill() or obj.bfill() instead.\n",
            "  df.fillna(method='ffill', inplace=True)  # Forward fill\n",
            "<ipython-input-9-99d640f7bc11>:77: FutureWarning: DataFrame.fillna with 'method' is deprecated and will raise in a future version. Use obj.ffill() or obj.bfill() instead.\n",
            "  df.fillna(method='bfill', inplace=True)  # Backward fill\n"
          ]
        },
        {
          "output_type": "stream",
          "name": "stdout",
          "text": [
            "Processed and saved cleaned data for CLS.JO to Stocks/CLS.JO.csv\n"
          ]
        },
        {
          "output_type": "stream",
          "name": "stderr",
          "text": [
            "\r[*********************100%%**********************]  1 of 1 completed\n",
            "<ipython-input-9-99d640f7bc11>:76: FutureWarning: DataFrame.fillna with 'method' is deprecated and will raise in a future version. Use obj.ffill() or obj.bfill() instead.\n",
            "  df.fillna(method='ffill', inplace=True)  # Forward fill\n",
            "<ipython-input-9-99d640f7bc11>:77: FutureWarning: DataFrame.fillna with 'method' is deprecated and will raise in a future version. Use obj.ffill() or obj.bfill() instead.\n",
            "  df.fillna(method='bfill', inplace=True)  # Backward fill\n"
          ]
        },
        {
          "output_type": "stream",
          "name": "stdout",
          "text": [
            "Processed and saved cleaned data for CMH.JO to Stocks/CMH.JO.csv\n"
          ]
        },
        {
          "output_type": "stream",
          "name": "stderr",
          "text": [
            "\r[*********************100%%**********************]  1 of 1 completed\n",
            "<ipython-input-9-99d640f7bc11>:76: FutureWarning: DataFrame.fillna with 'method' is deprecated and will raise in a future version. Use obj.ffill() or obj.bfill() instead.\n",
            "  df.fillna(method='ffill', inplace=True)  # Forward fill\n",
            "<ipython-input-9-99d640f7bc11>:77: FutureWarning: DataFrame.fillna with 'method' is deprecated and will raise in a future version. Use obj.ffill() or obj.bfill() instead.\n",
            "  df.fillna(method='bfill', inplace=True)  # Backward fill\n"
          ]
        },
        {
          "output_type": "stream",
          "name": "stdout",
          "text": [
            "Processed and saved cleaned data for CML.JO to Stocks/CML.JO.csv\n"
          ]
        },
        {
          "output_type": "stream",
          "name": "stderr",
          "text": [
            "\r[*********************100%%**********************]  1 of 1 completed\n",
            "<ipython-input-9-99d640f7bc11>:76: FutureWarning: DataFrame.fillna with 'method' is deprecated and will raise in a future version. Use obj.ffill() or obj.bfill() instead.\n",
            "  df.fillna(method='ffill', inplace=True)  # Forward fill\n",
            "<ipython-input-9-99d640f7bc11>:77: FutureWarning: DataFrame.fillna with 'method' is deprecated and will raise in a future version. Use obj.ffill() or obj.bfill() instead.\n",
            "  df.fillna(method='bfill', inplace=True)  # Backward fill\n"
          ]
        },
        {
          "output_type": "stream",
          "name": "stdout",
          "text": [
            "Processed and saved cleaned data for CMO.JO to Stocks/CMO.JO.csv\n"
          ]
        },
        {
          "output_type": "stream",
          "name": "stderr",
          "text": [
            "\r[*********************100%%**********************]  1 of 1 completed\n",
            "<ipython-input-9-99d640f7bc11>:76: FutureWarning: DataFrame.fillna with 'method' is deprecated and will raise in a future version. Use obj.ffill() or obj.bfill() instead.\n",
            "  df.fillna(method='ffill', inplace=True)  # Forward fill\n",
            "<ipython-input-9-99d640f7bc11>:77: FutureWarning: DataFrame.fillna with 'method' is deprecated and will raise in a future version. Use obj.ffill() or obj.bfill() instead.\n",
            "  df.fillna(method='bfill', inplace=True)  # Backward fill\n"
          ]
        },
        {
          "output_type": "stream",
          "name": "stdout",
          "text": [
            "Processed and saved cleaned data for CND.JO to Stocks/CND.JO.csv\n"
          ]
        },
        {
          "output_type": "stream",
          "name": "stderr",
          "text": [
            "\r[*********************100%%**********************]  1 of 1 completed\n",
            "<ipython-input-9-99d640f7bc11>:76: FutureWarning: DataFrame.fillna with 'method' is deprecated and will raise in a future version. Use obj.ffill() or obj.bfill() instead.\n",
            "  df.fillna(method='ffill', inplace=True)  # Forward fill\n",
            "<ipython-input-9-99d640f7bc11>:77: FutureWarning: DataFrame.fillna with 'method' is deprecated and will raise in a future version. Use obj.ffill() or obj.bfill() instead.\n",
            "  df.fillna(method='bfill', inplace=True)  # Backward fill\n"
          ]
        },
        {
          "output_type": "stream",
          "name": "stdout",
          "text": [
            "Processed and saved cleaned data for COH.JO to Stocks/COH.JO.csv\n"
          ]
        },
        {
          "output_type": "stream",
          "name": "stderr",
          "text": [
            "\r[*********************100%%**********************]  1 of 1 completed\n",
            "<ipython-input-9-99d640f7bc11>:76: FutureWarning: DataFrame.fillna with 'method' is deprecated and will raise in a future version. Use obj.ffill() or obj.bfill() instead.\n",
            "  df.fillna(method='ffill', inplace=True)  # Forward fill\n",
            "<ipython-input-9-99d640f7bc11>:77: FutureWarning: DataFrame.fillna with 'method' is deprecated and will raise in a future version. Use obj.ffill() or obj.bfill() instead.\n",
            "  df.fillna(method='bfill', inplace=True)  # Backward fill\n"
          ]
        },
        {
          "output_type": "stream",
          "name": "stdout",
          "text": [
            "Processed and saved cleaned data for CPI.JO to Stocks/CPI.JO.csv\n"
          ]
        },
        {
          "output_type": "stream",
          "name": "stderr",
          "text": [
            "\r[*********************100%%**********************]  1 of 1 completed\n",
            "<ipython-input-9-99d640f7bc11>:76: FutureWarning: DataFrame.fillna with 'method' is deprecated and will raise in a future version. Use obj.ffill() or obj.bfill() instead.\n",
            "  df.fillna(method='ffill', inplace=True)  # Forward fill\n",
            "<ipython-input-9-99d640f7bc11>:77: FutureWarning: DataFrame.fillna with 'method' is deprecated and will raise in a future version. Use obj.ffill() or obj.bfill() instead.\n",
            "  df.fillna(method='bfill', inplace=True)  # Backward fill\n"
          ]
        },
        {
          "output_type": "stream",
          "name": "stdout",
          "text": [
            "Processed and saved cleaned data for CPP.JO to Stocks/CPP.JO.csv\n"
          ]
        },
        {
          "output_type": "stream",
          "name": "stderr",
          "text": [
            "\r[*********************100%%**********************]  1 of 1 completed\n",
            "<ipython-input-9-99d640f7bc11>:76: FutureWarning: DataFrame.fillna with 'method' is deprecated and will raise in a future version. Use obj.ffill() or obj.bfill() instead.\n",
            "  df.fillna(method='ffill', inplace=True)  # Forward fill\n",
            "<ipython-input-9-99d640f7bc11>:77: FutureWarning: DataFrame.fillna with 'method' is deprecated and will raise in a future version. Use obj.ffill() or obj.bfill() instead.\n",
            "  df.fillna(method='bfill', inplace=True)  # Backward fill\n"
          ]
        },
        {
          "output_type": "stream",
          "name": "stdout",
          "text": [
            "Processed and saved cleaned data for CPR.JO to Stocks/CPR.JO.csv\n"
          ]
        },
        {
          "output_type": "stream",
          "name": "stderr",
          "text": [
            "\r[*********************100%%**********************]  1 of 1 completed\n",
            "<ipython-input-9-99d640f7bc11>:76: FutureWarning: DataFrame.fillna with 'method' is deprecated and will raise in a future version. Use obj.ffill() or obj.bfill() instead.\n",
            "  df.fillna(method='ffill', inplace=True)  # Forward fill\n",
            "<ipython-input-9-99d640f7bc11>:77: FutureWarning: DataFrame.fillna with 'method' is deprecated and will raise in a future version. Use obj.ffill() or obj.bfill() instead.\n",
            "  df.fillna(method='bfill', inplace=True)  # Backward fill\n"
          ]
        },
        {
          "output_type": "stream",
          "name": "stdout",
          "text": [
            "Processed and saved cleaned data for CRP.JO to Stocks/CRP.JO.csv\n"
          ]
        },
        {
          "output_type": "stream",
          "name": "stderr",
          "text": [
            "\r[*********************100%%**********************]  1 of 1 completed\n",
            "<ipython-input-9-99d640f7bc11>:76: FutureWarning: DataFrame.fillna with 'method' is deprecated and will raise in a future version. Use obj.ffill() or obj.bfill() instead.\n",
            "  df.fillna(method='ffill', inplace=True)  # Forward fill\n",
            "<ipython-input-9-99d640f7bc11>:77: FutureWarning: DataFrame.fillna with 'method' is deprecated and will raise in a future version. Use obj.ffill() or obj.bfill() instead.\n",
            "  df.fillna(method='bfill', inplace=True)  # Backward fill\n"
          ]
        },
        {
          "output_type": "stream",
          "name": "stdout",
          "text": [
            "Processed and saved cleaned data for CSB.JO to Stocks/CSB.JO.csv\n"
          ]
        },
        {
          "output_type": "stream",
          "name": "stderr",
          "text": [
            "\r[*********************100%%**********************]  1 of 1 completed\n",
            "<ipython-input-9-99d640f7bc11>:76: FutureWarning: DataFrame.fillna with 'method' is deprecated and will raise in a future version. Use obj.ffill() or obj.bfill() instead.\n",
            "  df.fillna(method='ffill', inplace=True)  # Forward fill\n",
            "<ipython-input-9-99d640f7bc11>:77: FutureWarning: DataFrame.fillna with 'method' is deprecated and will raise in a future version. Use obj.ffill() or obj.bfill() instead.\n",
            "  df.fillna(method='bfill', inplace=True)  # Backward fill\n"
          ]
        },
        {
          "output_type": "stream",
          "name": "stdout",
          "text": [
            "Processed and saved cleaned data for CTA.JO to Stocks/CTA.JO.csv\n"
          ]
        },
        {
          "output_type": "stream",
          "name": "stderr",
          "text": [
            "\r[*********************100%%**********************]  1 of 1 completed\n",
            "<ipython-input-9-99d640f7bc11>:76: FutureWarning: DataFrame.fillna with 'method' is deprecated and will raise in a future version. Use obj.ffill() or obj.bfill() instead.\n",
            "  df.fillna(method='ffill', inplace=True)  # Forward fill\n",
            "<ipython-input-9-99d640f7bc11>:77: FutureWarning: DataFrame.fillna with 'method' is deprecated and will raise in a future version. Use obj.ffill() or obj.bfill() instead.\n",
            "  df.fillna(method='bfill', inplace=True)  # Backward fill\n"
          ]
        },
        {
          "output_type": "stream",
          "name": "stdout",
          "text": [
            "Processed and saved cleaned data for DCP.JO to Stocks/DCP.JO.csv\n"
          ]
        },
        {
          "output_type": "stream",
          "name": "stderr",
          "text": [
            "\r[*********************100%%**********************]  1 of 1 completed\n",
            "<ipython-input-9-99d640f7bc11>:76: FutureWarning: DataFrame.fillna with 'method' is deprecated and will raise in a future version. Use obj.ffill() or obj.bfill() instead.\n",
            "  df.fillna(method='ffill', inplace=True)  # Forward fill\n",
            "<ipython-input-9-99d640f7bc11>:77: FutureWarning: DataFrame.fillna with 'method' is deprecated and will raise in a future version. Use obj.ffill() or obj.bfill() instead.\n",
            "  df.fillna(method='bfill', inplace=True)  # Backward fill\n"
          ]
        },
        {
          "output_type": "stream",
          "name": "stdout",
          "text": [
            "Processed and saved cleaned data for DIB.JO to Stocks/DIB.JO.csv\n"
          ]
        },
        {
          "output_type": "stream",
          "name": "stderr",
          "text": [
            "\r[*********************100%%**********************]  1 of 1 completed\n",
            "<ipython-input-9-99d640f7bc11>:76: FutureWarning: DataFrame.fillna with 'method' is deprecated and will raise in a future version. Use obj.ffill() or obj.bfill() instead.\n",
            "  df.fillna(method='ffill', inplace=True)  # Forward fill\n",
            "<ipython-input-9-99d640f7bc11>:77: FutureWarning: DataFrame.fillna with 'method' is deprecated and will raise in a future version. Use obj.ffill() or obj.bfill() instead.\n",
            "  df.fillna(method='bfill', inplace=True)  # Backward fill\n"
          ]
        },
        {
          "output_type": "stream",
          "name": "stdout",
          "text": [
            "Processed and saved cleaned data for DNB.JO to Stocks/DNB.JO.csv\n"
          ]
        },
        {
          "output_type": "stream",
          "name": "stderr",
          "text": [
            "\r[*********************100%%**********************]  1 of 1 completed\n",
            "<ipython-input-9-99d640f7bc11>:76: FutureWarning: DataFrame.fillna with 'method' is deprecated and will raise in a future version. Use obj.ffill() or obj.bfill() instead.\n",
            "  df.fillna(method='ffill', inplace=True)  # Forward fill\n",
            "<ipython-input-9-99d640f7bc11>:77: FutureWarning: DataFrame.fillna with 'method' is deprecated and will raise in a future version. Use obj.ffill() or obj.bfill() instead.\n",
            "  df.fillna(method='bfill', inplace=True)  # Backward fill\n"
          ]
        },
        {
          "output_type": "stream",
          "name": "stdout",
          "text": [
            "Processed and saved cleaned data for DRA.JO to Stocks/DRA.JO.csv\n"
          ]
        },
        {
          "output_type": "stream",
          "name": "stderr",
          "text": [
            "\r[*********************100%%**********************]  1 of 1 completed\n",
            "<ipython-input-9-99d640f7bc11>:76: FutureWarning: DataFrame.fillna with 'method' is deprecated and will raise in a future version. Use obj.ffill() or obj.bfill() instead.\n",
            "  df.fillna(method='ffill', inplace=True)  # Forward fill\n",
            "<ipython-input-9-99d640f7bc11>:77: FutureWarning: DataFrame.fillna with 'method' is deprecated and will raise in a future version. Use obj.ffill() or obj.bfill() instead.\n",
            "  df.fillna(method='bfill', inplace=True)  # Backward fill\n"
          ]
        },
        {
          "output_type": "stream",
          "name": "stdout",
          "text": [
            "Processed and saved cleaned data for DRD.JO to Stocks/DRD.JO.csv\n"
          ]
        },
        {
          "output_type": "stream",
          "name": "stderr",
          "text": [
            "\r[*********************100%%**********************]  1 of 1 completed\n",
            "<ipython-input-9-99d640f7bc11>:76: FutureWarning: DataFrame.fillna with 'method' is deprecated and will raise in a future version. Use obj.ffill() or obj.bfill() instead.\n",
            "  df.fillna(method='ffill', inplace=True)  # Forward fill\n",
            "<ipython-input-9-99d640f7bc11>:77: FutureWarning: DataFrame.fillna with 'method' is deprecated and will raise in a future version. Use obj.ffill() or obj.bfill() instead.\n",
            "  df.fillna(method='bfill', inplace=True)  # Backward fill\n"
          ]
        },
        {
          "output_type": "stream",
          "name": "stdout",
          "text": [
            "Processed and saved cleaned data for DSY.JO to Stocks/DSY.JO.csv\n"
          ]
        },
        {
          "output_type": "stream",
          "name": "stderr",
          "text": [
            "\r[*********************100%%**********************]  1 of 1 completed\n",
            "<ipython-input-9-99d640f7bc11>:76: FutureWarning: DataFrame.fillna with 'method' is deprecated and will raise in a future version. Use obj.ffill() or obj.bfill() instead.\n",
            "  df.fillna(method='ffill', inplace=True)  # Forward fill\n",
            "<ipython-input-9-99d640f7bc11>:77: FutureWarning: DataFrame.fillna with 'method' is deprecated and will raise in a future version. Use obj.ffill() or obj.bfill() instead.\n",
            "  df.fillna(method='bfill', inplace=True)  # Backward fill\n"
          ]
        },
        {
          "output_type": "stream",
          "name": "stdout",
          "text": [
            "Processed and saved cleaned data for DTC.JO to Stocks/DTC.JO.csv\n"
          ]
        },
        {
          "output_type": "stream",
          "name": "stderr",
          "text": [
            "\r[*********************100%%**********************]  1 of 1 completed\n",
            "<ipython-input-9-99d640f7bc11>:76: FutureWarning: DataFrame.fillna with 'method' is deprecated and will raise in a future version. Use obj.ffill() or obj.bfill() instead.\n",
            "  df.fillna(method='ffill', inplace=True)  # Forward fill\n",
            "<ipython-input-9-99d640f7bc11>:77: FutureWarning: DataFrame.fillna with 'method' is deprecated and will raise in a future version. Use obj.ffill() or obj.bfill() instead.\n",
            "  df.fillna(method='bfill', inplace=True)  # Backward fill\n"
          ]
        },
        {
          "output_type": "stream",
          "name": "stdout",
          "text": [
            "Processed and saved cleaned data for ELI.JO to Stocks/ELI.JO.csv\n"
          ]
        },
        {
          "output_type": "stream",
          "name": "stderr",
          "text": [
            "\r[*********************100%%**********************]  1 of 1 completed\n",
            "<ipython-input-9-99d640f7bc11>:76: FutureWarning: DataFrame.fillna with 'method' is deprecated and will raise in a future version. Use obj.ffill() or obj.bfill() instead.\n",
            "  df.fillna(method='ffill', inplace=True)  # Forward fill\n",
            "<ipython-input-9-99d640f7bc11>:77: FutureWarning: DataFrame.fillna with 'method' is deprecated and will raise in a future version. Use obj.ffill() or obj.bfill() instead.\n",
            "  df.fillna(method='bfill', inplace=True)  # Backward fill\n"
          ]
        },
        {
          "output_type": "stream",
          "name": "stdout",
          "text": [
            "Processed and saved cleaned data for EMH.JO to Stocks/EMH.JO.csv\n"
          ]
        },
        {
          "output_type": "stream",
          "name": "stderr",
          "text": [
            "\r[*********************100%%**********************]  1 of 1 completed\n",
            "<ipython-input-9-99d640f7bc11>:76: FutureWarning: DataFrame.fillna with 'method' is deprecated and will raise in a future version. Use obj.ffill() or obj.bfill() instead.\n",
            "  df.fillna(method='ffill', inplace=True)  # Forward fill\n",
            "<ipython-input-9-99d640f7bc11>:77: FutureWarning: DataFrame.fillna with 'method' is deprecated and will raise in a future version. Use obj.ffill() or obj.bfill() instead.\n",
            "  df.fillna(method='bfill', inplace=True)  # Backward fill\n"
          ]
        },
        {
          "output_type": "stream",
          "name": "stdout",
          "text": [
            "Processed and saved cleaned data for EMI.JO to Stocks/EMI.JO.csv\n"
          ]
        },
        {
          "output_type": "stream",
          "name": "stderr",
          "text": [
            "\r[*********************100%%**********************]  1 of 1 completed\n",
            "<ipython-input-9-99d640f7bc11>:76: FutureWarning: DataFrame.fillna with 'method' is deprecated and will raise in a future version. Use obj.ffill() or obj.bfill() instead.\n",
            "  df.fillna(method='ffill', inplace=True)  # Forward fill\n",
            "<ipython-input-9-99d640f7bc11>:77: FutureWarning: DataFrame.fillna with 'method' is deprecated and will raise in a future version. Use obj.ffill() or obj.bfill() instead.\n",
            "  df.fillna(method='bfill', inplace=True)  # Backward fill\n"
          ]
        },
        {
          "output_type": "stream",
          "name": "stdout",
          "text": [
            "Processed and saved cleaned data for EMN.JO to Stocks/EMN.JO.csv\n"
          ]
        },
        {
          "output_type": "stream",
          "name": "stderr",
          "text": [
            "\r[*********************100%%**********************]  1 of 1 completed\n",
            "<ipython-input-9-99d640f7bc11>:76: FutureWarning: DataFrame.fillna with 'method' is deprecated and will raise in a future version. Use obj.ffill() or obj.bfill() instead.\n",
            "  df.fillna(method='ffill', inplace=True)  # Forward fill\n",
            "<ipython-input-9-99d640f7bc11>:77: FutureWarning: DataFrame.fillna with 'method' is deprecated and will raise in a future version. Use obj.ffill() or obj.bfill() instead.\n",
            "  df.fillna(method='bfill', inplace=True)  # Backward fill\n"
          ]
        },
        {
          "output_type": "stream",
          "name": "stdout",
          "text": [
            "Processed and saved cleaned data for ENX.JO to Stocks/ENX.JO.csv\n"
          ]
        },
        {
          "output_type": "stream",
          "name": "stderr",
          "text": [
            "\r[*********************100%%**********************]  1 of 1 completed\n",
            "<ipython-input-9-99d640f7bc11>:76: FutureWarning: DataFrame.fillna with 'method' is deprecated and will raise in a future version. Use obj.ffill() or obj.bfill() instead.\n",
            "  df.fillna(method='ffill', inplace=True)  # Forward fill\n",
            "<ipython-input-9-99d640f7bc11>:77: FutureWarning: DataFrame.fillna with 'method' is deprecated and will raise in a future version. Use obj.ffill() or obj.bfill() instead.\n",
            "  df.fillna(method='bfill', inplace=True)  # Backward fill\n"
          ]
        },
        {
          "output_type": "stream",
          "name": "stdout",
          "text": [
            "Processed and saved cleaned data for EOH.JO to Stocks/EOH.JO.csv\n"
          ]
        },
        {
          "output_type": "stream",
          "name": "stderr",
          "text": [
            "\r[*********************100%%**********************]  1 of 1 completed\n",
            "<ipython-input-9-99d640f7bc11>:76: FutureWarning: DataFrame.fillna with 'method' is deprecated and will raise in a future version. Use obj.ffill() or obj.bfill() instead.\n",
            "  df.fillna(method='ffill', inplace=True)  # Forward fill\n",
            "<ipython-input-9-99d640f7bc11>:77: FutureWarning: DataFrame.fillna with 'method' is deprecated and will raise in a future version. Use obj.ffill() or obj.bfill() instead.\n",
            "  df.fillna(method='bfill', inplace=True)  # Backward fill\n"
          ]
        },
        {
          "output_type": "stream",
          "name": "stdout",
          "text": [
            "Processed and saved cleaned data for EPE.JO to Stocks/EPE.JO.csv\n"
          ]
        },
        {
          "output_type": "stream",
          "name": "stderr",
          "text": [
            "\r[*********************100%%**********************]  1 of 1 completed\n",
            "<ipython-input-9-99d640f7bc11>:76: FutureWarning: DataFrame.fillna with 'method' is deprecated and will raise in a future version. Use obj.ffill() or obj.bfill() instead.\n",
            "  df.fillna(method='ffill', inplace=True)  # Forward fill\n",
            "<ipython-input-9-99d640f7bc11>:77: FutureWarning: DataFrame.fillna with 'method' is deprecated and will raise in a future version. Use obj.ffill() or obj.bfill() instead.\n",
            "  df.fillna(method='bfill', inplace=True)  # Backward fill\n"
          ]
        },
        {
          "output_type": "stream",
          "name": "stdout",
          "text": [
            "Processed and saved cleaned data for EPS.JO to Stocks/EPS.JO.csv\n"
          ]
        },
        {
          "output_type": "stream",
          "name": "stderr",
          "text": [
            "\r[*********************100%%**********************]  1 of 1 completed\n",
            "<ipython-input-9-99d640f7bc11>:76: FutureWarning: DataFrame.fillna with 'method' is deprecated and will raise in a future version. Use obj.ffill() or obj.bfill() instead.\n",
            "  df.fillna(method='ffill', inplace=True)  # Forward fill\n",
            "<ipython-input-9-99d640f7bc11>:77: FutureWarning: DataFrame.fillna with 'method' is deprecated and will raise in a future version. Use obj.ffill() or obj.bfill() instead.\n",
            "  df.fillna(method='bfill', inplace=True)  # Backward fill\n"
          ]
        },
        {
          "output_type": "stream",
          "name": "stdout",
          "text": [
            "Processed and saved cleaned data for EQU.JO to Stocks/EQU.JO.csv\n"
          ]
        },
        {
          "output_type": "stream",
          "name": "stderr",
          "text": [
            "\r[*********************100%%**********************]  1 of 1 completed\n",
            "<ipython-input-9-99d640f7bc11>:76: FutureWarning: DataFrame.fillna with 'method' is deprecated and will raise in a future version. Use obj.ffill() or obj.bfill() instead.\n",
            "  df.fillna(method='ffill', inplace=True)  # Forward fill\n",
            "<ipython-input-9-99d640f7bc11>:77: FutureWarning: DataFrame.fillna with 'method' is deprecated and will raise in a future version. Use obj.ffill() or obj.bfill() instead.\n",
            "  df.fillna(method='bfill', inplace=True)  # Backward fill\n"
          ]
        },
        {
          "output_type": "stream",
          "name": "stdout",
          "text": [
            "Processed and saved cleaned data for EUZ.JO to Stocks/EUZ.JO.csv\n"
          ]
        },
        {
          "output_type": "stream",
          "name": "stderr",
          "text": [
            "\r[*********************100%%**********************]  1 of 1 completed\n",
            "<ipython-input-9-99d640f7bc11>:76: FutureWarning: DataFrame.fillna with 'method' is deprecated and will raise in a future version. Use obj.ffill() or obj.bfill() instead.\n",
            "  df.fillna(method='ffill', inplace=True)  # Forward fill\n",
            "<ipython-input-9-99d640f7bc11>:77: FutureWarning: DataFrame.fillna with 'method' is deprecated and will raise in a future version. Use obj.ffill() or obj.bfill() instead.\n",
            "  df.fillna(method='bfill', inplace=True)  # Backward fill\n"
          ]
        },
        {
          "output_type": "stream",
          "name": "stdout",
          "text": [
            "Processed and saved cleaned data for EXP.JO to Stocks/EXP.JO.csv\n"
          ]
        },
        {
          "output_type": "stream",
          "name": "stderr",
          "text": [
            "\r[*********************100%%**********************]  1 of 1 completed\n",
            "<ipython-input-9-99d640f7bc11>:76: FutureWarning: DataFrame.fillna with 'method' is deprecated and will raise in a future version. Use obj.ffill() or obj.bfill() instead.\n",
            "  df.fillna(method='ffill', inplace=True)  # Forward fill\n",
            "<ipython-input-9-99d640f7bc11>:77: FutureWarning: DataFrame.fillna with 'method' is deprecated and will raise in a future version. Use obj.ffill() or obj.bfill() instead.\n",
            "  df.fillna(method='bfill', inplace=True)  # Backward fill\n"
          ]
        },
        {
          "output_type": "stream",
          "name": "stdout",
          "text": [
            "Processed and saved cleaned data for EXX.JO to Stocks/EXX.JO.csv\n"
          ]
        },
        {
          "output_type": "stream",
          "name": "stderr",
          "text": [
            "\r[*********************100%%**********************]  1 of 1 completed\n",
            "<ipython-input-9-99d640f7bc11>:76: FutureWarning: DataFrame.fillna with 'method' is deprecated and will raise in a future version. Use obj.ffill() or obj.bfill() instead.\n",
            "  df.fillna(method='ffill', inplace=True)  # Forward fill\n",
            "<ipython-input-9-99d640f7bc11>:77: FutureWarning: DataFrame.fillna with 'method' is deprecated and will raise in a future version. Use obj.ffill() or obj.bfill() instead.\n",
            "  df.fillna(method='bfill', inplace=True)  # Backward fill\n"
          ]
        },
        {
          "output_type": "stream",
          "name": "stdout",
          "text": [
            "Processed and saved cleaned data for FBR.JO to Stocks/FBR.JO.csv\n"
          ]
        },
        {
          "output_type": "stream",
          "name": "stderr",
          "text": [
            "\r[*********************100%%**********************]  1 of 1 completed\n",
            "<ipython-input-9-99d640f7bc11>:76: FutureWarning: DataFrame.fillna with 'method' is deprecated and will raise in a future version. Use obj.ffill() or obj.bfill() instead.\n",
            "  df.fillna(method='ffill', inplace=True)  # Forward fill\n",
            "<ipython-input-9-99d640f7bc11>:77: FutureWarning: DataFrame.fillna with 'method' is deprecated and will raise in a future version. Use obj.ffill() or obj.bfill() instead.\n",
            "  df.fillna(method='bfill', inplace=True)  # Backward fill\n"
          ]
        },
        {
          "output_type": "stream",
          "name": "stdout",
          "text": [
            "Processed and saved cleaned data for FFB.JO to Stocks/FFB.JO.csv\n"
          ]
        },
        {
          "output_type": "stream",
          "name": "stderr",
          "text": [
            "\r[*********************100%%**********************]  1 of 1 completed\n",
            "<ipython-input-9-99d640f7bc11>:76: FutureWarning: DataFrame.fillna with 'method' is deprecated and will raise in a future version. Use obj.ffill() or obj.bfill() instead.\n",
            "  df.fillna(method='ffill', inplace=True)  # Forward fill\n",
            "<ipython-input-9-99d640f7bc11>:77: FutureWarning: DataFrame.fillna with 'method' is deprecated and will raise in a future version. Use obj.ffill() or obj.bfill() instead.\n",
            "  df.fillna(method='bfill', inplace=True)  # Backward fill\n"
          ]
        },
        {
          "output_type": "stream",
          "name": "stdout",
          "text": [
            "Processed and saved cleaned data for FGL.JO to Stocks/FGL.JO.csv\n"
          ]
        },
        {
          "output_type": "stream",
          "name": "stderr",
          "text": [
            "\r[*********************100%%**********************]  1 of 1 completed\n",
            "<ipython-input-9-99d640f7bc11>:76: FutureWarning: DataFrame.fillna with 'method' is deprecated and will raise in a future version. Use obj.ffill() or obj.bfill() instead.\n",
            "  df.fillna(method='ffill', inplace=True)  # Forward fill\n",
            "<ipython-input-9-99d640f7bc11>:77: FutureWarning: DataFrame.fillna with 'method' is deprecated and will raise in a future version. Use obj.ffill() or obj.bfill() instead.\n",
            "  df.fillna(method='bfill', inplace=True)  # Backward fill\n"
          ]
        },
        {
          "output_type": "stream",
          "name": "stdout",
          "text": [
            "Processed and saved cleaned data for FSR.JO to Stocks/FSR.JO.csv\n"
          ]
        },
        {
          "output_type": "stream",
          "name": "stderr",
          "text": [
            "\r[*********************100%%**********************]  1 of 1 completed\n",
            "<ipython-input-9-99d640f7bc11>:76: FutureWarning: DataFrame.fillna with 'method' is deprecated and will raise in a future version. Use obj.ffill() or obj.bfill() instead.\n",
            "  df.fillna(method='ffill', inplace=True)  # Forward fill\n",
            "<ipython-input-9-99d640f7bc11>:77: FutureWarning: DataFrame.fillna with 'method' is deprecated and will raise in a future version. Use obj.ffill() or obj.bfill() instead.\n",
            "  df.fillna(method='bfill', inplace=True)  # Backward fill\n"
          ]
        },
        {
          "output_type": "stream",
          "name": "stdout",
          "text": [
            "Processed and saved cleaned data for FTA.JO to Stocks/FTA.JO.csv\n"
          ]
        },
        {
          "output_type": "stream",
          "name": "stderr",
          "text": [
            "\r[*********************100%%**********************]  1 of 1 completed\n",
            "<ipython-input-9-99d640f7bc11>:76: FutureWarning: DataFrame.fillna with 'method' is deprecated and will raise in a future version. Use obj.ffill() or obj.bfill() instead.\n",
            "  df.fillna(method='ffill', inplace=True)  # Forward fill\n",
            "<ipython-input-9-99d640f7bc11>:77: FutureWarning: DataFrame.fillna with 'method' is deprecated and will raise in a future version. Use obj.ffill() or obj.bfill() instead.\n",
            "  df.fillna(method='bfill', inplace=True)  # Backward fill\n"
          ]
        },
        {
          "output_type": "stream",
          "name": "stdout",
          "text": [
            "Processed and saved cleaned data for FTB.JO to Stocks/FTB.JO.csv\n"
          ]
        },
        {
          "output_type": "stream",
          "name": "stderr",
          "text": [
            "\r[*********************100%%**********************]  1 of 1 completed\n",
            "<ipython-input-9-99d640f7bc11>:76: FutureWarning: DataFrame.fillna with 'method' is deprecated and will raise in a future version. Use obj.ffill() or obj.bfill() instead.\n",
            "  df.fillna(method='ffill', inplace=True)  # Forward fill\n",
            "<ipython-input-9-99d640f7bc11>:77: FutureWarning: DataFrame.fillna with 'method' is deprecated and will raise in a future version. Use obj.ffill() or obj.bfill() instead.\n",
            "  df.fillna(method='bfill', inplace=True)  # Backward fill\n"
          ]
        },
        {
          "output_type": "stream",
          "name": "stdout",
          "text": [
            "Processed and saved cleaned data for FTH.JO to Stocks/FTH.JO.csv\n"
          ]
        },
        {
          "output_type": "stream",
          "name": "stderr",
          "text": [
            "\r[*********************100%%**********************]  1 of 1 completed\n",
            "<ipython-input-9-99d640f7bc11>:76: FutureWarning: DataFrame.fillna with 'method' is deprecated and will raise in a future version. Use obj.ffill() or obj.bfill() instead.\n",
            "  df.fillna(method='ffill', inplace=True)  # Forward fill\n",
            "<ipython-input-9-99d640f7bc11>:77: FutureWarning: DataFrame.fillna with 'method' is deprecated and will raise in a future version. Use obj.ffill() or obj.bfill() instead.\n",
            "  df.fillna(method='bfill', inplace=True)  # Backward fill\n"
          ]
        },
        {
          "output_type": "stream",
          "name": "stdout",
          "text": [
            "Processed and saved cleaned data for GFI.JO to Stocks/GFI.JO.csv\n"
          ]
        },
        {
          "output_type": "stream",
          "name": "stderr",
          "text": [
            "\r[*********************100%%**********************]  1 of 1 completed\n",
            "<ipython-input-9-99d640f7bc11>:76: FutureWarning: DataFrame.fillna with 'method' is deprecated and will raise in a future version. Use obj.ffill() or obj.bfill() instead.\n",
            "  df.fillna(method='ffill', inplace=True)  # Forward fill\n",
            "<ipython-input-9-99d640f7bc11>:77: FutureWarning: DataFrame.fillna with 'method' is deprecated and will raise in a future version. Use obj.ffill() or obj.bfill() instead.\n",
            "  df.fillna(method='bfill', inplace=True)  # Backward fill\n"
          ]
        },
        {
          "output_type": "stream",
          "name": "stdout",
          "text": [
            "Processed and saved cleaned data for GLD.JO to Stocks/GLD.JO.csv\n"
          ]
        },
        {
          "output_type": "stream",
          "name": "stderr",
          "text": [
            "\r[*********************100%%**********************]  1 of 1 completed\n",
            "<ipython-input-9-99d640f7bc11>:76: FutureWarning: DataFrame.fillna with 'method' is deprecated and will raise in a future version. Use obj.ffill() or obj.bfill() instead.\n",
            "  df.fillna(method='ffill', inplace=True)  # Forward fill\n",
            "<ipython-input-9-99d640f7bc11>:77: FutureWarning: DataFrame.fillna with 'method' is deprecated and will raise in a future version. Use obj.ffill() or obj.bfill() instead.\n",
            "  df.fillna(method='bfill', inplace=True)  # Backward fill\n"
          ]
        },
        {
          "output_type": "stream",
          "name": "stdout",
          "text": [
            "Processed and saved cleaned data for GLN.JO to Stocks/GLN.JO.csv\n"
          ]
        },
        {
          "output_type": "stream",
          "name": "stderr",
          "text": [
            "\r[*********************100%%**********************]  1 of 1 completed\n",
            "<ipython-input-9-99d640f7bc11>:76: FutureWarning: DataFrame.fillna with 'method' is deprecated and will raise in a future version. Use obj.ffill() or obj.bfill() instead.\n",
            "  df.fillna(method='ffill', inplace=True)  # Forward fill\n",
            "<ipython-input-9-99d640f7bc11>:77: FutureWarning: DataFrame.fillna with 'method' is deprecated and will raise in a future version. Use obj.ffill() or obj.bfill() instead.\n",
            "  df.fillna(method='bfill', inplace=True)  # Backward fill\n"
          ]
        },
        {
          "output_type": "stream",
          "name": "stdout",
          "text": [
            "Processed and saved cleaned data for GML.JO to Stocks/GML.JO.csv\n"
          ]
        },
        {
          "output_type": "stream",
          "name": "stderr",
          "text": [
            "\r[*********************100%%**********************]  1 of 1 completed\n",
            "<ipython-input-9-99d640f7bc11>:76: FutureWarning: DataFrame.fillna with 'method' is deprecated and will raise in a future version. Use obj.ffill() or obj.bfill() instead.\n",
            "  df.fillna(method='ffill', inplace=True)  # Forward fill\n",
            "<ipython-input-9-99d640f7bc11>:77: FutureWarning: DataFrame.fillna with 'method' is deprecated and will raise in a future version. Use obj.ffill() or obj.bfill() instead.\n",
            "  df.fillna(method='bfill', inplace=True)  # Backward fill\n"
          ]
        },
        {
          "output_type": "stream",
          "name": "stdout",
          "text": [
            "Processed and saved cleaned data for GND.JO to Stocks/GND.JO.csv\n"
          ]
        },
        {
          "output_type": "stream",
          "name": "stderr",
          "text": [
            "\r[*********************100%%**********************]  1 of 1 completed\n",
            "<ipython-input-9-99d640f7bc11>:76: FutureWarning: DataFrame.fillna with 'method' is deprecated and will raise in a future version. Use obj.ffill() or obj.bfill() instead.\n",
            "  df.fillna(method='ffill', inplace=True)  # Forward fill\n",
            "<ipython-input-9-99d640f7bc11>:77: FutureWarning: DataFrame.fillna with 'method' is deprecated and will raise in a future version. Use obj.ffill() or obj.bfill() instead.\n",
            "  df.fillna(method='bfill', inplace=True)  # Backward fill\n"
          ]
        },
        {
          "output_type": "stream",
          "name": "stdout",
          "text": [
            "Processed and saved cleaned data for GPL.JO to Stocks/GPL.JO.csv\n"
          ]
        },
        {
          "output_type": "stream",
          "name": "stderr",
          "text": [
            "\r[*********************100%%**********************]  1 of 1 completed\n",
            "<ipython-input-9-99d640f7bc11>:76: FutureWarning: DataFrame.fillna with 'method' is deprecated and will raise in a future version. Use obj.ffill() or obj.bfill() instead.\n",
            "  df.fillna(method='ffill', inplace=True)  # Forward fill\n",
            "<ipython-input-9-99d640f7bc11>:77: FutureWarning: DataFrame.fillna with 'method' is deprecated and will raise in a future version. Use obj.ffill() or obj.bfill() instead.\n",
            "  df.fillna(method='bfill', inplace=True)  # Backward fill\n"
          ]
        },
        {
          "output_type": "stream",
          "name": "stdout",
          "text": [
            "Processed and saved cleaned data for GRT.JO to Stocks/GRT.JO.csv\n"
          ]
        },
        {
          "output_type": "stream",
          "name": "stderr",
          "text": [
            "\r[*********************100%%**********************]  1 of 1 completed\n",
            "<ipython-input-9-99d640f7bc11>:76: FutureWarning: DataFrame.fillna with 'method' is deprecated and will raise in a future version. Use obj.ffill() or obj.bfill() instead.\n",
            "  df.fillna(method='ffill', inplace=True)  # Forward fill\n",
            "<ipython-input-9-99d640f7bc11>:77: FutureWarning: DataFrame.fillna with 'method' is deprecated and will raise in a future version. Use obj.ffill() or obj.bfill() instead.\n",
            "  df.fillna(method='bfill', inplace=True)  # Backward fill\n"
          ]
        },
        {
          "output_type": "stream",
          "name": "stdout",
          "text": [
            "Processed and saved cleaned data for GSH.JO to Stocks/GSH.JO.csv\n"
          ]
        },
        {
          "output_type": "stream",
          "name": "stderr",
          "text": [
            "\r[*********************100%%**********************]  1 of 1 completed\n",
            "<ipython-input-9-99d640f7bc11>:76: FutureWarning: DataFrame.fillna with 'method' is deprecated and will raise in a future version. Use obj.ffill() or obj.bfill() instead.\n",
            "  df.fillna(method='ffill', inplace=True)  # Forward fill\n",
            "<ipython-input-9-99d640f7bc11>:77: FutureWarning: DataFrame.fillna with 'method' is deprecated and will raise in a future version. Use obj.ffill() or obj.bfill() instead.\n",
            "  df.fillna(method='bfill', inplace=True)  # Backward fill\n"
          ]
        },
        {
          "output_type": "stream",
          "name": "stdout",
          "text": [
            "Processed and saved cleaned data for HAR.JO to Stocks/HAR.JO.csv\n"
          ]
        },
        {
          "output_type": "stream",
          "name": "stderr",
          "text": [
            "\r[*********************100%%**********************]  1 of 1 completed\n",
            "<ipython-input-9-99d640f7bc11>:76: FutureWarning: DataFrame.fillna with 'method' is deprecated and will raise in a future version. Use obj.ffill() or obj.bfill() instead.\n",
            "  df.fillna(method='ffill', inplace=True)  # Forward fill\n",
            "<ipython-input-9-99d640f7bc11>:77: FutureWarning: DataFrame.fillna with 'method' is deprecated and will raise in a future version. Use obj.ffill() or obj.bfill() instead.\n",
            "  df.fillna(method='bfill', inplace=True)  # Backward fill\n"
          ]
        },
        {
          "output_type": "stream",
          "name": "stdout",
          "text": [
            "Processed and saved cleaned data for HCI.JO to Stocks/HCI.JO.csv\n"
          ]
        },
        {
          "output_type": "stream",
          "name": "stderr",
          "text": [
            "\r[*********************100%%**********************]  1 of 1 completed\n",
            "<ipython-input-9-99d640f7bc11>:76: FutureWarning: DataFrame.fillna with 'method' is deprecated and will raise in a future version. Use obj.ffill() or obj.bfill() instead.\n",
            "  df.fillna(method='ffill', inplace=True)  # Forward fill\n",
            "<ipython-input-9-99d640f7bc11>:77: FutureWarning: DataFrame.fillna with 'method' is deprecated and will raise in a future version. Use obj.ffill() or obj.bfill() instead.\n",
            "  df.fillna(method='bfill', inplace=True)  # Backward fill\n"
          ]
        },
        {
          "output_type": "stream",
          "name": "stdout",
          "text": [
            "Processed and saved cleaned data for HDC.JO to Stocks/HDC.JO.csv\n"
          ]
        },
        {
          "output_type": "stream",
          "name": "stderr",
          "text": [
            "\r[*********************100%%**********************]  1 of 1 completed\n",
            "<ipython-input-9-99d640f7bc11>:76: FutureWarning: DataFrame.fillna with 'method' is deprecated and will raise in a future version. Use obj.ffill() or obj.bfill() instead.\n",
            "  df.fillna(method='ffill', inplace=True)  # Forward fill\n",
            "<ipython-input-9-99d640f7bc11>:77: FutureWarning: DataFrame.fillna with 'method' is deprecated and will raise in a future version. Use obj.ffill() or obj.bfill() instead.\n",
            "  df.fillna(method='bfill', inplace=True)  # Backward fill\n"
          ]
        },
        {
          "output_type": "stream",
          "name": "stdout",
          "text": [
            "Processed and saved cleaned data for HIL.JO to Stocks/HIL.JO.csv\n"
          ]
        },
        {
          "output_type": "stream",
          "name": "stderr",
          "text": [
            "\r[*********************100%%**********************]  1 of 1 completed\n",
            "<ipython-input-9-99d640f7bc11>:76: FutureWarning: DataFrame.fillna with 'method' is deprecated and will raise in a future version. Use obj.ffill() or obj.bfill() instead.\n",
            "  df.fillna(method='ffill', inplace=True)  # Forward fill\n",
            "<ipython-input-9-99d640f7bc11>:77: FutureWarning: DataFrame.fillna with 'method' is deprecated and will raise in a future version. Use obj.ffill() or obj.bfill() instead.\n",
            "  df.fillna(method='bfill', inplace=True)  # Backward fill\n"
          ]
        },
        {
          "output_type": "stream",
          "name": "stdout",
          "text": [
            "Processed and saved cleaned data for HLM.JO to Stocks/HLM.JO.csv\n"
          ]
        },
        {
          "output_type": "stream",
          "name": "stderr",
          "text": [
            "\r[*********************100%%**********************]  1 of 1 completed\n",
            "<ipython-input-9-99d640f7bc11>:76: FutureWarning: DataFrame.fillna with 'method' is deprecated and will raise in a future version. Use obj.ffill() or obj.bfill() instead.\n",
            "  df.fillna(method='ffill', inplace=True)  # Forward fill\n",
            "<ipython-input-9-99d640f7bc11>:77: FutureWarning: DataFrame.fillna with 'method' is deprecated and will raise in a future version. Use obj.ffill() or obj.bfill() instead.\n",
            "  df.fillna(method='bfill', inplace=True)  # Backward fill\n"
          ]
        },
        {
          "output_type": "stream",
          "name": "stdout",
          "text": [
            "Processed and saved cleaned data for HMN.JO to Stocks/HMN.JO.csv\n"
          ]
        },
        {
          "output_type": "stream",
          "name": "stderr",
          "text": [
            "\r[*********************100%%**********************]  1 of 1 completed\n",
            "<ipython-input-9-99d640f7bc11>:76: FutureWarning: DataFrame.fillna with 'method' is deprecated and will raise in a future version. Use obj.ffill() or obj.bfill() instead.\n",
            "  df.fillna(method='ffill', inplace=True)  # Forward fill\n",
            "<ipython-input-9-99d640f7bc11>:77: FutureWarning: DataFrame.fillna with 'method' is deprecated and will raise in a future version. Use obj.ffill() or obj.bfill() instead.\n",
            "  df.fillna(method='bfill', inplace=True)  # Backward fill\n"
          ]
        },
        {
          "output_type": "stream",
          "name": "stdout",
          "text": [
            "Processed and saved cleaned data for HUG.JO to Stocks/HUG.JO.csv\n"
          ]
        },
        {
          "output_type": "stream",
          "name": "stderr",
          "text": [
            "\r[*********************100%%**********************]  1 of 1 completed\n",
            "<ipython-input-9-99d640f7bc11>:76: FutureWarning: DataFrame.fillna with 'method' is deprecated and will raise in a future version. Use obj.ffill() or obj.bfill() instead.\n",
            "  df.fillna(method='ffill', inplace=True)  # Forward fill\n",
            "<ipython-input-9-99d640f7bc11>:77: FutureWarning: DataFrame.fillna with 'method' is deprecated and will raise in a future version. Use obj.ffill() or obj.bfill() instead.\n",
            "  df.fillna(method='bfill', inplace=True)  # Backward fill\n"
          ]
        },
        {
          "output_type": "stream",
          "name": "stdout",
          "text": [
            "Processed and saved cleaned data for HYP.JO to Stocks/HYP.JO.csv\n"
          ]
        },
        {
          "output_type": "stream",
          "name": "stderr",
          "text": [
            "\r[*********************100%%**********************]  1 of 1 completed\n",
            "<ipython-input-9-99d640f7bc11>:76: FutureWarning: DataFrame.fillna with 'method' is deprecated and will raise in a future version. Use obj.ffill() or obj.bfill() instead.\n",
            "  df.fillna(method='ffill', inplace=True)  # Forward fill\n",
            "<ipython-input-9-99d640f7bc11>:77: FutureWarning: DataFrame.fillna with 'method' is deprecated and will raise in a future version. Use obj.ffill() or obj.bfill() instead.\n",
            "  df.fillna(method='bfill', inplace=True)  # Backward fill\n"
          ]
        },
        {
          "output_type": "stream",
          "name": "stdout",
          "text": [
            "Processed and saved cleaned data for IMP.JO to Stocks/IMP.JO.csv\n"
          ]
        },
        {
          "output_type": "stream",
          "name": "stderr",
          "text": [
            "\r[*********************100%%**********************]  1 of 1 completed\n",
            "<ipython-input-9-99d640f7bc11>:76: FutureWarning: DataFrame.fillna with 'method' is deprecated and will raise in a future version. Use obj.ffill() or obj.bfill() instead.\n",
            "  df.fillna(method='ffill', inplace=True)  # Forward fill\n",
            "<ipython-input-9-99d640f7bc11>:77: FutureWarning: DataFrame.fillna with 'method' is deprecated and will raise in a future version. Use obj.ffill() or obj.bfill() instead.\n",
            "  df.fillna(method='bfill', inplace=True)  # Backward fill\n"
          ]
        },
        {
          "output_type": "stream",
          "name": "stdout",
          "text": [
            "Processed and saved cleaned data for INL.JO to Stocks/INL.JO.csv\n"
          ]
        },
        {
          "output_type": "stream",
          "name": "stderr",
          "text": [
            "\r[*********************100%%**********************]  1 of 1 completed\n",
            "<ipython-input-9-99d640f7bc11>:76: FutureWarning: DataFrame.fillna with 'method' is deprecated and will raise in a future version. Use obj.ffill() or obj.bfill() instead.\n",
            "  df.fillna(method='ffill', inplace=True)  # Forward fill\n",
            "<ipython-input-9-99d640f7bc11>:77: FutureWarning: DataFrame.fillna with 'method' is deprecated and will raise in a future version. Use obj.ffill() or obj.bfill() instead.\n",
            "  df.fillna(method='bfill', inplace=True)  # Backward fill\n"
          ]
        },
        {
          "output_type": "stream",
          "name": "stdout",
          "text": [
            "Processed and saved cleaned data for INP.JO to Stocks/INP.JO.csv\n"
          ]
        },
        {
          "output_type": "stream",
          "name": "stderr",
          "text": [
            "\r[*********************100%%**********************]  1 of 1 completed\n",
            "<ipython-input-9-99d640f7bc11>:76: FutureWarning: DataFrame.fillna with 'method' is deprecated and will raise in a future version. Use obj.ffill() or obj.bfill() instead.\n",
            "  df.fillna(method='ffill', inplace=True)  # Forward fill\n",
            "<ipython-input-9-99d640f7bc11>:76: SettingWithCopyWarning: \n",
            "A value is trying to be set on a copy of a slice from a DataFrame\n",
            "\n",
            "See the caveats in the documentation: https://pandas.pydata.org/pandas-docs/stable/user_guide/indexing.html#returning-a-view-versus-a-copy\n",
            "  df.fillna(method='ffill', inplace=True)  # Forward fill\n",
            "<ipython-input-9-99d640f7bc11>:77: FutureWarning: DataFrame.fillna with 'method' is deprecated and will raise in a future version. Use obj.ffill() or obj.bfill() instead.\n",
            "  df.fillna(method='bfill', inplace=True)  # Backward fill\n",
            "<ipython-input-9-99d640f7bc11>:77: SettingWithCopyWarning: \n",
            "A value is trying to be set on a copy of a slice from a DataFrame\n",
            "\n",
            "See the caveats in the documentation: https://pandas.pydata.org/pandas-docs/stable/user_guide/indexing.html#returning-a-view-versus-a-copy\n",
            "  df.fillna(method='bfill', inplace=True)  # Backward fill\n"
          ]
        },
        {
          "output_type": "stream",
          "name": "stdout",
          "text": [
            "Processed and saved cleaned data for ISA.JO to Stocks/ISA.JO.csv\n"
          ]
        },
        {
          "output_type": "stream",
          "name": "stderr",
          "text": [
            "\r[*********************100%%**********************]  1 of 1 completed\n",
            "<ipython-input-9-99d640f7bc11>:76: FutureWarning: DataFrame.fillna with 'method' is deprecated and will raise in a future version. Use obj.ffill() or obj.bfill() instead.\n",
            "  df.fillna(method='ffill', inplace=True)  # Forward fill\n",
            "<ipython-input-9-99d640f7bc11>:77: FutureWarning: DataFrame.fillna with 'method' is deprecated and will raise in a future version. Use obj.ffill() or obj.bfill() instead.\n",
            "  df.fillna(method='bfill', inplace=True)  # Backward fill\n"
          ]
        },
        {
          "output_type": "stream",
          "name": "stdout",
          "text": [
            "Processed and saved cleaned data for ISB.JO to Stocks/ISB.JO.csv\n"
          ]
        },
        {
          "output_type": "stream",
          "name": "stderr",
          "text": [
            "\r[*********************100%%**********************]  1 of 1 completed\n",
            "<ipython-input-9-99d640f7bc11>:76: FutureWarning: DataFrame.fillna with 'method' is deprecated and will raise in a future version. Use obj.ffill() or obj.bfill() instead.\n",
            "  df.fillna(method='ffill', inplace=True)  # Forward fill\n",
            "<ipython-input-9-99d640f7bc11>:77: FutureWarning: DataFrame.fillna with 'method' is deprecated and will raise in a future version. Use obj.ffill() or obj.bfill() instead.\n",
            "  df.fillna(method='bfill', inplace=True)  # Backward fill\n"
          ]
        },
        {
          "output_type": "stream",
          "name": "stdout",
          "text": [
            "Processed and saved cleaned data for ITE.JO to Stocks/ITE.JO.csv\n"
          ]
        },
        {
          "output_type": "stream",
          "name": "stderr",
          "text": [
            "\r[*********************100%%**********************]  1 of 1 completed\n",
            "<ipython-input-9-99d640f7bc11>:76: FutureWarning: DataFrame.fillna with 'method' is deprecated and will raise in a future version. Use obj.ffill() or obj.bfill() instead.\n",
            "  df.fillna(method='ffill', inplace=True)  # Forward fill\n",
            "<ipython-input-9-99d640f7bc11>:77: FutureWarning: DataFrame.fillna with 'method' is deprecated and will raise in a future version. Use obj.ffill() or obj.bfill() instead.\n",
            "  df.fillna(method='bfill', inplace=True)  # Backward fill\n"
          ]
        },
        {
          "output_type": "stream",
          "name": "stdout",
          "text": [
            "Processed and saved cleaned data for IVT.JO to Stocks/IVT.JO.csv\n"
          ]
        },
        {
          "output_type": "stream",
          "name": "stderr",
          "text": [
            "\r[*********************100%%**********************]  1 of 1 completed\n",
            "<ipython-input-9-99d640f7bc11>:76: FutureWarning: DataFrame.fillna with 'method' is deprecated and will raise in a future version. Use obj.ffill() or obj.bfill() instead.\n",
            "  df.fillna(method='ffill', inplace=True)  # Forward fill\n",
            "<ipython-input-9-99d640f7bc11>:77: FutureWarning: DataFrame.fillna with 'method' is deprecated and will raise in a future version. Use obj.ffill() or obj.bfill() instead.\n",
            "  df.fillna(method='bfill', inplace=True)  # Backward fill\n"
          ]
        },
        {
          "output_type": "stream",
          "name": "stdout",
          "text": [
            "Processed and saved cleaned data for JBL.JO to Stocks/JBL.JO.csv\n"
          ]
        },
        {
          "output_type": "stream",
          "name": "stderr",
          "text": [
            "\r[*********************100%%**********************]  1 of 1 completed\n",
            "<ipython-input-9-99d640f7bc11>:76: FutureWarning: DataFrame.fillna with 'method' is deprecated and will raise in a future version. Use obj.ffill() or obj.bfill() instead.\n",
            "  df.fillna(method='ffill', inplace=True)  # Forward fill\n",
            "<ipython-input-9-99d640f7bc11>:77: FutureWarning: DataFrame.fillna with 'method' is deprecated and will raise in a future version. Use obj.ffill() or obj.bfill() instead.\n",
            "  df.fillna(method='bfill', inplace=True)  # Backward fill\n"
          ]
        },
        {
          "output_type": "stream",
          "name": "stdout",
          "text": [
            "Processed and saved cleaned data for JSE.JO to Stocks/JSE.JO.csv\n"
          ]
        },
        {
          "output_type": "stream",
          "name": "stderr",
          "text": [
            "\r[*********************100%%**********************]  1 of 1 completed\n",
            "<ipython-input-9-99d640f7bc11>:76: FutureWarning: DataFrame.fillna with 'method' is deprecated and will raise in a future version. Use obj.ffill() or obj.bfill() instead.\n",
            "  df.fillna(method='ffill', inplace=True)  # Forward fill\n",
            "<ipython-input-9-99d640f7bc11>:77: FutureWarning: DataFrame.fillna with 'method' is deprecated and will raise in a future version. Use obj.ffill() or obj.bfill() instead.\n",
            "  df.fillna(method='bfill', inplace=True)  # Backward fill\n"
          ]
        },
        {
          "output_type": "stream",
          "name": "stdout",
          "text": [
            "Processed and saved cleaned data for KAL.JO to Stocks/KAL.JO.csv\n"
          ]
        },
        {
          "output_type": "stream",
          "name": "stderr",
          "text": [
            "\r[*********************100%%**********************]  1 of 1 completed\n",
            "<ipython-input-9-99d640f7bc11>:76: FutureWarning: DataFrame.fillna with 'method' is deprecated and will raise in a future version. Use obj.ffill() or obj.bfill() instead.\n",
            "  df.fillna(method='ffill', inplace=True)  # Forward fill\n",
            "<ipython-input-9-99d640f7bc11>:77: FutureWarning: DataFrame.fillna with 'method' is deprecated and will raise in a future version. Use obj.ffill() or obj.bfill() instead.\n",
            "  df.fillna(method='bfill', inplace=True)  # Backward fill\n"
          ]
        },
        {
          "output_type": "stream",
          "name": "stdout",
          "text": [
            "Processed and saved cleaned data for KAP.JO to Stocks/KAP.JO.csv\n"
          ]
        },
        {
          "output_type": "stream",
          "name": "stderr",
          "text": [
            "\r[*********************100%%**********************]  1 of 1 completed\n",
            "<ipython-input-9-99d640f7bc11>:76: FutureWarning: DataFrame.fillna with 'method' is deprecated and will raise in a future version. Use obj.ffill() or obj.bfill() instead.\n",
            "  df.fillna(method='ffill', inplace=True)  # Forward fill\n",
            "<ipython-input-9-99d640f7bc11>:77: FutureWarning: DataFrame.fillna with 'method' is deprecated and will raise in a future version. Use obj.ffill() or obj.bfill() instead.\n",
            "  df.fillna(method='bfill', inplace=True)  # Backward fill\n"
          ]
        },
        {
          "output_type": "stream",
          "name": "stdout",
          "text": [
            "Processed and saved cleaned data for KBO.JO to Stocks/KBO.JO.csv\n"
          ]
        },
        {
          "output_type": "stream",
          "name": "stderr",
          "text": [
            "\r[*********************100%%**********************]  1 of 1 completed\n",
            "<ipython-input-9-99d640f7bc11>:76: FutureWarning: DataFrame.fillna with 'method' is deprecated and will raise in a future version. Use obj.ffill() or obj.bfill() instead.\n",
            "  df.fillna(method='ffill', inplace=True)  # Forward fill\n",
            "<ipython-input-9-99d640f7bc11>:77: FutureWarning: DataFrame.fillna with 'method' is deprecated and will raise in a future version. Use obj.ffill() or obj.bfill() instead.\n",
            "  df.fillna(method='bfill', inplace=True)  # Backward fill\n"
          ]
        },
        {
          "output_type": "stream",
          "name": "stdout",
          "text": [
            "Processed and saved cleaned data for KIO.JO to Stocks/KIO.JO.csv\n"
          ]
        },
        {
          "output_type": "stream",
          "name": "stderr",
          "text": [
            "\r[*********************100%%**********************]  1 of 1 completed\n",
            "<ipython-input-9-99d640f7bc11>:76: FutureWarning: DataFrame.fillna with 'method' is deprecated and will raise in a future version. Use obj.ffill() or obj.bfill() instead.\n",
            "  df.fillna(method='ffill', inplace=True)  # Forward fill\n",
            "<ipython-input-9-99d640f7bc11>:77: FutureWarning: DataFrame.fillna with 'method' is deprecated and will raise in a future version. Use obj.ffill() or obj.bfill() instead.\n",
            "  df.fillna(method='bfill', inplace=True)  # Backward fill\n"
          ]
        },
        {
          "output_type": "stream",
          "name": "stdout",
          "text": [
            "Processed and saved cleaned data for KP2.JO to Stocks/KP2.JO.csv\n"
          ]
        },
        {
          "output_type": "stream",
          "name": "stderr",
          "text": [
            "\r[*********************100%%**********************]  1 of 1 completed\n",
            "<ipython-input-9-99d640f7bc11>:76: FutureWarning: DataFrame.fillna with 'method' is deprecated and will raise in a future version. Use obj.ffill() or obj.bfill() instead.\n",
            "  df.fillna(method='ffill', inplace=True)  # Forward fill\n",
            "<ipython-input-9-99d640f7bc11>:77: FutureWarning: DataFrame.fillna with 'method' is deprecated and will raise in a future version. Use obj.ffill() or obj.bfill() instead.\n",
            "  df.fillna(method='bfill', inplace=True)  # Backward fill\n"
          ]
        },
        {
          "output_type": "stream",
          "name": "stdout",
          "text": [
            "Processed and saved cleaned data for KRO.JO to Stocks/KRO.JO.csv\n"
          ]
        },
        {
          "output_type": "stream",
          "name": "stderr",
          "text": [
            "\r[*********************100%%**********************]  1 of 1 completed\n",
            "<ipython-input-9-99d640f7bc11>:76: FutureWarning: DataFrame.fillna with 'method' is deprecated and will raise in a future version. Use obj.ffill() or obj.bfill() instead.\n",
            "  df.fillna(method='ffill', inplace=True)  # Forward fill\n",
            "<ipython-input-9-99d640f7bc11>:77: FutureWarning: DataFrame.fillna with 'method' is deprecated and will raise in a future version. Use obj.ffill() or obj.bfill() instead.\n",
            "  df.fillna(method='bfill', inplace=True)  # Backward fill\n"
          ]
        },
        {
          "output_type": "stream",
          "name": "stdout",
          "text": [
            "Processed and saved cleaned data for KST.JO to Stocks/KST.JO.csv\n"
          ]
        },
        {
          "output_type": "stream",
          "name": "stderr",
          "text": [
            "\r[*********************100%%**********************]  1 of 1 completed\n",
            "<ipython-input-9-99d640f7bc11>:76: FutureWarning: DataFrame.fillna with 'method' is deprecated and will raise in a future version. Use obj.ffill() or obj.bfill() instead.\n",
            "  df.fillna(method='ffill', inplace=True)  # Forward fill\n",
            "<ipython-input-9-99d640f7bc11>:77: FutureWarning: DataFrame.fillna with 'method' is deprecated and will raise in a future version. Use obj.ffill() or obj.bfill() instead.\n",
            "  df.fillna(method='bfill', inplace=True)  # Backward fill\n"
          ]
        },
        {
          "output_type": "stream",
          "name": "stdout",
          "text": [
            "Processed and saved cleaned data for LAB.JO to Stocks/LAB.JO.csv\n"
          ]
        },
        {
          "output_type": "stream",
          "name": "stderr",
          "text": [
            "\r[*********************100%%**********************]  1 of 1 completed\n",
            "<ipython-input-9-99d640f7bc11>:76: FutureWarning: DataFrame.fillna with 'method' is deprecated and will raise in a future version. Use obj.ffill() or obj.bfill() instead.\n",
            "  df.fillna(method='ffill', inplace=True)  # Forward fill\n",
            "<ipython-input-9-99d640f7bc11>:77: FutureWarning: DataFrame.fillna with 'method' is deprecated and will raise in a future version. Use obj.ffill() or obj.bfill() instead.\n",
            "  df.fillna(method='bfill', inplace=True)  # Backward fill\n"
          ]
        },
        {
          "output_type": "stream",
          "name": "stdout",
          "text": [
            "Processed and saved cleaned data for LBR.JO to Stocks/LBR.JO.csv\n"
          ]
        },
        {
          "output_type": "stream",
          "name": "stderr",
          "text": [
            "\r[*********************100%%**********************]  1 of 1 completed\n",
            "<ipython-input-9-99d640f7bc11>:76: FutureWarning: DataFrame.fillna with 'method' is deprecated and will raise in a future version. Use obj.ffill() or obj.bfill() instead.\n",
            "  df.fillna(method='ffill', inplace=True)  # Forward fill\n",
            "<ipython-input-9-99d640f7bc11>:77: FutureWarning: DataFrame.fillna with 'method' is deprecated and will raise in a future version. Use obj.ffill() or obj.bfill() instead.\n",
            "  df.fillna(method='bfill', inplace=True)  # Backward fill\n"
          ]
        },
        {
          "output_type": "stream",
          "name": "stdout",
          "text": [
            "Processed and saved cleaned data for LEW.JO to Stocks/LEW.JO.csv\n"
          ]
        },
        {
          "output_type": "stream",
          "name": "stderr",
          "text": [
            "\r[*********************100%%**********************]  1 of 1 completed\n",
            "<ipython-input-9-99d640f7bc11>:76: FutureWarning: DataFrame.fillna with 'method' is deprecated and will raise in a future version. Use obj.ffill() or obj.bfill() instead.\n",
            "  df.fillna(method='ffill', inplace=True)  # Forward fill\n",
            "<ipython-input-9-99d640f7bc11>:77: FutureWarning: DataFrame.fillna with 'method' is deprecated and will raise in a future version. Use obj.ffill() or obj.bfill() instead.\n",
            "  df.fillna(method='bfill', inplace=True)  # Backward fill\n"
          ]
        },
        {
          "output_type": "stream",
          "name": "stdout",
          "text": [
            "Processed and saved cleaned data for LHC.JO to Stocks/LHC.JO.csv\n"
          ]
        },
        {
          "output_type": "stream",
          "name": "stderr",
          "text": [
            "\r[*********************100%%**********************]  1 of 1 completed\n",
            "<ipython-input-9-99d640f7bc11>:76: FutureWarning: DataFrame.fillna with 'method' is deprecated and will raise in a future version. Use obj.ffill() or obj.bfill() instead.\n",
            "  df.fillna(method='ffill', inplace=True)  # Forward fill\n",
            "<ipython-input-9-99d640f7bc11>:77: FutureWarning: DataFrame.fillna with 'method' is deprecated and will raise in a future version. Use obj.ffill() or obj.bfill() instead.\n",
            "  df.fillna(method='bfill', inplace=True)  # Backward fill\n"
          ]
        },
        {
          "output_type": "stream",
          "name": "stdout",
          "text": [
            "Processed and saved cleaned data for LSK.JO to Stocks/LSK.JO.csv\n"
          ]
        },
        {
          "output_type": "stream",
          "name": "stderr",
          "text": [
            "\r[*********************100%%**********************]  1 of 1 completed\n",
            "<ipython-input-9-99d640f7bc11>:76: FutureWarning: DataFrame.fillna with 'method' is deprecated and will raise in a future version. Use obj.ffill() or obj.bfill() instead.\n",
            "  df.fillna(method='ffill', inplace=True)  # Forward fill\n",
            "<ipython-input-9-99d640f7bc11>:77: FutureWarning: DataFrame.fillna with 'method' is deprecated and will raise in a future version. Use obj.ffill() or obj.bfill() instead.\n",
            "  df.fillna(method='bfill', inplace=True)  # Backward fill\n"
          ]
        },
        {
          "output_type": "stream",
          "name": "stdout",
          "text": [
            "Processed and saved cleaned data for LTE.JO to Stocks/LTE.JO.csv\n"
          ]
        },
        {
          "output_type": "stream",
          "name": "stderr",
          "text": [
            "\r[*********************100%%**********************]  1 of 1 completed\n",
            "<ipython-input-9-99d640f7bc11>:76: FutureWarning: DataFrame.fillna with 'method' is deprecated and will raise in a future version. Use obj.ffill() or obj.bfill() instead.\n",
            "  df.fillna(method='ffill', inplace=True)  # Forward fill\n",
            "<ipython-input-9-99d640f7bc11>:77: FutureWarning: DataFrame.fillna with 'method' is deprecated and will raise in a future version. Use obj.ffill() or obj.bfill() instead.\n",
            "  df.fillna(method='bfill', inplace=True)  # Backward fill\n"
          ]
        },
        {
          "output_type": "stream",
          "name": "stdout",
          "text": [
            "Processed and saved cleaned data for MCG.JO to Stocks/MCG.JO.csv\n"
          ]
        },
        {
          "output_type": "stream",
          "name": "stderr",
          "text": [
            "\r[*********************100%%**********************]  1 of 1 completed\n",
            "<ipython-input-9-99d640f7bc11>:76: FutureWarning: DataFrame.fillna with 'method' is deprecated and will raise in a future version. Use obj.ffill() or obj.bfill() instead.\n",
            "  df.fillna(method='ffill', inplace=True)  # Forward fill\n",
            "<ipython-input-9-99d640f7bc11>:77: FutureWarning: DataFrame.fillna with 'method' is deprecated and will raise in a future version. Use obj.ffill() or obj.bfill() instead.\n",
            "  df.fillna(method='bfill', inplace=True)  # Backward fill\n"
          ]
        },
        {
          "output_type": "stream",
          "name": "stdout",
          "text": [
            "Processed and saved cleaned data for MCZ.JO to Stocks/MCZ.JO.csv\n"
          ]
        },
        {
          "output_type": "stream",
          "name": "stderr",
          "text": [
            "\r[*********************100%%**********************]  1 of 1 completed\n",
            "<ipython-input-9-99d640f7bc11>:76: FutureWarning: DataFrame.fillna with 'method' is deprecated and will raise in a future version. Use obj.ffill() or obj.bfill() instead.\n",
            "  df.fillna(method='ffill', inplace=True)  # Forward fill\n",
            "<ipython-input-9-99d640f7bc11>:77: FutureWarning: DataFrame.fillna with 'method' is deprecated and will raise in a future version. Use obj.ffill() or obj.bfill() instead.\n",
            "  df.fillna(method='bfill', inplace=True)  # Backward fill\n"
          ]
        },
        {
          "output_type": "stream",
          "name": "stdout",
          "text": [
            "Processed and saved cleaned data for MDI.JO to Stocks/MDI.JO.csv\n"
          ]
        },
        {
          "output_type": "stream",
          "name": "stderr",
          "text": [
            "\r[*********************100%%**********************]  1 of 1 completed\n",
            "<ipython-input-9-99d640f7bc11>:76: FutureWarning: DataFrame.fillna with 'method' is deprecated and will raise in a future version. Use obj.ffill() or obj.bfill() instead.\n",
            "  df.fillna(method='ffill', inplace=True)  # Forward fill\n",
            "<ipython-input-9-99d640f7bc11>:77: FutureWarning: DataFrame.fillna with 'method' is deprecated and will raise in a future version. Use obj.ffill() or obj.bfill() instead.\n",
            "  df.fillna(method='bfill', inplace=True)  # Backward fill\n"
          ]
        },
        {
          "output_type": "stream",
          "name": "stdout",
          "text": [
            "Processed and saved cleaned data for MFL.JO to Stocks/MFL.JO.csv\n"
          ]
        },
        {
          "output_type": "stream",
          "name": "stderr",
          "text": [
            "\r[*********************100%%**********************]  1 of 1 completed\n",
            "<ipython-input-9-99d640f7bc11>:76: FutureWarning: DataFrame.fillna with 'method' is deprecated and will raise in a future version. Use obj.ffill() or obj.bfill() instead.\n",
            "  df.fillna(method='ffill', inplace=True)  # Forward fill\n",
            "<ipython-input-9-99d640f7bc11>:77: FutureWarning: DataFrame.fillna with 'method' is deprecated and will raise in a future version. Use obj.ffill() or obj.bfill() instead.\n",
            "  df.fillna(method='bfill', inplace=True)  # Backward fill\n"
          ]
        },
        {
          "output_type": "stream",
          "name": "stdout",
          "text": [
            "Processed and saved cleaned data for MHB.JO to Stocks/MHB.JO.csv\n"
          ]
        },
        {
          "output_type": "stream",
          "name": "stderr",
          "text": [
            "\r[*********************100%%**********************]  1 of 1 completed\n",
            "<ipython-input-9-99d640f7bc11>:76: FutureWarning: DataFrame.fillna with 'method' is deprecated and will raise in a future version. Use obj.ffill() or obj.bfill() instead.\n",
            "  df.fillna(method='ffill', inplace=True)  # Forward fill\n",
            "<ipython-input-9-99d640f7bc11>:77: FutureWarning: DataFrame.fillna with 'method' is deprecated and will raise in a future version. Use obj.ffill() or obj.bfill() instead.\n",
            "  df.fillna(method='bfill', inplace=True)  # Backward fill\n"
          ]
        },
        {
          "output_type": "stream",
          "name": "stdout",
          "text": [
            "Processed and saved cleaned data for MKR.JO to Stocks/MKR.JO.csv\n"
          ]
        },
        {
          "output_type": "stream",
          "name": "stderr",
          "text": [
            "\r[*********************100%%**********************]  1 of 1 completed\n",
            "<ipython-input-9-99d640f7bc11>:76: FutureWarning: DataFrame.fillna with 'method' is deprecated and will raise in a future version. Use obj.ffill() or obj.bfill() instead.\n",
            "  df.fillna(method='ffill', inplace=True)  # Forward fill\n",
            "<ipython-input-9-99d640f7bc11>:77: FutureWarning: DataFrame.fillna with 'method' is deprecated and will raise in a future version. Use obj.ffill() or obj.bfill() instead.\n",
            "  df.fillna(method='bfill', inplace=True)  # Backward fill\n"
          ]
        },
        {
          "output_type": "stream",
          "name": "stdout",
          "text": [
            "Processed and saved cleaned data for MMP.JO to Stocks/MMP.JO.csv\n"
          ]
        },
        {
          "output_type": "stream",
          "name": "stderr",
          "text": [
            "\r[*********************100%%**********************]  1 of 1 completed\n",
            "<ipython-input-9-99d640f7bc11>:76: FutureWarning: DataFrame.fillna with 'method' is deprecated and will raise in a future version. Use obj.ffill() or obj.bfill() instead.\n",
            "  df.fillna(method='ffill', inplace=True)  # Forward fill\n",
            "<ipython-input-9-99d640f7bc11>:77: FutureWarning: DataFrame.fillna with 'method' is deprecated and will raise in a future version. Use obj.ffill() or obj.bfill() instead.\n",
            "  df.fillna(method='bfill', inplace=True)  # Backward fill\n"
          ]
        },
        {
          "output_type": "stream",
          "name": "stdout",
          "text": [
            "Processed and saved cleaned data for MNP.JO to Stocks/MNP.JO.csv\n"
          ]
        },
        {
          "output_type": "stream",
          "name": "stderr",
          "text": [
            "\r[*********************100%%**********************]  1 of 1 completed\n",
            "<ipython-input-9-99d640f7bc11>:76: FutureWarning: DataFrame.fillna with 'method' is deprecated and will raise in a future version. Use obj.ffill() or obj.bfill() instead.\n",
            "  df.fillna(method='ffill', inplace=True)  # Forward fill\n",
            "<ipython-input-9-99d640f7bc11>:77: FutureWarning: DataFrame.fillna with 'method' is deprecated and will raise in a future version. Use obj.ffill() or obj.bfill() instead.\n",
            "  df.fillna(method='bfill', inplace=True)  # Backward fill\n"
          ]
        },
        {
          "output_type": "stream",
          "name": "stdout",
          "text": [
            "Processed and saved cleaned data for MPT.JO to Stocks/MPT.JO.csv\n"
          ]
        },
        {
          "output_type": "stream",
          "name": "stderr",
          "text": [
            "\r[*********************100%%**********************]  1 of 1 completed\n",
            "<ipython-input-9-99d640f7bc11>:76: FutureWarning: DataFrame.fillna with 'method' is deprecated and will raise in a future version. Use obj.ffill() or obj.bfill() instead.\n",
            "  df.fillna(method='ffill', inplace=True)  # Forward fill\n",
            "<ipython-input-9-99d640f7bc11>:77: FutureWarning: DataFrame.fillna with 'method' is deprecated and will raise in a future version. Use obj.ffill() or obj.bfill() instead.\n",
            "  df.fillna(method='bfill', inplace=True)  # Backward fill\n"
          ]
        },
        {
          "output_type": "stream",
          "name": "stdout",
          "text": [
            "Processed and saved cleaned data for MRF.JO to Stocks/MRF.JO.csv\n"
          ]
        },
        {
          "output_type": "stream",
          "name": "stderr",
          "text": [
            "\r[*********************100%%**********************]  1 of 1 completed\n",
            "<ipython-input-9-99d640f7bc11>:76: FutureWarning: DataFrame.fillna with 'method' is deprecated and will raise in a future version. Use obj.ffill() or obj.bfill() instead.\n",
            "  df.fillna(method='ffill', inplace=True)  # Forward fill\n",
            "<ipython-input-9-99d640f7bc11>:77: FutureWarning: DataFrame.fillna with 'method' is deprecated and will raise in a future version. Use obj.ffill() or obj.bfill() instead.\n",
            "  df.fillna(method='bfill', inplace=True)  # Backward fill\n"
          ]
        },
        {
          "output_type": "stream",
          "name": "stdout",
          "text": [
            "Processed and saved cleaned data for MRP.JO to Stocks/MRP.JO.csv\n"
          ]
        },
        {
          "output_type": "stream",
          "name": "stderr",
          "text": [
            "\r[*********************100%%**********************]  1 of 1 completed\n",
            "<ipython-input-9-99d640f7bc11>:76: FutureWarning: DataFrame.fillna with 'method' is deprecated and will raise in a future version. Use obj.ffill() or obj.bfill() instead.\n",
            "  df.fillna(method='ffill', inplace=True)  # Forward fill\n",
            "<ipython-input-9-99d640f7bc11>:77: FutureWarning: DataFrame.fillna with 'method' is deprecated and will raise in a future version. Use obj.ffill() or obj.bfill() instead.\n",
            "  df.fillna(method='bfill', inplace=True)  # Backward fill\n"
          ]
        },
        {
          "output_type": "stream",
          "name": "stdout",
          "text": [
            "Processed and saved cleaned data for MSP.JO to Stocks/MSP.JO.csv\n"
          ]
        },
        {
          "output_type": "stream",
          "name": "stderr",
          "text": [
            "\r[*********************100%%**********************]  1 of 1 completed\n",
            "<ipython-input-9-99d640f7bc11>:76: FutureWarning: DataFrame.fillna with 'method' is deprecated and will raise in a future version. Use obj.ffill() or obj.bfill() instead.\n",
            "  df.fillna(method='ffill', inplace=True)  # Forward fill\n",
            "<ipython-input-9-99d640f7bc11>:77: FutureWarning: DataFrame.fillna with 'method' is deprecated and will raise in a future version. Use obj.ffill() or obj.bfill() instead.\n",
            "  df.fillna(method='bfill', inplace=True)  # Backward fill\n"
          ]
        },
        {
          "output_type": "stream",
          "name": "stdout",
          "text": [
            "Processed and saved cleaned data for MST.JO to Stocks/MST.JO.csv\n"
          ]
        },
        {
          "output_type": "stream",
          "name": "stderr",
          "text": [
            "\r[*********************100%%**********************]  1 of 1 completed\n",
            "<ipython-input-9-99d640f7bc11>:76: FutureWarning: DataFrame.fillna with 'method' is deprecated and will raise in a future version. Use obj.ffill() or obj.bfill() instead.\n",
            "  df.fillna(method='ffill', inplace=True)  # Forward fill\n",
            "<ipython-input-9-99d640f7bc11>:77: FutureWarning: DataFrame.fillna with 'method' is deprecated and will raise in a future version. Use obj.ffill() or obj.bfill() instead.\n",
            "  df.fillna(method='bfill', inplace=True)  # Backward fill\n"
          ]
        },
        {
          "output_type": "stream",
          "name": "stdout",
          "text": [
            "Processed and saved cleaned data for MTA.JO to Stocks/MTA.JO.csv\n"
          ]
        },
        {
          "output_type": "stream",
          "name": "stderr",
          "text": [
            "\r[*********************100%%**********************]  1 of 1 completed\n",
            "<ipython-input-9-99d640f7bc11>:76: FutureWarning: DataFrame.fillna with 'method' is deprecated and will raise in a future version. Use obj.ffill() or obj.bfill() instead.\n",
            "  df.fillna(method='ffill', inplace=True)  # Forward fill\n",
            "<ipython-input-9-99d640f7bc11>:77: FutureWarning: DataFrame.fillna with 'method' is deprecated and will raise in a future version. Use obj.ffill() or obj.bfill() instead.\n",
            "  df.fillna(method='bfill', inplace=True)  # Backward fill\n"
          ]
        },
        {
          "output_type": "stream",
          "name": "stdout",
          "text": [
            "Processed and saved cleaned data for MTH.JO to Stocks/MTH.JO.csv\n"
          ]
        },
        {
          "output_type": "stream",
          "name": "stderr",
          "text": [
            "\r[*********************100%%**********************]  1 of 1 completed\n",
            "<ipython-input-9-99d640f7bc11>:76: FutureWarning: DataFrame.fillna with 'method' is deprecated and will raise in a future version. Use obj.ffill() or obj.bfill() instead.\n",
            "  df.fillna(method='ffill', inplace=True)  # Forward fill\n",
            "<ipython-input-9-99d640f7bc11>:77: FutureWarning: DataFrame.fillna with 'method' is deprecated and will raise in a future version. Use obj.ffill() or obj.bfill() instead.\n",
            "  df.fillna(method='bfill', inplace=True)  # Backward fill\n"
          ]
        },
        {
          "output_type": "stream",
          "name": "stdout",
          "text": [
            "Processed and saved cleaned data for MTM.JO to Stocks/MTM.JO.csv\n"
          ]
        },
        {
          "output_type": "stream",
          "name": "stderr",
          "text": [
            "\r[*********************100%%**********************]  1 of 1 completed\n",
            "<ipython-input-9-99d640f7bc11>:76: FutureWarning: DataFrame.fillna with 'method' is deprecated and will raise in a future version. Use obj.ffill() or obj.bfill() instead.\n",
            "  df.fillna(method='ffill', inplace=True)  # Forward fill\n",
            "<ipython-input-9-99d640f7bc11>:77: FutureWarning: DataFrame.fillna with 'method' is deprecated and will raise in a future version. Use obj.ffill() or obj.bfill() instead.\n",
            "  df.fillna(method='bfill', inplace=True)  # Backward fill\n"
          ]
        },
        {
          "output_type": "stream",
          "name": "stdout",
          "text": [
            "Processed and saved cleaned data for MTN.JO to Stocks/MTN.JO.csv\n"
          ]
        },
        {
          "output_type": "stream",
          "name": "stderr",
          "text": [
            "\r[*********************100%%**********************]  1 of 1 completed\n",
            "<ipython-input-9-99d640f7bc11>:76: FutureWarning: DataFrame.fillna with 'method' is deprecated and will raise in a future version. Use obj.ffill() or obj.bfill() instead.\n",
            "  df.fillna(method='ffill', inplace=True)  # Forward fill\n",
            "<ipython-input-9-99d640f7bc11>:77: FutureWarning: DataFrame.fillna with 'method' is deprecated and will raise in a future version. Use obj.ffill() or obj.bfill() instead.\n",
            "  df.fillna(method='bfill', inplace=True)  # Backward fill\n"
          ]
        },
        {
          "output_type": "stream",
          "name": "stdout",
          "text": [
            "Processed and saved cleaned data for MTU.JO to Stocks/MTU.JO.csv\n"
          ]
        },
        {
          "output_type": "stream",
          "name": "stderr",
          "text": [
            "\r[*********************100%%**********************]  1 of 1 completed\n",
            "<ipython-input-9-99d640f7bc11>:76: FutureWarning: DataFrame.fillna with 'method' is deprecated and will raise in a future version. Use obj.ffill() or obj.bfill() instead.\n",
            "  df.fillna(method='ffill', inplace=True)  # Forward fill\n",
            "<ipython-input-9-99d640f7bc11>:77: FutureWarning: DataFrame.fillna with 'method' is deprecated and will raise in a future version. Use obj.ffill() or obj.bfill() instead.\n",
            "  df.fillna(method='bfill', inplace=True)  # Backward fill\n"
          ]
        },
        {
          "output_type": "stream",
          "name": "stdout",
          "text": [
            "Processed and saved cleaned data for MUR.JO to Stocks/MUR.JO.csv\n"
          ]
        },
        {
          "output_type": "stream",
          "name": "stderr",
          "text": [
            "\r[*********************100%%**********************]  1 of 1 completed\n",
            "<ipython-input-9-99d640f7bc11>:76: FutureWarning: DataFrame.fillna with 'method' is deprecated and will raise in a future version. Use obj.ffill() or obj.bfill() instead.\n",
            "  df.fillna(method='ffill', inplace=True)  # Forward fill\n",
            "<ipython-input-9-99d640f7bc11>:77: FutureWarning: DataFrame.fillna with 'method' is deprecated and will raise in a future version. Use obj.ffill() or obj.bfill() instead.\n",
            "  df.fillna(method='bfill', inplace=True)  # Backward fill\n"
          ]
        },
        {
          "output_type": "stream",
          "name": "stdout",
          "text": [
            "Processed and saved cleaned data for N91.JO to Stocks/N91.JO.csv\n"
          ]
        },
        {
          "output_type": "stream",
          "name": "stderr",
          "text": [
            "\r[*********************100%%**********************]  1 of 1 completed\n",
            "<ipython-input-9-99d640f7bc11>:76: FutureWarning: DataFrame.fillna with 'method' is deprecated and will raise in a future version. Use obj.ffill() or obj.bfill() instead.\n",
            "  df.fillna(method='ffill', inplace=True)  # Forward fill\n",
            "<ipython-input-9-99d640f7bc11>:77: FutureWarning: DataFrame.fillna with 'method' is deprecated and will raise in a future version. Use obj.ffill() or obj.bfill() instead.\n",
            "  df.fillna(method='bfill', inplace=True)  # Backward fill\n"
          ]
        },
        {
          "output_type": "stream",
          "name": "stdout",
          "text": [
            "Processed and saved cleaned data for NCS.JO to Stocks/NCS.JO.csv\n"
          ]
        },
        {
          "output_type": "stream",
          "name": "stderr",
          "text": [
            "\r[*********************100%%**********************]  1 of 1 completed\n",
            "<ipython-input-9-99d640f7bc11>:76: FutureWarning: DataFrame.fillna with 'method' is deprecated and will raise in a future version. Use obj.ffill() or obj.bfill() instead.\n",
            "  df.fillna(method='ffill', inplace=True)  # Forward fill\n",
            "<ipython-input-9-99d640f7bc11>:77: FutureWarning: DataFrame.fillna with 'method' is deprecated and will raise in a future version. Use obj.ffill() or obj.bfill() instead.\n",
            "  df.fillna(method='bfill', inplace=True)  # Backward fill\n"
          ]
        },
        {
          "output_type": "stream",
          "name": "stdout",
          "text": [
            "Processed and saved cleaned data for NED.JO to Stocks/NED.JO.csv\n"
          ]
        },
        {
          "output_type": "stream",
          "name": "stderr",
          "text": [
            "\r[*********************100%%**********************]  1 of 1 completed\n",
            "<ipython-input-9-99d640f7bc11>:76: FutureWarning: DataFrame.fillna with 'method' is deprecated and will raise in a future version. Use obj.ffill() or obj.bfill() instead.\n",
            "  df.fillna(method='ffill', inplace=True)  # Forward fill\n",
            "<ipython-input-9-99d640f7bc11>:77: FutureWarning: DataFrame.fillna with 'method' is deprecated and will raise in a future version. Use obj.ffill() or obj.bfill() instead.\n",
            "  df.fillna(method='bfill', inplace=True)  # Backward fill\n"
          ]
        },
        {
          "output_type": "stream",
          "name": "stdout",
          "text": [
            "Processed and saved cleaned data for NPH.JO to Stocks/NPH.JO.csv\n"
          ]
        },
        {
          "output_type": "stream",
          "name": "stderr",
          "text": [
            "\r[*********************100%%**********************]  1 of 1 completed\n",
            "<ipython-input-9-99d640f7bc11>:76: FutureWarning: DataFrame.fillna with 'method' is deprecated and will raise in a future version. Use obj.ffill() or obj.bfill() instead.\n",
            "  df.fillna(method='ffill', inplace=True)  # Forward fill\n",
            "<ipython-input-9-99d640f7bc11>:77: FutureWarning: DataFrame.fillna with 'method' is deprecated and will raise in a future version. Use obj.ffill() or obj.bfill() instead.\n",
            "  df.fillna(method='bfill', inplace=True)  # Backward fill\n"
          ]
        },
        {
          "output_type": "stream",
          "name": "stdout",
          "text": [
            "Processed and saved cleaned data for NPK.JO to Stocks/NPK.JO.csv\n"
          ]
        },
        {
          "output_type": "stream",
          "name": "stderr",
          "text": [
            "\r[*********************100%%**********************]  1 of 1 completed\n",
            "<ipython-input-9-99d640f7bc11>:76: FutureWarning: DataFrame.fillna with 'method' is deprecated and will raise in a future version. Use obj.ffill() or obj.bfill() instead.\n",
            "  df.fillna(method='ffill', inplace=True)  # Forward fill\n",
            "<ipython-input-9-99d640f7bc11>:77: FutureWarning: DataFrame.fillna with 'method' is deprecated and will raise in a future version. Use obj.ffill() or obj.bfill() instead.\n",
            "  df.fillna(method='bfill', inplace=True)  # Backward fill\n"
          ]
        },
        {
          "output_type": "stream",
          "name": "stdout",
          "text": [
            "Processed and saved cleaned data for NPN.JO to Stocks/NPN.JO.csv\n"
          ]
        },
        {
          "output_type": "stream",
          "name": "stderr",
          "text": [
            "\r[*********************100%%**********************]  1 of 1 completed\n",
            "<ipython-input-9-99d640f7bc11>:76: FutureWarning: DataFrame.fillna with 'method' is deprecated and will raise in a future version. Use obj.ffill() or obj.bfill() instead.\n",
            "  df.fillna(method='ffill', inplace=True)  # Forward fill\n",
            "<ipython-input-9-99d640f7bc11>:77: FutureWarning: DataFrame.fillna with 'method' is deprecated and will raise in a future version. Use obj.ffill() or obj.bfill() instead.\n",
            "  df.fillna(method='bfill', inplace=True)  # Backward fill\n"
          ]
        },
        {
          "output_type": "stream",
          "name": "stdout",
          "text": [
            "Processed and saved cleaned data for NRP.JO to Stocks/NRP.JO.csv\n"
          ]
        },
        {
          "output_type": "stream",
          "name": "stderr",
          "text": [
            "\r[*********************100%%**********************]  1 of 1 completed\n",
            "<ipython-input-9-99d640f7bc11>:76: FutureWarning: DataFrame.fillna with 'method' is deprecated and will raise in a future version. Use obj.ffill() or obj.bfill() instead.\n",
            "  df.fillna(method='ffill', inplace=True)  # Forward fill\n",
            "<ipython-input-9-99d640f7bc11>:77: FutureWarning: DataFrame.fillna with 'method' is deprecated and will raise in a future version. Use obj.ffill() or obj.bfill() instead.\n",
            "  df.fillna(method='bfill', inplace=True)  # Backward fill\n"
          ]
        },
        {
          "output_type": "stream",
          "name": "stdout",
          "text": [
            "Processed and saved cleaned data for NTC.JO to Stocks/NTC.JO.csv\n"
          ]
        },
        {
          "output_type": "stream",
          "name": "stderr",
          "text": [
            "\r[*********************100%%**********************]  1 of 1 completed\n",
            "<ipython-input-9-99d640f7bc11>:76: FutureWarning: DataFrame.fillna with 'method' is deprecated and will raise in a future version. Use obj.ffill() or obj.bfill() instead.\n",
            "  df.fillna(method='ffill', inplace=True)  # Forward fill\n",
            "<ipython-input-9-99d640f7bc11>:77: FutureWarning: DataFrame.fillna with 'method' is deprecated and will raise in a future version. Use obj.ffill() or obj.bfill() instead.\n",
            "  df.fillna(method='bfill', inplace=True)  # Backward fill\n"
          ]
        },
        {
          "output_type": "stream",
          "name": "stdout",
          "text": [
            "Processed and saved cleaned data for NVS.JO to Stocks/NVS.JO.csv\n"
          ]
        },
        {
          "output_type": "stream",
          "name": "stderr",
          "text": [
            "\r[*********************100%%**********************]  1 of 1 completed\n",
            "<ipython-input-9-99d640f7bc11>:76: FutureWarning: DataFrame.fillna with 'method' is deprecated and will raise in a future version. Use obj.ffill() or obj.bfill() instead.\n",
            "  df.fillna(method='ffill', inplace=True)  # Forward fill\n",
            "<ipython-input-9-99d640f7bc11>:77: FutureWarning: DataFrame.fillna with 'method' is deprecated and will raise in a future version. Use obj.ffill() or obj.bfill() instead.\n",
            "  df.fillna(method='bfill', inplace=True)  # Backward fill\n"
          ]
        },
        {
          "output_type": "stream",
          "name": "stdout",
          "text": [
            "Processed and saved cleaned data for NWL.JO to Stocks/NWL.JO.csv\n"
          ]
        },
        {
          "output_type": "stream",
          "name": "stderr",
          "text": [
            "\r[*********************100%%**********************]  1 of 1 completed\n",
            "<ipython-input-9-99d640f7bc11>:76: FutureWarning: DataFrame.fillna with 'method' is deprecated and will raise in a future version. Use obj.ffill() or obj.bfill() instead.\n",
            "  df.fillna(method='ffill', inplace=True)  # Forward fill\n",
            "<ipython-input-9-99d640f7bc11>:77: FutureWarning: DataFrame.fillna with 'method' is deprecated and will raise in a future version. Use obj.ffill() or obj.bfill() instead.\n",
            "  df.fillna(method='bfill', inplace=True)  # Backward fill\n"
          ]
        },
        {
          "output_type": "stream",
          "name": "stdout",
          "text": [
            "Processed and saved cleaned data for NY1.JO to Stocks/NY1.JO.csv\n"
          ]
        },
        {
          "output_type": "stream",
          "name": "stderr",
          "text": [
            "\r[*********************100%%**********************]  1 of 1 completed\n",
            "<ipython-input-9-99d640f7bc11>:76: FutureWarning: DataFrame.fillna with 'method' is deprecated and will raise in a future version. Use obj.ffill() or obj.bfill() instead.\n",
            "  df.fillna(method='ffill', inplace=True)  # Forward fill\n",
            "<ipython-input-9-99d640f7bc11>:77: FutureWarning: DataFrame.fillna with 'method' is deprecated and will raise in a future version. Use obj.ffill() or obj.bfill() instead.\n",
            "  df.fillna(method='bfill', inplace=True)  # Backward fill\n"
          ]
        },
        {
          "output_type": "stream",
          "name": "stdout",
          "text": [
            "Processed and saved cleaned data for OAO.JO to Stocks/OAO.JO.csv\n"
          ]
        },
        {
          "output_type": "stream",
          "name": "stderr",
          "text": [
            "\r[*********************100%%**********************]  1 of 1 completed\n",
            "<ipython-input-9-99d640f7bc11>:76: FutureWarning: DataFrame.fillna with 'method' is deprecated and will raise in a future version. Use obj.ffill() or obj.bfill() instead.\n",
            "  df.fillna(method='ffill', inplace=True)  # Forward fill\n",
            "<ipython-input-9-99d640f7bc11>:77: FutureWarning: DataFrame.fillna with 'method' is deprecated and will raise in a future version. Use obj.ffill() or obj.bfill() instead.\n",
            "  df.fillna(method='bfill', inplace=True)  # Backward fill\n"
          ]
        },
        {
          "output_type": "stream",
          "name": "stdout",
          "text": [
            "Processed and saved cleaned data for OAS.JO to Stocks/OAS.JO.csv\n"
          ]
        },
        {
          "output_type": "stream",
          "name": "stderr",
          "text": [
            "\r[*********************100%%**********************]  1 of 1 completed\n",
            "<ipython-input-9-99d640f7bc11>:76: FutureWarning: DataFrame.fillna with 'method' is deprecated and will raise in a future version. Use obj.ffill() or obj.bfill() instead.\n",
            "  df.fillna(method='ffill', inplace=True)  # Forward fill\n",
            "<ipython-input-9-99d640f7bc11>:77: FutureWarning: DataFrame.fillna with 'method' is deprecated and will raise in a future version. Use obj.ffill() or obj.bfill() instead.\n",
            "  df.fillna(method='bfill', inplace=True)  # Backward fill\n"
          ]
        },
        {
          "output_type": "stream",
          "name": "stdout",
          "text": [
            "Processed and saved cleaned data for OCE.JO to Stocks/OCE.JO.csv\n"
          ]
        },
        {
          "output_type": "stream",
          "name": "stderr",
          "text": [
            "\r[*********************100%%**********************]  1 of 1 completed\n",
            "<ipython-input-9-99d640f7bc11>:76: FutureWarning: DataFrame.fillna with 'method' is deprecated and will raise in a future version. Use obj.ffill() or obj.bfill() instead.\n",
            "  df.fillna(method='ffill', inplace=True)  # Forward fill\n",
            "<ipython-input-9-99d640f7bc11>:77: FutureWarning: DataFrame.fillna with 'method' is deprecated and will raise in a future version. Use obj.ffill() or obj.bfill() instead.\n",
            "  df.fillna(method='bfill', inplace=True)  # Backward fill\n"
          ]
        },
        {
          "output_type": "stream",
          "name": "stdout",
          "text": [
            "Processed and saved cleaned data for OCT.JO to Stocks/OCT.JO.csv\n"
          ]
        },
        {
          "output_type": "stream",
          "name": "stderr",
          "text": [
            "\r[*********************100%%**********************]  1 of 1 completed\n",
            "<ipython-input-9-99d640f7bc11>:76: FutureWarning: DataFrame.fillna with 'method' is deprecated and will raise in a future version. Use obj.ffill() or obj.bfill() instead.\n",
            "  df.fillna(method='ffill', inplace=True)  # Forward fill\n",
            "<ipython-input-9-99d640f7bc11>:77: FutureWarning: DataFrame.fillna with 'method' is deprecated and will raise in a future version. Use obj.ffill() or obj.bfill() instead.\n",
            "  df.fillna(method='bfill', inplace=True)  # Backward fill\n"
          ]
        },
        {
          "output_type": "stream",
          "name": "stdout",
          "text": [
            "Processed and saved cleaned data for OMN.JO to Stocks/OMN.JO.csv\n"
          ]
        },
        {
          "output_type": "stream",
          "name": "stderr",
          "text": [
            "\r[*********************100%%**********************]  1 of 1 completed\n",
            "<ipython-input-9-99d640f7bc11>:76: FutureWarning: DataFrame.fillna with 'method' is deprecated and will raise in a future version. Use obj.ffill() or obj.bfill() instead.\n",
            "  df.fillna(method='ffill', inplace=True)  # Forward fill\n",
            "<ipython-input-9-99d640f7bc11>:77: FutureWarning: DataFrame.fillna with 'method' is deprecated and will raise in a future version. Use obj.ffill() or obj.bfill() instead.\n",
            "  df.fillna(method='bfill', inplace=True)  # Backward fill\n"
          ]
        },
        {
          "output_type": "stream",
          "name": "stdout",
          "text": [
            "Processed and saved cleaned data for OMU.JO to Stocks/OMU.JO.csv\n"
          ]
        },
        {
          "output_type": "stream",
          "name": "stderr",
          "text": [
            "\r[*********************100%%**********************]  1 of 1 completed\n",
            "<ipython-input-9-99d640f7bc11>:76: FutureWarning: DataFrame.fillna with 'method' is deprecated and will raise in a future version. Use obj.ffill() or obj.bfill() instead.\n",
            "  df.fillna(method='ffill', inplace=True)  # Forward fill\n",
            "<ipython-input-9-99d640f7bc11>:77: FutureWarning: DataFrame.fillna with 'method' is deprecated and will raise in a future version. Use obj.ffill() or obj.bfill() instead.\n",
            "  df.fillna(method='bfill', inplace=True)  # Backward fill\n"
          ]
        },
        {
          "output_type": "stream",
          "name": "stdout",
          "text": [
            "Processed and saved cleaned data for ORN.JO to Stocks/ORN.JO.csv\n"
          ]
        },
        {
          "output_type": "stream",
          "name": "stderr",
          "text": [
            "\r[*********************100%%**********************]  1 of 1 completed\n",
            "<ipython-input-9-99d640f7bc11>:76: FutureWarning: DataFrame.fillna with 'method' is deprecated and will raise in a future version. Use obj.ffill() or obj.bfill() instead.\n",
            "  df.fillna(method='ffill', inplace=True)  # Forward fill\n",
            "<ipython-input-9-99d640f7bc11>:77: FutureWarning: DataFrame.fillna with 'method' is deprecated and will raise in a future version. Use obj.ffill() or obj.bfill() instead.\n",
            "  df.fillna(method='bfill', inplace=True)  # Backward fill\n"
          ]
        },
        {
          "output_type": "stream",
          "name": "stdout",
          "text": [
            "Processed and saved cleaned data for OUT.JO to Stocks/OUT.JO.csv\n"
          ]
        },
        {
          "output_type": "stream",
          "name": "stderr",
          "text": [
            "\r[*********************100%%**********************]  1 of 1 completed\n",
            "<ipython-input-9-99d640f7bc11>:76: FutureWarning: DataFrame.fillna with 'method' is deprecated and will raise in a future version. Use obj.ffill() or obj.bfill() instead.\n",
            "  df.fillna(method='ffill', inplace=True)  # Forward fill\n",
            "<ipython-input-9-99d640f7bc11>:77: FutureWarning: DataFrame.fillna with 'method' is deprecated and will raise in a future version. Use obj.ffill() or obj.bfill() instead.\n",
            "  df.fillna(method='bfill', inplace=True)  # Backward fill\n"
          ]
        },
        {
          "output_type": "stream",
          "name": "stdout",
          "text": [
            "Processed and saved cleaned data for PAN.JO to Stocks/PAN.JO.csv\n"
          ]
        },
        {
          "output_type": "stream",
          "name": "stderr",
          "text": [
            "\r[*********************100%%**********************]  1 of 1 completed\n",
            "<ipython-input-9-99d640f7bc11>:76: FutureWarning: DataFrame.fillna with 'method' is deprecated and will raise in a future version. Use obj.ffill() or obj.bfill() instead.\n",
            "  df.fillna(method='ffill', inplace=True)  # Forward fill\n",
            "<ipython-input-9-99d640f7bc11>:77: FutureWarning: DataFrame.fillna with 'method' is deprecated and will raise in a future version. Use obj.ffill() or obj.bfill() instead.\n",
            "  df.fillna(method='bfill', inplace=True)  # Backward fill\n"
          ]
        },
        {
          "output_type": "stream",
          "name": "stdout",
          "text": [
            "Processed and saved cleaned data for PBG.JO to Stocks/PBG.JO.csv\n"
          ]
        },
        {
          "output_type": "stream",
          "name": "stderr",
          "text": [
            "\r[*********************100%%**********************]  1 of 1 completed\n",
            "<ipython-input-9-99d640f7bc11>:76: FutureWarning: DataFrame.fillna with 'method' is deprecated and will raise in a future version. Use obj.ffill() or obj.bfill() instead.\n",
            "  df.fillna(method='ffill', inplace=True)  # Forward fill\n",
            "<ipython-input-9-99d640f7bc11>:77: FutureWarning: DataFrame.fillna with 'method' is deprecated and will raise in a future version. Use obj.ffill() or obj.bfill() instead.\n",
            "  df.fillna(method='bfill', inplace=True)  # Backward fill\n"
          ]
        },
        {
          "output_type": "stream",
          "name": "stdout",
          "text": [
            "Processed and saved cleaned data for PIK.JO to Stocks/PIK.JO.csv\n"
          ]
        },
        {
          "output_type": "stream",
          "name": "stderr",
          "text": [
            "\r[*********************100%%**********************]  1 of 1 completed\n",
            "<ipython-input-9-99d640f7bc11>:76: FutureWarning: DataFrame.fillna with 'method' is deprecated and will raise in a future version. Use obj.ffill() or obj.bfill() instead.\n",
            "  df.fillna(method='ffill', inplace=True)  # Forward fill\n",
            "<ipython-input-9-99d640f7bc11>:77: FutureWarning: DataFrame.fillna with 'method' is deprecated and will raise in a future version. Use obj.ffill() or obj.bfill() instead.\n",
            "  df.fillna(method='bfill', inplace=True)  # Backward fill\n"
          ]
        },
        {
          "output_type": "stream",
          "name": "stdout",
          "text": [
            "Processed and saved cleaned data for PMR.JO to Stocks/PMR.JO.csv\n"
          ]
        },
        {
          "output_type": "stream",
          "name": "stderr",
          "text": [
            "\r[*********************100%%**********************]  1 of 1 completed\n",
            "<ipython-input-9-99d640f7bc11>:76: FutureWarning: DataFrame.fillna with 'method' is deprecated and will raise in a future version. Use obj.ffill() or obj.bfill() instead.\n",
            "  df.fillna(method='ffill', inplace=True)  # Forward fill\n",
            "<ipython-input-9-99d640f7bc11>:77: FutureWarning: DataFrame.fillna with 'method' is deprecated and will raise in a future version. Use obj.ffill() or obj.bfill() instead.\n",
            "  df.fillna(method='bfill', inplace=True)  # Backward fill\n"
          ]
        },
        {
          "output_type": "stream",
          "name": "stdout",
          "text": [
            "Processed and saved cleaned data for PMV.JO to Stocks/PMV.JO.csv\n"
          ]
        },
        {
          "output_type": "stream",
          "name": "stderr",
          "text": [
            "\r[*********************100%%**********************]  1 of 1 completed\n",
            "<ipython-input-9-99d640f7bc11>:76: FutureWarning: DataFrame.fillna with 'method' is deprecated and will raise in a future version. Use obj.ffill() or obj.bfill() instead.\n",
            "  df.fillna(method='ffill', inplace=True)  # Forward fill\n",
            "<ipython-input-9-99d640f7bc11>:77: FutureWarning: DataFrame.fillna with 'method' is deprecated and will raise in a future version. Use obj.ffill() or obj.bfill() instead.\n",
            "  df.fillna(method='bfill', inplace=True)  # Backward fill\n"
          ]
        },
        {
          "output_type": "stream",
          "name": "stdout",
          "text": [
            "Processed and saved cleaned data for PPC.JO to Stocks/PPC.JO.csv\n"
          ]
        },
        {
          "output_type": "stream",
          "name": "stderr",
          "text": [
            "\r[*********************100%%**********************]  1 of 1 completed\n",
            "<ipython-input-9-99d640f7bc11>:76: FutureWarning: DataFrame.fillna with 'method' is deprecated and will raise in a future version. Use obj.ffill() or obj.bfill() instead.\n",
            "  df.fillna(method='ffill', inplace=True)  # Forward fill\n",
            "<ipython-input-9-99d640f7bc11>:77: FutureWarning: DataFrame.fillna with 'method' is deprecated and will raise in a future version. Use obj.ffill() or obj.bfill() instead.\n",
            "  df.fillna(method='bfill', inplace=True)  # Backward fill\n"
          ]
        },
        {
          "output_type": "stream",
          "name": "stdout",
          "text": [
            "Processed and saved cleaned data for PPE.JO to Stocks/PPE.JO.csv\n"
          ]
        },
        {
          "output_type": "stream",
          "name": "stderr",
          "text": [
            "\r[*********************100%%**********************]  1 of 1 completed\n",
            "<ipython-input-9-99d640f7bc11>:76: FutureWarning: DataFrame.fillna with 'method' is deprecated and will raise in a future version. Use obj.ffill() or obj.bfill() instead.\n",
            "  df.fillna(method='ffill', inplace=True)  # Forward fill\n",
            "<ipython-input-9-99d640f7bc11>:77: FutureWarning: DataFrame.fillna with 'method' is deprecated and will raise in a future version. Use obj.ffill() or obj.bfill() instead.\n",
            "  df.fillna(method='bfill', inplace=True)  # Backward fill\n"
          ]
        },
        {
          "output_type": "stream",
          "name": "stdout",
          "text": [
            "Processed and saved cleaned data for PPH.JO to Stocks/PPH.JO.csv\n"
          ]
        },
        {
          "output_type": "stream",
          "name": "stderr",
          "text": [
            "\r[*********************100%%**********************]  1 of 1 completed\n",
            "<ipython-input-9-99d640f7bc11>:76: FutureWarning: DataFrame.fillna with 'method' is deprecated and will raise in a future version. Use obj.ffill() or obj.bfill() instead.\n",
            "  df.fillna(method='ffill', inplace=True)  # Forward fill\n",
            "<ipython-input-9-99d640f7bc11>:77: FutureWarning: DataFrame.fillna with 'method' is deprecated and will raise in a future version. Use obj.ffill() or obj.bfill() instead.\n",
            "  df.fillna(method='bfill', inplace=True)  # Backward fill\n"
          ]
        },
        {
          "output_type": "stream",
          "name": "stdout",
          "text": [
            "Processed and saved cleaned data for PPR.JO to Stocks/PPR.JO.csv\n"
          ]
        },
        {
          "output_type": "stream",
          "name": "stderr",
          "text": [
            "\r[*********************100%%**********************]  1 of 1 completed\n",
            "<ipython-input-9-99d640f7bc11>:76: FutureWarning: DataFrame.fillna with 'method' is deprecated and will raise in a future version. Use obj.ffill() or obj.bfill() instead.\n",
            "  df.fillna(method='ffill', inplace=True)  # Forward fill\n",
            "<ipython-input-9-99d640f7bc11>:77: FutureWarning: DataFrame.fillna with 'method' is deprecated and will raise in a future version. Use obj.ffill() or obj.bfill() instead.\n",
            "  df.fillna(method='bfill', inplace=True)  # Backward fill\n"
          ]
        },
        {
          "output_type": "stream",
          "name": "stdout",
          "text": [
            "Processed and saved cleaned data for PRX.JO to Stocks/PRX.JO.csv\n"
          ]
        },
        {
          "output_type": "stream",
          "name": "stderr",
          "text": [
            "\r[*********************100%%**********************]  1 of 1 completed\n",
            "<ipython-input-9-99d640f7bc11>:76: FutureWarning: DataFrame.fillna with 'method' is deprecated and will raise in a future version. Use obj.ffill() or obj.bfill() instead.\n",
            "  df.fillna(method='ffill', inplace=True)  # Forward fill\n",
            "<ipython-input-9-99d640f7bc11>:77: FutureWarning: DataFrame.fillna with 'method' is deprecated and will raise in a future version. Use obj.ffill() or obj.bfill() instead.\n",
            "  df.fillna(method='bfill', inplace=True)  # Backward fill\n"
          ]
        },
        {
          "output_type": "stream",
          "name": "stdout",
          "text": [
            "Processed and saved cleaned data for QFH.JO to Stocks/QFH.JO.csv\n"
          ]
        },
        {
          "output_type": "stream",
          "name": "stderr",
          "text": [
            "\r[*********************100%%**********************]  1 of 1 completed\n",
            "<ipython-input-9-99d640f7bc11>:76: FutureWarning: DataFrame.fillna with 'method' is deprecated and will raise in a future version. Use obj.ffill() or obj.bfill() instead.\n",
            "  df.fillna(method='ffill', inplace=True)  # Forward fill\n",
            "<ipython-input-9-99d640f7bc11>:77: FutureWarning: DataFrame.fillna with 'method' is deprecated and will raise in a future version. Use obj.ffill() or obj.bfill() instead.\n",
            "  df.fillna(method='bfill', inplace=True)  # Backward fill\n"
          ]
        },
        {
          "output_type": "stream",
          "name": "stdout",
          "text": [
            "Processed and saved cleaned data for QLT.JO to Stocks/QLT.JO.csv\n"
          ]
        },
        {
          "output_type": "stream",
          "name": "stderr",
          "text": [
            "\r[*********************100%%**********************]  1 of 1 completed\n",
            "<ipython-input-9-99d640f7bc11>:76: FutureWarning: DataFrame.fillna with 'method' is deprecated and will raise in a future version. Use obj.ffill() or obj.bfill() instead.\n",
            "  df.fillna(method='ffill', inplace=True)  # Forward fill\n",
            "<ipython-input-9-99d640f7bc11>:77: FutureWarning: DataFrame.fillna with 'method' is deprecated and will raise in a future version. Use obj.ffill() or obj.bfill() instead.\n",
            "  df.fillna(method='bfill', inplace=True)  # Backward fill\n"
          ]
        },
        {
          "output_type": "stream",
          "name": "stdout",
          "text": [
            "Processed and saved cleaned data for RBX.JO to Stocks/RBX.JO.csv\n"
          ]
        },
        {
          "output_type": "stream",
          "name": "stderr",
          "text": [
            "\r[*********************100%%**********************]  1 of 1 completed\n",
            "<ipython-input-9-99d640f7bc11>:76: FutureWarning: DataFrame.fillna with 'method' is deprecated and will raise in a future version. Use obj.ffill() or obj.bfill() instead.\n",
            "  df.fillna(method='ffill', inplace=True)  # Forward fill\n",
            "<ipython-input-9-99d640f7bc11>:77: FutureWarning: DataFrame.fillna with 'method' is deprecated and will raise in a future version. Use obj.ffill() or obj.bfill() instead.\n",
            "  df.fillna(method='bfill', inplace=True)  # Backward fill\n"
          ]
        },
        {
          "output_type": "stream",
          "name": "stdout",
          "text": [
            "Processed and saved cleaned data for RCL.JO to Stocks/RCL.JO.csv\n"
          ]
        },
        {
          "output_type": "stream",
          "name": "stderr",
          "text": [
            "\r[*********************100%%**********************]  1 of 1 completed\n",
            "<ipython-input-9-99d640f7bc11>:76: FutureWarning: DataFrame.fillna with 'method' is deprecated and will raise in a future version. Use obj.ffill() or obj.bfill() instead.\n",
            "  df.fillna(method='ffill', inplace=True)  # Forward fill\n",
            "<ipython-input-9-99d640f7bc11>:77: FutureWarning: DataFrame.fillna with 'method' is deprecated and will raise in a future version. Use obj.ffill() or obj.bfill() instead.\n",
            "  df.fillna(method='bfill', inplace=True)  # Backward fill\n"
          ]
        },
        {
          "output_type": "stream",
          "name": "stdout",
          "text": [
            "Processed and saved cleaned data for RDF.JO to Stocks/RDF.JO.csv\n"
          ]
        },
        {
          "output_type": "stream",
          "name": "stderr",
          "text": [
            "\r[*********************100%%**********************]  1 of 1 completed\n",
            "<ipython-input-9-99d640f7bc11>:76: FutureWarning: DataFrame.fillna with 'method' is deprecated and will raise in a future version. Use obj.ffill() or obj.bfill() instead.\n",
            "  df.fillna(method='ffill', inplace=True)  # Forward fill\n",
            "<ipython-input-9-99d640f7bc11>:77: FutureWarning: DataFrame.fillna with 'method' is deprecated and will raise in a future version. Use obj.ffill() or obj.bfill() instead.\n",
            "  df.fillna(method='bfill', inplace=True)  # Backward fill\n"
          ]
        },
        {
          "output_type": "stream",
          "name": "stdout",
          "text": [
            "Processed and saved cleaned data for REA.JO to Stocks/REA.JO.csv\n"
          ]
        },
        {
          "output_type": "stream",
          "name": "stderr",
          "text": [
            "\r[*********************100%%**********************]  1 of 1 completed\n",
            "<ipython-input-9-99d640f7bc11>:76: FutureWarning: DataFrame.fillna with 'method' is deprecated and will raise in a future version. Use obj.ffill() or obj.bfill() instead.\n",
            "  df.fillna(method='ffill', inplace=True)  # Forward fill\n",
            "<ipython-input-9-99d640f7bc11>:77: FutureWarning: DataFrame.fillna with 'method' is deprecated and will raise in a future version. Use obj.ffill() or obj.bfill() instead.\n",
            "  df.fillna(method='bfill', inplace=True)  # Backward fill\n"
          ]
        },
        {
          "output_type": "stream",
          "name": "stdout",
          "text": [
            "Processed and saved cleaned data for REB.JO to Stocks/REB.JO.csv\n"
          ]
        },
        {
          "output_type": "stream",
          "name": "stderr",
          "text": [
            "\r[*********************100%%**********************]  1 of 1 completed\n",
            "<ipython-input-9-99d640f7bc11>:76: FutureWarning: DataFrame.fillna with 'method' is deprecated and will raise in a future version. Use obj.ffill() or obj.bfill() instead.\n",
            "  df.fillna(method='ffill', inplace=True)  # Forward fill\n",
            "<ipython-input-9-99d640f7bc11>:77: FutureWarning: DataFrame.fillna with 'method' is deprecated and will raise in a future version. Use obj.ffill() or obj.bfill() instead.\n",
            "  df.fillna(method='bfill', inplace=True)  # Backward fill\n"
          ]
        },
        {
          "output_type": "stream",
          "name": "stdout",
          "text": [
            "Processed and saved cleaned data for REM.JO to Stocks/REM.JO.csv\n"
          ]
        },
        {
          "output_type": "stream",
          "name": "stderr",
          "text": [
            "\r[*********************100%%**********************]  1 of 1 completed\n",
            "<ipython-input-9-99d640f7bc11>:76: FutureWarning: DataFrame.fillna with 'method' is deprecated and will raise in a future version. Use obj.ffill() or obj.bfill() instead.\n",
            "  df.fillna(method='ffill', inplace=True)  # Forward fill\n",
            "<ipython-input-9-99d640f7bc11>:77: FutureWarning: DataFrame.fillna with 'method' is deprecated and will raise in a future version. Use obj.ffill() or obj.bfill() instead.\n",
            "  df.fillna(method='bfill', inplace=True)  # Backward fill\n"
          ]
        },
        {
          "output_type": "stream",
          "name": "stdout",
          "text": [
            "Processed and saved cleaned data for REN.JO to Stocks/REN.JO.csv\n"
          ]
        },
        {
          "output_type": "stream",
          "name": "stderr",
          "text": [
            "\r[*********************100%%**********************]  1 of 1 completed\n",
            "<ipython-input-9-99d640f7bc11>:76: FutureWarning: DataFrame.fillna with 'method' is deprecated and will raise in a future version. Use obj.ffill() or obj.bfill() instead.\n",
            "  df.fillna(method='ffill', inplace=True)  # Forward fill\n",
            "<ipython-input-9-99d640f7bc11>:77: FutureWarning: DataFrame.fillna with 'method' is deprecated and will raise in a future version. Use obj.ffill() or obj.bfill() instead.\n",
            "  df.fillna(method='bfill', inplace=True)  # Backward fill\n"
          ]
        },
        {
          "output_type": "stream",
          "name": "stdout",
          "text": [
            "Processed and saved cleaned data for RES.JO to Stocks/RES.JO.csv\n"
          ]
        },
        {
          "output_type": "stream",
          "name": "stderr",
          "text": [
            "\r[*********************100%%**********************]  1 of 1 completed\n",
            "<ipython-input-9-99d640f7bc11>:76: FutureWarning: DataFrame.fillna with 'method' is deprecated and will raise in a future version. Use obj.ffill() or obj.bfill() instead.\n",
            "  df.fillna(method='ffill', inplace=True)  # Forward fill\n",
            "<ipython-input-9-99d640f7bc11>:77: FutureWarning: DataFrame.fillna with 'method' is deprecated and will raise in a future version. Use obj.ffill() or obj.bfill() instead.\n",
            "  df.fillna(method='bfill', inplace=True)  # Backward fill\n"
          ]
        },
        {
          "output_type": "stream",
          "name": "stdout",
          "text": [
            "Processed and saved cleaned data for RFG.JO to Stocks/RFG.JO.csv\n"
          ]
        },
        {
          "output_type": "stream",
          "name": "stderr",
          "text": [
            "\r[*********************100%%**********************]  1 of 1 completed\n",
            "<ipython-input-9-99d640f7bc11>:76: FutureWarning: DataFrame.fillna with 'method' is deprecated and will raise in a future version. Use obj.ffill() or obj.bfill() instead.\n",
            "  df.fillna(method='ffill', inplace=True)  # Forward fill\n",
            "<ipython-input-9-99d640f7bc11>:77: FutureWarning: DataFrame.fillna with 'method' is deprecated and will raise in a future version. Use obj.ffill() or obj.bfill() instead.\n",
            "  df.fillna(method='bfill', inplace=True)  # Backward fill\n"
          ]
        },
        {
          "output_type": "stream",
          "name": "stdout",
          "text": [
            "Processed and saved cleaned data for RHB.JO to Stocks/RHB.JO.csv\n"
          ]
        },
        {
          "output_type": "stream",
          "name": "stderr",
          "text": [
            "\r[*********************100%%**********************]  1 of 1 completed\n",
            "<ipython-input-9-99d640f7bc11>:76: FutureWarning: DataFrame.fillna with 'method' is deprecated and will raise in a future version. Use obj.ffill() or obj.bfill() instead.\n",
            "  df.fillna(method='ffill', inplace=True)  # Forward fill\n",
            "<ipython-input-9-99d640f7bc11>:77: FutureWarning: DataFrame.fillna with 'method' is deprecated and will raise in a future version. Use obj.ffill() or obj.bfill() instead.\n",
            "  df.fillna(method='bfill', inplace=True)  # Backward fill\n"
          ]
        },
        {
          "output_type": "stream",
          "name": "stdout",
          "text": [
            "Processed and saved cleaned data for RLO.JO to Stocks/RLO.JO.csv\n"
          ]
        },
        {
          "output_type": "stream",
          "name": "stderr",
          "text": [
            "\r[*********************100%%**********************]  1 of 1 completed\n",
            "<ipython-input-9-99d640f7bc11>:76: FutureWarning: DataFrame.fillna with 'method' is deprecated and will raise in a future version. Use obj.ffill() or obj.bfill() instead.\n",
            "  df.fillna(method='ffill', inplace=True)  # Forward fill\n",
            "<ipython-input-9-99d640f7bc11>:77: FutureWarning: DataFrame.fillna with 'method' is deprecated and will raise in a future version. Use obj.ffill() or obj.bfill() instead.\n",
            "  df.fillna(method='bfill', inplace=True)  # Backward fill\n"
          ]
        },
        {
          "output_type": "stream",
          "name": "stdout",
          "text": [
            "Processed and saved cleaned data for RMH.JO to Stocks/RMH.JO.csv\n"
          ]
        },
        {
          "output_type": "stream",
          "name": "stderr",
          "text": [
            "\r[*********************100%%**********************]  1 of 1 completed\n",
            "<ipython-input-9-99d640f7bc11>:76: FutureWarning: DataFrame.fillna with 'method' is deprecated and will raise in a future version. Use obj.ffill() or obj.bfill() instead.\n",
            "  df.fillna(method='ffill', inplace=True)  # Forward fill\n",
            "<ipython-input-9-99d640f7bc11>:77: FutureWarning: DataFrame.fillna with 'method' is deprecated and will raise in a future version. Use obj.ffill() or obj.bfill() instead.\n",
            "  df.fillna(method='bfill', inplace=True)  # Backward fill\n"
          ]
        },
        {
          "output_type": "stream",
          "name": "stdout",
          "text": [
            "Processed and saved cleaned data for RNG.JO to Stocks/RNG.JO.csv\n"
          ]
        },
        {
          "output_type": "stream",
          "name": "stderr",
          "text": [
            "\r[*********************100%%**********************]  1 of 1 completed\n",
            "<ipython-input-9-99d640f7bc11>:76: FutureWarning: DataFrame.fillna with 'method' is deprecated and will raise in a future version. Use obj.ffill() or obj.bfill() instead.\n",
            "  df.fillna(method='ffill', inplace=True)  # Forward fill\n",
            "<ipython-input-9-99d640f7bc11>:77: FutureWarning: DataFrame.fillna with 'method' is deprecated and will raise in a future version. Use obj.ffill() or obj.bfill() instead.\n",
            "  df.fillna(method='bfill', inplace=True)  # Backward fill\n"
          ]
        },
        {
          "output_type": "stream",
          "name": "stdout",
          "text": [
            "Processed and saved cleaned data for RNI.JO to Stocks/RNI.JO.csv\n"
          ]
        },
        {
          "output_type": "stream",
          "name": "stderr",
          "text": [
            "\r[*********************100%%**********************]  1 of 1 completed\n",
            "<ipython-input-9-99d640f7bc11>:76: FutureWarning: DataFrame.fillna with 'method' is deprecated and will raise in a future version. Use obj.ffill() or obj.bfill() instead.\n",
            "  df.fillna(method='ffill', inplace=True)  # Forward fill\n",
            "<ipython-input-9-99d640f7bc11>:77: FutureWarning: DataFrame.fillna with 'method' is deprecated and will raise in a future version. Use obj.ffill() or obj.bfill() instead.\n",
            "  df.fillna(method='bfill', inplace=True)  # Backward fill\n"
          ]
        },
        {
          "output_type": "stream",
          "name": "stdout",
          "text": [
            "Processed and saved cleaned data for RTN.JO to Stocks/RTN.JO.csv\n"
          ]
        },
        {
          "output_type": "stream",
          "name": "stderr",
          "text": [
            "\r[*********************100%%**********************]  1 of 1 completed\n",
            "<ipython-input-9-99d640f7bc11>:76: FutureWarning: DataFrame.fillna with 'method' is deprecated and will raise in a future version. Use obj.ffill() or obj.bfill() instead.\n",
            "  df.fillna(method='ffill', inplace=True)  # Forward fill\n",
            "<ipython-input-9-99d640f7bc11>:77: FutureWarning: DataFrame.fillna with 'method' is deprecated and will raise in a future version. Use obj.ffill() or obj.bfill() instead.\n",
            "  df.fillna(method='bfill', inplace=True)  # Backward fill\n"
          ]
        },
        {
          "output_type": "stream",
          "name": "stdout",
          "text": [
            "Processed and saved cleaned data for RTO.JO to Stocks/RTO.JO.csv\n"
          ]
        },
        {
          "output_type": "stream",
          "name": "stderr",
          "text": [
            "\r[*********************100%%**********************]  1 of 1 completed\n",
            "<ipython-input-9-99d640f7bc11>:76: FutureWarning: DataFrame.fillna with 'method' is deprecated and will raise in a future version. Use obj.ffill() or obj.bfill() instead.\n",
            "  df.fillna(method='ffill', inplace=True)  # Forward fill\n",
            "<ipython-input-9-99d640f7bc11>:77: FutureWarning: DataFrame.fillna with 'method' is deprecated and will raise in a future version. Use obj.ffill() or obj.bfill() instead.\n",
            "  df.fillna(method='bfill', inplace=True)  # Backward fill\n"
          ]
        },
        {
          "output_type": "stream",
          "name": "stdout",
          "text": [
            "Processed and saved cleaned data for S32.JO to Stocks/S32.JO.csv\n"
          ]
        },
        {
          "output_type": "stream",
          "name": "stderr",
          "text": [
            "\r[*********************100%%**********************]  1 of 1 completed\n",
            "<ipython-input-9-99d640f7bc11>:76: FutureWarning: DataFrame.fillna with 'method' is deprecated and will raise in a future version. Use obj.ffill() or obj.bfill() instead.\n",
            "  df.fillna(method='ffill', inplace=True)  # Forward fill\n",
            "<ipython-input-9-99d640f7bc11>:77: FutureWarning: DataFrame.fillna with 'method' is deprecated and will raise in a future version. Use obj.ffill() or obj.bfill() instead.\n",
            "  df.fillna(method='bfill', inplace=True)  # Backward fill\n"
          ]
        },
        {
          "output_type": "stream",
          "name": "stdout",
          "text": [
            "Processed and saved cleaned data for SAC.JO to Stocks/SAC.JO.csv\n"
          ]
        },
        {
          "output_type": "stream",
          "name": "stderr",
          "text": [
            "\r[*********************100%%**********************]  1 of 1 completed\n",
            "<ipython-input-9-99d640f7bc11>:76: FutureWarning: DataFrame.fillna with 'method' is deprecated and will raise in a future version. Use obj.ffill() or obj.bfill() instead.\n",
            "  df.fillna(method='ffill', inplace=True)  # Forward fill\n",
            "<ipython-input-9-99d640f7bc11>:77: FutureWarning: DataFrame.fillna with 'method' is deprecated and will raise in a future version. Use obj.ffill() or obj.bfill() instead.\n",
            "  df.fillna(method='bfill', inplace=True)  # Backward fill\n"
          ]
        },
        {
          "output_type": "stream",
          "name": "stdout",
          "text": [
            "Processed and saved cleaned data for SAP.JO to Stocks/SAP.JO.csv\n"
          ]
        },
        {
          "output_type": "stream",
          "name": "stderr",
          "text": [
            "\r[*********************100%%**********************]  1 of 1 completed\n",
            "<ipython-input-9-99d640f7bc11>:76: FutureWarning: DataFrame.fillna with 'method' is deprecated and will raise in a future version. Use obj.ffill() or obj.bfill() instead.\n",
            "  df.fillna(method='ffill', inplace=True)  # Forward fill\n",
            "<ipython-input-9-99d640f7bc11>:77: FutureWarning: DataFrame.fillna with 'method' is deprecated and will raise in a future version. Use obj.ffill() or obj.bfill() instead.\n",
            "  df.fillna(method='bfill', inplace=True)  # Backward fill\n"
          ]
        },
        {
          "output_type": "stream",
          "name": "stdout",
          "text": [
            "Processed and saved cleaned data for SAR.JO to Stocks/SAR.JO.csv\n"
          ]
        },
        {
          "output_type": "stream",
          "name": "stderr",
          "text": [
            "\r[*********************100%%**********************]  1 of 1 completed\n",
            "<ipython-input-9-99d640f7bc11>:76: FutureWarning: DataFrame.fillna with 'method' is deprecated and will raise in a future version. Use obj.ffill() or obj.bfill() instead.\n",
            "  df.fillna(method='ffill', inplace=True)  # Forward fill\n",
            "<ipython-input-9-99d640f7bc11>:77: FutureWarning: DataFrame.fillna with 'method' is deprecated and will raise in a future version. Use obj.ffill() or obj.bfill() instead.\n",
            "  df.fillna(method='bfill', inplace=True)  # Backward fill\n"
          ]
        },
        {
          "output_type": "stream",
          "name": "stdout",
          "text": [
            "Processed and saved cleaned data for SBK.JO to Stocks/SBK.JO.csv\n"
          ]
        },
        {
          "output_type": "stream",
          "name": "stderr",
          "text": [
            "\r[*********************100%%**********************]  1 of 1 completed\n",
            "<ipython-input-9-99d640f7bc11>:76: FutureWarning: DataFrame.fillna with 'method' is deprecated and will raise in a future version. Use obj.ffill() or obj.bfill() instead.\n",
            "  df.fillna(method='ffill', inplace=True)  # Forward fill\n",
            "<ipython-input-9-99d640f7bc11>:77: FutureWarning: DataFrame.fillna with 'method' is deprecated and will raise in a future version. Use obj.ffill() or obj.bfill() instead.\n",
            "  df.fillna(method='bfill', inplace=True)  # Backward fill\n"
          ]
        },
        {
          "output_type": "stream",
          "name": "stdout",
          "text": [
            "Processed and saved cleaned data for SBP.JO to Stocks/SBP.JO.csv\n"
          ]
        },
        {
          "output_type": "stream",
          "name": "stderr",
          "text": [
            "\r[*********************100%%**********************]  1 of 1 completed\n",
            "<ipython-input-9-99d640f7bc11>:76: FutureWarning: DataFrame.fillna with 'method' is deprecated and will raise in a future version. Use obj.ffill() or obj.bfill() instead.\n",
            "  df.fillna(method='ffill', inplace=True)  # Forward fill\n",
            "<ipython-input-9-99d640f7bc11>:77: FutureWarning: DataFrame.fillna with 'method' is deprecated and will raise in a future version. Use obj.ffill() or obj.bfill() instead.\n",
            "  df.fillna(method='bfill', inplace=True)  # Backward fill\n"
          ]
        },
        {
          "output_type": "stream",
          "name": "stdout",
          "text": [
            "Processed and saved cleaned data for SCD.JO to Stocks/SCD.JO.csv\n"
          ]
        },
        {
          "output_type": "stream",
          "name": "stderr",
          "text": [
            "\r[*********************100%%**********************]  1 of 1 completed\n",
            "<ipython-input-9-99d640f7bc11>:76: FutureWarning: DataFrame.fillna with 'method' is deprecated and will raise in a future version. Use obj.ffill() or obj.bfill() instead.\n",
            "  df.fillna(method='ffill', inplace=True)  # Forward fill\n",
            "<ipython-input-9-99d640f7bc11>:77: FutureWarning: DataFrame.fillna with 'method' is deprecated and will raise in a future version. Use obj.ffill() or obj.bfill() instead.\n",
            "  df.fillna(method='bfill', inplace=True)  # Backward fill\n"
          ]
        },
        {
          "output_type": "stream",
          "name": "stdout",
          "text": [
            "Processed and saved cleaned data for SDL.JO to Stocks/SDL.JO.csv\n"
          ]
        },
        {
          "output_type": "stream",
          "name": "stderr",
          "text": [
            "\r[*********************100%%**********************]  1 of 1 completed\n",
            "<ipython-input-9-99d640f7bc11>:76: FutureWarning: DataFrame.fillna with 'method' is deprecated and will raise in a future version. Use obj.ffill() or obj.bfill() instead.\n",
            "  df.fillna(method='ffill', inplace=True)  # Forward fill\n",
            "<ipython-input-9-99d640f7bc11>:77: FutureWarning: DataFrame.fillna with 'method' is deprecated and will raise in a future version. Use obj.ffill() or obj.bfill() instead.\n",
            "  df.fillna(method='bfill', inplace=True)  # Backward fill\n"
          ]
        },
        {
          "output_type": "stream",
          "name": "stdout",
          "text": [
            "Processed and saved cleaned data for SDO.JO to Stocks/SDO.JO.csv\n"
          ]
        },
        {
          "output_type": "stream",
          "name": "stderr",
          "text": [
            "\r[*********************100%%**********************]  1 of 1 completed\n",
            "<ipython-input-9-99d640f7bc11>:76: FutureWarning: DataFrame.fillna with 'method' is deprecated and will raise in a future version. Use obj.ffill() or obj.bfill() instead.\n",
            "  df.fillna(method='ffill', inplace=True)  # Forward fill\n",
            "<ipython-input-9-99d640f7bc11>:77: FutureWarning: DataFrame.fillna with 'method' is deprecated and will raise in a future version. Use obj.ffill() or obj.bfill() instead.\n",
            "  df.fillna(method='bfill', inplace=True)  # Backward fill\n"
          ]
        },
        {
          "output_type": "stream",
          "name": "stdout",
          "text": [
            "Processed and saved cleaned data for SEA.JO to Stocks/SEA.JO.csv\n"
          ]
        },
        {
          "output_type": "stream",
          "name": "stderr",
          "text": [
            "\r[*********************100%%**********************]  1 of 1 completed\n",
            "<ipython-input-9-99d640f7bc11>:76: FutureWarning: DataFrame.fillna with 'method' is deprecated and will raise in a future version. Use obj.ffill() or obj.bfill() instead.\n",
            "  df.fillna(method='ffill', inplace=True)  # Forward fill\n",
            "<ipython-input-9-99d640f7bc11>:77: FutureWarning: DataFrame.fillna with 'method' is deprecated and will raise in a future version. Use obj.ffill() or obj.bfill() instead.\n",
            "  df.fillna(method='bfill', inplace=True)  # Backward fill\n"
          ]
        },
        {
          "output_type": "stream",
          "name": "stdout",
          "text": [
            "Processed and saved cleaned data for SEB.JO to Stocks/SEB.JO.csv\n"
          ]
        },
        {
          "output_type": "stream",
          "name": "stderr",
          "text": [
            "\r[*********************100%%**********************]  1 of 1 completed\n",
            "<ipython-input-9-99d640f7bc11>:76: FutureWarning: DataFrame.fillna with 'method' is deprecated and will raise in a future version. Use obj.ffill() or obj.bfill() instead.\n",
            "  df.fillna(method='ffill', inplace=True)  # Forward fill\n",
            "<ipython-input-9-99d640f7bc11>:77: FutureWarning: DataFrame.fillna with 'method' is deprecated and will raise in a future version. Use obj.ffill() or obj.bfill() instead.\n",
            "  df.fillna(method='bfill', inplace=True)  # Backward fill\n"
          ]
        },
        {
          "output_type": "stream",
          "name": "stdout",
          "text": [
            "Processed and saved cleaned data for SEP.JO to Stocks/SEP.JO.csv\n"
          ]
        },
        {
          "output_type": "stream",
          "name": "stderr",
          "text": [
            "\r[*********************100%%**********************]  1 of 1 completed\n",
            "<ipython-input-9-99d640f7bc11>:76: FutureWarning: DataFrame.fillna with 'method' is deprecated and will raise in a future version. Use obj.ffill() or obj.bfill() instead.\n",
            "  df.fillna(method='ffill', inplace=True)  # Forward fill\n",
            "<ipython-input-9-99d640f7bc11>:77: FutureWarning: DataFrame.fillna with 'method' is deprecated and will raise in a future version. Use obj.ffill() or obj.bfill() instead.\n",
            "  df.fillna(method='bfill', inplace=True)  # Backward fill\n"
          ]
        },
        {
          "output_type": "stream",
          "name": "stdout",
          "text": [
            "Processed and saved cleaned data for SFN.JO to Stocks/SFN.JO.csv\n"
          ]
        },
        {
          "output_type": "stream",
          "name": "stderr",
          "text": [
            "\r[*********************100%%**********************]  1 of 1 completed\n",
            "<ipython-input-9-99d640f7bc11>:76: FutureWarning: DataFrame.fillna with 'method' is deprecated and will raise in a future version. Use obj.ffill() or obj.bfill() instead.\n",
            "  df.fillna(method='ffill', inplace=True)  # Forward fill\n",
            "<ipython-input-9-99d640f7bc11>:77: FutureWarning: DataFrame.fillna with 'method' is deprecated and will raise in a future version. Use obj.ffill() or obj.bfill() instead.\n",
            "  df.fillna(method='bfill', inplace=True)  # Backward fill\n"
          ]
        },
        {
          "output_type": "stream",
          "name": "stdout",
          "text": [
            "Processed and saved cleaned data for SHC.JO to Stocks/SHC.JO.csv\n"
          ]
        },
        {
          "output_type": "stream",
          "name": "stderr",
          "text": [
            "\r[*********************100%%**********************]  1 of 1 completed\n",
            "<ipython-input-9-99d640f7bc11>:76: FutureWarning: DataFrame.fillna with 'method' is deprecated and will raise in a future version. Use obj.ffill() or obj.bfill() instead.\n",
            "  df.fillna(method='ffill', inplace=True)  # Forward fill\n",
            "<ipython-input-9-99d640f7bc11>:77: FutureWarning: DataFrame.fillna with 'method' is deprecated and will raise in a future version. Use obj.ffill() or obj.bfill() instead.\n",
            "  df.fillna(method='bfill', inplace=True)  # Backward fill\n"
          ]
        },
        {
          "output_type": "stream",
          "name": "stdout",
          "text": [
            "Processed and saved cleaned data for SHG.JO to Stocks/SHG.JO.csv\n"
          ]
        },
        {
          "output_type": "stream",
          "name": "stderr",
          "text": [
            "\r[*********************100%%**********************]  1 of 1 completed\n",
            "<ipython-input-9-99d640f7bc11>:76: FutureWarning: DataFrame.fillna with 'method' is deprecated and will raise in a future version. Use obj.ffill() or obj.bfill() instead.\n",
            "  df.fillna(method='ffill', inplace=True)  # Forward fill\n",
            "<ipython-input-9-99d640f7bc11>:77: FutureWarning: DataFrame.fillna with 'method' is deprecated and will raise in a future version. Use obj.ffill() or obj.bfill() instead.\n",
            "  df.fillna(method='bfill', inplace=True)  # Backward fill\n"
          ]
        },
        {
          "output_type": "stream",
          "name": "stdout",
          "text": [
            "Processed and saved cleaned data for SHP.JO to Stocks/SHP.JO.csv\n"
          ]
        },
        {
          "output_type": "stream",
          "name": "stderr",
          "text": [
            "\r[*********************100%%**********************]  1 of 1 completed\n",
            "<ipython-input-9-99d640f7bc11>:76: FutureWarning: DataFrame.fillna with 'method' is deprecated and will raise in a future version. Use obj.ffill() or obj.bfill() instead.\n",
            "  df.fillna(method='ffill', inplace=True)  # Forward fill\n",
            "<ipython-input-9-99d640f7bc11>:77: FutureWarning: DataFrame.fillna with 'method' is deprecated and will raise in a future version. Use obj.ffill() or obj.bfill() instead.\n",
            "  df.fillna(method='bfill', inplace=True)  # Backward fill\n"
          ]
        },
        {
          "output_type": "stream",
          "name": "stdout",
          "text": [
            "Processed and saved cleaned data for SLG.JO to Stocks/SLG.JO.csv\n"
          ]
        },
        {
          "output_type": "stream",
          "name": "stderr",
          "text": [
            "\r[*********************100%%**********************]  1 of 1 completed\n",
            "<ipython-input-9-99d640f7bc11>:76: FutureWarning: DataFrame.fillna with 'method' is deprecated and will raise in a future version. Use obj.ffill() or obj.bfill() instead.\n",
            "  df.fillna(method='ffill', inplace=True)  # Forward fill\n",
            "<ipython-input-9-99d640f7bc11>:77: FutureWarning: DataFrame.fillna with 'method' is deprecated and will raise in a future version. Use obj.ffill() or obj.bfill() instead.\n",
            "  df.fillna(method='bfill', inplace=True)  # Backward fill\n"
          ]
        },
        {
          "output_type": "stream",
          "name": "stdout",
          "text": [
            "Processed and saved cleaned data for SLM.JO to Stocks/SLM.JO.csv\n"
          ]
        },
        {
          "output_type": "stream",
          "name": "stderr",
          "text": [
            "\r[*********************100%%**********************]  1 of 1 completed\n",
            "<ipython-input-9-99d640f7bc11>:76: FutureWarning: DataFrame.fillna with 'method' is deprecated and will raise in a future version. Use obj.ffill() or obj.bfill() instead.\n",
            "  df.fillna(method='ffill', inplace=True)  # Forward fill\n",
            "<ipython-input-9-99d640f7bc11>:77: FutureWarning: DataFrame.fillna with 'method' is deprecated and will raise in a future version. Use obj.ffill() or obj.bfill() instead.\n",
            "  df.fillna(method='bfill', inplace=True)  # Backward fill\n"
          ]
        },
        {
          "output_type": "stream",
          "name": "stdout",
          "text": [
            "Processed and saved cleaned data for SNT.JO to Stocks/SNT.JO.csv\n"
          ]
        },
        {
          "output_type": "stream",
          "name": "stderr",
          "text": [
            "\r[*********************100%%**********************]  1 of 1 completed\n",
            "<ipython-input-9-99d640f7bc11>:76: FutureWarning: DataFrame.fillna with 'method' is deprecated and will raise in a future version. Use obj.ffill() or obj.bfill() instead.\n",
            "  df.fillna(method='ffill', inplace=True)  # Forward fill\n",
            "<ipython-input-9-99d640f7bc11>:77: FutureWarning: DataFrame.fillna with 'method' is deprecated and will raise in a future version. Use obj.ffill() or obj.bfill() instead.\n",
            "  df.fillna(method='bfill', inplace=True)  # Backward fill\n"
          ]
        },
        {
          "output_type": "stream",
          "name": "stdout",
          "text": [
            "Processed and saved cleaned data for SNV.JO to Stocks/SNV.JO.csv\n"
          ]
        },
        {
          "output_type": "stream",
          "name": "stderr",
          "text": [
            "\r[*********************100%%**********************]  1 of 1 completed\n",
            "<ipython-input-9-99d640f7bc11>:76: FutureWarning: DataFrame.fillna with 'method' is deprecated and will raise in a future version. Use obj.ffill() or obj.bfill() instead.\n",
            "  df.fillna(method='ffill', inplace=True)  # Forward fill\n",
            "<ipython-input-9-99d640f7bc11>:77: FutureWarning: DataFrame.fillna with 'method' is deprecated and will raise in a future version. Use obj.ffill() or obj.bfill() instead.\n",
            "  df.fillna(method='bfill', inplace=True)  # Backward fill\n"
          ]
        },
        {
          "output_type": "stream",
          "name": "stdout",
          "text": [
            "Processed and saved cleaned data for SOH.JO to Stocks/SOH.JO.csv\n"
          ]
        },
        {
          "output_type": "stream",
          "name": "stderr",
          "text": [
            "\r[*********************100%%**********************]  1 of 1 completed\n",
            "<ipython-input-9-99d640f7bc11>:76: FutureWarning: DataFrame.fillna with 'method' is deprecated and will raise in a future version. Use obj.ffill() or obj.bfill() instead.\n",
            "  df.fillna(method='ffill', inplace=True)  # Forward fill\n",
            "<ipython-input-9-99d640f7bc11>:77: FutureWarning: DataFrame.fillna with 'method' is deprecated and will raise in a future version. Use obj.ffill() or obj.bfill() instead.\n",
            "  df.fillna(method='bfill', inplace=True)  # Backward fill\n"
          ]
        },
        {
          "output_type": "stream",
          "name": "stdout",
          "text": [
            "Processed and saved cleaned data for SOL.JO to Stocks/SOL.JO.csv\n"
          ]
        },
        {
          "output_type": "stream",
          "name": "stderr",
          "text": [
            "\r[*********************100%%**********************]  1 of 1 completed\n",
            "<ipython-input-9-99d640f7bc11>:76: FutureWarning: DataFrame.fillna with 'method' is deprecated and will raise in a future version. Use obj.ffill() or obj.bfill() instead.\n",
            "  df.fillna(method='ffill', inplace=True)  # Forward fill\n",
            "<ipython-input-9-99d640f7bc11>:77: FutureWarning: DataFrame.fillna with 'method' is deprecated and will raise in a future version. Use obj.ffill() or obj.bfill() instead.\n",
            "  df.fillna(method='bfill', inplace=True)  # Backward fill\n"
          ]
        },
        {
          "output_type": "stream",
          "name": "stdout",
          "text": [
            "Processed and saved cleaned data for SPG.JO to Stocks/SPG.JO.csv\n"
          ]
        },
        {
          "output_type": "stream",
          "name": "stderr",
          "text": [
            "\r[*********************100%%**********************]  1 of 1 completed\n",
            "<ipython-input-9-99d640f7bc11>:76: FutureWarning: DataFrame.fillna with 'method' is deprecated and will raise in a future version. Use obj.ffill() or obj.bfill() instead.\n",
            "  df.fillna(method='ffill', inplace=True)  # Forward fill\n",
            "<ipython-input-9-99d640f7bc11>:77: FutureWarning: DataFrame.fillna with 'method' is deprecated and will raise in a future version. Use obj.ffill() or obj.bfill() instead.\n",
            "  df.fillna(method='bfill', inplace=True)  # Backward fill\n"
          ]
        },
        {
          "output_type": "stream",
          "name": "stdout",
          "text": [
            "Processed and saved cleaned data for SPP.JO to Stocks/SPP.JO.csv\n"
          ]
        },
        {
          "output_type": "stream",
          "name": "stderr",
          "text": [
            "\r[*********************100%%**********************]  1 of 1 completed\n",
            "<ipython-input-9-99d640f7bc11>:76: FutureWarning: DataFrame.fillna with 'method' is deprecated and will raise in a future version. Use obj.ffill() or obj.bfill() instead.\n",
            "  df.fillna(method='ffill', inplace=True)  # Forward fill\n",
            "<ipython-input-9-99d640f7bc11>:77: FutureWarning: DataFrame.fillna with 'method' is deprecated and will raise in a future version. Use obj.ffill() or obj.bfill() instead.\n",
            "  df.fillna(method='bfill', inplace=True)  # Backward fill\n"
          ]
        },
        {
          "output_type": "stream",
          "name": "stdout",
          "text": [
            "Processed and saved cleaned data for SRE.JO to Stocks/SRE.JO.csv\n"
          ]
        },
        {
          "output_type": "stream",
          "name": "stderr",
          "text": [
            "\r[*********************100%%**********************]  1 of 1 completed\n",
            "<ipython-input-9-99d640f7bc11>:76: FutureWarning: DataFrame.fillna with 'method' is deprecated and will raise in a future version. Use obj.ffill() or obj.bfill() instead.\n",
            "  df.fillna(method='ffill', inplace=True)  # Forward fill\n",
            "<ipython-input-9-99d640f7bc11>:77: FutureWarning: DataFrame.fillna with 'method' is deprecated and will raise in a future version. Use obj.ffill() or obj.bfill() instead.\n",
            "  df.fillna(method='bfill', inplace=True)  # Backward fill\n"
          ]
        },
        {
          "output_type": "stream",
          "name": "stdout",
          "text": [
            "Processed and saved cleaned data for SSK.JO to Stocks/SSK.JO.csv\n"
          ]
        },
        {
          "output_type": "stream",
          "name": "stderr",
          "text": [
            "\r[*********************100%%**********************]  1 of 1 completed\n",
            "<ipython-input-9-99d640f7bc11>:76: FutureWarning: DataFrame.fillna with 'method' is deprecated and will raise in a future version. Use obj.ffill() or obj.bfill() instead.\n",
            "  df.fillna(method='ffill', inplace=True)  # Forward fill\n",
            "<ipython-input-9-99d640f7bc11>:77: FutureWarning: DataFrame.fillna with 'method' is deprecated and will raise in a future version. Use obj.ffill() or obj.bfill() instead.\n",
            "  df.fillna(method='bfill', inplace=True)  # Backward fill\n"
          ]
        },
        {
          "output_type": "stream",
          "name": "stdout",
          "text": [
            "Processed and saved cleaned data for SSS.JO to Stocks/SSS.JO.csv\n"
          ]
        },
        {
          "output_type": "stream",
          "name": "stderr",
          "text": [
            "\r[*********************100%%**********************]  1 of 1 completed\n",
            "<ipython-input-9-99d640f7bc11>:76: FutureWarning: DataFrame.fillna with 'method' is deprecated and will raise in a future version. Use obj.ffill() or obj.bfill() instead.\n",
            "  df.fillna(method='ffill', inplace=True)  # Forward fill\n",
            "<ipython-input-9-99d640f7bc11>:77: FutureWarning: DataFrame.fillna with 'method' is deprecated and will raise in a future version. Use obj.ffill() or obj.bfill() instead.\n",
            "  df.fillna(method='bfill', inplace=True)  # Backward fill\n"
          ]
        },
        {
          "output_type": "stream",
          "name": "stdout",
          "text": [
            "Processed and saved cleaned data for SSU.JO to Stocks/SSU.JO.csv\n"
          ]
        },
        {
          "output_type": "stream",
          "name": "stderr",
          "text": [
            "\r[*********************100%%**********************]  1 of 1 completed\n",
            "<ipython-input-9-99d640f7bc11>:76: FutureWarning: DataFrame.fillna with 'method' is deprecated and will raise in a future version. Use obj.ffill() or obj.bfill() instead.\n",
            "  df.fillna(method='ffill', inplace=True)  # Forward fill\n",
            "<ipython-input-9-99d640f7bc11>:77: FutureWarning: DataFrame.fillna with 'method' is deprecated and will raise in a future version. Use obj.ffill() or obj.bfill() instead.\n",
            "  df.fillna(method='bfill', inplace=True)  # Backward fill\n"
          ]
        },
        {
          "output_type": "stream",
          "name": "stdout",
          "text": [
            "Processed and saved cleaned data for SSW.JO to Stocks/SSW.JO.csv\n"
          ]
        },
        {
          "output_type": "stream",
          "name": "stderr",
          "text": [
            "\r[*********************100%%**********************]  1 of 1 completed\n",
            "<ipython-input-9-99d640f7bc11>:76: FutureWarning: DataFrame.fillna with 'method' is deprecated and will raise in a future version. Use obj.ffill() or obj.bfill() instead.\n",
            "  df.fillna(method='ffill', inplace=True)  # Forward fill\n",
            "<ipython-input-9-99d640f7bc11>:77: FutureWarning: DataFrame.fillna with 'method' is deprecated and will raise in a future version. Use obj.ffill() or obj.bfill() instead.\n",
            "  df.fillna(method='bfill', inplace=True)  # Backward fill\n"
          ]
        },
        {
          "output_type": "stream",
          "name": "stdout",
          "text": [
            "Processed and saved cleaned data for SUI.JO to Stocks/SUI.JO.csv\n"
          ]
        },
        {
          "output_type": "stream",
          "name": "stderr",
          "text": [
            "\r[*********************100%%**********************]  1 of 1 completed\n",
            "<ipython-input-9-99d640f7bc11>:76: FutureWarning: DataFrame.fillna with 'method' is deprecated and will raise in a future version. Use obj.ffill() or obj.bfill() instead.\n",
            "  df.fillna(method='ffill', inplace=True)  # Forward fill\n",
            "<ipython-input-9-99d640f7bc11>:77: FutureWarning: DataFrame.fillna with 'method' is deprecated and will raise in a future version. Use obj.ffill() or obj.bfill() instead.\n",
            "  df.fillna(method='bfill', inplace=True)  # Backward fill\n"
          ]
        },
        {
          "output_type": "stream",
          "name": "stdout",
          "text": [
            "Processed and saved cleaned data for SUR.JO to Stocks/SUR.JO.csv\n"
          ]
        },
        {
          "output_type": "stream",
          "name": "stderr",
          "text": [
            "\r[*********************100%%**********************]  1 of 1 completed\n",
            "<ipython-input-9-99d640f7bc11>:76: FutureWarning: DataFrame.fillna with 'method' is deprecated and will raise in a future version. Use obj.ffill() or obj.bfill() instead.\n",
            "  df.fillna(method='ffill', inplace=True)  # Forward fill\n",
            "<ipython-input-9-99d640f7bc11>:77: FutureWarning: DataFrame.fillna with 'method' is deprecated and will raise in a future version. Use obj.ffill() or obj.bfill() instead.\n",
            "  df.fillna(method='bfill', inplace=True)  # Backward fill\n"
          ]
        },
        {
          "output_type": "stream",
          "name": "stdout",
          "text": [
            "Processed and saved cleaned data for SXM.JO to Stocks/SXM.JO.csv\n"
          ]
        },
        {
          "output_type": "stream",
          "name": "stderr",
          "text": [
            "\r[*********************100%%**********************]  1 of 1 completed\n",
            "<ipython-input-9-99d640f7bc11>:76: FutureWarning: DataFrame.fillna with 'method' is deprecated and will raise in a future version. Use obj.ffill() or obj.bfill() instead.\n",
            "  df.fillna(method='ffill', inplace=True)  # Forward fill\n",
            "<ipython-input-9-99d640f7bc11>:77: FutureWarning: DataFrame.fillna with 'method' is deprecated and will raise in a future version. Use obj.ffill() or obj.bfill() instead.\n",
            "  df.fillna(method='bfill', inplace=True)  # Backward fill\n"
          ]
        },
        {
          "output_type": "stream",
          "name": "stdout",
          "text": [
            "Processed and saved cleaned data for SYG.JO to Stocks/SYG.JO.csv\n"
          ]
        },
        {
          "output_type": "stream",
          "name": "stderr",
          "text": [
            "\r[*********************100%%**********************]  1 of 1 completed\n",
            "<ipython-input-9-99d640f7bc11>:76: FutureWarning: DataFrame.fillna with 'method' is deprecated and will raise in a future version. Use obj.ffill() or obj.bfill() instead.\n",
            "  df.fillna(method='ffill', inplace=True)  # Forward fill\n",
            "<ipython-input-9-99d640f7bc11>:77: FutureWarning: DataFrame.fillna with 'method' is deprecated and will raise in a future version. Use obj.ffill() or obj.bfill() instead.\n",
            "  df.fillna(method='bfill', inplace=True)  # Backward fill\n"
          ]
        },
        {
          "output_type": "stream",
          "name": "stdout",
          "text": [
            "Processed and saved cleaned data for SZK.JO to Stocks/SZK.JO.csv\n"
          ]
        },
        {
          "output_type": "stream",
          "name": "stderr",
          "text": [
            "\r[*********************100%%**********************]  1 of 1 completed\n",
            "<ipython-input-9-99d640f7bc11>:76: FutureWarning: DataFrame.fillna with 'method' is deprecated and will raise in a future version. Use obj.ffill() or obj.bfill() instead.\n",
            "  df.fillna(method='ffill', inplace=True)  # Forward fill\n",
            "<ipython-input-9-99d640f7bc11>:77: FutureWarning: DataFrame.fillna with 'method' is deprecated and will raise in a future version. Use obj.ffill() or obj.bfill() instead.\n",
            "  df.fillna(method='bfill', inplace=True)  # Backward fill\n"
          ]
        },
        {
          "output_type": "stream",
          "name": "stdout",
          "text": [
            "Processed and saved cleaned data for TBS.JO to Stocks/TBS.JO.csv\n"
          ]
        },
        {
          "output_type": "stream",
          "name": "stderr",
          "text": [
            "\r[*********************100%%**********************]  1 of 1 completed\n",
            "<ipython-input-9-99d640f7bc11>:76: FutureWarning: DataFrame.fillna with 'method' is deprecated and will raise in a future version. Use obj.ffill() or obj.bfill() instead.\n",
            "  df.fillna(method='ffill', inplace=True)  # Forward fill\n",
            "<ipython-input-9-99d640f7bc11>:77: FutureWarning: DataFrame.fillna with 'method' is deprecated and will raise in a future version. Use obj.ffill() or obj.bfill() instead.\n",
            "  df.fillna(method='bfill', inplace=True)  # Backward fill\n"
          ]
        },
        {
          "output_type": "stream",
          "name": "stdout",
          "text": [
            "Processed and saved cleaned data for TCP.JO to Stocks/TCP.JO.csv\n"
          ]
        },
        {
          "output_type": "stream",
          "name": "stderr",
          "text": [
            "\r[*********************100%%**********************]  1 of 1 completed\n",
            "<ipython-input-9-99d640f7bc11>:76: FutureWarning: DataFrame.fillna with 'method' is deprecated and will raise in a future version. Use obj.ffill() or obj.bfill() instead.\n",
            "  df.fillna(method='ffill', inplace=True)  # Forward fill\n",
            "<ipython-input-9-99d640f7bc11>:77: FutureWarning: DataFrame.fillna with 'method' is deprecated and will raise in a future version. Use obj.ffill() or obj.bfill() instead.\n",
            "  df.fillna(method='bfill', inplace=True)  # Backward fill\n"
          ]
        },
        {
          "output_type": "stream",
          "name": "stdout",
          "text": [
            "Processed and saved cleaned data for TEX.JO to Stocks/TEX.JO.csv\n"
          ]
        },
        {
          "output_type": "stream",
          "name": "stderr",
          "text": [
            "\r[*********************100%%**********************]  1 of 1 completed\n",
            "<ipython-input-9-99d640f7bc11>:76: FutureWarning: DataFrame.fillna with 'method' is deprecated and will raise in a future version. Use obj.ffill() or obj.bfill() instead.\n",
            "  df.fillna(method='ffill', inplace=True)  # Forward fill\n",
            "<ipython-input-9-99d640f7bc11>:77: FutureWarning: DataFrame.fillna with 'method' is deprecated and will raise in a future version. Use obj.ffill() or obj.bfill() instead.\n",
            "  df.fillna(method='bfill', inplace=True)  # Backward fill\n"
          ]
        },
        {
          "output_type": "stream",
          "name": "stdout",
          "text": [
            "Processed and saved cleaned data for TFG.JO to Stocks/TFG.JO.csv\n"
          ]
        },
        {
          "output_type": "stream",
          "name": "stderr",
          "text": [
            "\r[*********************100%%**********************]  1 of 1 completed\n",
            "<ipython-input-9-99d640f7bc11>:76: FutureWarning: DataFrame.fillna with 'method' is deprecated and will raise in a future version. Use obj.ffill() or obj.bfill() instead.\n",
            "  df.fillna(method='ffill', inplace=True)  # Forward fill\n",
            "<ipython-input-9-99d640f7bc11>:77: FutureWarning: DataFrame.fillna with 'method' is deprecated and will raise in a future version. Use obj.ffill() or obj.bfill() instead.\n",
            "  df.fillna(method='bfill', inplace=True)  # Backward fill\n"
          ]
        },
        {
          "output_type": "stream",
          "name": "stdout",
          "text": [
            "Processed and saved cleaned data for TGA.JO to Stocks/TGA.JO.csv\n"
          ]
        },
        {
          "output_type": "stream",
          "name": "stderr",
          "text": [
            "\r[*********************100%%**********************]  1 of 1 completed\n",
            "<ipython-input-9-99d640f7bc11>:76: FutureWarning: DataFrame.fillna with 'method' is deprecated and will raise in a future version. Use obj.ffill() or obj.bfill() instead.\n",
            "  df.fillna(method='ffill', inplace=True)  # Forward fill\n",
            "<ipython-input-9-99d640f7bc11>:77: FutureWarning: DataFrame.fillna with 'method' is deprecated and will raise in a future version. Use obj.ffill() or obj.bfill() instead.\n",
            "  df.fillna(method='bfill', inplace=True)  # Backward fill\n"
          ]
        },
        {
          "output_type": "stream",
          "name": "stdout",
          "text": [
            "Processed and saved cleaned data for THA.JO to Stocks/THA.JO.csv\n"
          ]
        },
        {
          "output_type": "stream",
          "name": "stderr",
          "text": [
            "\r[*********************100%%**********************]  1 of 1 completed\n",
            "<ipython-input-9-99d640f7bc11>:76: FutureWarning: DataFrame.fillna with 'method' is deprecated and will raise in a future version. Use obj.ffill() or obj.bfill() instead.\n",
            "  df.fillna(method='ffill', inplace=True)  # Forward fill\n",
            "<ipython-input-9-99d640f7bc11>:77: FutureWarning: DataFrame.fillna with 'method' is deprecated and will raise in a future version. Use obj.ffill() or obj.bfill() instead.\n",
            "  df.fillna(method='bfill', inplace=True)  # Backward fill\n"
          ]
        },
        {
          "output_type": "stream",
          "name": "stdout",
          "text": [
            "Processed and saved cleaned data for TKG.JO to Stocks/TKG.JO.csv\n"
          ]
        },
        {
          "output_type": "stream",
          "name": "stderr",
          "text": [
            "\r[*********************100%%**********************]  1 of 1 completed\n",
            "<ipython-input-9-99d640f7bc11>:76: FutureWarning: DataFrame.fillna with 'method' is deprecated and will raise in a future version. Use obj.ffill() or obj.bfill() instead.\n",
            "  df.fillna(method='ffill', inplace=True)  # Forward fill\n",
            "<ipython-input-9-99d640f7bc11>:77: FutureWarning: DataFrame.fillna with 'method' is deprecated and will raise in a future version. Use obj.ffill() or obj.bfill() instead.\n",
            "  df.fillna(method='bfill', inplace=True)  # Backward fill\n"
          ]
        },
        {
          "output_type": "stream",
          "name": "stdout",
          "text": [
            "Processed and saved cleaned data for TLM.JO to Stocks/TLM.JO.csv\n"
          ]
        },
        {
          "output_type": "stream",
          "name": "stderr",
          "text": [
            "\r[*********************100%%**********************]  1 of 1 completed\n",
            "<ipython-input-9-99d640f7bc11>:76: FutureWarning: DataFrame.fillna with 'method' is deprecated and will raise in a future version. Use obj.ffill() or obj.bfill() instead.\n",
            "  df.fillna(method='ffill', inplace=True)  # Forward fill\n",
            "<ipython-input-9-99d640f7bc11>:77: FutureWarning: DataFrame.fillna with 'method' is deprecated and will raise in a future version. Use obj.ffill() or obj.bfill() instead.\n",
            "  df.fillna(method='bfill', inplace=True)  # Backward fill\n"
          ]
        },
        {
          "output_type": "stream",
          "name": "stdout",
          "text": [
            "Processed and saved cleaned data for TMT.JO to Stocks/TMT.JO.csv\n"
          ]
        },
        {
          "output_type": "stream",
          "name": "stderr",
          "text": [
            "\r[*********************100%%**********************]  1 of 1 completed\n",
            "<ipython-input-9-99d640f7bc11>:76: FutureWarning: DataFrame.fillna with 'method' is deprecated and will raise in a future version. Use obj.ffill() or obj.bfill() instead.\n",
            "  df.fillna(method='ffill', inplace=True)  # Forward fill\n",
            "<ipython-input-9-99d640f7bc11>:77: FutureWarning: DataFrame.fillna with 'method' is deprecated and will raise in a future version. Use obj.ffill() or obj.bfill() instead.\n",
            "  df.fillna(method='bfill', inplace=True)  # Backward fill\n"
          ]
        },
        {
          "output_type": "stream",
          "name": "stdout",
          "text": [
            "Processed and saved cleaned data for TON.JO to Stocks/TON.JO.csv\n"
          ]
        },
        {
          "output_type": "stream",
          "name": "stderr",
          "text": [
            "\r[*********************100%%**********************]  1 of 1 completed\n",
            "<ipython-input-9-99d640f7bc11>:76: FutureWarning: DataFrame.fillna with 'method' is deprecated and will raise in a future version. Use obj.ffill() or obj.bfill() instead.\n",
            "  df.fillna(method='ffill', inplace=True)  # Forward fill\n",
            "<ipython-input-9-99d640f7bc11>:77: FutureWarning: DataFrame.fillna with 'method' is deprecated and will raise in a future version. Use obj.ffill() or obj.bfill() instead.\n",
            "  df.fillna(method='bfill', inplace=True)  # Backward fill\n"
          ]
        },
        {
          "output_type": "stream",
          "name": "stdout",
          "text": [
            "Processed and saved cleaned data for TPC.JO to Stocks/TPC.JO.csv\n"
          ]
        },
        {
          "output_type": "stream",
          "name": "stderr",
          "text": [
            "\r[*********************100%%**********************]  1 of 1 completed\n",
            "<ipython-input-9-99d640f7bc11>:76: FutureWarning: DataFrame.fillna with 'method' is deprecated and will raise in a future version. Use obj.ffill() or obj.bfill() instead.\n",
            "  df.fillna(method='ffill', inplace=True)  # Forward fill\n",
            "<ipython-input-9-99d640f7bc11>:77: FutureWarning: DataFrame.fillna with 'method' is deprecated and will raise in a future version. Use obj.ffill() or obj.bfill() instead.\n",
            "  df.fillna(method='bfill', inplace=True)  # Backward fill\n"
          ]
        },
        {
          "output_type": "stream",
          "name": "stdout",
          "text": [
            "Processed and saved cleaned data for TRE.JO to Stocks/TRE.JO.csv\n"
          ]
        },
        {
          "output_type": "stream",
          "name": "stderr",
          "text": [
            "\r[*********************100%%**********************]  1 of 1 completed\n",
            "<ipython-input-9-99d640f7bc11>:76: FutureWarning: DataFrame.fillna with 'method' is deprecated and will raise in a future version. Use obj.ffill() or obj.bfill() instead.\n",
            "  df.fillna(method='ffill', inplace=True)  # Forward fill\n",
            "<ipython-input-9-99d640f7bc11>:77: FutureWarning: DataFrame.fillna with 'method' is deprecated and will raise in a future version. Use obj.ffill() or obj.bfill() instead.\n",
            "  df.fillna(method='bfill', inplace=True)  # Backward fill\n"
          ]
        },
        {
          "output_type": "stream",
          "name": "stdout",
          "text": [
            "Processed and saved cleaned data for TRL.JO to Stocks/TRL.JO.csv\n"
          ]
        },
        {
          "output_type": "stream",
          "name": "stderr",
          "text": [
            "\r[*********************100%%**********************]  1 of 1 completed\n",
            "<ipython-input-9-99d640f7bc11>:76: FutureWarning: DataFrame.fillna with 'method' is deprecated and will raise in a future version. Use obj.ffill() or obj.bfill() instead.\n",
            "  df.fillna(method='ffill', inplace=True)  # Forward fill\n",
            "<ipython-input-9-99d640f7bc11>:77: FutureWarning: DataFrame.fillna with 'method' is deprecated and will raise in a future version. Use obj.ffill() or obj.bfill() instead.\n",
            "  df.fillna(method='bfill', inplace=True)  # Backward fill\n"
          ]
        },
        {
          "output_type": "stream",
          "name": "stdout",
          "text": [
            "Processed and saved cleaned data for TRU.JO to Stocks/TRU.JO.csv\n"
          ]
        },
        {
          "output_type": "stream",
          "name": "stderr",
          "text": [
            "\r[*********************100%%**********************]  1 of 1 completed\n",
            "<ipython-input-9-99d640f7bc11>:76: FutureWarning: DataFrame.fillna with 'method' is deprecated and will raise in a future version. Use obj.ffill() or obj.bfill() instead.\n",
            "  df.fillna(method='ffill', inplace=True)  # Forward fill\n",
            "<ipython-input-9-99d640f7bc11>:77: FutureWarning: DataFrame.fillna with 'method' is deprecated and will raise in a future version. Use obj.ffill() or obj.bfill() instead.\n",
            "  df.fillna(method='bfill', inplace=True)  # Backward fill\n"
          ]
        },
        {
          "output_type": "stream",
          "name": "stdout",
          "text": [
            "Processed and saved cleaned data for TSG.JO to Stocks/TSG.JO.csv\n"
          ]
        },
        {
          "output_type": "stream",
          "name": "stderr",
          "text": [
            "\r[*********************100%%**********************]  1 of 1 completed\n",
            "<ipython-input-9-99d640f7bc11>:76: FutureWarning: DataFrame.fillna with 'method' is deprecated and will raise in a future version. Use obj.ffill() or obj.bfill() instead.\n",
            "  df.fillna(method='ffill', inplace=True)  # Forward fill\n",
            "<ipython-input-9-99d640f7bc11>:77: FutureWarning: DataFrame.fillna with 'method' is deprecated and will raise in a future version. Use obj.ffill() or obj.bfill() instead.\n",
            "  df.fillna(method='bfill', inplace=True)  # Backward fill\n"
          ]
        },
        {
          "output_type": "stream",
          "name": "stdout",
          "text": [
            "Processed and saved cleaned data for TTO.JO to Stocks/TTO.JO.csv\n"
          ]
        },
        {
          "output_type": "stream",
          "name": "stderr",
          "text": [
            "\r[*********************100%%**********************]  1 of 1 completed\n",
            "<ipython-input-9-99d640f7bc11>:76: FutureWarning: DataFrame.fillna with 'method' is deprecated and will raise in a future version. Use obj.ffill() or obj.bfill() instead.\n",
            "  df.fillna(method='ffill', inplace=True)  # Forward fill\n",
            "<ipython-input-9-99d640f7bc11>:77: FutureWarning: DataFrame.fillna with 'method' is deprecated and will raise in a future version. Use obj.ffill() or obj.bfill() instead.\n",
            "  df.fillna(method='bfill', inplace=True)  # Backward fill\n"
          ]
        },
        {
          "output_type": "stream",
          "name": "stdout",
          "text": [
            "Processed and saved cleaned data for UPL.JO to Stocks/UPL.JO.csv\n"
          ]
        },
        {
          "output_type": "stream",
          "name": "stderr",
          "text": [
            "\r[*********************100%%**********************]  1 of 1 completed\n",
            "<ipython-input-9-99d640f7bc11>:76: FutureWarning: DataFrame.fillna with 'method' is deprecated and will raise in a future version. Use obj.ffill() or obj.bfill() instead.\n",
            "  df.fillna(method='ffill', inplace=True)  # Forward fill\n",
            "<ipython-input-9-99d640f7bc11>:77: FutureWarning: DataFrame.fillna with 'method' is deprecated and will raise in a future version. Use obj.ffill() or obj.bfill() instead.\n",
            "  df.fillna(method='bfill', inplace=True)  # Backward fill\n"
          ]
        },
        {
          "output_type": "stream",
          "name": "stdout",
          "text": [
            "Processed and saved cleaned data for VIS.JO to Stocks/VIS.JO.csv\n"
          ]
        },
        {
          "output_type": "stream",
          "name": "stderr",
          "text": [
            "\r[*********************100%%**********************]  1 of 1 completed\n",
            "<ipython-input-9-99d640f7bc11>:76: FutureWarning: DataFrame.fillna with 'method' is deprecated and will raise in a future version. Use obj.ffill() or obj.bfill() instead.\n",
            "  df.fillna(method='ffill', inplace=True)  # Forward fill\n",
            "<ipython-input-9-99d640f7bc11>:77: FutureWarning: DataFrame.fillna with 'method' is deprecated and will raise in a future version. Use obj.ffill() or obj.bfill() instead.\n",
            "  df.fillna(method='bfill', inplace=True)  # Backward fill\n"
          ]
        },
        {
          "output_type": "stream",
          "name": "stdout",
          "text": [
            "Processed and saved cleaned data for VKE.JO to Stocks/VKE.JO.csv\n"
          ]
        },
        {
          "output_type": "stream",
          "name": "stderr",
          "text": [
            "\r[*********************100%%**********************]  1 of 1 completed\n",
            "<ipython-input-9-99d640f7bc11>:76: FutureWarning: DataFrame.fillna with 'method' is deprecated and will raise in a future version. Use obj.ffill() or obj.bfill() instead.\n",
            "  df.fillna(method='ffill', inplace=True)  # Forward fill\n",
            "<ipython-input-9-99d640f7bc11>:77: FutureWarning: DataFrame.fillna with 'method' is deprecated and will raise in a future version. Use obj.ffill() or obj.bfill() instead.\n",
            "  df.fillna(method='bfill', inplace=True)  # Backward fill\n"
          ]
        },
        {
          "output_type": "stream",
          "name": "stdout",
          "text": [
            "Processed and saved cleaned data for VOD.JO to Stocks/VOD.JO.csv\n"
          ]
        },
        {
          "output_type": "stream",
          "name": "stderr",
          "text": [
            "\r[*********************100%%**********************]  1 of 1 completed\n",
            "<ipython-input-9-99d640f7bc11>:76: FutureWarning: DataFrame.fillna with 'method' is deprecated and will raise in a future version. Use obj.ffill() or obj.bfill() instead.\n",
            "  df.fillna(method='ffill', inplace=True)  # Forward fill\n",
            "<ipython-input-9-99d640f7bc11>:77: FutureWarning: DataFrame.fillna with 'method' is deprecated and will raise in a future version. Use obj.ffill() or obj.bfill() instead.\n",
            "  df.fillna(method='bfill', inplace=True)  # Backward fill\n"
          ]
        },
        {
          "output_type": "stream",
          "name": "stdout",
          "text": [
            "Processed and saved cleaned data for VUN.JO to Stocks/VUN.JO.csv\n"
          ]
        },
        {
          "output_type": "stream",
          "name": "stderr",
          "text": [
            "\r[*********************100%%**********************]  1 of 1 completed\n",
            "<ipython-input-9-99d640f7bc11>:76: FutureWarning: DataFrame.fillna with 'method' is deprecated and will raise in a future version. Use obj.ffill() or obj.bfill() instead.\n",
            "  df.fillna(method='ffill', inplace=True)  # Forward fill\n",
            "<ipython-input-9-99d640f7bc11>:77: FutureWarning: DataFrame.fillna with 'method' is deprecated and will raise in a future version. Use obj.ffill() or obj.bfill() instead.\n",
            "  df.fillna(method='bfill', inplace=True)  # Backward fill\n"
          ]
        },
        {
          "output_type": "stream",
          "name": "stdout",
          "text": [
            "Processed and saved cleaned data for WBC.JO to Stocks/WBC.JO.csv\n"
          ]
        },
        {
          "output_type": "stream",
          "name": "stderr",
          "text": [
            "\r[*********************100%%**********************]  1 of 1 completed\n",
            "<ipython-input-9-99d640f7bc11>:76: FutureWarning: DataFrame.fillna with 'method' is deprecated and will raise in a future version. Use obj.ffill() or obj.bfill() instead.\n",
            "  df.fillna(method='ffill', inplace=True)  # Forward fill\n",
            "<ipython-input-9-99d640f7bc11>:77: FutureWarning: DataFrame.fillna with 'method' is deprecated and will raise in a future version. Use obj.ffill() or obj.bfill() instead.\n",
            "  df.fillna(method='bfill', inplace=True)  # Backward fill\n"
          ]
        },
        {
          "output_type": "stream",
          "name": "stdout",
          "text": [
            "Processed and saved cleaned data for WBO.JO to Stocks/WBO.JO.csv\n"
          ]
        },
        {
          "output_type": "stream",
          "name": "stderr",
          "text": [
            "\r[*********************100%%**********************]  1 of 1 completed\n",
            "<ipython-input-9-99d640f7bc11>:76: FutureWarning: DataFrame.fillna with 'method' is deprecated and will raise in a future version. Use obj.ffill() or obj.bfill() instead.\n",
            "  df.fillna(method='ffill', inplace=True)  # Forward fill\n",
            "<ipython-input-9-99d640f7bc11>:77: FutureWarning: DataFrame.fillna with 'method' is deprecated and will raise in a future version. Use obj.ffill() or obj.bfill() instead.\n",
            "  df.fillna(method='bfill', inplace=True)  # Backward fill\n"
          ]
        },
        {
          "output_type": "stream",
          "name": "stdout",
          "text": [
            "Processed and saved cleaned data for WEZ.JO to Stocks/WEZ.JO.csv\n"
          ]
        },
        {
          "output_type": "stream",
          "name": "stderr",
          "text": [
            "\r[*********************100%%**********************]  1 of 1 completed\n",
            "<ipython-input-9-99d640f7bc11>:76: FutureWarning: DataFrame.fillna with 'method' is deprecated and will raise in a future version. Use obj.ffill() or obj.bfill() instead.\n",
            "  df.fillna(method='ffill', inplace=True)  # Forward fill\n",
            "<ipython-input-9-99d640f7bc11>:77: FutureWarning: DataFrame.fillna with 'method' is deprecated and will raise in a future version. Use obj.ffill() or obj.bfill() instead.\n",
            "  df.fillna(method='bfill', inplace=True)  # Backward fill\n"
          ]
        },
        {
          "output_type": "stream",
          "name": "stdout",
          "text": [
            "Processed and saved cleaned data for WHL.JO to Stocks/WHL.JO.csv\n"
          ]
        },
        {
          "output_type": "stream",
          "name": "stderr",
          "text": [
            "\r[*********************100%%**********************]  1 of 1 completed\n",
            "<ipython-input-9-99d640f7bc11>:76: FutureWarning: DataFrame.fillna with 'method' is deprecated and will raise in a future version. Use obj.ffill() or obj.bfill() instead.\n",
            "  df.fillna(method='ffill', inplace=True)  # Forward fill\n",
            "<ipython-input-9-99d640f7bc11>:77: FutureWarning: DataFrame.fillna with 'method' is deprecated and will raise in a future version. Use obj.ffill() or obj.bfill() instead.\n",
            "  df.fillna(method='bfill', inplace=True)  # Backward fill\n"
          ]
        },
        {
          "output_type": "stream",
          "name": "stdout",
          "text": [
            "Processed and saved cleaned data for WKF.JO to Stocks/WKF.JO.csv\n"
          ]
        },
        {
          "output_type": "stream",
          "name": "stderr",
          "text": [
            "\r[*********************100%%**********************]  1 of 1 completed\n",
            "<ipython-input-9-99d640f7bc11>:76: FutureWarning: DataFrame.fillna with 'method' is deprecated and will raise in a future version. Use obj.ffill() or obj.bfill() instead.\n",
            "  df.fillna(method='ffill', inplace=True)  # Forward fill\n",
            "<ipython-input-9-99d640f7bc11>:77: FutureWarning: DataFrame.fillna with 'method' is deprecated and will raise in a future version. Use obj.ffill() or obj.bfill() instead.\n",
            "  df.fillna(method='bfill', inplace=True)  # Backward fill\n"
          ]
        },
        {
          "output_type": "stream",
          "name": "stdout",
          "text": [
            "Processed and saved cleaned data for YRK.JO to Stocks/YRK.JO.csv\n"
          ]
        },
        {
          "output_type": "stream",
          "name": "stderr",
          "text": [
            "\r[*********************100%%**********************]  1 of 1 completed\n",
            "<ipython-input-9-99d640f7bc11>:76: FutureWarning: DataFrame.fillna with 'method' is deprecated and will raise in a future version. Use obj.ffill() or obj.bfill() instead.\n",
            "  df.fillna(method='ffill', inplace=True)  # Forward fill\n",
            "<ipython-input-9-99d640f7bc11>:77: FutureWarning: DataFrame.fillna with 'method' is deprecated and will raise in a future version. Use obj.ffill() or obj.bfill() instead.\n",
            "  df.fillna(method='bfill', inplace=True)  # Backward fill\n"
          ]
        },
        {
          "output_type": "stream",
          "name": "stdout",
          "text": [
            "Processed and saved cleaned data for ZED.JO to Stocks/ZED.JO.csv\n"
          ]
        },
        {
          "output_type": "stream",
          "name": "stderr",
          "text": [
            "\r[*********************100%%**********************]  1 of 1 completed"
          ]
        },
        {
          "output_type": "stream",
          "name": "stdout",
          "text": [
            "Processed and saved cleaned data for ZZD.JO to Stocks/ZZD.JO.csv\n",
            "All data saved and processed in the \"Stocks\" directory.\n",
            "Saved unique tickers to Stocks/tickers.csv\n"
          ]
        },
        {
          "output_type": "stream",
          "name": "stderr",
          "text": [
            "\n",
            "<ipython-input-9-99d640f7bc11>:76: FutureWarning: DataFrame.fillna with 'method' is deprecated and will raise in a future version. Use obj.ffill() or obj.bfill() instead.\n",
            "  df.fillna(method='ffill', inplace=True)  # Forward fill\n",
            "<ipython-input-9-99d640f7bc11>:77: FutureWarning: DataFrame.fillna with 'method' is deprecated and will raise in a future version. Use obj.ffill() or obj.bfill() instead.\n",
            "  df.fillna(method='bfill', inplace=True)  # Backward fill\n"
          ]
        }
      ]
    },
    {
      "cell_type": "code",
      "source": [
        "\n",
        "import os\n",
        "import glob\n",
        "\n",
        "# Specify the path to the directory\n",
        "path = '/content/drive/MyDrive/Stocks'\n",
        "\n",
        "# Specify the file to exclude\n",
        "exclude_file = 'tickers.csv'\n",
        "\n",
        "# Use glob to find all CSV files in the directory\n",
        "csv_files = glob.glob(os.path.join(path, '*.csv'))\n",
        "\n",
        "# Filter out the specific file\n",
        "csv_files = [file for file in csv_files if os.path.basename(file) != exclude_file]\n",
        "\n",
        "# Count the number of CSV files\n",
        "csv_count = len(csv_files)\n",
        "\n",
        "print(f'There are {csv_count} CSV files in the folder, excluding {exclude_file}.')"
      ],
      "metadata": {
        "id": "WVjiyhrF986R",
        "colab": {
          "base_uri": "https://localhost:8080/"
        },
        "outputId": "47073f6e-2880-4f98-ca45-95c6c3b187f0"
      },
      "execution_count": null,
      "outputs": [
        {
          "output_type": "stream",
          "name": "stdout",
          "text": [
            "There are 263 CSV files in the folder, excluding tickers.csv.\n"
          ]
        }
      ]
    },
    {
      "cell_type": "markdown",
      "metadata": {
        "id": "5Iq88Jjt27xE"
      },
      "source": [
        "###ranker.py"
      ]
    },
    {
      "cell_type": "code",
      "execution_count": null,
      "metadata": {
        "id": "ZSXlB3Lgfdgc"
      },
      "outputs": [],
      "source": [
        "\n",
        "import os\n",
        "import pandas as pd\n",
        "import numpy as np\n",
        "import yfinance as yf\n",
        "from scipy.stats import linregress\n",
        "\n",
        "#Make a variable for this is Settings\n",
        "\n",
        "ranking_day = '2024-08-07'\n",
        "\n",
        "\n",
        "# Define the directory containing the CSV files\n",
        "data_dir = '/content/drive/MyDrive/Stocks'\n",
        "\n",
        "# Read tickers from the 'tickers.csv' file\n",
        "tickers_df = pd.read_csv(os.path.join(data_dir, 'tickers.csv'), header=None)\n",
        "tickers = tickers_df[0].tolist()\n",
        "\n",
        "# Create a dictionary to store stock data\n",
        "stock_data = {}\n",
        "for ticker in tickers:\n",
        "    stock_data[ticker] = pd.read_csv(os.path.join(data_dir, f\"{ticker}.csv\"),\n",
        "                                     parse_dates=True, index_col=0)['Close']\n",
        "\n",
        "# Create a DataFrame from the dictionary\n",
        "stocks = pd.DataFrame(stock_data)\n",
        "\n",
        "# Remove duplicate columns\n",
        "stocks = stocks.loc[:, ~stocks.columns.duplicated()]\n",
        "\n",
        "# Calculate momentum\n",
        "def momentum(closes):\n",
        "    log_returns = np.log(closes)\n",
        "    x = np.arange(len(log_returns))\n",
        "    # Use linregress for consistency with previous code and to get rvalue\n",
        "    slope, _, rvalue, _, _ = linregress(x, log_returns)\n",
        "    annualized_slope = (1 + slope) ** 252\n",
        "    momentum_score = annualized_slope * (rvalue ** 2)\n",
        "    return momentum_score\n",
        "\n",
        "momentums = stocks.copy(deep=True)\n",
        "for ticker in tickers:\n",
        "    momentums[ticker] = stocks[ticker].rolling(90).apply(momentum, raw=False)\n",
        "\n",
        "# Rank stocks by momentum - sort by the values in the dataframe on the date provided in the 'ranking_day' variable\n",
        "result = momentums.sort_values(by=momentums.index[-1], axis=1, ascending=False)\n",
        "# Filter the result to only include rows where the date index is greater than or equal to the ranking day\n",
        "res = result[~(result.index < pd.to_datetime(ranking_day))].dropna(axis=1)\n",
        "\n",
        "# Reset the index to make 'Date' a column # This is the key change\n",
        "res = res.reset_index()\n",
        "\n",
        "# Prepare DataFrame for final results\n",
        "# Use the tickers list as the value_vars since they are now columns in the DataFrame\n",
        "finalframe = res.melt(id_vars=['Date'], value_vars=res.columns[1:], var_name='symbol', value_name='momentum_score')\n",
        "finalframe['momentum_score'] = finalframe['momentum_score'].astype(float)\n",
        "finalframe['rank'] = finalframe['momentum_score'].rank(ascending=False)\n",
        "\n",
        "# Filter out rows with momentum score < 0.001\n",
        "finalframe = finalframe[finalframe['momentum_score'] >= 0.001]\n",
        "\n",
        "# Reset the index\n",
        "finalframe.reset_index(drop=True, inplace=True)\n",
        "\n",
        "# Filter out low-ranked stocks (rank >= 50)\n",
        "finalframe = finalframe[finalframe['rank'] < 50]\n",
        "\n",
        "# Function to get company name from ticker\n",
        "def get_company_name(ticker):\n",
        "    try:\n",
        "        stock = yf.Ticker(ticker)\n",
        "        return stock.info['longName']\n",
        "    except KeyError:\n",
        "        return None\n",
        "\n",
        "# Add a new column with company names\n",
        "finalframe['company'] = finalframe['symbol'].apply(get_company_name)\n",
        "\n",
        "finalframe = finalframe.iloc[:, [0,4,1,2,3]]\n",
        "finalframe = finalframe.sort_values(by='rank')\n",
        "finalframe.to_csv('/content/drive/MyDrive/ranking_list.csv')"
      ]
    },
    {
      "cell_type": "markdown",
      "metadata": {
        "id": "VuEnsRplb-d_"
      },
      "source": [
        "###metrics.py"
      ]
    },
    {
      "cell_type": "code",
      "execution_count": null,
      "metadata": {
        "id": "Kk1_R5chbbW9",
        "colab": {
          "base_uri": "https://localhost:8080/",
          "height": 1000
        },
        "outputId": "0aa688bd-8949-4817-96e6-e710dd7c7beb"
      },
      "outputs": [
        {
          "output_type": "execute_result",
          "data": {
            "text/plain": [
              "         Date                                 company  symbol  momentum_score  \\\n",
              "0  2024-08-07                          Nictus Limited  NCS.JO     1069.240807   \n",
              "1  2024-08-07              The Foschini Group Limited  TFG.JO        2.684929   \n",
              "2  2024-08-07       Wilson Bayly Holmes-Ovcon Limited  WBO.JO        2.577784   \n",
              "3  2024-08-07                      The SPAR Group Ltd  SPP.JO        2.375373   \n",
              "4  2024-08-07                  Mr Price Group Limited  MRP.JO        2.014408   \n",
              "5  2024-08-07                             Tharisa plc  THA.JO        1.951582   \n",
              "6  2024-08-07                        Grindrod Limited  GND.JO        1.778454   \n",
              "7  2024-08-07  Randgold & Exploration Company Limited  RNG.JO        1.774534   \n",
              "8  2024-08-07         Truworths International Limited  TRU.JO        1.647119   \n",
              "9  2024-08-07                Crookes Brothers Limited  CKS.JO        1.638622   \n",
              "10 2024-08-07     Frontier Transport Holdings Limited  FTH.JO        1.576296   \n",
              "11 2024-08-07            York Timber Holdings Limited  YRK.JO        1.467035   \n",
              "12 2024-08-07                OUTsurance Group Limited  OUT.JO        1.340813   \n",
              "13 2024-08-07               CA Sales Holdings Limited  CAA.JO        1.239736   \n",
              "14 2024-08-07                       KAL Group Limited  KAL.JO        1.234417   \n",
              "15 2024-08-07          Growthpoint Properties Limited  GRT.JO        1.230203   \n",
              "16 2024-08-07              Trellidor Holdings Limited  TRL.JO        1.210109   \n",
              "17 2024-08-07                       Cashbuild Limited  CSB.JO        1.117168   \n",
              "18 2024-08-07                         Santova Limited  SNV.JO        1.063355   \n",
              "19 2024-08-07                      Copper 360 Limited  CPR.JO        1.030039   \n",
              "20 2024-08-07                     Super Group Limited  SPG.JO        1.005521   \n",
              "21 2024-08-07                  Omnia Holdings Limited  OMN.JO        0.977744   \n",
              "22 2024-08-07            Texton Property Fund Limited  TEX.JO        0.965423   \n",
              "23 2024-08-07                              MAS P.L.C.  MSP.JO        0.893863   \n",
              "24 2024-08-07                   AngloGold Ashanti plc  ANG.JO        0.832806   \n",
              "26 2024-08-07                    Tiger Brands Limited  TBS.JO        0.725974   \n",
              "27 2024-08-07            Choppies Enterprises Limited  CHP.JO        0.723962   \n",
              "28 2024-08-07                             KAP Limited  KAP.JO        0.717121   \n",
              "29 2024-08-07             Dis-Chem Pharmacies Limited  DCP.JO        0.713201   \n",
              "30 2024-08-07                       Transpaco Limited  TPC.JO        0.616220   \n",
              "31 2024-08-07               Lesaka Technologies, Inc.  LSK.JO        0.567970   \n",
              "32 2024-08-07           Mahube Infrastructure Limited  MHB.JO        0.497279   \n",
              "34 2024-08-07              Calgro M3 Holdings Limited  CGR.JO        0.346437   \n",
              "35 2024-08-07        Grand Parade Investments Limited  GPL.JO        0.316101   \n",
              "38 2024-08-07                Exxaro Resources Limited  EXX.JO        0.266284   \n",
              "40 2024-08-07                    RMB Holdings Limited  RMH.JO        0.231989   \n",
              "41 2024-08-07              Universal Partners Limited  UPL.JO        0.215793   \n",
              "42 2024-08-07         Grindrod Shipping Holdings Ltd.  GSH.JO        0.193745   \n",
              "45 2024-08-07                 Adcorp Holdings Limited  ADR.JO        0.122946   \n",
              "46 2024-08-07               Sun International Limited  SUI.JO        0.100301   \n",
              "\n",
              "    rank    Close  20_day_volatility  90_day_return  100_day_mean  \\\n",
              "0    1.0     80.0           0.066667       0.054931       54.6765   \n",
              "1    2.0  13349.0           0.053661       0.002882    11216.6100   \n",
              "2    3.0  17688.0           0.051035       0.002915    15248.8300   \n",
              "3    4.0  12215.0           0.051892       0.003600    10552.8900   \n",
              "4    5.0  21620.0           0.060146       0.002310    18741.3100   \n",
              "5    6.0   1878.0           0.150145       0.003666     1721.5800   \n",
              "6    7.0   1550.0           0.037752       0.001991     1393.5300   \n",
              "7    8.0     94.0           0.221039       0.006817       67.5300   \n",
              "8    9.0   9040.0           0.073677       0.001681     8263.6600   \n",
              "9   10.0   3151.0           0.144960       0.000553     3018.7200   \n",
              "10  11.0    765.0           0.121769       0.001984      670.9400   \n",
              "11  12.0    212.0           0.195808       0.002721      178.5500   \n",
              "12  13.0   4650.0           0.045486       0.001187     4324.9700   \n",
              "13  14.0   1335.0           0.122686       0.001659     1229.9800   \n",
              "14  15.0   4750.0           0.091615       0.001639     4494.2000   \n",
              "15  16.0   1301.0           0.058229       0.001567     1149.7500   \n",
              "16  17.0    168.0           0.210904       0.002433      162.9100   \n",
              "17  18.0  15750.0           0.102462       0.000996    15037.3000   \n",
              "18  19.0    785.0           0.081488       0.000671      751.7600   \n",
              "19  20.0    400.0           0.102453       0.003017      393.3400   \n",
              "20  21.0   2970.0           0.056178       0.001509     2802.9600   \n",
              "21  22.0   6499.0           0.042155       0.001000     6025.9000   \n",
              "22  23.0    350.0           0.076343       0.003746      311.8600   \n",
              "23  24.0   1785.0           0.054095       0.000908     1692.0400   \n",
              "24  25.0  51575.0           0.110463       0.002440    45709.3600   \n",
              "26  27.0  21809.0           0.055244       0.000834    20552.1200   \n",
              "27  28.0     64.0           0.173540       0.000353       60.2400   \n",
              "28  29.0    290.0           0.073967       0.001300      273.0100   \n",
              "29  30.0   3600.0           0.065019       0.001178     3327.8400   \n",
              "30  31.0   3216.0           0.154417       0.000066     3136.0600   \n",
              "31  32.0   8502.0           0.140809       0.002986     8161.9800   \n",
              "32  33.0    490.0           0.130134       0.002092      470.1200   \n",
              "34  35.0    569.0           0.117960       0.001261      550.4700   \n",
              "35  36.0    370.0           0.181563       0.002520      339.5100   \n",
              "38  39.0  18825.0           0.065939       0.001316    18243.1600   \n",
              "40  41.0     41.0           0.088201       0.001760       39.9000   \n",
              "41  42.0   2200.0          99.056662       0.001624     1661.8401   \n",
              "42  43.0  25954.0           0.098543       0.002900    24143.7200   \n",
              "45  46.0    450.0           0.219526       0.001735      413.4500   \n",
              "46  47.0   3805.0           0.062250       0.000314     3686.6500   \n",
              "\n",
              "     index_mean  stock_trend  market_trend    weight        units          ZAR  \n",
              "0   3740.147028         True          True  0.025305  3967.694665  3174.155732  \n",
              "1   3740.147028         True          True  0.031438    29.541447  3943.487700  \n",
              "2   3740.147028         True          True  0.033056    23.441894  4146.402286  \n",
              "3   3740.147028         True          True  0.032510    33.384445  4077.909948  \n",
              "4   3740.147028         True          True  0.028049    16.273359  3518.300294  \n",
              "5   3740.147028         True          True  0.011236    75.046684  1409.376734  \n",
              "6   3740.147028         True          True  0.044686   361.628530  5605.242208  \n",
              "7   3740.147028         True          True  0.007632  1018.451555   957.344461  \n",
              "8   3740.147028         True          True  0.022897    31.771428  2872.137079  \n",
              "9   3740.147028         True          True  0.011638    46.327636  1459.783796  \n",
              "10  3740.147028         True          True  0.013854   227.162780  1737.795265  \n",
              "11  3740.147028         True          True  0.008616   509.764530  1080.700803  \n",
              "12  3740.147028         True          True  0.037089   100.048413  4652.251218  \n",
              "13  3740.147028         True          True  0.013751   129.199726  1724.816346  \n",
              "14  3740.147028         True          True  0.018414    48.626881  2309.776845  \n",
              "15  3740.147028         True          True  0.028972   279.329588  3634.077935  \n",
              "16  3740.147028         True          True  0.007999   597.232405  1003.350440  \n",
              "17  3740.147028         True          True  0.016465    13.112783  2065.263274  \n",
              "18  3740.147028         True          True  0.020702   330.805448  2596.822765  \n",
              "19  3740.147028         True          True  0.016466   516.360149  2065.440597  \n",
              "20  3740.147028         True          True  0.030030   126.827666  3766.781680  \n",
              "21  3740.147028         True          True  0.040019    77.239812  5019.815360  \n",
              "22  3740.147028         True          True  0.022098   791.956904  2771.849166  \n",
              "23  3740.147028         True          True  0.031186   219.151448  3911.853340  \n",
              "24  3740.147028         True          True  0.015272     3.714322  1915.661692  \n",
              "26  3740.147028         True          True  0.030538    17.563858  3830.501693  \n",
              "27  3740.147028         True          True  0.009721  1905.273701  1219.375169  \n",
              "28  3740.147028         True          True  0.022807   986.504843  2860.864044  \n",
              "29  3740.147028         True          True  0.025946    90.405073  3254.582625  \n",
              "30  3740.147028         True          True  0.010925    42.611480  1370.385206  \n",
              "31  3740.147028         True          True  0.011981    17.676117  1502.823464  \n",
              "32  3740.147028         True          True  0.012964   331.855096  1626.089970  \n",
              "34  3740.147028         True          True  0.014302   315.275965  1793.920240  \n",
              "35  3740.147028         True          True  0.009292   314.997601  1165.491122  \n",
              "38  3740.147028         True          True  0.025585    17.047544  3209.200077  \n",
              "40  3740.147028         True          True  0.019127  5851.699069  2399.196618  \n",
              "41  3740.147028         True          True  0.000017     0.097103     2.136256  \n",
              "42  3740.147028         True          True  0.017119     8.273824  2147.388279  \n",
              "45  3740.147028         True          True  0.007685   214.209285   963.941781  \n",
              "46  3740.147028         True          True  0.027101    89.340051  3399.388943  "
            ],
            "text/html": [
              "\n",
              "  <div id=\"df-3850b00d-d853-4251-87fb-3cf286f5d21a\" class=\"colab-df-container\">\n",
              "    <div>\n",
              "<style scoped>\n",
              "    .dataframe tbody tr th:only-of-type {\n",
              "        vertical-align: middle;\n",
              "    }\n",
              "\n",
              "    .dataframe tbody tr th {\n",
              "        vertical-align: top;\n",
              "    }\n",
              "\n",
              "    .dataframe thead th {\n",
              "        text-align: right;\n",
              "    }\n",
              "</style>\n",
              "<table border=\"1\" class=\"dataframe\">\n",
              "  <thead>\n",
              "    <tr style=\"text-align: right;\">\n",
              "      <th></th>\n",
              "      <th>Date</th>\n",
              "      <th>company</th>\n",
              "      <th>symbol</th>\n",
              "      <th>momentum_score</th>\n",
              "      <th>rank</th>\n",
              "      <th>Close</th>\n",
              "      <th>20_day_volatility</th>\n",
              "      <th>90_day_return</th>\n",
              "      <th>100_day_mean</th>\n",
              "      <th>index_mean</th>\n",
              "      <th>stock_trend</th>\n",
              "      <th>market_trend</th>\n",
              "      <th>weight</th>\n",
              "      <th>units</th>\n",
              "      <th>ZAR</th>\n",
              "    </tr>\n",
              "  </thead>\n",
              "  <tbody>\n",
              "    <tr>\n",
              "      <th>0</th>\n",
              "      <td>2024-08-07</td>\n",
              "      <td>Nictus Limited</td>\n",
              "      <td>NCS.JO</td>\n",
              "      <td>1069.240807</td>\n",
              "      <td>1.0</td>\n",
              "      <td>80.0</td>\n",
              "      <td>0.066667</td>\n",
              "      <td>0.054931</td>\n",
              "      <td>54.6765</td>\n",
              "      <td>3740.147028</td>\n",
              "      <td>True</td>\n",
              "      <td>True</td>\n",
              "      <td>0.025305</td>\n",
              "      <td>3967.694665</td>\n",
              "      <td>3174.155732</td>\n",
              "    </tr>\n",
              "    <tr>\n",
              "      <th>1</th>\n",
              "      <td>2024-08-07</td>\n",
              "      <td>The Foschini Group Limited</td>\n",
              "      <td>TFG.JO</td>\n",
              "      <td>2.684929</td>\n",
              "      <td>2.0</td>\n",
              "      <td>13349.0</td>\n",
              "      <td>0.053661</td>\n",
              "      <td>0.002882</td>\n",
              "      <td>11216.6100</td>\n",
              "      <td>3740.147028</td>\n",
              "      <td>True</td>\n",
              "      <td>True</td>\n",
              "      <td>0.031438</td>\n",
              "      <td>29.541447</td>\n",
              "      <td>3943.487700</td>\n",
              "    </tr>\n",
              "    <tr>\n",
              "      <th>2</th>\n",
              "      <td>2024-08-07</td>\n",
              "      <td>Wilson Bayly Holmes-Ovcon Limited</td>\n",
              "      <td>WBO.JO</td>\n",
              "      <td>2.577784</td>\n",
              "      <td>3.0</td>\n",
              "      <td>17688.0</td>\n",
              "      <td>0.051035</td>\n",
              "      <td>0.002915</td>\n",
              "      <td>15248.8300</td>\n",
              "      <td>3740.147028</td>\n",
              "      <td>True</td>\n",
              "      <td>True</td>\n",
              "      <td>0.033056</td>\n",
              "      <td>23.441894</td>\n",
              "      <td>4146.402286</td>\n",
              "    </tr>\n",
              "    <tr>\n",
              "      <th>3</th>\n",
              "      <td>2024-08-07</td>\n",
              "      <td>The SPAR Group Ltd</td>\n",
              "      <td>SPP.JO</td>\n",
              "      <td>2.375373</td>\n",
              "      <td>4.0</td>\n",
              "      <td>12215.0</td>\n",
              "      <td>0.051892</td>\n",
              "      <td>0.003600</td>\n",
              "      <td>10552.8900</td>\n",
              "      <td>3740.147028</td>\n",
              "      <td>True</td>\n",
              "      <td>True</td>\n",
              "      <td>0.032510</td>\n",
              "      <td>33.384445</td>\n",
              "      <td>4077.909948</td>\n",
              "    </tr>\n",
              "    <tr>\n",
              "      <th>4</th>\n",
              "      <td>2024-08-07</td>\n",
              "      <td>Mr Price Group Limited</td>\n",
              "      <td>MRP.JO</td>\n",
              "      <td>2.014408</td>\n",
              "      <td>5.0</td>\n",
              "      <td>21620.0</td>\n",
              "      <td>0.060146</td>\n",
              "      <td>0.002310</td>\n",
              "      <td>18741.3100</td>\n",
              "      <td>3740.147028</td>\n",
              "      <td>True</td>\n",
              "      <td>True</td>\n",
              "      <td>0.028049</td>\n",
              "      <td>16.273359</td>\n",
              "      <td>3518.300294</td>\n",
              "    </tr>\n",
              "    <tr>\n",
              "      <th>5</th>\n",
              "      <td>2024-08-07</td>\n",
              "      <td>Tharisa plc</td>\n",
              "      <td>THA.JO</td>\n",
              "      <td>1.951582</td>\n",
              "      <td>6.0</td>\n",
              "      <td>1878.0</td>\n",
              "      <td>0.150145</td>\n",
              "      <td>0.003666</td>\n",
              "      <td>1721.5800</td>\n",
              "      <td>3740.147028</td>\n",
              "      <td>True</td>\n",
              "      <td>True</td>\n",
              "      <td>0.011236</td>\n",
              "      <td>75.046684</td>\n",
              "      <td>1409.376734</td>\n",
              "    </tr>\n",
              "    <tr>\n",
              "      <th>6</th>\n",
              "      <td>2024-08-07</td>\n",
              "      <td>Grindrod Limited</td>\n",
              "      <td>GND.JO</td>\n",
              "      <td>1.778454</td>\n",
              "      <td>7.0</td>\n",
              "      <td>1550.0</td>\n",
              "      <td>0.037752</td>\n",
              "      <td>0.001991</td>\n",
              "      <td>1393.5300</td>\n",
              "      <td>3740.147028</td>\n",
              "      <td>True</td>\n",
              "      <td>True</td>\n",
              "      <td>0.044686</td>\n",
              "      <td>361.628530</td>\n",
              "      <td>5605.242208</td>\n",
              "    </tr>\n",
              "    <tr>\n",
              "      <th>7</th>\n",
              "      <td>2024-08-07</td>\n",
              "      <td>Randgold &amp; Exploration Company Limited</td>\n",
              "      <td>RNG.JO</td>\n",
              "      <td>1.774534</td>\n",
              "      <td>8.0</td>\n",
              "      <td>94.0</td>\n",
              "      <td>0.221039</td>\n",
              "      <td>0.006817</td>\n",
              "      <td>67.5300</td>\n",
              "      <td>3740.147028</td>\n",
              "      <td>True</td>\n",
              "      <td>True</td>\n",
              "      <td>0.007632</td>\n",
              "      <td>1018.451555</td>\n",
              "      <td>957.344461</td>\n",
              "    </tr>\n",
              "    <tr>\n",
              "      <th>8</th>\n",
              "      <td>2024-08-07</td>\n",
              "      <td>Truworths International Limited</td>\n",
              "      <td>TRU.JO</td>\n",
              "      <td>1.647119</td>\n",
              "      <td>9.0</td>\n",
              "      <td>9040.0</td>\n",
              "      <td>0.073677</td>\n",
              "      <td>0.001681</td>\n",
              "      <td>8263.6600</td>\n",
              "      <td>3740.147028</td>\n",
              "      <td>True</td>\n",
              "      <td>True</td>\n",
              "      <td>0.022897</td>\n",
              "      <td>31.771428</td>\n",
              "      <td>2872.137079</td>\n",
              "    </tr>\n",
              "    <tr>\n",
              "      <th>9</th>\n",
              "      <td>2024-08-07</td>\n",
              "      <td>Crookes Brothers Limited</td>\n",
              "      <td>CKS.JO</td>\n",
              "      <td>1.638622</td>\n",
              "      <td>10.0</td>\n",
              "      <td>3151.0</td>\n",
              "      <td>0.144960</td>\n",
              "      <td>0.000553</td>\n",
              "      <td>3018.7200</td>\n",
              "      <td>3740.147028</td>\n",
              "      <td>True</td>\n",
              "      <td>True</td>\n",
              "      <td>0.011638</td>\n",
              "      <td>46.327636</td>\n",
              "      <td>1459.783796</td>\n",
              "    </tr>\n",
              "    <tr>\n",
              "      <th>10</th>\n",
              "      <td>2024-08-07</td>\n",
              "      <td>Frontier Transport Holdings Limited</td>\n",
              "      <td>FTH.JO</td>\n",
              "      <td>1.576296</td>\n",
              "      <td>11.0</td>\n",
              "      <td>765.0</td>\n",
              "      <td>0.121769</td>\n",
              "      <td>0.001984</td>\n",
              "      <td>670.9400</td>\n",
              "      <td>3740.147028</td>\n",
              "      <td>True</td>\n",
              "      <td>True</td>\n",
              "      <td>0.013854</td>\n",
              "      <td>227.162780</td>\n",
              "      <td>1737.795265</td>\n",
              "    </tr>\n",
              "    <tr>\n",
              "      <th>11</th>\n",
              "      <td>2024-08-07</td>\n",
              "      <td>York Timber Holdings Limited</td>\n",
              "      <td>YRK.JO</td>\n",
              "      <td>1.467035</td>\n",
              "      <td>12.0</td>\n",
              "      <td>212.0</td>\n",
              "      <td>0.195808</td>\n",
              "      <td>0.002721</td>\n",
              "      <td>178.5500</td>\n",
              "      <td>3740.147028</td>\n",
              "      <td>True</td>\n",
              "      <td>True</td>\n",
              "      <td>0.008616</td>\n",
              "      <td>509.764530</td>\n",
              "      <td>1080.700803</td>\n",
              "    </tr>\n",
              "    <tr>\n",
              "      <th>12</th>\n",
              "      <td>2024-08-07</td>\n",
              "      <td>OUTsurance Group Limited</td>\n",
              "      <td>OUT.JO</td>\n",
              "      <td>1.340813</td>\n",
              "      <td>13.0</td>\n",
              "      <td>4650.0</td>\n",
              "      <td>0.045486</td>\n",
              "      <td>0.001187</td>\n",
              "      <td>4324.9700</td>\n",
              "      <td>3740.147028</td>\n",
              "      <td>True</td>\n",
              "      <td>True</td>\n",
              "      <td>0.037089</td>\n",
              "      <td>100.048413</td>\n",
              "      <td>4652.251218</td>\n",
              "    </tr>\n",
              "    <tr>\n",
              "      <th>13</th>\n",
              "      <td>2024-08-07</td>\n",
              "      <td>CA Sales Holdings Limited</td>\n",
              "      <td>CAA.JO</td>\n",
              "      <td>1.239736</td>\n",
              "      <td>14.0</td>\n",
              "      <td>1335.0</td>\n",
              "      <td>0.122686</td>\n",
              "      <td>0.001659</td>\n",
              "      <td>1229.9800</td>\n",
              "      <td>3740.147028</td>\n",
              "      <td>True</td>\n",
              "      <td>True</td>\n",
              "      <td>0.013751</td>\n",
              "      <td>129.199726</td>\n",
              "      <td>1724.816346</td>\n",
              "    </tr>\n",
              "    <tr>\n",
              "      <th>14</th>\n",
              "      <td>2024-08-07</td>\n",
              "      <td>KAL Group Limited</td>\n",
              "      <td>KAL.JO</td>\n",
              "      <td>1.234417</td>\n",
              "      <td>15.0</td>\n",
              "      <td>4750.0</td>\n",
              "      <td>0.091615</td>\n",
              "      <td>0.001639</td>\n",
              "      <td>4494.2000</td>\n",
              "      <td>3740.147028</td>\n",
              "      <td>True</td>\n",
              "      <td>True</td>\n",
              "      <td>0.018414</td>\n",
              "      <td>48.626881</td>\n",
              "      <td>2309.776845</td>\n",
              "    </tr>\n",
              "    <tr>\n",
              "      <th>15</th>\n",
              "      <td>2024-08-07</td>\n",
              "      <td>Growthpoint Properties Limited</td>\n",
              "      <td>GRT.JO</td>\n",
              "      <td>1.230203</td>\n",
              "      <td>16.0</td>\n",
              "      <td>1301.0</td>\n",
              "      <td>0.058229</td>\n",
              "      <td>0.001567</td>\n",
              "      <td>1149.7500</td>\n",
              "      <td>3740.147028</td>\n",
              "      <td>True</td>\n",
              "      <td>True</td>\n",
              "      <td>0.028972</td>\n",
              "      <td>279.329588</td>\n",
              "      <td>3634.077935</td>\n",
              "    </tr>\n",
              "    <tr>\n",
              "      <th>16</th>\n",
              "      <td>2024-08-07</td>\n",
              "      <td>Trellidor Holdings Limited</td>\n",
              "      <td>TRL.JO</td>\n",
              "      <td>1.210109</td>\n",
              "      <td>17.0</td>\n",
              "      <td>168.0</td>\n",
              "      <td>0.210904</td>\n",
              "      <td>0.002433</td>\n",
              "      <td>162.9100</td>\n",
              "      <td>3740.147028</td>\n",
              "      <td>True</td>\n",
              "      <td>True</td>\n",
              "      <td>0.007999</td>\n",
              "      <td>597.232405</td>\n",
              "      <td>1003.350440</td>\n",
              "    </tr>\n",
              "    <tr>\n",
              "      <th>17</th>\n",
              "      <td>2024-08-07</td>\n",
              "      <td>Cashbuild Limited</td>\n",
              "      <td>CSB.JO</td>\n",
              "      <td>1.117168</td>\n",
              "      <td>18.0</td>\n",
              "      <td>15750.0</td>\n",
              "      <td>0.102462</td>\n",
              "      <td>0.000996</td>\n",
              "      <td>15037.3000</td>\n",
              "      <td>3740.147028</td>\n",
              "      <td>True</td>\n",
              "      <td>True</td>\n",
              "      <td>0.016465</td>\n",
              "      <td>13.112783</td>\n",
              "      <td>2065.263274</td>\n",
              "    </tr>\n",
              "    <tr>\n",
              "      <th>18</th>\n",
              "      <td>2024-08-07</td>\n",
              "      <td>Santova Limited</td>\n",
              "      <td>SNV.JO</td>\n",
              "      <td>1.063355</td>\n",
              "      <td>19.0</td>\n",
              "      <td>785.0</td>\n",
              "      <td>0.081488</td>\n",
              "      <td>0.000671</td>\n",
              "      <td>751.7600</td>\n",
              "      <td>3740.147028</td>\n",
              "      <td>True</td>\n",
              "      <td>True</td>\n",
              "      <td>0.020702</td>\n",
              "      <td>330.805448</td>\n",
              "      <td>2596.822765</td>\n",
              "    </tr>\n",
              "    <tr>\n",
              "      <th>19</th>\n",
              "      <td>2024-08-07</td>\n",
              "      <td>Copper 360 Limited</td>\n",
              "      <td>CPR.JO</td>\n",
              "      <td>1.030039</td>\n",
              "      <td>20.0</td>\n",
              "      <td>400.0</td>\n",
              "      <td>0.102453</td>\n",
              "      <td>0.003017</td>\n",
              "      <td>393.3400</td>\n",
              "      <td>3740.147028</td>\n",
              "      <td>True</td>\n",
              "      <td>True</td>\n",
              "      <td>0.016466</td>\n",
              "      <td>516.360149</td>\n",
              "      <td>2065.440597</td>\n",
              "    </tr>\n",
              "    <tr>\n",
              "      <th>20</th>\n",
              "      <td>2024-08-07</td>\n",
              "      <td>Super Group Limited</td>\n",
              "      <td>SPG.JO</td>\n",
              "      <td>1.005521</td>\n",
              "      <td>21.0</td>\n",
              "      <td>2970.0</td>\n",
              "      <td>0.056178</td>\n",
              "      <td>0.001509</td>\n",
              "      <td>2802.9600</td>\n",
              "      <td>3740.147028</td>\n",
              "      <td>True</td>\n",
              "      <td>True</td>\n",
              "      <td>0.030030</td>\n",
              "      <td>126.827666</td>\n",
              "      <td>3766.781680</td>\n",
              "    </tr>\n",
              "    <tr>\n",
              "      <th>21</th>\n",
              "      <td>2024-08-07</td>\n",
              "      <td>Omnia Holdings Limited</td>\n",
              "      <td>OMN.JO</td>\n",
              "      <td>0.977744</td>\n",
              "      <td>22.0</td>\n",
              "      <td>6499.0</td>\n",
              "      <td>0.042155</td>\n",
              "      <td>0.001000</td>\n",
              "      <td>6025.9000</td>\n",
              "      <td>3740.147028</td>\n",
              "      <td>True</td>\n",
              "      <td>True</td>\n",
              "      <td>0.040019</td>\n",
              "      <td>77.239812</td>\n",
              "      <td>5019.815360</td>\n",
              "    </tr>\n",
              "    <tr>\n",
              "      <th>22</th>\n",
              "      <td>2024-08-07</td>\n",
              "      <td>Texton Property Fund Limited</td>\n",
              "      <td>TEX.JO</td>\n",
              "      <td>0.965423</td>\n",
              "      <td>23.0</td>\n",
              "      <td>350.0</td>\n",
              "      <td>0.076343</td>\n",
              "      <td>0.003746</td>\n",
              "      <td>311.8600</td>\n",
              "      <td>3740.147028</td>\n",
              "      <td>True</td>\n",
              "      <td>True</td>\n",
              "      <td>0.022098</td>\n",
              "      <td>791.956904</td>\n",
              "      <td>2771.849166</td>\n",
              "    </tr>\n",
              "    <tr>\n",
              "      <th>23</th>\n",
              "      <td>2024-08-07</td>\n",
              "      <td>MAS P.L.C.</td>\n",
              "      <td>MSP.JO</td>\n",
              "      <td>0.893863</td>\n",
              "      <td>24.0</td>\n",
              "      <td>1785.0</td>\n",
              "      <td>0.054095</td>\n",
              "      <td>0.000908</td>\n",
              "      <td>1692.0400</td>\n",
              "      <td>3740.147028</td>\n",
              "      <td>True</td>\n",
              "      <td>True</td>\n",
              "      <td>0.031186</td>\n",
              "      <td>219.151448</td>\n",
              "      <td>3911.853340</td>\n",
              "    </tr>\n",
              "    <tr>\n",
              "      <th>24</th>\n",
              "      <td>2024-08-07</td>\n",
              "      <td>AngloGold Ashanti plc</td>\n",
              "      <td>ANG.JO</td>\n",
              "      <td>0.832806</td>\n",
              "      <td>25.0</td>\n",
              "      <td>51575.0</td>\n",
              "      <td>0.110463</td>\n",
              "      <td>0.002440</td>\n",
              "      <td>45709.3600</td>\n",
              "      <td>3740.147028</td>\n",
              "      <td>True</td>\n",
              "      <td>True</td>\n",
              "      <td>0.015272</td>\n",
              "      <td>3.714322</td>\n",
              "      <td>1915.661692</td>\n",
              "    </tr>\n",
              "    <tr>\n",
              "      <th>26</th>\n",
              "      <td>2024-08-07</td>\n",
              "      <td>Tiger Brands Limited</td>\n",
              "      <td>TBS.JO</td>\n",
              "      <td>0.725974</td>\n",
              "      <td>27.0</td>\n",
              "      <td>21809.0</td>\n",
              "      <td>0.055244</td>\n",
              "      <td>0.000834</td>\n",
              "      <td>20552.1200</td>\n",
              "      <td>3740.147028</td>\n",
              "      <td>True</td>\n",
              "      <td>True</td>\n",
              "      <td>0.030538</td>\n",
              "      <td>17.563858</td>\n",
              "      <td>3830.501693</td>\n",
              "    </tr>\n",
              "    <tr>\n",
              "      <th>27</th>\n",
              "      <td>2024-08-07</td>\n",
              "      <td>Choppies Enterprises Limited</td>\n",
              "      <td>CHP.JO</td>\n",
              "      <td>0.723962</td>\n",
              "      <td>28.0</td>\n",
              "      <td>64.0</td>\n",
              "      <td>0.173540</td>\n",
              "      <td>0.000353</td>\n",
              "      <td>60.2400</td>\n",
              "      <td>3740.147028</td>\n",
              "      <td>True</td>\n",
              "      <td>True</td>\n",
              "      <td>0.009721</td>\n",
              "      <td>1905.273701</td>\n",
              "      <td>1219.375169</td>\n",
              "    </tr>\n",
              "    <tr>\n",
              "      <th>28</th>\n",
              "      <td>2024-08-07</td>\n",
              "      <td>KAP Limited</td>\n",
              "      <td>KAP.JO</td>\n",
              "      <td>0.717121</td>\n",
              "      <td>29.0</td>\n",
              "      <td>290.0</td>\n",
              "      <td>0.073967</td>\n",
              "      <td>0.001300</td>\n",
              "      <td>273.0100</td>\n",
              "      <td>3740.147028</td>\n",
              "      <td>True</td>\n",
              "      <td>True</td>\n",
              "      <td>0.022807</td>\n",
              "      <td>986.504843</td>\n",
              "      <td>2860.864044</td>\n",
              "    </tr>\n",
              "    <tr>\n",
              "      <th>29</th>\n",
              "      <td>2024-08-07</td>\n",
              "      <td>Dis-Chem Pharmacies Limited</td>\n",
              "      <td>DCP.JO</td>\n",
              "      <td>0.713201</td>\n",
              "      <td>30.0</td>\n",
              "      <td>3600.0</td>\n",
              "      <td>0.065019</td>\n",
              "      <td>0.001178</td>\n",
              "      <td>3327.8400</td>\n",
              "      <td>3740.147028</td>\n",
              "      <td>True</td>\n",
              "      <td>True</td>\n",
              "      <td>0.025946</td>\n",
              "      <td>90.405073</td>\n",
              "      <td>3254.582625</td>\n",
              "    </tr>\n",
              "    <tr>\n",
              "      <th>30</th>\n",
              "      <td>2024-08-07</td>\n",
              "      <td>Transpaco Limited</td>\n",
              "      <td>TPC.JO</td>\n",
              "      <td>0.616220</td>\n",
              "      <td>31.0</td>\n",
              "      <td>3216.0</td>\n",
              "      <td>0.154417</td>\n",
              "      <td>0.000066</td>\n",
              "      <td>3136.0600</td>\n",
              "      <td>3740.147028</td>\n",
              "      <td>True</td>\n",
              "      <td>True</td>\n",
              "      <td>0.010925</td>\n",
              "      <td>42.611480</td>\n",
              "      <td>1370.385206</td>\n",
              "    </tr>\n",
              "    <tr>\n",
              "      <th>31</th>\n",
              "      <td>2024-08-07</td>\n",
              "      <td>Lesaka Technologies, Inc.</td>\n",
              "      <td>LSK.JO</td>\n",
              "      <td>0.567970</td>\n",
              "      <td>32.0</td>\n",
              "      <td>8502.0</td>\n",
              "      <td>0.140809</td>\n",
              "      <td>0.002986</td>\n",
              "      <td>8161.9800</td>\n",
              "      <td>3740.147028</td>\n",
              "      <td>True</td>\n",
              "      <td>True</td>\n",
              "      <td>0.011981</td>\n",
              "      <td>17.676117</td>\n",
              "      <td>1502.823464</td>\n",
              "    </tr>\n",
              "    <tr>\n",
              "      <th>32</th>\n",
              "      <td>2024-08-07</td>\n",
              "      <td>Mahube Infrastructure Limited</td>\n",
              "      <td>MHB.JO</td>\n",
              "      <td>0.497279</td>\n",
              "      <td>33.0</td>\n",
              "      <td>490.0</td>\n",
              "      <td>0.130134</td>\n",
              "      <td>0.002092</td>\n",
              "      <td>470.1200</td>\n",
              "      <td>3740.147028</td>\n",
              "      <td>True</td>\n",
              "      <td>True</td>\n",
              "      <td>0.012964</td>\n",
              "      <td>331.855096</td>\n",
              "      <td>1626.089970</td>\n",
              "    </tr>\n",
              "    <tr>\n",
              "      <th>34</th>\n",
              "      <td>2024-08-07</td>\n",
              "      <td>Calgro M3 Holdings Limited</td>\n",
              "      <td>CGR.JO</td>\n",
              "      <td>0.346437</td>\n",
              "      <td>35.0</td>\n",
              "      <td>569.0</td>\n",
              "      <td>0.117960</td>\n",
              "      <td>0.001261</td>\n",
              "      <td>550.4700</td>\n",
              "      <td>3740.147028</td>\n",
              "      <td>True</td>\n",
              "      <td>True</td>\n",
              "      <td>0.014302</td>\n",
              "      <td>315.275965</td>\n",
              "      <td>1793.920240</td>\n",
              "    </tr>\n",
              "    <tr>\n",
              "      <th>35</th>\n",
              "      <td>2024-08-07</td>\n",
              "      <td>Grand Parade Investments Limited</td>\n",
              "      <td>GPL.JO</td>\n",
              "      <td>0.316101</td>\n",
              "      <td>36.0</td>\n",
              "      <td>370.0</td>\n",
              "      <td>0.181563</td>\n",
              "      <td>0.002520</td>\n",
              "      <td>339.5100</td>\n",
              "      <td>3740.147028</td>\n",
              "      <td>True</td>\n",
              "      <td>True</td>\n",
              "      <td>0.009292</td>\n",
              "      <td>314.997601</td>\n",
              "      <td>1165.491122</td>\n",
              "    </tr>\n",
              "    <tr>\n",
              "      <th>38</th>\n",
              "      <td>2024-08-07</td>\n",
              "      <td>Exxaro Resources Limited</td>\n",
              "      <td>EXX.JO</td>\n",
              "      <td>0.266284</td>\n",
              "      <td>39.0</td>\n",
              "      <td>18825.0</td>\n",
              "      <td>0.065939</td>\n",
              "      <td>0.001316</td>\n",
              "      <td>18243.1600</td>\n",
              "      <td>3740.147028</td>\n",
              "      <td>True</td>\n",
              "      <td>True</td>\n",
              "      <td>0.025585</td>\n",
              "      <td>17.047544</td>\n",
              "      <td>3209.200077</td>\n",
              "    </tr>\n",
              "    <tr>\n",
              "      <th>40</th>\n",
              "      <td>2024-08-07</td>\n",
              "      <td>RMB Holdings Limited</td>\n",
              "      <td>RMH.JO</td>\n",
              "      <td>0.231989</td>\n",
              "      <td>41.0</td>\n",
              "      <td>41.0</td>\n",
              "      <td>0.088201</td>\n",
              "      <td>0.001760</td>\n",
              "      <td>39.9000</td>\n",
              "      <td>3740.147028</td>\n",
              "      <td>True</td>\n",
              "      <td>True</td>\n",
              "      <td>0.019127</td>\n",
              "      <td>5851.699069</td>\n",
              "      <td>2399.196618</td>\n",
              "    </tr>\n",
              "    <tr>\n",
              "      <th>41</th>\n",
              "      <td>2024-08-07</td>\n",
              "      <td>Universal Partners Limited</td>\n",
              "      <td>UPL.JO</td>\n",
              "      <td>0.215793</td>\n",
              "      <td>42.0</td>\n",
              "      <td>2200.0</td>\n",
              "      <td>99.056662</td>\n",
              "      <td>0.001624</td>\n",
              "      <td>1661.8401</td>\n",
              "      <td>3740.147028</td>\n",
              "      <td>True</td>\n",
              "      <td>True</td>\n",
              "      <td>0.000017</td>\n",
              "      <td>0.097103</td>\n",
              "      <td>2.136256</td>\n",
              "    </tr>\n",
              "    <tr>\n",
              "      <th>42</th>\n",
              "      <td>2024-08-07</td>\n",
              "      <td>Grindrod Shipping Holdings Ltd.</td>\n",
              "      <td>GSH.JO</td>\n",
              "      <td>0.193745</td>\n",
              "      <td>43.0</td>\n",
              "      <td>25954.0</td>\n",
              "      <td>0.098543</td>\n",
              "      <td>0.002900</td>\n",
              "      <td>24143.7200</td>\n",
              "      <td>3740.147028</td>\n",
              "      <td>True</td>\n",
              "      <td>True</td>\n",
              "      <td>0.017119</td>\n",
              "      <td>8.273824</td>\n",
              "      <td>2147.388279</td>\n",
              "    </tr>\n",
              "    <tr>\n",
              "      <th>45</th>\n",
              "      <td>2024-08-07</td>\n",
              "      <td>Adcorp Holdings Limited</td>\n",
              "      <td>ADR.JO</td>\n",
              "      <td>0.122946</td>\n",
              "      <td>46.0</td>\n",
              "      <td>450.0</td>\n",
              "      <td>0.219526</td>\n",
              "      <td>0.001735</td>\n",
              "      <td>413.4500</td>\n",
              "      <td>3740.147028</td>\n",
              "      <td>True</td>\n",
              "      <td>True</td>\n",
              "      <td>0.007685</td>\n",
              "      <td>214.209285</td>\n",
              "      <td>963.941781</td>\n",
              "    </tr>\n",
              "    <tr>\n",
              "      <th>46</th>\n",
              "      <td>2024-08-07</td>\n",
              "      <td>Sun International Limited</td>\n",
              "      <td>SUI.JO</td>\n",
              "      <td>0.100301</td>\n",
              "      <td>47.0</td>\n",
              "      <td>3805.0</td>\n",
              "      <td>0.062250</td>\n",
              "      <td>0.000314</td>\n",
              "      <td>3686.6500</td>\n",
              "      <td>3740.147028</td>\n",
              "      <td>True</td>\n",
              "      <td>True</td>\n",
              "      <td>0.027101</td>\n",
              "      <td>89.340051</td>\n",
              "      <td>3399.388943</td>\n",
              "    </tr>\n",
              "  </tbody>\n",
              "</table>\n",
              "</div>\n",
              "    <div class=\"colab-df-buttons\">\n",
              "\n",
              "  <div class=\"colab-df-container\">\n",
              "    <button class=\"colab-df-convert\" onclick=\"convertToInteractive('df-3850b00d-d853-4251-87fb-3cf286f5d21a')\"\n",
              "            title=\"Convert this dataframe to an interactive table.\"\n",
              "            style=\"display:none;\">\n",
              "\n",
              "  <svg xmlns=\"http://www.w3.org/2000/svg\" height=\"24px\" viewBox=\"0 -960 960 960\">\n",
              "    <path d=\"M120-120v-720h720v720H120Zm60-500h600v-160H180v160Zm220 220h160v-160H400v160Zm0 220h160v-160H400v160ZM180-400h160v-160H180v160Zm440 0h160v-160H620v160ZM180-180h160v-160H180v160Zm440 0h160v-160H620v160Z\"/>\n",
              "  </svg>\n",
              "    </button>\n",
              "\n",
              "  <style>\n",
              "    .colab-df-container {\n",
              "      display:flex;\n",
              "      gap: 12px;\n",
              "    }\n",
              "\n",
              "    .colab-df-convert {\n",
              "      background-color: #E8F0FE;\n",
              "      border: none;\n",
              "      border-radius: 50%;\n",
              "      cursor: pointer;\n",
              "      display: none;\n",
              "      fill: #1967D2;\n",
              "      height: 32px;\n",
              "      padding: 0 0 0 0;\n",
              "      width: 32px;\n",
              "    }\n",
              "\n",
              "    .colab-df-convert:hover {\n",
              "      background-color: #E2EBFA;\n",
              "      box-shadow: 0px 1px 2px rgba(60, 64, 67, 0.3), 0px 1px 3px 1px rgba(60, 64, 67, 0.15);\n",
              "      fill: #174EA6;\n",
              "    }\n",
              "\n",
              "    .colab-df-buttons div {\n",
              "      margin-bottom: 4px;\n",
              "    }\n",
              "\n",
              "    [theme=dark] .colab-df-convert {\n",
              "      background-color: #3B4455;\n",
              "      fill: #D2E3FC;\n",
              "    }\n",
              "\n",
              "    [theme=dark] .colab-df-convert:hover {\n",
              "      background-color: #434B5C;\n",
              "      box-shadow: 0px 1px 3px 1px rgba(0, 0, 0, 0.15);\n",
              "      filter: drop-shadow(0px 1px 2px rgba(0, 0, 0, 0.3));\n",
              "      fill: #FFFFFF;\n",
              "    }\n",
              "  </style>\n",
              "\n",
              "    <script>\n",
              "      const buttonEl =\n",
              "        document.querySelector('#df-3850b00d-d853-4251-87fb-3cf286f5d21a button.colab-df-convert');\n",
              "      buttonEl.style.display =\n",
              "        google.colab.kernel.accessAllowed ? 'block' : 'none';\n",
              "\n",
              "      async function convertToInteractive(key) {\n",
              "        const element = document.querySelector('#df-3850b00d-d853-4251-87fb-3cf286f5d21a');\n",
              "        const dataTable =\n",
              "          await google.colab.kernel.invokeFunction('convertToInteractive',\n",
              "                                                    [key], {});\n",
              "        if (!dataTable) return;\n",
              "\n",
              "        const docLinkHtml = 'Like what you see? Visit the ' +\n",
              "          '<a target=\"_blank\" href=https://colab.research.google.com/notebooks/data_table.ipynb>data table notebook</a>'\n",
              "          + ' to learn more about interactive tables.';\n",
              "        element.innerHTML = '';\n",
              "        dataTable['output_type'] = 'display_data';\n",
              "        await google.colab.output.renderOutput(dataTable, element);\n",
              "        const docLink = document.createElement('div');\n",
              "        docLink.innerHTML = docLinkHtml;\n",
              "        element.appendChild(docLink);\n",
              "      }\n",
              "    </script>\n",
              "  </div>\n",
              "\n",
              "\n",
              "<div id=\"df-7c475bfb-f653-46e8-b4da-c6e014acd7bf\">\n",
              "  <button class=\"colab-df-quickchart\" onclick=\"quickchart('df-7c475bfb-f653-46e8-b4da-c6e014acd7bf')\"\n",
              "            title=\"Suggest charts\"\n",
              "            style=\"display:none;\">\n",
              "\n",
              "<svg xmlns=\"http://www.w3.org/2000/svg\" height=\"24px\"viewBox=\"0 0 24 24\"\n",
              "     width=\"24px\">\n",
              "    <g>\n",
              "        <path d=\"M19 3H5c-1.1 0-2 .9-2 2v14c0 1.1.9 2 2 2h14c1.1 0 2-.9 2-2V5c0-1.1-.9-2-2-2zM9 17H7v-7h2v7zm4 0h-2V7h2v10zm4 0h-2v-4h2v4z\"/>\n",
              "    </g>\n",
              "</svg>\n",
              "  </button>\n",
              "\n",
              "<style>\n",
              "  .colab-df-quickchart {\n",
              "      --bg-color: #E8F0FE;\n",
              "      --fill-color: #1967D2;\n",
              "      --hover-bg-color: #E2EBFA;\n",
              "      --hover-fill-color: #174EA6;\n",
              "      --disabled-fill-color: #AAA;\n",
              "      --disabled-bg-color: #DDD;\n",
              "  }\n",
              "\n",
              "  [theme=dark] .colab-df-quickchart {\n",
              "      --bg-color: #3B4455;\n",
              "      --fill-color: #D2E3FC;\n",
              "      --hover-bg-color: #434B5C;\n",
              "      --hover-fill-color: #FFFFFF;\n",
              "      --disabled-bg-color: #3B4455;\n",
              "      --disabled-fill-color: #666;\n",
              "  }\n",
              "\n",
              "  .colab-df-quickchart {\n",
              "    background-color: var(--bg-color);\n",
              "    border: none;\n",
              "    border-radius: 50%;\n",
              "    cursor: pointer;\n",
              "    display: none;\n",
              "    fill: var(--fill-color);\n",
              "    height: 32px;\n",
              "    padding: 0;\n",
              "    width: 32px;\n",
              "  }\n",
              "\n",
              "  .colab-df-quickchart:hover {\n",
              "    background-color: var(--hover-bg-color);\n",
              "    box-shadow: 0 1px 2px rgba(60, 64, 67, 0.3), 0 1px 3px 1px rgba(60, 64, 67, 0.15);\n",
              "    fill: var(--button-hover-fill-color);\n",
              "  }\n",
              "\n",
              "  .colab-df-quickchart-complete:disabled,\n",
              "  .colab-df-quickchart-complete:disabled:hover {\n",
              "    background-color: var(--disabled-bg-color);\n",
              "    fill: var(--disabled-fill-color);\n",
              "    box-shadow: none;\n",
              "  }\n",
              "\n",
              "  .colab-df-spinner {\n",
              "    border: 2px solid var(--fill-color);\n",
              "    border-color: transparent;\n",
              "    border-bottom-color: var(--fill-color);\n",
              "    animation:\n",
              "      spin 1s steps(1) infinite;\n",
              "  }\n",
              "\n",
              "  @keyframes spin {\n",
              "    0% {\n",
              "      border-color: transparent;\n",
              "      border-bottom-color: var(--fill-color);\n",
              "      border-left-color: var(--fill-color);\n",
              "    }\n",
              "    20% {\n",
              "      border-color: transparent;\n",
              "      border-left-color: var(--fill-color);\n",
              "      border-top-color: var(--fill-color);\n",
              "    }\n",
              "    30% {\n",
              "      border-color: transparent;\n",
              "      border-left-color: var(--fill-color);\n",
              "      border-top-color: var(--fill-color);\n",
              "      border-right-color: var(--fill-color);\n",
              "    }\n",
              "    40% {\n",
              "      border-color: transparent;\n",
              "      border-right-color: var(--fill-color);\n",
              "      border-top-color: var(--fill-color);\n",
              "    }\n",
              "    60% {\n",
              "      border-color: transparent;\n",
              "      border-right-color: var(--fill-color);\n",
              "    }\n",
              "    80% {\n",
              "      border-color: transparent;\n",
              "      border-right-color: var(--fill-color);\n",
              "      border-bottom-color: var(--fill-color);\n",
              "    }\n",
              "    90% {\n",
              "      border-color: transparent;\n",
              "      border-bottom-color: var(--fill-color);\n",
              "    }\n",
              "  }\n",
              "</style>\n",
              "\n",
              "  <script>\n",
              "    async function quickchart(key) {\n",
              "      const quickchartButtonEl =\n",
              "        document.querySelector('#' + key + ' button');\n",
              "      quickchartButtonEl.disabled = true;  // To prevent multiple clicks.\n",
              "      quickchartButtonEl.classList.add('colab-df-spinner');\n",
              "      try {\n",
              "        const charts = await google.colab.kernel.invokeFunction(\n",
              "            'suggestCharts', [key], {});\n",
              "      } catch (error) {\n",
              "        console.error('Error during call to suggestCharts:', error);\n",
              "      }\n",
              "      quickchartButtonEl.classList.remove('colab-df-spinner');\n",
              "      quickchartButtonEl.classList.add('colab-df-quickchart-complete');\n",
              "    }\n",
              "    (() => {\n",
              "      let quickchartButtonEl =\n",
              "        document.querySelector('#df-7c475bfb-f653-46e8-b4da-c6e014acd7bf button');\n",
              "      quickchartButtonEl.style.display =\n",
              "        google.colab.kernel.accessAllowed ? 'block' : 'none';\n",
              "    })();\n",
              "  </script>\n",
              "</div>\n",
              "\n",
              "  <div id=\"id_abf1a04b-2495-42ae-9bc1-a8e8b102b23f\">\n",
              "    <style>\n",
              "      .colab-df-generate {\n",
              "        background-color: #E8F0FE;\n",
              "        border: none;\n",
              "        border-radius: 50%;\n",
              "        cursor: pointer;\n",
              "        display: none;\n",
              "        fill: #1967D2;\n",
              "        height: 32px;\n",
              "        padding: 0 0 0 0;\n",
              "        width: 32px;\n",
              "      }\n",
              "\n",
              "      .colab-df-generate:hover {\n",
              "        background-color: #E2EBFA;\n",
              "        box-shadow: 0px 1px 2px rgba(60, 64, 67, 0.3), 0px 1px 3px 1px rgba(60, 64, 67, 0.15);\n",
              "        fill: #174EA6;\n",
              "      }\n",
              "\n",
              "      [theme=dark] .colab-df-generate {\n",
              "        background-color: #3B4455;\n",
              "        fill: #D2E3FC;\n",
              "      }\n",
              "\n",
              "      [theme=dark] .colab-df-generate:hover {\n",
              "        background-color: #434B5C;\n",
              "        box-shadow: 0px 1px 3px 1px rgba(0, 0, 0, 0.15);\n",
              "        filter: drop-shadow(0px 1px 2px rgba(0, 0, 0, 0.3));\n",
              "        fill: #FFFFFF;\n",
              "      }\n",
              "    </style>\n",
              "    <button class=\"colab-df-generate\" onclick=\"generateWithVariable('updated_df')\"\n",
              "            title=\"Generate code using this dataframe.\"\n",
              "            style=\"display:none;\">\n",
              "\n",
              "  <svg xmlns=\"http://www.w3.org/2000/svg\" height=\"24px\"viewBox=\"0 0 24 24\"\n",
              "       width=\"24px\">\n",
              "    <path d=\"M7,19H8.4L18.45,9,17,7.55,7,17.6ZM5,21V16.75L18.45,3.32a2,2,0,0,1,2.83,0l1.4,1.43a1.91,1.91,0,0,1,.58,1.4,1.91,1.91,0,0,1-.58,1.4L9.25,21ZM18.45,9,17,7.55Zm-12,3A5.31,5.31,0,0,0,4.9,8.1,5.31,5.31,0,0,0,1,6.5,5.31,5.31,0,0,0,4.9,4.9,5.31,5.31,0,0,0,6.5,1,5.31,5.31,0,0,0,8.1,4.9,5.31,5.31,0,0,0,12,6.5,5.46,5.46,0,0,0,6.5,12Z\"/>\n",
              "  </svg>\n",
              "    </button>\n",
              "    <script>\n",
              "      (() => {\n",
              "      const buttonEl =\n",
              "        document.querySelector('#id_abf1a04b-2495-42ae-9bc1-a8e8b102b23f button.colab-df-generate');\n",
              "      buttonEl.style.display =\n",
              "        google.colab.kernel.accessAllowed ? 'block' : 'none';\n",
              "\n",
              "      buttonEl.onclick = () => {\n",
              "        google.colab.notebook.generateWithVariable('updated_df');\n",
              "      }\n",
              "      })();\n",
              "    </script>\n",
              "  </div>\n",
              "\n",
              "    </div>\n",
              "  </div>\n"
            ],
            "application/vnd.google.colaboratory.intrinsic+json": {
              "type": "dataframe",
              "variable_name": "updated_df",
              "summary": "{\n  \"name\": \"updated_df\",\n  \"rows\": 40,\n  \"fields\": [\n    {\n      \"column\": \"Date\",\n      \"properties\": {\n        \"dtype\": \"date\",\n        \"min\": \"2024-08-07 00:00:00\",\n        \"max\": \"2024-08-07 00:00:00\",\n        \"num_unique_values\": 1,\n        \"samples\": [\n          \"2024-08-07 00:00:00\"\n        ],\n        \"semantic_type\": \"\",\n        \"description\": \"\"\n      }\n    },\n    {\n      \"column\": \"company\",\n      \"properties\": {\n        \"dtype\": \"string\",\n        \"num_unique_values\": 40,\n        \"samples\": [\n          \"Copper 360 Limited\"\n        ],\n        \"semantic_type\": \"\",\n        \"description\": \"\"\n      }\n    },\n    {\n      \"column\": \"symbol\",\n      \"properties\": {\n        \"dtype\": \"string\",\n        \"num_unique_values\": 40,\n        \"samples\": [\n          \"CPR.JO\"\n        ],\n        \"semantic_type\": \"\",\n        \"description\": \"\"\n      }\n    },\n    {\n      \"column\": \"momentum_score\",\n      \"properties\": {\n        \"dtype\": \"number\",\n        \"std\": 168.89295040967136,\n        \"min\": 0.100301484593575,\n        \"max\": 1069.2408072918008,\n        \"num_unique_values\": 40,\n        \"samples\": [\n          1.0300394831107444\n        ],\n        \"semantic_type\": \"\",\n        \"description\": \"\"\n      }\n    },\n    {\n      \"column\": \"rank\",\n      \"properties\": {\n        \"dtype\": \"number\",\n        \"std\": 13.254510601378358,\n        \"min\": 1.0,\n        \"max\": 47.0,\n        \"num_unique_values\": 40,\n        \"samples\": [\n          20.0\n        ],\n        \"semantic_type\": \"\",\n        \"description\": \"\"\n      }\n    },\n    {\n      \"column\": \"Close\",\n      \"properties\": {\n        \"dtype\": \"number\",\n        \"std\": 10243.193494137135,\n        \"min\": 41.0,\n        \"max\": 51575.0,\n        \"num_unique_values\": 40,\n        \"samples\": [\n          400.0\n        ],\n        \"semantic_type\": \"\",\n        \"description\": \"\"\n      }\n    },\n    {\n      \"column\": \"20_day_volatility\",\n      \"properties\": {\n        \"dtype\": \"number\",\n        \"std\": 15.646063382486334,\n        \"min\": 0.03775222804402524,\n        \"max\": 99.05666244141379,\n        \"num_unique_values\": 40,\n        \"samples\": [\n          0.10245290150023456\n        ],\n        \"semantic_type\": \"\",\n        \"description\": \"\"\n      }\n    },\n    {\n      \"column\": \"90_day_return\",\n      \"properties\": {\n        \"dtype\": \"number\",\n        \"std\": 0.008466285275801247,\n        \"min\": 6.584084784688748e-05,\n        \"max\": 0.054931316624048154,\n        \"num_unique_values\": 40,\n        \"samples\": [\n          0.0030173516301503778\n        ],\n        \"semantic_type\": \"\",\n        \"description\": \"\"\n      }\n    },\n    {\n      \"column\": \"100_day_mean\",\n      \"properties\": {\n        \"dtype\": \"number\",\n        \"std\": 9210.364343800758,\n        \"min\": 39.9,\n        \"max\": 45709.36,\n        \"num_unique_values\": 40,\n        \"samples\": [\n          393.34\n        ],\n        \"semantic_type\": \"\",\n        \"description\": \"\"\n      }\n    },\n    {\n      \"column\": \"index_mean\",\n      \"properties\": {\n        \"dtype\": \"number\",\n        \"std\": 0.0,\n        \"min\": 3740.1470275878905,\n        \"max\": 3740.1470275878905,\n        \"num_unique_values\": 1,\n        \"samples\": [\n          3740.1470275878905\n        ],\n        \"semantic_type\": \"\",\n        \"description\": \"\"\n      }\n    },\n    {\n      \"column\": \"stock_trend\",\n      \"properties\": {\n        \"dtype\": \"boolean\",\n        \"num_unique_values\": 1,\n        \"samples\": [\n          true\n        ],\n        \"semantic_type\": \"\",\n        \"description\": \"\"\n      }\n    },\n    {\n      \"column\": \"market_trend\",\n      \"properties\": {\n        \"dtype\": \"boolean\",\n        \"num_unique_values\": 1,\n        \"samples\": [\n          true\n        ],\n        \"semantic_type\": \"\",\n        \"description\": \"\"\n      }\n    },\n    {\n      \"column\": \"weight\",\n      \"properties\": {\n        \"dtype\": \"number\",\n        \"std\": 0.01026833894023478,\n        \"min\": 1.7030744984867623e-05,\n        \"max\": 0.044686336264034704,\n        \"num_unique_values\": 40,\n        \"samples\": [\n          0.01646618819368401\n        ],\n        \"semantic_type\": \"\",\n        \"description\": \"\"\n      }\n    },\n    {\n      \"column\": \"units\",\n      \"properties\": {\n        \"dtype\": \"number\",\n        \"std\": 1111.847954904931,\n        \"min\": 0.09710254205320755,\n        \"max\": 5851.699069012317,\n        \"num_unique_values\": 40,\n        \"samples\": [\n          516.360149320921\n        ],\n        \"semantic_type\": \"\",\n        \"description\": \"\"\n      }\n    },\n    {\n      \"column\": \"ZAR\",\n      \"properties\": {\n        \"dtype\": \"number\",\n        \"std\": 1288.011764736474,\n        \"min\": 2.136255925170566,\n        \"max\": 5605.242207726622,\n        \"num_unique_values\": 40,\n        \"samples\": [\n          2065.440597283684\n        ],\n        \"semantic_type\": \"\",\n        \"description\": \"\"\n      }\n    }\n  ]\n}"
            }
          },
          "metadata": {},
          "execution_count": 12
        }
      ],
      "source": [
        "\n",
        "import os\n",
        "import pandas as pd\n",
        "import numpy as np\n",
        "\n",
        "def calculate_metrics_and_add_columns(original_df, data_folder, portfolio_value):\n",
        "    \"\"\"\n",
        "    Calculates 20-day volatility, 100-day mean, and 90-day rate of return for each stock\n",
        "    and adds the results as columns to the original DataFrame.\n",
        "\n",
        "    Args:\n",
        "        original_df (pd.DataFrame): Original DataFrame with columns 'Date', 'symbol', 'rank', 'momentum_score'.\n",
        "        data_folder (str): Path to the folder containing stock data CSV files.\n",
        "        portfolio_value (float): Total value of the portfolio.\n",
        "\n",
        "    Returns:\n",
        "        pd.DataFrame: Updated DataFrame with additional columns.\n",
        "    \"\"\"\n",
        "    result_df = original_df.copy()  # Create a copy to avoid modifying the original DataFrame\n",
        "\n",
        "    result_df['Date'] = pd.to_datetime(result_df['Date'])\n",
        "\n",
        "    # Loop through each ticker in the DataFrame\n",
        "    for ticker in result_df['symbol']:\n",
        "        filepath = os.path.join(data_folder, f\"{ticker}.csv\")\n",
        "\n",
        "        # Read CSV data (adjust column names as needed)\n",
        "        stock_data = pd.read_csv(filepath, parse_dates=['Date'], index_col='Date')\n",
        "\n",
        "        # Calculate daily returns\n",
        "        stock_data['daily_return'] = stock_data['Close'].pct_change()\n",
        "\n",
        "        # Compute 20-day volatility\n",
        "        stock_data['20_day_volatility'] = stock_data['daily_return'].rolling(window=20).std() * np.sqrt(20)\n",
        "\n",
        "        # Compute 100-day mean\n",
        "        stock_data['100_day_mean'] = stock_data['Close'].rolling(window=100).mean()\n",
        "\n",
        "        # Compute 90-day rate of return\n",
        "        stock_data['90_day_return'] = (stock_data['Close'].pct_change(periods=90) + 1).pow(1 / 90) - 1\n",
        "\n",
        "        # Ensure the date exists in stock_data\n",
        "        if ranking_day in stock_data.index:\n",
        "            # Add the calculated values to the result_df\n",
        "            result_df.loc[result_df['symbol'] == ticker, ['20_day_volatility', '100_day_mean', '90_day_return']] = \\\n",
        "                stock_data.loc[ranking_day, ['20_day_volatility', '100_day_mean', '90_day_return']].values\n",
        "\n",
        "            # Add the 'close' column\n",
        "            result_df.loc[result_df['symbol'] == ticker, 'Close'] = stock_data.loc[ranking_day, 'Close']\n",
        "\n",
        "    # Replace any remaining NaN values in '20_day_volatility' with a small number to avoid division by zero\n",
        "    result_df['20_day_volatility'].replace(0, np.nan, inplace=True)\n",
        "    result_df['20_day_volatility'].fillna(1e-10, inplace=True)\n",
        "\n",
        "    # Calculate inverse volatility\n",
        "    inv_vol = 1 / result_df[\"20_day_volatility\"]\n",
        "    sum_inv_vol = inv_vol.sum()\n",
        "    vol_targets = inv_vol / sum_inv_vol\n",
        "    result_df[\"weight\"] = vol_targets\n",
        "\n",
        "    # Add a boolean column indicating if close > 100_day_mean\n",
        "    result_df['stock_trend'] = result_df['Close'] > result_df['100_day_mean']\n",
        "\n",
        "    # Read index data from a CSV file (adjust filename and column names)\n",
        "    index_data = pd.read_csv(\"/content/drive/MyDrive/STX.csv\", parse_dates=['Date'], index_col='Date')\n",
        "\n",
        "    # Calculate 200-day SMA for the index\n",
        "    index_data['index_mean'] = index_data['Close'].rolling(window=200).mean()\n",
        "\n",
        "    # Add a boolean column indicating if close > 200-day_mean\n",
        "    index_data['market_trend'] = index_data['Close'] > index_data['index_mean']\n",
        "\n",
        "\n",
        "    # Calculate position weight\n",
        "    stockprice = result_df[\"Close\"] / 100\n",
        "    pos_weight = portfolio_value * result_df[\"weight\"]\n",
        "    result_df[\"units\"] = pos_weight / stockprice\n",
        "    result_df[\"ZAR\"] = stockprice * result_df[\"units\"]\n",
        "\n",
        "    # Merge index data with result_df based on date (adjust column names)\n",
        "    merged_df = pd.merge(result_df,\n",
        "                         index_data[['index_mean', 'market_trend']],\n",
        "                         left_on='Date',\n",
        "                         right_index=True,\n",
        "                         how='left')\n",
        "\n",
        "    merged_df.to_csv('/content/drive/MyDrive/ranked_list_07Aug2024.csv')\n",
        "\n",
        "    # Drop rows where boolean value is False and '90_day_return' >= 0.15\n",
        "    merged_df = merged_df.drop(merged_df[(merged_df['stock_trend'] == False) |\n",
        "                                         (merged_df['90_day_return'] >= 0.15)].index)\n",
        "\n",
        "    merged_df = merged_df.loc[:, ~merged_df.columns.str.contains('^Unnamed')]\n",
        "\n",
        "    merged_df = merged_df.iloc[:, [0, 1, 2, 3, 4, 8, 5, 7, 6, 13, 10, 14, 9, 11, 12]]\n",
        "\n",
        "    merged_df.to_csv('/content/drive/MyDrive/initial_portfolio_07Aug2024.csv')\n",
        "\n",
        "\n",
        "    return merged_df\n",
        "\n",
        "# Example usage:\n",
        "original_df = pd.read_csv(\"/content/drive/MyDrive/ranking_list.csv\")  # Replace with your actual data\n",
        "data_folder = \"/content/drive/MyDrive/Stocks\"  # Path to your stock data folder\n",
        "portfolio_value = 125435.26  # Example portfolio value\n",
        "\n",
        "updated_df = calculate_metrics_and_add_columns(original_df, data_folder, portfolio_value)\n",
        "\n",
        "# Display the merged DataFrame\n",
        "updated_df"
      ]
    },
    {
      "cell_type": "code",
      "source": [
        "\n",
        "import pandas as pd\n",
        "import matplotlib.pyplot as plt\n",
        "from PIL import Image\n",
        "\n",
        "# Load the first dataset\n",
        "stock1 = pd.read_csv(\"/content/drive/MyDrive/STX.csv\")  # Replace with your file\n",
        "stock1['Date'] = pd.to_datetime(stock1['Date'])\n",
        "stock1.set_index('Date', inplace=True)\n",
        "\n",
        "# Load the second dataset\n",
        "stock2 = pd.read_csv(\"/content/drive/MyDrive/Stocks/ABG.JO.csv\")  # Replace with your file\n",
        "stock2['Date'] = pd.to_datetime(stock2['Date'])\n",
        "stock2.set_index('Date', inplace=True)\n",
        "\n",
        "# Find the common date range\n",
        "common_dates = stock1.index.intersection(stock2.index)\n",
        "\n",
        "# Restrict both datasets to the common date range\n",
        "stock1 = stock1.loc[common_dates]\n",
        "stock2 = stock2.loc[common_dates]\n",
        "\n",
        "# Normalize both datasets based on their initial values at the common starting date\n",
        "stock1['Normalized'] = stock1['Close'] / stock1['Close'].iloc[0] * 100\n",
        "#stock1['200-day MA'] = stock1['Close'].rolling(window=200).mean() / stock1['Close'].iloc[0] * 100\n",
        "stock2['Normalized'] = stock2['Close'] / stock2['Close'].iloc[0] * 100\n",
        "stock2['100-day MA'] = stock2['Close'].rolling(window=100).mean() / stock2['Close'].iloc[0] * 100\n",
        "\n",
        "# Plot the data\n",
        "plt.figure(figsize=(14, 8))\n",
        "plt.plot(stock1.index, stock1['Normalized'], label='STXCAP', color='grey')\n",
        "#plt.plot(stock1.index, stock1['200-day MA'], label='STXCAP 200-day mean', color='black', linestyle='-')\n",
        "plt.plot(stock2.index, stock2['Normalized'], label='ABG', color='blue')\n",
        "plt.plot(stock2.index, stock2['100-day MA'], label='ABG 100-day mean', color='black', linestyle='--')\n",
        "\n",
        "# Customize the chart\n",
        "plt.xlabel(\"Period\")\n",
        "plt.ylabel(\"Normalized Price\")\n",
        "plt.title(\"Relative Performance Absa Group Ltd / STXCAP (90-Day Returns)\")\n",
        "plt.xticks(rotation=45)\n",
        "plt.grid(False)\n",
        "plt.legend()\n",
        "\n",
        "# Add the logo\n",
        "logo_path = \"/content/drive/MyDrive/-j9g8q1.jpg\"  # Replace with your logo file path\n",
        "logo = Image.open(logo_path)\n",
        "logo.thumbnail((5000, 5000))  # Resize the logo to fit in the corner\n",
        "\n",
        "# Get the current figure and add a new axes for the logo\n",
        "fig = plt.gcf()\n",
        "newax = fig.add_axes([0.90, 0.0, 0.1, 0.1], anchor='NW', zorder=-1)\n",
        "newax.imshow(logo)\n",
        "newax.axis('off')\n",
        "\n",
        "plt.tight_layout()\n",
        "plt.show()"
      ],
      "metadata": {
        "id": "MFe_TrtbZ9qK",
        "outputId": "04d253fa-6c45-43d9-f55d-dea27900afe5",
        "colab": {
          "base_uri": "https://localhost:8080/",
          "height": 224
        }
      },
      "execution_count": null,
      "outputs": [
        {
          "output_type": "stream",
          "name": "stderr",
          "text": [
            "<ipython-input-61-44bf172bf6b2>:54: UserWarning: This figure includes Axes that are not compatible with tight_layout, so results might be incorrect.\n",
            "  plt.tight_layout()\n"
          ]
        },
        {
          "output_type": "display_data",
          "data": {
            "text/plain": [
              "<Figure size 1400x800 with 2 Axes>"
            ],
            "image/png": "[encoded data removed]"
          },
          "metadata": {}
        }
      ]
    },
    {
      "cell_type": "code",
      "execution_count": null,
      "metadata": {
        "id": "yi13UWMib_VY",
        "colab": {
          "base_uri": "https://localhost:8080/"
        },
        "outputId": "cf793378-2cc4-4068-c11e-352689113b2f"
      },
      "outputs": [
        {
          "output_type": "stream",
          "name": "stdout",
          "text": [
            "0.8144893425552412\n",
            "19776.925104205675\n",
            "102165.68245064575\n"
          ]
        }
      ],
      "source": [
        "print (updated_df['weight'].sum())\n",
        "print (updated_df['units'].sum())\n",
        "print (updated_df['ZAR'].sum())"
      ]
    },
    {
      "cell_type": "markdown",
      "source": [
        "###Portfolio Rebalance Function"
      ],
      "metadata": {
        "id": "ilo4Km_1tTz0"
      }
    },
    {
      "cell_type": "code",
      "source": [
        "\n",
        "import pandas as pd\n",
        "\n",
        "# Read the CSV file into a DataFrame\n",
        "filename = '/content/drive/MyDrive/initial_portfolio_07Aug2024.csv'\n",
        "cols = ['symbol', 'stock_trend', '90_day_return']\n",
        "df = pd.read_csv(filename, usecols=cols)\n",
        "\n",
        "# Convert the DataFrame to a dictionary\n",
        "data_ranking = df.to_dict(orient='list')\n",
        "\n",
        "current_ranking_table = pd.DataFrame(data_ranking)\n",
        "\n",
        "# Read the CSV file into a DataFrame\n",
        "filename2 = '/content/drive/MyDrive/initial_portfolio_31Jul2024.csv'\n",
        "cols2 = ['symbol', 'company', 'stock_trend', '90_day_return']\n",
        "df2 = pd.read_csv(filename2, usecols=cols2)\n",
        "\n",
        "# Convert the DataFrame to a dictionary\n",
        "data_portfolio = df2.to_dict(orient='list')\n",
        "\n",
        "cpf = pd.DataFrame(data_portfolio)\n",
        "\n",
        "# Identify stocks to sell based on stock trend\n",
        "sell_list = current_ranking_table[~current_ranking_table[\"stock_trend\"]]\n",
        "\n",
        "# Drop stocks with a 90-day return greater than or equal to 15%\n",
        "index_names1 = current_ranking_table[(current_ranking_table[\"90_day_return\"] >= 15)].index\n",
        "current_ranking_table.drop(index_names1, inplace=True)\n",
        "\n",
        "# List of disqualified tickers\n",
        "dqs = sell_list[\"symbol\"].tolist()\n",
        "\n",
        "# Identify stocks to liquidate\n",
        "liquidate = cpf.loc[cpf['symbol'].isin(dqs)].reset_index(drop=True)\n",
        "\n",
        "# Remove disqualified stocks from the portfolio\n",
        "newpf = cpf[~cpf['symbol'].isin(liquidate['symbol'])]\n",
        "\n",
        "# Remove stocks that are not in the current ranking table\n",
        "ineligible = newpf[~newpf['symbol'].isin(current_ranking_table['symbol'])]\n",
        "\n",
        "# Get tickers to remove\n",
        "remove = ineligible['symbol'].tolist()\n",
        "\n",
        "# Create a new portfolio without removed stocks\n",
        "rebalanced = newpf[~newpf['symbol'].isin(ineligible['symbol'])]\n",
        "\n",
        "# Get symbols for rebalancing\n",
        "rebalance = rebalanced[\"symbol\"].tolist()\n",
        "\n",
        "\n",
        "# Identify qualified stocks to buy (in current ranking table but not in cpf)\n",
        "qualified_to_buy = current_ranking_table[~current_ranking_table['symbol'].isin(cpf['symbol'])]\n",
        "\n",
        "# Remove duplicates from the qualified_to_buy list\n",
        "qualified_to_buy_unique = list(set(qualified_to_buy['symbol']))\n",
        "\n",
        "updated_list = rebalance + qualified_to_buy_unique\n",
        "\n",
        "selldf = pd.read_csv('/content/drive/MyDrive/initial_portfolio_31Jul2024.csv')\n",
        "\n",
        "\n",
        "# Drop rows where 'Name' is not in the list\n",
        "sell = selldf[selldf['symbol'].isin(remove)]\n",
        "#sell = sell.iloc[::]\n",
        "sell = sell.drop(columns=['Unnamed: 0'])\n",
        "\n",
        "# Print relevant information\n",
        "print(f\"Sell these stocks:{sell['company']}\")\n",
        "print(f\"Sell declining stocks: {liquidate['symbol'].tolist()}\")\n",
        "#print(f\"Sell disqualified stocks: {ineligible['symbol'].tolist()}\")\n",
        "print(f\"Portfolio after rebalance: {rebalanced['symbol'].tolist()}\")\n",
        "print(f\"Portfolio after position rebalance: {updated_list}\")\n",
        "print(f\"Buy these securities: {qualified_to_buy_unique}\")"
      ],
      "metadata": {
        "id": "x6gvoM0w5Rmf",
        "outputId": "2bf47237-a4c8-41b2-f707-bc324554394b",
        "colab": {
          "base_uri": "https://localhost:8080/"
        }
      },
      "execution_count": null,
      "outputs": [
        {
          "output_type": "stream",
          "name": "stdout",
          "text": [
            "Sell these stocks:14                        Afrimat Limited\n",
            "15              Hudaco Industries Limited\n",
            "30                     Absa Group Limited\n",
            "39              City Lodge Hotels Limited\n",
            "40                 Marshall Monteagle PLC\n",
            "41    Harmony Gold Mining Company Limited\n",
            "42            Blue Label Telecoms Limited\n",
            "43              Deneb Investments Limited\n",
            "Name: company, dtype: object\n",
            "Sell declining stocks: []\n",
            "Portfolio after rebalance: ['NCS.JO', 'THA.JO', 'SPP.JO', 'WBO.JO', 'TFG.JO', 'CPR.JO', 'GND.JO', 'MRP.JO', 'RNG.JO', 'TRL.JO', 'TRU.JO', 'KAL.JO', 'CKS.JO', 'FTH.JO', 'CAA.JO', 'CSB.JO', 'YRK.JO', 'OUT.JO', 'SNV.JO', 'TEX.JO', 'SPG.JO', 'LSK.JO', 'ANG.JO', 'GRT.JO', 'MSP.JO', 'OMN.JO', 'KAP.JO', 'MHB.JO', 'DCP.JO', 'CHP.JO', 'CGR.JO', 'TBS.JO', 'GPL.JO', 'GSH.JO', 'RMH.JO', 'TPC.JO']\n",
            "Portfolio after position rebalance: ['NCS.JO', 'THA.JO', 'SPP.JO', 'WBO.JO', 'TFG.JO', 'CPR.JO', 'GND.JO', 'MRP.JO', 'RNG.JO', 'TRL.JO', 'TRU.JO', 'KAL.JO', 'CKS.JO', 'FTH.JO', 'CAA.JO', 'CSB.JO', 'YRK.JO', 'OUT.JO', 'SNV.JO', 'TEX.JO', 'SPG.JO', 'LSK.JO', 'ANG.JO', 'GRT.JO', 'MSP.JO', 'OMN.JO', 'KAP.JO', 'MHB.JO', 'DCP.JO', 'CHP.JO', 'CGR.JO', 'TBS.JO', 'GPL.JO', 'GSH.JO', 'RMH.JO', 'TPC.JO', 'UPL.JO', 'ADR.JO', 'SUI.JO', 'EXX.JO']\n",
            "Buy these securities: ['UPL.JO', 'ADR.JO', 'SUI.JO', 'EXX.JO']\n"
          ]
        }
      ]
    },
    {
      "cell_type": "markdown",
      "source": [
        "###Securities rebalance function"
      ],
      "metadata": {
        "id": "Vx7k8s5Ttluw"
      }
    },
    {
      "cell_type": "code",
      "source": [
        "# Calculate position weight\n",
        "\n",
        "new_portfolio_value = 149079.42\n",
        "\n",
        "mypf = pd.read_csv('/content/drive/MyDrive/ranked_list_07Aug2024.csv')\n",
        "\n",
        "stockprice2 = mypf[\"Close\"]\n",
        "new_pos_weight = new_portfolio_value * mypf[\"weight\"]\n",
        "mypf[\"units\"] = new_pos_weight / stockprice2\n",
        "mypf[\"ZAR\"] = stockprice2 * mypf[\"units\"]\n",
        "# Drop columns by index\n",
        "mypf = mypf.drop(mypf.columns[[0, 1]], axis=1)\n",
        "\n",
        "\n",
        "oldpf = pd.read_csv('/content/drive/MyDrive/initial_portfolio_31Jul2024.csv')\n",
        "\n",
        "# Drop rows where 'Name' is not in the list\n",
        "filtered = oldpf[~oldpf['symbol'].isin(remove)]\n",
        "filtered = filtered.iloc[0::]\n",
        "#filtered =filtered.drop(columns=['Unnamed: 0'])\n",
        "\n",
        "name_list = filtered['symbol'].tolist()\n",
        "\n",
        "\n",
        "# Round the values in column 'A' to 2 decimal places\n",
        "filtered['units'] = filtered['units'].round(2)\n",
        "\n",
        "filtered.reset_index(inplace=True)\n",
        "filtered.set_index('Date')\n",
        "\n",
        "\n",
        "# Drop rows where 'Name' is not in the list\n",
        "rb = mypf[mypf['symbol'].isin(rebalance)]\n",
        "rb = rb.iloc[0::]\n",
        "#rb =rb.drop(columns=['Unnamed: 0'])\n",
        "\n",
        "# Round the values in column 'A' to 2 decimal places\n",
        "rb['units'] = rb['units'].round(2)\n",
        "\n",
        "#rb.reset_index(inplace=True)\n",
        "rb.set_index('Date')\n",
        "\n",
        "\n",
        "# Reindex the DataFrame\n",
        "df_reindexed = rb.set_index('symbol').reindex(name_list).reset_index()\n",
        "\n",
        "df_reindexed[\"buy/sell\"] = df_reindexed[\"units\"] - filtered[\"units\"]\n",
        "df_reindexed.set_index('Date', inplace=True)\n",
        "\n",
        "print(f\"Rebalance positions:{df_reindexed[['symbol','buy/sell', 'company']]}\")"
      ],
      "metadata": {
        "id": "1Z3z53PqzF-D",
        "outputId": "8e409c80-a85e-468d-c4c1-e514b77d08e9",
        "colab": {
          "base_uri": "https://localhost:8080/"
        }
      },
      "execution_count": null,
      "outputs": [
        {
          "output_type": "stream",
          "name": "stdout",
          "text": [
            "Rebalance positions:            symbol  buy/sell                                 company\n",
            "Date                                                                \n",
            "2024-08-07  NCS.JO  -2713.82                          Nictus Limited\n",
            "2024-08-07  THA.JO   -116.28                             Tharisa plc\n",
            "2024-08-07  SPP.JO    -35.30                      The SPAR Group Ltd\n",
            "2024-08-07  WBO.JO    -19.92       Wilson Bayly Holmes-Ovcon Limited\n",
            "2024-08-07  TFG.JO    -27.38              The Foschini Group Limited\n",
            "2024-08-07  CPR.JO   -480.52                      Copper 360 Limited\n",
            "2024-08-07  GND.JO   -348.32                        Grindrod Limited\n",
            "2024-08-07  MRP.JO    -15.56                  Mr Price Group Limited\n",
            "2024-08-07  RNG.JO  -1116.57  Randgold & Exploration Company Limited\n",
            "2024-08-07  TRL.JO   -413.84              Trellidor Holdings Limited\n",
            "2024-08-07  TRU.JO    -32.18         Truworths International Limited\n",
            "2024-08-07  KAL.JO    -48.09                       KAL Group Limited\n",
            "2024-08-07  CKS.JO    -53.61                Crookes Brothers Limited\n",
            "2024-08-07  FTH.JO   -143.75     Frontier Transport Holdings Limited\n",
            "2024-08-07  CAA.JO   -102.28               CA Sales Holdings Limited\n",
            "2024-08-07  CSB.JO    -12.30                       Cashbuild Limited\n",
            "2024-08-07  YRK.JO   -466.44            York Timber Holdings Limited\n",
            "2024-08-07  OUT.JO    -85.56                OUTsurance Group Limited\n",
            "2024-08-07  SNV.JO   -649.91                         Santova Limited\n",
            "2024-08-07  TEX.JO   -619.39            Texton Property Fund Limited\n",
            "2024-08-07  SPG.JO    -79.70                     Super Group Limited\n",
            "2024-08-07  LSK.JO    -13.49               Lesaka Technologies, Inc.\n",
            "2024-08-07  ANG.JO     -5.05                   AngloGold Ashanti plc\n",
            "2024-08-07  GRT.JO   -341.79          Growthpoint Properties Limited\n",
            "2024-08-07  MSP.JO   -195.15                              MAS P.L.C.\n",
            "2024-08-07  OMN.JO    -46.95                  Omnia Holdings Limited\n",
            "2024-08-07  KAP.JO   -649.37                             KAP Limited\n",
            "2024-08-07  MHB.JO   -375.85           Mahube Infrastructure Limited\n",
            "2024-08-07  DCP.JO    -89.19             Dis-Chem Pharmacies Limited\n",
            "2024-08-07  CHP.JO  -1491.43            Choppies Enterprises Limited\n",
            "2024-08-07  CGR.JO   -443.95              Calgro M3 Holdings Limited\n",
            "2024-08-07  TBS.JO    -15.23                    Tiger Brands Limited\n",
            "2024-08-07  GPL.JO   -288.57        Grand Parade Investments Limited\n",
            "2024-08-07  GSH.JO     -6.48         Grindrod Shipping Holdings Ltd.\n",
            "2024-08-07  RMH.JO  -4751.85                    RMB Holdings Limited\n",
            "2024-08-07  TPC.JO    -49.04                       Transpaco Limited\n"
          ]
        }
      ]
    },
    {
      "cell_type": "markdown",
      "source": [
        "###Enter new positions"
      ],
      "metadata": {
        "id": "Elt0AKSguANP"
      }
    },
    {
      "cell_type": "code",
      "source": [
        "\n",
        "# Drop rows where 'Name' is not in the list\n",
        "buy = mypf[mypf['symbol'].isin(qualified_to_buy_unique)]\n",
        "buy = buy.iloc[0::]\n",
        "\n",
        "print(f\"Buy securities:{buy[['symbol', 'ZAR']]}\") # Use square brackets to select columns\n",
        "# Concatenate along rows (axis=0)\n",
        "result = pd.concat([buy, rb], axis=0)\n",
        "\n",
        "print(f\"New Portfolio:{result[['symbol','weight']]}\")"
      ],
      "metadata": {
        "id": "8nx7tXkkx5Gh",
        "outputId": "5d18c42c-563b-42c7-e010-8ad2a5f9c9e8",
        "colab": {
          "base_uri": "https://localhost:8080/"
        }
      },
      "execution_count": null,
      "outputs": [
        {
          "output_type": "stream",
          "name": "stdout",
          "text": [
            "Buy securities:    symbol          ZAR\n",
            "38  EXX.JO  3814.124403\n",
            "41  UPL.JO     2.538934\n",
            "45  ADR.JO  1145.641836\n",
            "46  SUI.JO  4040.163284\n",
            "New Portfolio:    symbol    weight\n",
            "38  EXX.JO  0.025585\n",
            "41  UPL.JO  0.000017\n",
            "45  ADR.JO  0.007685\n",
            "46  SUI.JO  0.027101\n",
            "0   NCS.JO  0.025305\n",
            "1   TFG.JO  0.031438\n",
            "2   WBO.JO  0.033056\n",
            "3   SPP.JO  0.032510\n",
            "4   MRP.JO  0.028049\n",
            "5   THA.JO  0.011236\n",
            "6   GND.JO  0.044686\n",
            "7   RNG.JO  0.007632\n",
            "8   TRU.JO  0.022897\n",
            "9   CKS.JO  0.011638\n",
            "10  FTH.JO  0.013854\n",
            "11  YRK.JO  0.008616\n",
            "12  OUT.JO  0.037089\n",
            "13  CAA.JO  0.013751\n",
            "14  KAL.JO  0.018414\n",
            "15  GRT.JO  0.028972\n",
            "16  TRL.JO  0.007999\n",
            "17  CSB.JO  0.016465\n",
            "18  SNV.JO  0.020702\n",
            "19  CPR.JO  0.016466\n",
            "20  SPG.JO  0.030030\n",
            "21  OMN.JO  0.040019\n",
            "22  TEX.JO  0.022098\n",
            "23  MSP.JO  0.031186\n",
            "24  ANG.JO  0.015272\n",
            "26  TBS.JO  0.030538\n",
            "27  CHP.JO  0.009721\n",
            "28  KAP.JO  0.022807\n",
            "29  DCP.JO  0.025946\n",
            "30  TPC.JO  0.010925\n",
            "31  LSK.JO  0.011981\n",
            "32  MHB.JO  0.012964\n",
            "34  CGR.JO  0.014302\n",
            "35  GPL.JO  0.009292\n",
            "40  RMH.JO  0.019127\n",
            "42  GSH.JO  0.017119\n"
          ]
        }
      ]
    },
    {
      "cell_type": "code",
      "source": [
        "print(new_portfolio_value)\n",
        "print(result['ZAR'].sum())\n",
        "print(result['weight'].sum())\n",
        "print(result['units'].sum())"
      ],
      "metadata": {
        "id": "JHsWJ7kFOAGf",
        "outputId": "0a37dd9d-759d-472c-b258-c1256c3c6ca9",
        "colab": {
          "base_uri": "https://localhost:8080/"
        }
      },
      "execution_count": null,
      "outputs": [
        {
          "output_type": "stream",
          "name": "stdout",
          "text": [
            "149079.42\n",
            "121423.59878431639\n",
            "0.8144893425552393\n",
            "235.05143809218814\n"
          ]
        }
      ]
    }
  ],
  "metadata": {
    "colab": {
      "collapsed_sections": [
        "xhMU8a7-u-OH",
        "oOqMYPtEBnw_",
        "mE7Pscc7PRyu",
        "0L-w4XW_eqaT"
      ],
      "provenance": [],
      "include_colab_link": true
    },
    "kernelspec": {
      "display_name": "Python 3",
      "name": "python3"
    },
    "language_info": {
      "name": "python"
    }
  },
  "nbformat": 4,
  "nbformat_minor": 0
}