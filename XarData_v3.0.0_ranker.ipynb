{
  "cells": [
    {
      "cell_type": "markdown",
      "metadata": {
        "id": "view-in-github",
        "colab_type": "text"
      },
      "source": [
        "<a href=\"https://colab.research.google.com/github/HelmieAnalytics/xardata/blob/main/XarData_v3.0.0_ranker.ipynb\" target=\"_parent\"><img src=\"https://colab.research.google.com/assets/colab-badge.svg\" alt=\"Open In Colab\"/></a>"
      ]
    },
    {
      "cell_type": "markdown",
      "metadata": {
        "id": "xhMU8a7-u-OH"
      },
      "source": [
        "###Delete files in directories"
      ]
    },
    {
      "cell_type": "code",
      "execution_count": 1,
      "metadata": {
        "id": "cuqiEqaeTCkj",
        "colab": {
          "base_uri": "https://localhost:8080/"
        },
        "outputId": "7226e63b-e7af-4da0-bd14-70dc508b01ec"
      },
      "outputs": [
        {
          "output_type": "stream",
          "name": "stdout",
          "text": [
            "Mounted at /content/drive\n"
          ]
        }
      ],
      "source": [
        "from google.colab import drive\n",
        "drive.mount('/content/drive')"
      ]
    },
    {
      "cell_type": "code",
      "execution_count": 2,
      "metadata": {
        "id": "73iXhdGpU1Ku",
        "colab": {
          "base_uri": "https://localhost:8080/"
        },
        "outputId": "52a3765f-4a2e-4a24-f2a2-6b5e3643b945"
      },
      "outputs": [
        {
          "output_type": "stream",
          "name": "stdout",
          "text": [
            "Current working directory: /content/drive/MyDrive\n"
          ]
        }
      ],
      "source": [
        "\n",
        "import os\n",
        "\n",
        "# Specify the desired directory path\n",
        "directory_path = \"/content/drive/MyDrive\"\n",
        "\n",
        "# Change the current working directory\n",
        "os.chdir(directory_path)\n",
        "\n",
        "# Verify that the working directory has been updated\n",
        "print(\"Current working directory:\", os.getcwd())"
      ]
    },
    {
      "cell_type": "code",
      "execution_count": null,
      "metadata": {
        "id": "A3D7Q-w6uRf1"
      },
      "outputs": [],
      "source": [
        "\n",
        "import os\n",
        "import glob\n",
        "\n",
        "# Base directory containing the folders\n",
        "base_dir = '/content/drive/MyDrive/'\n",
        "exclude_subdir = ''  # Name of the subdirectory to exclude\n",
        "\n",
        "# Find all subdirectories within the base directory\n",
        "subdirs = [d for d in glob.glob(os.path.join(base_dir, '*')) if os.path.isdir(d)]\n",
        "\n",
        "# Iterate over each subdirectory and delete all files within them, except the excluded subdirectory\n",
        "for subdir in subdirs:\n",
        "    if os.path.basename(subdir) == exclude_subdir:\n",
        "        continue  # Skip the excluded subdirectory\n",
        "    files = glob.glob(os.path.join(subdir, '*'))  # Get all files in the subdirectory\n",
        "    for file in files:\n",
        "        try:\n",
        "            os.remove(file)  # Delete the file\n",
        "            print(f\"Deleted {file}\")\n",
        "        except Exception as e:\n",
        "            print(f\"Error deleting {file}: {e}\")"
      ]
    },
    {
      "cell_type": "code",
      "source": [
        "\n",
        "import shutil\n",
        "import os\n",
        "\n",
        "def delete_folder(folder_path):\n",
        "    if os.path.exists(folder_path):\n",
        "        shutil.rmtree(folder_path)\n",
        "        print(f\"Deleted folder: {folder_path}\")\n",
        "    else:\n",
        "        print(f\"Folder not found: {folder_path}\")\n",
        "\n",
        "# Example usage\n",
        "folder_path = '/content/Stocks'\n",
        "delete_folder(folder_path)"
      ],
      "metadata": {
        "id": "H59V9XLLvSP5",
        "outputId": "f438eb8b-37dc-4b05-9d79-28cc206adeb3",
        "colab": {
          "base_uri": "https://localhost:8080/"
        }
      },
      "execution_count": null,
      "outputs": [
        {
          "output_type": "stream",
          "name": "stdout",
          "text": [
            "Deleted folder: /content/Stocks\n"
          ]
        }
      ]
    },
    {
      "cell_type": "code",
      "execution_count": null,
      "metadata": {
        "id": "mZtcnFibWTyp"
      },
      "outputs": [],
      "source": [
        "\n",
        "import os\n",
        "\n",
        "def delete_files_except_specific(directory, excluded_files, excluded_folders):\n",
        "    \"\"\"\n",
        "    Deletes all files in the specified directory except for the ones listed in `excluded_files`.\n",
        "    Args:\n",
        "        directory (str): Path to the directory.\n",
        "        excluded_files (list): List of filenames to exclude.\n",
        "        excluded_folders (list): List of folder names to exclude.\n",
        "    \"\"\"\n",
        "    for root, dirs, files in os.walk(directory):\n",
        "        # Exclude specific folders\n",
        "        dirs[:] = [d for d in dirs if d not in excluded_folders]\n",
        "\n",
        "        for filename in files:\n",
        "            if filename not in excluded_files:\n",
        "                file_path = os.path.join(root, filename)\n",
        "                os.remove(file_path)\n",
        "\n",
        "# Example usage:\n",
        "folder_path = '/content/drive/MyDrive'\n",
        "files_to_exclude = []  # Add filenames you want to exclude\n",
        "folders_to_exclude = []  # Add folder names you want to exclude\n",
        "delete_files_except_specific(folder_path, files_to_exclude, folders_to_exclude)"
      ]
    },
    {
      "cell_type": "code",
      "source": [
        "\n",
        "from PIL import Image\n",
        "\n",
        "def convert_to_bitmap(input_image_path, output_image_path, new_size, dpi):\n",
        "    # Open the image file\n",
        "    with Image.open(input_image_path) as img:\n",
        "        # Resize the image while maintaining aspect ratio\n",
        "        img.thumbnail(new_size, Image.ANTIALIAS)\n",
        "\n",
        "        # Set DPI\n",
        "        img.info['dpi'] = (dpi, dpi)\n",
        "\n",
        "        # Convert image to '1' mode for a bitmap (binary) image\n",
        "        img = img.convert('1')\n",
        "\n",
        "        # Save the image in bitmap format\n",
        "        img.save(output_image_path, format='BMP', dpi=(dpi, dpi))\n",
        "        print(f\"Image saved as {output_image_path}\")\n",
        "\n",
        "# Example usage\n",
        "input_path = \"/content/Screenshot_20220923_182855.jpg\"  # Replace with your input image file path\n",
        "output_path = \"helmie_research_bitmap.bmp\"  # Replace with your desired output file path\n",
        "size = (200, 200)  # Set the desired size (width, height) for resizing\n",
        "dpi = 300  # Desired DPI for the output\n",
        "\n",
        "convert_to_bitmap(input_path, output_path, size, dpi)"
      ],
      "metadata": {
        "colab": {
          "base_uri": "https://localhost:8080/"
        },
        "id": "HHknmlA0MnGP",
        "outputId": "8b1cc76b-970e-4d69-aade-df2f188a9ab3"
      },
      "execution_count": null,
      "outputs": [
        {
          "output_type": "stream",
          "name": "stdout",
          "text": [
            "Image saved as helmie_research_bitmap.bmp\n"
          ]
        },
        {
          "output_type": "stream",
          "name": "stderr",
          "text": [
            "<ipython-input-55-a0cdd3f1a866>:7: DeprecationWarning: ANTIALIAS is deprecated and will be removed in Pillow 10 (2023-07-01). Use LANCZOS or Resampling.LANCZOS instead.\n",
            "  img.thumbnail(new_size, Image.ANTIALIAS)\n"
          ]
        }
      ]
    },
    {
      "cell_type": "markdown",
      "metadata": {
        "id": "oOqMYPtEBnw_"
      },
      "source": [
        "###Install packages"
      ]
    },
    {
      "cell_type": "code",
      "execution_count": 3,
      "metadata": {
        "id": "IECOpw6H-TQX",
        "colab": {
          "base_uri": "https://localhost:8080/"
        },
        "outputId": "d294a6c9-7dcd-4dbb-bff7-07167a55467b"
      },
      "outputs": [
        {
          "output_type": "stream",
          "name": "stdout",
          "text": [
            "Requirement already satisfied: yfinance in /usr/local/lib/python3.10/dist-packages (0.2.41)\n",
            "Requirement already satisfied: pandas>=1.3.0 in /usr/local/lib/python3.10/dist-packages (from yfinance) (2.1.4)\n",
            "Requirement already satisfied: numpy>=1.16.5 in /usr/local/lib/python3.10/dist-packages (from yfinance) (1.26.4)\n",
            "Requirement already satisfied: requests>=2.31 in /usr/local/lib/python3.10/dist-packages (from yfinance) (2.32.3)\n",
            "Requirement already satisfied: multitasking>=0.0.7 in /usr/local/lib/python3.10/dist-packages (from yfinance) (0.0.11)\n",
            "Requirement already satisfied: lxml>=4.9.1 in /usr/local/lib/python3.10/dist-packages (from yfinance) (4.9.4)\n",
            "Requirement already satisfied: platformdirs>=2.0.0 in /usr/local/lib/python3.10/dist-packages (from yfinance) (4.2.2)\n",
            "Requirement already satisfied: pytz>=2022.5 in /usr/local/lib/python3.10/dist-packages (from yfinance) (2024.1)\n",
            "Requirement already satisfied: frozendict>=2.3.4 in /usr/local/lib/python3.10/dist-packages (from yfinance) (2.4.4)\n",
            "Requirement already satisfied: peewee>=3.16.2 in /usr/local/lib/python3.10/dist-packages (from yfinance) (3.17.6)\n",
            "Requirement already satisfied: beautifulsoup4>=4.11.1 in /usr/local/lib/python3.10/dist-packages (from yfinance) (4.12.3)\n",
            "Requirement already satisfied: html5lib>=1.1 in /usr/local/lib/python3.10/dist-packages (from yfinance) (1.1)\n",
            "Requirement already satisfied: soupsieve>1.2 in /usr/local/lib/python3.10/dist-packages (from beautifulsoup4>=4.11.1->yfinance) (2.5)\n",
            "Requirement already satisfied: six>=1.9 in /usr/local/lib/python3.10/dist-packages (from html5lib>=1.1->yfinance) (1.16.0)\n",
            "Requirement already satisfied: webencodings in /usr/local/lib/python3.10/dist-packages (from html5lib>=1.1->yfinance) (0.5.1)\n",
            "Requirement already satisfied: python-dateutil>=2.8.2 in /usr/local/lib/python3.10/dist-packages (from pandas>=1.3.0->yfinance) (2.8.2)\n",
            "Requirement already satisfied: tzdata>=2022.1 in /usr/local/lib/python3.10/dist-packages (from pandas>=1.3.0->yfinance) (2024.1)\n",
            "Requirement already satisfied: charset-normalizer<4,>=2 in /usr/local/lib/python3.10/dist-packages (from requests>=2.31->yfinance) (3.3.2)\n",
            "Requirement already satisfied: idna<4,>=2.5 in /usr/local/lib/python3.10/dist-packages (from requests>=2.31->yfinance) (3.7)\n",
            "Requirement already satisfied: urllib3<3,>=1.21.1 in /usr/local/lib/python3.10/dist-packages (from requests>=2.31->yfinance) (2.0.7)\n",
            "Requirement already satisfied: certifi>=2017.4.17 in /usr/local/lib/python3.10/dist-packages (from requests>=2.31->yfinance) (2024.7.4)\n"
          ]
        }
      ],
      "source": [
        "!pip install yfinance"
      ]
    },
    {
      "cell_type": "code",
      "execution_count": 4,
      "metadata": {
        "id": "iAeOLNoS-X0q",
        "colab": {
          "base_uri": "https://localhost:8080/"
        },
        "outputId": "57f32730-235b-45db-9b4c-b66ff8dc01b9"
      },
      "outputs": [
        {
          "output_type": "stream",
          "name": "stdout",
          "text": [
            "Collecting yahooquery\n",
            "  Downloading yahooquery-2.3.7-py3-none-any.whl.metadata (5.0 kB)\n",
            "Requirement already satisfied: beautifulsoup4<5.0.0,>=4.12.2 in /usr/local/lib/python3.10/dist-packages (from yahooquery) (4.12.3)\n",
            "Requirement already satisfied: lxml<5.0.0,>=4.9.3 in /usr/local/lib/python3.10/dist-packages (from yahooquery) (4.9.4)\n",
            "Requirement already satisfied: pandas<3.0.0,>=2.0.3 in /usr/local/lib/python3.10/dist-packages (from yahooquery) (2.1.4)\n",
            "Requirement already satisfied: requests<3.0.0,>=2.31.0 in /usr/local/lib/python3.10/dist-packages (from yahooquery) (2.32.3)\n",
            "Collecting requests-futures<2.0.0,>=1.0.1 (from yahooquery)\n",
            "  Downloading requests_futures-1.0.1-py2.py3-none-any.whl.metadata (12 kB)\n",
            "Requirement already satisfied: tqdm<5.0.0,>=4.65.0 in /usr/local/lib/python3.10/dist-packages (from yahooquery) (4.66.5)\n",
            "Requirement already satisfied: soupsieve>1.2 in /usr/local/lib/python3.10/dist-packages (from beautifulsoup4<5.0.0,>=4.12.2->yahooquery) (2.5)\n",
            "Requirement already satisfied: numpy<2,>=1.22.4 in /usr/local/lib/python3.10/dist-packages (from pandas<3.0.0,>=2.0.3->yahooquery) (1.26.4)\n",
            "Requirement already satisfied: python-dateutil>=2.8.2 in /usr/local/lib/python3.10/dist-packages (from pandas<3.0.0,>=2.0.3->yahooquery) (2.8.2)\n",
            "Requirement already satisfied: pytz>=2020.1 in /usr/local/lib/python3.10/dist-packages (from pandas<3.0.0,>=2.0.3->yahooquery) (2024.1)\n",
            "Requirement already satisfied: tzdata>=2022.1 in /usr/local/lib/python3.10/dist-packages (from pandas<3.0.0,>=2.0.3->yahooquery) (2024.1)\n",
            "Requirement already satisfied: charset-normalizer<4,>=2 in /usr/local/lib/python3.10/dist-packages (from requests<3.0.0,>=2.31.0->yahooquery) (3.3.2)\n",
            "Requirement already satisfied: idna<4,>=2.5 in /usr/local/lib/python3.10/dist-packages (from requests<3.0.0,>=2.31.0->yahooquery) (3.7)\n",
            "Requirement already satisfied: urllib3<3,>=1.21.1 in /usr/local/lib/python3.10/dist-packages (from requests<3.0.0,>=2.31.0->yahooquery) (2.0.7)\n",
            "Requirement already satisfied: certifi>=2017.4.17 in /usr/local/lib/python3.10/dist-packages (from requests<3.0.0,>=2.31.0->yahooquery) (2024.7.4)\n",
            "Requirement already satisfied: six>=1.5 in /usr/local/lib/python3.10/dist-packages (from python-dateutil>=2.8.2->pandas<3.0.0,>=2.0.3->yahooquery) (1.16.0)\n",
            "Downloading yahooquery-2.3.7-py3-none-any.whl (52 kB)\n",
            "\u001b[2K   \u001b[90m━━━━━━━━━━━━━━━━━━━━━━━━━━━━━━━━━━━━━━━━\u001b[0m \u001b[32m52.7/52.7 kB\u001b[0m \u001b[31m1.3 MB/s\u001b[0m eta \u001b[36m0:00:00\u001b[0m\n",
            "\u001b[?25hDownloading requests_futures-1.0.1-py2.py3-none-any.whl (7.6 kB)\n",
            "Installing collected packages: requests-futures, yahooquery\n",
            "Successfully installed requests-futures-1.0.1 yahooquery-2.3.7\n"
          ]
        }
      ],
      "source": [
        "!pip install yahooquery"
      ]
    },
    {
      "cell_type": "code",
      "execution_count": 5,
      "metadata": {
        "id": "48Zx8u3_qM-z"
      },
      "outputs": [],
      "source": [
        "#!pip install mpld3"
      ]
    },
    {
      "cell_type": "code",
      "execution_count": 6,
      "metadata": {
        "id": "QrD7a1dBvewh"
      },
      "outputs": [],
      "source": [
        "#!pip install -i https://test.pypi.org/simple/ xardata"
      ]
    },
    {
      "cell_type": "markdown",
      "metadata": {
        "id": "zPY-0m3Gvs64"
      },
      "source": [
        "###Run XarData v0.1.0"
      ]
    },
    {
      "cell_type": "markdown",
      "metadata": {
        "id": "mE7Pscc7PRyu"
      },
      "source": [
        "###Settings"
      ]
    },
    {
      "cell_type": "code",
      "execution_count": 15,
      "metadata": {
        "id": "PkP0SoUkxEzK",
        "outputId": "4564b19f-7acc-407a-d8e8-2aa40fab9e2d",
        "colab": {
          "base_uri": "https://localhost:8080/"
        }
      },
      "outputs": [
        {
          "output_type": "stream",
          "name": "stdout",
          "text": [
            "2024-08-15 - Last Month Result: 0.00%\n"
          ]
        }
      ],
      "source": [
        "\n",
        "import datetime\n",
        "from datetime import date\n",
        "import numpy as np\n",
        "\n",
        "\"\"\"\n",
        "Settings\n",
        "\"\"\"\n",
        "portfolio_value = 148700.00\n",
        "perf_last_month = 148700.00\n",
        "\n",
        "start_date = '2022-06-01'\n",
        "end_date = '2024-08-15' #today's date\n",
        "\n",
        "#Change to yesterday's date\n",
        "ranking_day = '2024-08-14'\n",
        "\n",
        "#Change file names to yesterday's date\n",
        "ranked_list = '/content/drive/MyDrive/ranked_list_14Aug2024.csv'\n",
        "initial_portfolio = '/content/drive/MyDrive/initial_portfolio_14Aug2024.csv'\n",
        "\n",
        "#Change filename to current portfolio date\n",
        "current_portfolio = '/content/drive/MyDrive/initial_portfolio_31Jul2024.csv'\n",
        "\n",
        "\"\"\"\n",
        "DO NOT CHANGE VARIABLES BELOW\n",
        "\"\"\"\n",
        "\n",
        "benchmark_index = '/content/drive/MyDrive/STX.csv'\n",
        "ranking_list = '/content/drive/MyDrive/ranking_list.csv'\n",
        "Data = \"/content/drive/MyDrive/Stocks\"\n",
        "\n",
        "# Storing today's date into a variable\n",
        "today = date.today()\n",
        "\n",
        "# Storing the specific date\n",
        "trading_day = today\n",
        "\n",
        "# Calculate percent difference since last month\n",
        "perf_pct = (portfolio_value / perf_last_month) - 1\n",
        "\n",
        "# Print performance, format as percent with two decimals.\n",
        "print(\"{} - Last Month Result: {:.2%}\".format(trading_day, perf_pct))\n",
        "\n",
        "# Remember today's portfolio value for next month's calculation\n",
        "#perf_last_month = portfolio_value"
      ]
    },
    {
      "cell_type": "markdown",
      "metadata": {
        "id": "vE9ebbp65LdU"
      },
      "source": [
        "###Import Benchmark Data"
      ]
    },
    {
      "cell_type": "code",
      "execution_count": null,
      "metadata": {
        "colab": {
          "base_uri": "https://localhost:8080/",
          "height": 233
        },
        "id": "jMMdyGwmf3x0",
        "outputId": "8b6c2557-09a7-44d1-f14d-7bdcc2c48c0f"
      },
      "outputs": [
        {
          "output_type": "stream",
          "name": "stderr",
          "text": [
            "<ipython-input-9-30edcbc6e7ba>:73: UserWarning: This figure includes Axes that are not compatible with tight_layout, so results might be incorrect.\n",
            "  plt.tight_layout()\n"
          ]
        },
        {
          "output_type": "display_data",
          "data": {
            "text/plain": [
              "<Figure size 1000x600 with 2 Axes>"
            ],
            "image/png": "[encoded data removed]"
          },
          "metadata": {}
        }
      ],
      "source": [
        "%matplotlib inline\n",
        "\n",
        "import pandas as pd\n",
        "from datetime import datetime\n",
        "import yfinance as yf\n",
        "import yahooquery\n",
        "import matplotlib.pyplot as plt\n",
        "from PIL import Image\n",
        "\n",
        "# Set length of history\n",
        "#now = datetime.now().strftime(\"%Y-%m-%d\")\n",
        "#start_date = '2022-06-01'\n",
        "#end_date = '2024-08-14'\n",
        "\n",
        "# Get price history\n",
        "data = yf.Ticker(\"STXCAP.JO\")\n",
        "index = data.history(start=start_date,\n",
        "                     end=end_date)\n",
        "\n",
        "# Covert Date Column to datetime\n",
        "# Set Date Column as index\n",
        "resetindex = index.reset_index(inplace = True)\n",
        "index['Date'] = pd.to_datetime(index['Date']).dt.strftime('%Y-%m-%d')\n",
        "index.set_index(\"Date\", inplace=True)\n",
        "\n",
        "# Save benchmark data\n",
        "index.to_csv(benchmark_index)\n",
        "\n",
        "# Read benchmark data\n",
        "# Load data from CSV (replace with your actual data)\n",
        "index_data = pd.read_csv(benchmark_index)  # Replace with your file\n",
        "\n",
        "# Convert date column to datetime format\n",
        "index_data['Date'] = pd.to_datetime(index_data['Date'])\n",
        "\n",
        "# Extract relevant columns (date and close prices)\n",
        "dates = index_data['Date']\n",
        "close_prices = index_data['Close']\n",
        "\n",
        "# Calculate the 200-day moving average\n",
        "moving_average = close_prices.rolling(window=200).mean()\n",
        "\n",
        "# Select the last 100 days\n",
        "dates_last_100 = dates[-90:]\n",
        "close_prices_last_100 = close_prices[-90:]\n",
        "moving_average_last_100 = moving_average[-90:]\n",
        "\n",
        "# Create the line chart\n",
        "plt.figure(figsize=(10, 6))\n",
        "plt.plot(dates_last_100, close_prices_last_100, label='Close Prices', color='grey')\n",
        "plt.plot(dates_last_100, moving_average_last_100, label='200-day mean', color='purple', linestyle='-')\n",
        "\n",
        "# Customize the chart\n",
        "plt.xlabel(\"Date\")\n",
        "plt.ylabel(\"Price\")\n",
        "plt.title(\"Satrix Capped All Share ETF (STXCAP)\")\n",
        "plt.xticks(rotation=0)\n",
        "plt.grid(False)\n",
        "plt.legend()\n",
        "\n",
        "# Add the logo\n",
        "logo_path = \"/content/drive/MyDrive/-j9g8q1.jpg\"  # Replace with your logo file path\n",
        "logo = Image.open(logo_path)\n",
        "logo.thumbnail((200, 200))  # Resize the logo to fit in the corner\n",
        "\n",
        "# Get the current figure and add a new axes for the logo\n",
        "fig = plt.gcf()\n",
        "newax = fig.add_axes([0.89, 0.0, 0.12, 0.1], anchor='SE', zorder=-1)\n",
        "newax.imshow(logo)\n",
        "newax.axis('off')\n",
        "\n",
        "\n",
        "plt.tight_layout()\n",
        "plt.show()"
      ]
    },
    {
      "cell_type": "markdown",
      "metadata": {
        "id": "PJFVtTcH91Cl"
      },
      "source": [
        "###data.py"
      ]
    },
    {
      "cell_type": "code",
      "source": [
        "\n",
        "import os\n",
        "import requests\n",
        "import json\n",
        "import pandas as pd\n",
        "import yfinance as yf\n",
        "import numpy as np\n",
        "from scipy import stats\n",
        "from pathlib import Path\n",
        "\n",
        "def get_tickers(api_token):\n",
        "    \"\"\"\n",
        "    Fetches JSE stock tickers from an API and prepares them for further processing.\n",
        "\n",
        "    Args:\n",
        "        api_token (str): Your EOD Historical Data API token.\n",
        "\n",
        "    Returns:\n",
        "        list: List of JSE stock tickers with '.JO' suffix.\n",
        "    \"\"\"\n",
        "    url = f'https://eodhd.com/api/exchange-symbol-list/JSE?api_token={api_token}&fmt=json'\n",
        "    data = requests.get(url).json()\n",
        "\n",
        "    # Serialize JSON data\n",
        "    json_object = json.dumps(data, indent=4)\n",
        "    with open(\"jse.json\", \"w\") as outfile:\n",
        "        outfile.write(json_object)\n",
        "\n",
        "    # Read from JSON file\n",
        "    with open('jse.json', 'r') as openfile:\n",
        "        json_object = json.load(openfile)\n",
        "    df = pd.json_normalize(json_object)\n",
        "\n",
        "    # Create modified DataFrame\n",
        "    df['tickers'] = df['Code'].astype(str) + '.JO'\n",
        "    df = df[df['Code'].str.len() <= 3]\n",
        "\n",
        "    # Extract tickers\n",
        "    tickers = df['tickers'].tolist()\n",
        "    return tickers\n",
        "\n",
        "if __name__ == '__main__':\n",
        "    # Example usage\n",
        "    api_token = '668ec587b96b99.42475935'  # Replace with your actual API token\n",
        "    tickers = get_tickers(api_token)\n",
        "    print(f'JSE tickers: {tickers}')\n",
        "\n",
        "\n",
        "def download_and_process(tickers, start_date, end_date, output_dir='Stocks'):\n",
        "    \"\"\"\n",
        "    Downloads stock price data for a list of tickers, processes it to handle outliers and missing data,\n",
        "    and saves the cleaned data to separate CSV files.\n",
        "\n",
        "    Args:\n",
        "        tickers (list): List of stock tickers (e.g., ['AAPL', 'MSFT', 'GOOGL']).\n",
        "        start_date (str): Start date in 'YYYY-MM-DD' format.\n",
        "        end_date (str): End date in 'YYYY-MM-DD' format.\n",
        "        output_dir (str, optional): Directory to save CSV files. Defaults to 'Stocks'.\n",
        "    \"\"\"\n",
        "    os.makedirs(output_dir, exist_ok=True)\n",
        "\n",
        "    for stock in tickers:\n",
        "        stock_data = yf.download(stock, start=start_date, end=end_date)\n",
        "        df = pd.DataFrame(stock_data)\n",
        "\n",
        "        # Parse the date column as datetime and set it as the index\n",
        "        df['Date'] = pd.to_datetime(df.index)\n",
        "        df.set_index('Date', inplace=True)\n",
        "\n",
        "        # Select OHLCV columns\n",
        "        df = df[[\"Open\", \"High\", \"Low\", \"Close\", \"Adj Close\", \"Volume\"]]\n",
        "\n",
        "        # Remove outliers using z-score\n",
        "        df = df[(np.abs(stats.zscore(df)) < 3).all(axis=1)]\n",
        "\n",
        "        # Handle missing data\n",
        "        df.fillna(method='ffill', inplace=True)  # Forward fill\n",
        "        df.fillna(method='bfill', inplace=True)  # Backward fill\n",
        "\n",
        "        # Save the cleaned data to a new CSV file\n",
        "        csv_filename = os.path.join(output_dir, f'{stock}.csv')\n",
        "        df.to_csv(csv_filename)\n",
        "        print(f'Processed and saved cleaned data for {stock} to {csv_filename}')\n",
        "\n",
        "    print(f'All data saved and processed in the \"{output_dir}\" directory.')\n",
        "\n",
        "if __name__ == '__main__':\n",
        "    # Example usage\n",
        "    tickers = tickers\n",
        "    #start_date = '2022-06-01'\n",
        "    #end_date = '2024-08-14'\n",
        "    download_and_process(tickers, start_date, end_date)\n",
        "\n",
        "def save_tickers(folder_path):\n",
        "    \"\"\"\n",
        "    Extracts unique tickers from CSV files in the specified folder.\n",
        "\n",
        "    Args:\n",
        "        folder_path (str): Path to the folder containing CSV files.\n",
        "\n",
        "    Returns:\n",
        "        pd.DataFrame: DataFrame with a single column 'tickers' containing unique tickers.\n",
        "    \"\"\"\n",
        "    tickers = []\n",
        "    for filename in os.listdir(folder_path):\n",
        "        if filename.endswith('.csv'):\n",
        "            tickers.append(filename[:-4])\n",
        "\n",
        "    unique_tickers = list(dict.fromkeys(tickers))\n",
        "    df = pd.DataFrame(unique_tickers, columns=['tickers'])\n",
        "    df.columns=df.iloc[1]\n",
        "    df.to_csv(os.path.join(folder_path, 'tickers.csv'), index=False)\n",
        "    print(f'Saved unique tickers to {folder_path}/tickers.csv')\n",
        "    return df\n",
        "\n",
        "if __name__ == '__main__':\n",
        "    # Example usage\n",
        "    folder_path = 'Stocks'\n",
        "    df = save_tickers(folder_path)"
      ],
      "metadata": {
        "id": "pZYJaZQpqr-S",
        "colab": {
          "base_uri": "https://localhost:8080/"
        },
        "outputId": "ca2e939b-b486-408c-9db0-96018db0d907"
      },
      "execution_count": null,
      "outputs": [
        {
          "output_type": "stream",
          "name": "stderr",
          "text": [
            "\r[*********************100%%**********************]  1 of 1 completed"
          ]
        },
        {
          "output_type": "stream",
          "name": "stdout",
          "text": [
            "JSE tickers: ['4SI.JO', 'ABG.JO', 'ACL.JO', 'ACS.JO', 'ACT.JO', 'ADH.JO', 'ADR.JO', 'ADW.JO', 'AEG.JO', 'AEL.JO', 'AFE.JO', 'AFH.JO', 'AFT.JO', 'AGL.JO', 'AHL.JO', 'AIL.JO', 'AIP.JO', 'AME.JO', 'AMS.JO', 'ANG.JO', 'ANH.JO', 'ANI.JO', 'APF.JO', 'APH.JO', 'APN.JO', 'APO.JO', 'ARA.JO', 'ARI.JO', 'ARL.JO', 'ART.JO', 'ASC.JO', 'ATT.JO', 'AVI.JO', 'AYO.JO', 'BAT.JO', 'BAW.JO', 'BCF.JO', 'BEL.JO', 'BHG.JO', 'BID.JO', 'BIK.JO', 'BKI.JO', 'BLU.JO', 'BRN.JO', 'BRT.JO', 'BTI.JO', 'BTN.JO', 'BVT.JO', 'BWN.JO', 'BYI.JO', 'CAA.JO', 'CAT.JO', 'CFR.JO', 'CGR.JO', 'CHP.JO', 'CKS.JO', 'CLH.JO', 'CLI.JO', 'CLS.JO', 'CMH.JO', 'CML.JO', 'CMO.JO', 'CND.JO', 'COH.JO', 'CPI.JO', 'CPP.JO', 'CPR.JO', 'CRP.JO', 'CSB.JO', 'CTA.JO', 'DCP.JO', 'DIB.JO', 'DNB.JO', 'DRA.JO', 'DRD.JO', 'DSY.JO', 'DTC.JO', 'ELI.JO', 'EMH.JO', 'EMI.JO', 'EMN.JO', 'ENX.JO', 'EOH.JO', 'EPE.JO', 'EPS.JO', 'EQU.JO', 'EUZ.JO', 'EXP.JO', 'EXX.JO', 'FBR.JO', 'FFB.JO', 'FGL.JO', 'FSR.JO', 'FTA.JO', 'FTB.JO', 'FTH.JO', 'GFI.JO', 'GLD.JO', 'GLN.JO', 'GML.JO', 'GND.JO', 'GPL.JO', 'GRT.JO', 'GSH.JO', 'HAR.JO', 'HCI.JO', 'HDC.JO', 'HIL.JO', 'HLM.JO', 'HMN.JO', 'HUG.JO', 'HYP.JO', 'IMP.JO', 'INL.JO', 'INP.JO', 'ISA.JO', 'ISB.JO', 'ITE.JO', 'IVT.JO', 'JBL.JO', 'JSE.JO', 'KAL.JO', 'KAP.JO', 'KBO.JO', 'KIO.JO', 'KP2.JO', 'KRO.JO', 'KST.JO', 'LAB.JO', 'LBR.JO', 'LEW.JO', 'LHC.JO', 'LSK.JO', 'LTE.JO', 'MCG.JO', 'MCZ.JO', 'MDI.JO', 'MFL.JO', 'MHB.JO', 'MKR.JO', 'MMP.JO', 'MNP.JO', 'MPT.JO', 'MRF.JO', 'MRP.JO', 'MSP.JO', 'MST.JO', 'MTA.JO', 'MTH.JO', 'MTM.JO', 'MTN.JO', 'MTU.JO', 'MUR.JO', 'N91.JO', 'NCS.JO', 'NED.JO', 'NPH.JO', 'NPK.JO', 'NPN.JO', 'NRP.JO', 'NTC.JO', 'NVS.JO', 'NWL.JO', 'NY1.JO', 'OAO.JO', 'OAS.JO', 'OCE.JO', 'OCT.JO', 'OMN.JO', 'OMU.JO', 'ORN.JO', 'OUT.JO', 'PAN.JO', 'PBG.JO', 'PIK.JO', 'PMR.JO', 'PMV.JO', 'PPC.JO', 'PPE.JO', 'PPH.JO', 'PPR.JO', 'PRX.JO', 'QFH.JO', 'QLT.JO', 'RBX.JO', 'RCL.JO', 'RDF.JO', 'REA.JO', 'REB.JO', 'REM.JO', 'REN.JO', 'RES.JO', 'RFG.JO', 'RHB.JO', 'RLO.JO', 'RMH.JO', 'RNG.JO', 'RNI.JO', 'RTN.JO', 'RTO.JO', 'S32.JO', 'SAC.JO', 'SAP.JO', 'SAR.JO', 'SBK.JO', 'SBP.JO', 'SCD.JO', 'SDL.JO', 'SDO.JO', 'SEA.JO', 'SEB.JO', 'SEP.JO', 'SFN.JO', 'SHC.JO', 'SHG.JO', 'SHP.JO', 'SLG.JO', 'SLM.JO', 'SNT.JO', 'SNV.JO', 'SOH.JO', 'SOL.JO', 'SPG.JO', 'SPP.JO', 'SRE.JO', 'SSK.JO', 'SSS.JO', 'SSU.JO', 'SSW.JO', 'SUI.JO', 'SUR.JO', 'SXM.JO', 'SYG.JO', 'SZK.JO', 'TBS.JO', 'TCP.JO', 'TEX.JO', 'TFG.JO', 'TGA.JO', 'THA.JO', 'TKG.JO', 'TLM.JO', 'TMT.JO', 'TON.JO', 'TPC.JO', 'TRE.JO', 'TRL.JO', 'TRU.JO', 'TSG.JO', 'TTO.JO', 'UPL.JO', 'VIS.JO', 'VKE.JO', 'VOD.JO', 'VUN.JO', 'WBC.JO', 'WBO.JO', 'WEZ.JO', 'WHL.JO', 'WKF.JO', 'YRK.JO', 'ZED.JO', 'ZZD.JO']\n",
            "Processed and saved cleaned data for 4SI.JO to Stocks/4SI.JO.csv\n"
          ]
        },
        {
          "output_type": "stream",
          "name": "stderr",
          "text": [
            "\n",
            "<ipython-input-10-52a0e9cea7f7>:76: FutureWarning: DataFrame.fillna with 'method' is deprecated and will raise in a future version. Use obj.ffill() or obj.bfill() instead.\n",
            "  df.fillna(method='ffill', inplace=True)  # Forward fill\n",
            "<ipython-input-10-52a0e9cea7f7>:77: FutureWarning: DataFrame.fillna with 'method' is deprecated and will raise in a future version. Use obj.ffill() or obj.bfill() instead.\n",
            "  df.fillna(method='bfill', inplace=True)  # Backward fill\n",
            "\r[*********************100%%**********************]  1 of 1 completed\n",
            "<ipython-input-10-52a0e9cea7f7>:76: FutureWarning: DataFrame.fillna with 'method' is deprecated and will raise in a future version. Use obj.ffill() or obj.bfill() instead.\n",
            "  df.fillna(method='ffill', inplace=True)  # Forward fill\n",
            "<ipython-input-10-52a0e9cea7f7>:77: FutureWarning: DataFrame.fillna with 'method' is deprecated and will raise in a future version. Use obj.ffill() or obj.bfill() instead.\n",
            "  df.fillna(method='bfill', inplace=True)  # Backward fill\n",
            "[*********************100%%**********************]  1 of 1 completed\n",
            "<ipython-input-10-52a0e9cea7f7>:76: FutureWarning: DataFrame.fillna with 'method' is deprecated and will raise in a future version. Use obj.ffill() or obj.bfill() instead.\n",
            "  df.fillna(method='ffill', inplace=True)  # Forward fill\n",
            "<ipython-input-10-52a0e9cea7f7>:77: FutureWarning: DataFrame.fillna with 'method' is deprecated and will raise in a future version. Use obj.ffill() or obj.bfill() instead.\n",
            "  df.fillna(method='bfill', inplace=True)  # Backward fill\n"
          ]
        },
        {
          "output_type": "stream",
          "name": "stdout",
          "text": [
            "Processed and saved cleaned data for ABG.JO to Stocks/ABG.JO.csv\n",
            "Processed and saved cleaned data for ACL.JO to Stocks/ACL.JO.csv\n"
          ]
        },
        {
          "output_type": "stream",
          "name": "stderr",
          "text": [
            "\r[*********************100%%**********************]  1 of 1 completed\n",
            "<ipython-input-10-52a0e9cea7f7>:76: FutureWarning: DataFrame.fillna with 'method' is deprecated and will raise in a future version. Use obj.ffill() or obj.bfill() instead.\n",
            "  df.fillna(method='ffill', inplace=True)  # Forward fill\n",
            "<ipython-input-10-52a0e9cea7f7>:77: FutureWarning: DataFrame.fillna with 'method' is deprecated and will raise in a future version. Use obj.ffill() or obj.bfill() instead.\n",
            "  df.fillna(method='bfill', inplace=True)  # Backward fill\n",
            "[*********************100%%**********************]  1 of 1 completed"
          ]
        },
        {
          "output_type": "stream",
          "name": "stdout",
          "text": [
            "Processed and saved cleaned data for ACS.JO to Stocks/ACS.JO.csv\n"
          ]
        },
        {
          "output_type": "stream",
          "name": "stderr",
          "text": [
            "\n",
            "<ipython-input-10-52a0e9cea7f7>:76: FutureWarning: DataFrame.fillna with 'method' is deprecated and will raise in a future version. Use obj.ffill() or obj.bfill() instead.\n",
            "  df.fillna(method='ffill', inplace=True)  # Forward fill\n",
            "<ipython-input-10-52a0e9cea7f7>:77: FutureWarning: DataFrame.fillna with 'method' is deprecated and will raise in a future version. Use obj.ffill() or obj.bfill() instead.\n",
            "  df.fillna(method='bfill', inplace=True)  # Backward fill\n",
            "[*********************100%%**********************]  1 of 1 completed"
          ]
        },
        {
          "output_type": "stream",
          "name": "stdout",
          "text": [
            "Processed and saved cleaned data for ACT.JO to Stocks/ACT.JO.csv\n"
          ]
        },
        {
          "output_type": "stream",
          "name": "stderr",
          "text": [
            "\n",
            "<ipython-input-10-52a0e9cea7f7>:76: FutureWarning: DataFrame.fillna with 'method' is deprecated and will raise in a future version. Use obj.ffill() or obj.bfill() instead.\n",
            "  df.fillna(method='ffill', inplace=True)  # Forward fill\n",
            "<ipython-input-10-52a0e9cea7f7>:77: FutureWarning: DataFrame.fillna with 'method' is deprecated and will raise in a future version. Use obj.ffill() or obj.bfill() instead.\n",
            "  df.fillna(method='bfill', inplace=True)  # Backward fill\n",
            "[*********************100%%**********************]  1 of 1 completed"
          ]
        },
        {
          "output_type": "stream",
          "name": "stdout",
          "text": [
            "Processed and saved cleaned data for ADH.JO to Stocks/ADH.JO.csv\n"
          ]
        },
        {
          "output_type": "stream",
          "name": "stderr",
          "text": [
            "\n",
            "<ipython-input-10-52a0e9cea7f7>:76: FutureWarning: DataFrame.fillna with 'method' is deprecated and will raise in a future version. Use obj.ffill() or obj.bfill() instead.\n",
            "  df.fillna(method='ffill', inplace=True)  # Forward fill\n",
            "<ipython-input-10-52a0e9cea7f7>:77: FutureWarning: DataFrame.fillna with 'method' is deprecated and will raise in a future version. Use obj.ffill() or obj.bfill() instead.\n",
            "  df.fillna(method='bfill', inplace=True)  # Backward fill\n",
            "\r[*********************100%%**********************]  1 of 1 completed\n",
            "<ipython-input-10-52a0e9cea7f7>:76: FutureWarning: DataFrame.fillna with 'method' is deprecated and will raise in a future version. Use obj.ffill() or obj.bfill() instead.\n",
            "  df.fillna(method='ffill', inplace=True)  # Forward fill\n",
            "<ipython-input-10-52a0e9cea7f7>:77: FutureWarning: DataFrame.fillna with 'method' is deprecated and will raise in a future version. Use obj.ffill() or obj.bfill() instead.\n",
            "  df.fillna(method='bfill', inplace=True)  # Backward fill\n"
          ]
        },
        {
          "output_type": "stream",
          "name": "stdout",
          "text": [
            "Processed and saved cleaned data for ADR.JO to Stocks/ADR.JO.csv\n",
            "Processed and saved cleaned data for ADW.JO to Stocks/ADW.JO.csv\n"
          ]
        },
        {
          "output_type": "stream",
          "name": "stderr",
          "text": [
            "\r[*********************100%%**********************]  1 of 1 completed\n",
            "<ipython-input-10-52a0e9cea7f7>:76: FutureWarning: DataFrame.fillna with 'method' is deprecated and will raise in a future version. Use obj.ffill() or obj.bfill() instead.\n",
            "  df.fillna(method='ffill', inplace=True)  # Forward fill\n",
            "<ipython-input-10-52a0e9cea7f7>:77: FutureWarning: DataFrame.fillna with 'method' is deprecated and will raise in a future version. Use obj.ffill() or obj.bfill() instead.\n",
            "  df.fillna(method='bfill', inplace=True)  # Backward fill\n",
            "[*********************100%%**********************]  1 of 1 completed\n",
            "<ipython-input-10-52a0e9cea7f7>:76: FutureWarning: DataFrame.fillna with 'method' is deprecated and will raise in a future version. Use obj.ffill() or obj.bfill() instead.\n",
            "  df.fillna(method='ffill', inplace=True)  # Forward fill\n",
            "<ipython-input-10-52a0e9cea7f7>:77: FutureWarning: DataFrame.fillna with 'method' is deprecated and will raise in a future version. Use obj.ffill() or obj.bfill() instead.\n",
            "  df.fillna(method='bfill', inplace=True)  # Backward fill\n"
          ]
        },
        {
          "output_type": "stream",
          "name": "stdout",
          "text": [
            "Processed and saved cleaned data for AEG.JO to Stocks/AEG.JO.csv\n",
            "Processed and saved cleaned data for AEL.JO to Stocks/AEL.JO.csv\n"
          ]
        },
        {
          "output_type": "stream",
          "name": "stderr",
          "text": [
            "\r[*********************100%%**********************]  1 of 1 completed\n",
            "<ipython-input-10-52a0e9cea7f7>:76: FutureWarning: DataFrame.fillna with 'method' is deprecated and will raise in a future version. Use obj.ffill() or obj.bfill() instead.\n",
            "  df.fillna(method='ffill', inplace=True)  # Forward fill\n",
            "<ipython-input-10-52a0e9cea7f7>:77: FutureWarning: DataFrame.fillna with 'method' is deprecated and will raise in a future version. Use obj.ffill() or obj.bfill() instead.\n",
            "  df.fillna(method='bfill', inplace=True)  # Backward fill\n",
            "[*********************100%%**********************]  1 of 1 completed\n",
            "<ipython-input-10-52a0e9cea7f7>:76: FutureWarning: DataFrame.fillna with 'method' is deprecated and will raise in a future version. Use obj.ffill() or obj.bfill() instead.\n",
            "  df.fillna(method='ffill', inplace=True)  # Forward fill\n",
            "<ipython-input-10-52a0e9cea7f7>:77: FutureWarning: DataFrame.fillna with 'method' is deprecated and will raise in a future version. Use obj.ffill() or obj.bfill() instead.\n",
            "  df.fillna(method='bfill', inplace=True)  # Backward fill\n"
          ]
        },
        {
          "output_type": "stream",
          "name": "stdout",
          "text": [
            "Processed and saved cleaned data for AFE.JO to Stocks/AFE.JO.csv\n",
            "Processed and saved cleaned data for AFH.JO to Stocks/AFH.JO.csv\n"
          ]
        },
        {
          "output_type": "stream",
          "name": "stderr",
          "text": [
            "\r[*********************100%%**********************]  1 of 1 completed\n",
            "<ipython-input-10-52a0e9cea7f7>:76: FutureWarning: DataFrame.fillna with 'method' is deprecated and will raise in a future version. Use obj.ffill() or obj.bfill() instead.\n",
            "  df.fillna(method='ffill', inplace=True)  # Forward fill\n",
            "<ipython-input-10-52a0e9cea7f7>:77: FutureWarning: DataFrame.fillna with 'method' is deprecated and will raise in a future version. Use obj.ffill() or obj.bfill() instead.\n",
            "  df.fillna(method='bfill', inplace=True)  # Backward fill\n"
          ]
        },
        {
          "output_type": "stream",
          "name": "stdout",
          "text": [
            "Processed and saved cleaned data for AFT.JO to Stocks/AFT.JO.csv\n"
          ]
        },
        {
          "output_type": "stream",
          "name": "stderr",
          "text": [
            "[*********************100%%**********************]  1 of 1 completed\n",
            "<ipython-input-10-52a0e9cea7f7>:76: FutureWarning: DataFrame.fillna with 'method' is deprecated and will raise in a future version. Use obj.ffill() or obj.bfill() instead.\n",
            "  df.fillna(method='ffill', inplace=True)  # Forward fill\n",
            "<ipython-input-10-52a0e9cea7f7>:77: FutureWarning: DataFrame.fillna with 'method' is deprecated and will raise in a future version. Use obj.ffill() or obj.bfill() instead.\n",
            "  df.fillna(method='bfill', inplace=True)  # Backward fill\n",
            "[*********************100%%**********************]  1 of 1 completed\n",
            "<ipython-input-10-52a0e9cea7f7>:76: FutureWarning: DataFrame.fillna with 'method' is deprecated and will raise in a future version. Use obj.ffill() or obj.bfill() instead.\n",
            "  df.fillna(method='ffill', inplace=True)  # Forward fill\n",
            "<ipython-input-10-52a0e9cea7f7>:77: FutureWarning: DataFrame.fillna with 'method' is deprecated and will raise in a future version. Use obj.ffill() or obj.bfill() instead.\n",
            "  df.fillna(method='bfill', inplace=True)  # Backward fill\n"
          ]
        },
        {
          "output_type": "stream",
          "name": "stdout",
          "text": [
            "Processed and saved cleaned data for AGL.JO to Stocks/AGL.JO.csv\n",
            "Processed and saved cleaned data for AHL.JO to Stocks/AHL.JO.csv\n"
          ]
        },
        {
          "output_type": "stream",
          "name": "stderr",
          "text": [
            "\r[*********************100%%**********************]  1 of 1 completed\n",
            "<ipython-input-10-52a0e9cea7f7>:76: FutureWarning: DataFrame.fillna with 'method' is deprecated and will raise in a future version. Use obj.ffill() or obj.bfill() instead.\n",
            "  df.fillna(method='ffill', inplace=True)  # Forward fill\n",
            "<ipython-input-10-52a0e9cea7f7>:77: FutureWarning: DataFrame.fillna with 'method' is deprecated and will raise in a future version. Use obj.ffill() or obj.bfill() instead.\n",
            "  df.fillna(method='bfill', inplace=True)  # Backward fill\n",
            "[*********************100%%**********************]  1 of 1 completed\n",
            "<ipython-input-10-52a0e9cea7f7>:76: FutureWarning: DataFrame.fillna with 'method' is deprecated and will raise in a future version. Use obj.ffill() or obj.bfill() instead.\n",
            "  df.fillna(method='ffill', inplace=True)  # Forward fill\n",
            "<ipython-input-10-52a0e9cea7f7>:77: FutureWarning: DataFrame.fillna with 'method' is deprecated and will raise in a future version. Use obj.ffill() or obj.bfill() instead.\n",
            "  df.fillna(method='bfill', inplace=True)  # Backward fill\n"
          ]
        },
        {
          "output_type": "stream",
          "name": "stdout",
          "text": [
            "Processed and saved cleaned data for AIL.JO to Stocks/AIL.JO.csv\n",
            "Processed and saved cleaned data for AIP.JO to Stocks/AIP.JO.csv\n"
          ]
        },
        {
          "output_type": "stream",
          "name": "stderr",
          "text": [
            "\r[*********************100%%**********************]  1 of 1 completed\n",
            "<ipython-input-10-52a0e9cea7f7>:76: FutureWarning: DataFrame.fillna with 'method' is deprecated and will raise in a future version. Use obj.ffill() or obj.bfill() instead.\n",
            "  df.fillna(method='ffill', inplace=True)  # Forward fill\n",
            "<ipython-input-10-52a0e9cea7f7>:77: FutureWarning: DataFrame.fillna with 'method' is deprecated and will raise in a future version. Use obj.ffill() or obj.bfill() instead.\n",
            "  df.fillna(method='bfill', inplace=True)  # Backward fill\n",
            "[*********************100%%**********************]  1 of 1 completed"
          ]
        },
        {
          "output_type": "stream",
          "name": "stdout",
          "text": [
            "Processed and saved cleaned data for AME.JO to Stocks/AME.JO.csv\n"
          ]
        },
        {
          "output_type": "stream",
          "name": "stderr",
          "text": [
            "\n",
            "<ipython-input-10-52a0e9cea7f7>:76: FutureWarning: DataFrame.fillna with 'method' is deprecated and will raise in a future version. Use obj.ffill() or obj.bfill() instead.\n",
            "  df.fillna(method='ffill', inplace=True)  # Forward fill\n",
            "<ipython-input-10-52a0e9cea7f7>:77: FutureWarning: DataFrame.fillna with 'method' is deprecated and will raise in a future version. Use obj.ffill() or obj.bfill() instead.\n",
            "  df.fillna(method='bfill', inplace=True)  # Backward fill\n",
            "\r[*********************100%%**********************]  1 of 1 completed\n",
            "<ipython-input-10-52a0e9cea7f7>:76: FutureWarning: DataFrame.fillna with 'method' is deprecated and will raise in a future version. Use obj.ffill() or obj.bfill() instead.\n",
            "  df.fillna(method='ffill', inplace=True)  # Forward fill\n",
            "<ipython-input-10-52a0e9cea7f7>:77: FutureWarning: DataFrame.fillna with 'method' is deprecated and will raise in a future version. Use obj.ffill() or obj.bfill() instead.\n",
            "  df.fillna(method='bfill', inplace=True)  # Backward fill\n"
          ]
        },
        {
          "output_type": "stream",
          "name": "stdout",
          "text": [
            "Processed and saved cleaned data for AMS.JO to Stocks/AMS.JO.csv\n",
            "Processed and saved cleaned data for ANG.JO to Stocks/ANG.JO.csv\n"
          ]
        },
        {
          "output_type": "stream",
          "name": "stderr",
          "text": [
            "\r[*********************100%%**********************]  1 of 1 completed\n",
            "<ipython-input-10-52a0e9cea7f7>:76: FutureWarning: DataFrame.fillna with 'method' is deprecated and will raise in a future version. Use obj.ffill() or obj.bfill() instead.\n",
            "  df.fillna(method='ffill', inplace=True)  # Forward fill\n",
            "<ipython-input-10-52a0e9cea7f7>:77: FutureWarning: DataFrame.fillna with 'method' is deprecated and will raise in a future version. Use obj.ffill() or obj.bfill() instead.\n",
            "  df.fillna(method='bfill', inplace=True)  # Backward fill\n",
            "[*********************100%%**********************]  1 of 1 completed\n",
            "<ipython-input-10-52a0e9cea7f7>:76: FutureWarning: DataFrame.fillna with 'method' is deprecated and will raise in a future version. Use obj.ffill() or obj.bfill() instead.\n",
            "  df.fillna(method='ffill', inplace=True)  # Forward fill\n",
            "<ipython-input-10-52a0e9cea7f7>:77: FutureWarning: DataFrame.fillna with 'method' is deprecated and will raise in a future version. Use obj.ffill() or obj.bfill() instead.\n",
            "  df.fillna(method='bfill', inplace=True)  # Backward fill\n"
          ]
        },
        {
          "output_type": "stream",
          "name": "stdout",
          "text": [
            "Processed and saved cleaned data for ANH.JO to Stocks/ANH.JO.csv\n",
            "Processed and saved cleaned data for ANI.JO to Stocks/ANI.JO.csv\n"
          ]
        },
        {
          "output_type": "stream",
          "name": "stderr",
          "text": [
            "\r[*********************100%%**********************]  1 of 1 completed\n",
            "<ipython-input-10-52a0e9cea7f7>:76: FutureWarning: DataFrame.fillna with 'method' is deprecated and will raise in a future version. Use obj.ffill() or obj.bfill() instead.\n",
            "  df.fillna(method='ffill', inplace=True)  # Forward fill\n",
            "<ipython-input-10-52a0e9cea7f7>:77: FutureWarning: DataFrame.fillna with 'method' is deprecated and will raise in a future version. Use obj.ffill() or obj.bfill() instead.\n",
            "  df.fillna(method='bfill', inplace=True)  # Backward fill\n",
            "[*********************100%%**********************]  1 of 1 completed\n",
            "<ipython-input-10-52a0e9cea7f7>:76: FutureWarning: DataFrame.fillna with 'method' is deprecated and will raise in a future version. Use obj.ffill() or obj.bfill() instead.\n",
            "  df.fillna(method='ffill', inplace=True)  # Forward fill\n",
            "<ipython-input-10-52a0e9cea7f7>:77: FutureWarning: DataFrame.fillna with 'method' is deprecated and will raise in a future version. Use obj.ffill() or obj.bfill() instead.\n",
            "  df.fillna(method='bfill', inplace=True)  # Backward fill\n"
          ]
        },
        {
          "output_type": "stream",
          "name": "stdout",
          "text": [
            "Processed and saved cleaned data for APF.JO to Stocks/APF.JO.csv\n",
            "Processed and saved cleaned data for APH.JO to Stocks/APH.JO.csv\n"
          ]
        },
        {
          "output_type": "stream",
          "name": "stderr",
          "text": [
            "\r[*********************100%%**********************]  1 of 1 completed\n",
            "<ipython-input-10-52a0e9cea7f7>:76: FutureWarning: DataFrame.fillna with 'method' is deprecated and will raise in a future version. Use obj.ffill() or obj.bfill() instead.\n",
            "  df.fillna(method='ffill', inplace=True)  # Forward fill\n",
            "<ipython-input-10-52a0e9cea7f7>:77: FutureWarning: DataFrame.fillna with 'method' is deprecated and will raise in a future version. Use obj.ffill() or obj.bfill() instead.\n",
            "  df.fillna(method='bfill', inplace=True)  # Backward fill\n",
            "[*********************100%%**********************]  1 of 1 completed\n",
            "<ipython-input-10-52a0e9cea7f7>:76: FutureWarning: DataFrame.fillna with 'method' is deprecated and will raise in a future version. Use obj.ffill() or obj.bfill() instead.\n",
            "  df.fillna(method='ffill', inplace=True)  # Forward fill\n",
            "<ipython-input-10-52a0e9cea7f7>:77: FutureWarning: DataFrame.fillna with 'method' is deprecated and will raise in a future version. Use obj.ffill() or obj.bfill() instead.\n",
            "  df.fillna(method='bfill', inplace=True)  # Backward fill\n"
          ]
        },
        {
          "output_type": "stream",
          "name": "stdout",
          "text": [
            "Processed and saved cleaned data for APN.JO to Stocks/APN.JO.csv\n",
            "Processed and saved cleaned data for APO.JO to Stocks/APO.JO.csv\n"
          ]
        },
        {
          "output_type": "stream",
          "name": "stderr",
          "text": [
            "\r[*********************100%%**********************]  1 of 1 completed\n",
            "<ipython-input-10-52a0e9cea7f7>:76: FutureWarning: DataFrame.fillna with 'method' is deprecated and will raise in a future version. Use obj.ffill() or obj.bfill() instead.\n",
            "  df.fillna(method='ffill', inplace=True)  # Forward fill\n",
            "<ipython-input-10-52a0e9cea7f7>:77: FutureWarning: DataFrame.fillna with 'method' is deprecated and will raise in a future version. Use obj.ffill() or obj.bfill() instead.\n",
            "  df.fillna(method='bfill', inplace=True)  # Backward fill\n",
            "[*********************100%%**********************]  1 of 1 completed\n",
            "<ipython-input-10-52a0e9cea7f7>:76: FutureWarning: DataFrame.fillna with 'method' is deprecated and will raise in a future version. Use obj.ffill() or obj.bfill() instead.\n",
            "  df.fillna(method='ffill', inplace=True)  # Forward fill\n",
            "<ipython-input-10-52a0e9cea7f7>:77: FutureWarning: DataFrame.fillna with 'method' is deprecated and will raise in a future version. Use obj.ffill() or obj.bfill() instead.\n",
            "  df.fillna(method='bfill', inplace=True)  # Backward fill\n"
          ]
        },
        {
          "output_type": "stream",
          "name": "stdout",
          "text": [
            "Processed and saved cleaned data for ARA.JO to Stocks/ARA.JO.csv\n",
            "Processed and saved cleaned data for ARI.JO to Stocks/ARI.JO.csv\n"
          ]
        },
        {
          "output_type": "stream",
          "name": "stderr",
          "text": [
            "\r[*********************100%%**********************]  1 of 1 completed\n",
            "<ipython-input-10-52a0e9cea7f7>:76: FutureWarning: DataFrame.fillna with 'method' is deprecated and will raise in a future version. Use obj.ffill() or obj.bfill() instead.\n",
            "  df.fillna(method='ffill', inplace=True)  # Forward fill\n",
            "<ipython-input-10-52a0e9cea7f7>:77: FutureWarning: DataFrame.fillna with 'method' is deprecated and will raise in a future version. Use obj.ffill() or obj.bfill() instead.\n",
            "  df.fillna(method='bfill', inplace=True)  # Backward fill\n",
            "[*********************100%%**********************]  1 of 1 completed"
          ]
        },
        {
          "output_type": "stream",
          "name": "stdout",
          "text": [
            "Processed and saved cleaned data for ARL.JO to Stocks/ARL.JO.csv\n"
          ]
        },
        {
          "output_type": "stream",
          "name": "stderr",
          "text": [
            "\n",
            "<ipython-input-10-52a0e9cea7f7>:76: FutureWarning: DataFrame.fillna with 'method' is deprecated and will raise in a future version. Use obj.ffill() or obj.bfill() instead.\n",
            "  df.fillna(method='ffill', inplace=True)  # Forward fill\n",
            "<ipython-input-10-52a0e9cea7f7>:77: FutureWarning: DataFrame.fillna with 'method' is deprecated and will raise in a future version. Use obj.ffill() or obj.bfill() instead.\n",
            "  df.fillna(method='bfill', inplace=True)  # Backward fill\n",
            "\r[*********************100%%**********************]  1 of 1 completed\n",
            "<ipython-input-10-52a0e9cea7f7>:76: FutureWarning: DataFrame.fillna with 'method' is deprecated and will raise in a future version. Use obj.ffill() or obj.bfill() instead.\n",
            "  df.fillna(method='ffill', inplace=True)  # Forward fill\n",
            "<ipython-input-10-52a0e9cea7f7>:77: FutureWarning: DataFrame.fillna with 'method' is deprecated and will raise in a future version. Use obj.ffill() or obj.bfill() instead.\n",
            "  df.fillna(method='bfill', inplace=True)  # Backward fill\n"
          ]
        },
        {
          "output_type": "stream",
          "name": "stdout",
          "text": [
            "Processed and saved cleaned data for ART.JO to Stocks/ART.JO.csv\n",
            "Processed and saved cleaned data for ASC.JO to Stocks/ASC.JO.csv\n"
          ]
        },
        {
          "output_type": "stream",
          "name": "stderr",
          "text": [
            "\r[*********************100%%**********************]  1 of 1 completed\n",
            "<ipython-input-10-52a0e9cea7f7>:76: FutureWarning: DataFrame.fillna with 'method' is deprecated and will raise in a future version. Use obj.ffill() or obj.bfill() instead.\n",
            "  df.fillna(method='ffill', inplace=True)  # Forward fill\n",
            "<ipython-input-10-52a0e9cea7f7>:77: FutureWarning: DataFrame.fillna with 'method' is deprecated and will raise in a future version. Use obj.ffill() or obj.bfill() instead.\n",
            "  df.fillna(method='bfill', inplace=True)  # Backward fill\n",
            "[*********************100%%**********************]  1 of 1 completed\n",
            "<ipython-input-10-52a0e9cea7f7>:76: FutureWarning: DataFrame.fillna with 'method' is deprecated and will raise in a future version. Use obj.ffill() or obj.bfill() instead.\n",
            "  df.fillna(method='ffill', inplace=True)  # Forward fill\n",
            "<ipython-input-10-52a0e9cea7f7>:77: FutureWarning: DataFrame.fillna with 'method' is deprecated and will raise in a future version. Use obj.ffill() or obj.bfill() instead.\n",
            "  df.fillna(method='bfill', inplace=True)  # Backward fill\n"
          ]
        },
        {
          "output_type": "stream",
          "name": "stdout",
          "text": [
            "Processed and saved cleaned data for ATT.JO to Stocks/ATT.JO.csv\n",
            "Processed and saved cleaned data for AVI.JO to Stocks/AVI.JO.csv\n"
          ]
        },
        {
          "output_type": "stream",
          "name": "stderr",
          "text": [
            "\r[*********************100%%**********************]  1 of 1 completed\n",
            "<ipython-input-10-52a0e9cea7f7>:76: FutureWarning: DataFrame.fillna with 'method' is deprecated and will raise in a future version. Use obj.ffill() or obj.bfill() instead.\n",
            "  df.fillna(method='ffill', inplace=True)  # Forward fill\n",
            "<ipython-input-10-52a0e9cea7f7>:77: FutureWarning: DataFrame.fillna with 'method' is deprecated and will raise in a future version. Use obj.ffill() or obj.bfill() instead.\n",
            "  df.fillna(method='bfill', inplace=True)  # Backward fill\n",
            "[*********************100%%**********************]  1 of 1 completed\n"
          ]
        },
        {
          "output_type": "stream",
          "name": "stdout",
          "text": [
            "Processed and saved cleaned data for AYO.JO to Stocks/AYO.JO.csv\n",
            "Processed and saved cleaned data for BAT.JO to Stocks/BAT.JO.csv\n"
          ]
        },
        {
          "output_type": "stream",
          "name": "stderr",
          "text": [
            "<ipython-input-10-52a0e9cea7f7>:76: FutureWarning: DataFrame.fillna with 'method' is deprecated and will raise in a future version. Use obj.ffill() or obj.bfill() instead.\n",
            "  df.fillna(method='ffill', inplace=True)  # Forward fill\n",
            "<ipython-input-10-52a0e9cea7f7>:77: FutureWarning: DataFrame.fillna with 'method' is deprecated and will raise in a future version. Use obj.ffill() or obj.bfill() instead.\n",
            "  df.fillna(method='bfill', inplace=True)  # Backward fill\n",
            "[*********************100%%**********************]  1 of 1 completed\n",
            "<ipython-input-10-52a0e9cea7f7>:76: FutureWarning: DataFrame.fillna with 'method' is deprecated and will raise in a future version. Use obj.ffill() or obj.bfill() instead.\n",
            "  df.fillna(method='ffill', inplace=True)  # Forward fill\n",
            "<ipython-input-10-52a0e9cea7f7>:77: FutureWarning: DataFrame.fillna with 'method' is deprecated and will raise in a future version. Use obj.ffill() or obj.bfill() instead.\n",
            "  df.fillna(method='bfill', inplace=True)  # Backward fill\n",
            "[*********************100%%**********************]  1 of 1 completed"
          ]
        },
        {
          "output_type": "stream",
          "name": "stdout",
          "text": [
            "Processed and saved cleaned data for BAW.JO to Stocks/BAW.JO.csv\n"
          ]
        },
        {
          "output_type": "stream",
          "name": "stderr",
          "text": [
            "\n",
            "<ipython-input-10-52a0e9cea7f7>:76: FutureWarning: DataFrame.fillna with 'method' is deprecated and will raise in a future version. Use obj.ffill() or obj.bfill() instead.\n",
            "  df.fillna(method='ffill', inplace=True)  # Forward fill\n",
            "<ipython-input-10-52a0e9cea7f7>:77: FutureWarning: DataFrame.fillna with 'method' is deprecated and will raise in a future version. Use obj.ffill() or obj.bfill() instead.\n",
            "  df.fillna(method='bfill', inplace=True)  # Backward fill\n",
            "\r[*********************100%%**********************]  1 of 1 completed\n",
            "<ipython-input-10-52a0e9cea7f7>:76: FutureWarning: DataFrame.fillna with 'method' is deprecated and will raise in a future version. Use obj.ffill() or obj.bfill() instead.\n",
            "  df.fillna(method='ffill', inplace=True)  # Forward fill\n",
            "<ipython-input-10-52a0e9cea7f7>:77: FutureWarning: DataFrame.fillna with 'method' is deprecated and will raise in a future version. Use obj.ffill() or obj.bfill() instead.\n",
            "  df.fillna(method='bfill', inplace=True)  # Backward fill\n"
          ]
        },
        {
          "output_type": "stream",
          "name": "stdout",
          "text": [
            "Processed and saved cleaned data for BCF.JO to Stocks/BCF.JO.csv\n",
            "Processed and saved cleaned data for BEL.JO to Stocks/BEL.JO.csv\n"
          ]
        },
        {
          "output_type": "stream",
          "name": "stderr",
          "text": [
            "\r[*********************100%%**********************]  1 of 1 completed\n",
            "<ipython-input-10-52a0e9cea7f7>:76: FutureWarning: DataFrame.fillna with 'method' is deprecated and will raise in a future version. Use obj.ffill() or obj.bfill() instead.\n",
            "  df.fillna(method='ffill', inplace=True)  # Forward fill\n",
            "<ipython-input-10-52a0e9cea7f7>:77: FutureWarning: DataFrame.fillna with 'method' is deprecated and will raise in a future version. Use obj.ffill() or obj.bfill() instead.\n",
            "  df.fillna(method='bfill', inplace=True)  # Backward fill\n",
            "[*********************100%%**********************]  1 of 1 completed\n"
          ]
        },
        {
          "output_type": "stream",
          "name": "stdout",
          "text": [
            "Processed and saved cleaned data for BHG.JO to Stocks/BHG.JO.csv\n",
            "Processed and saved cleaned data for BID.JO to Stocks/BID.JO.csv\n"
          ]
        },
        {
          "output_type": "stream",
          "name": "stderr",
          "text": [
            "<ipython-input-10-52a0e9cea7f7>:76: FutureWarning: DataFrame.fillna with 'method' is deprecated and will raise in a future version. Use obj.ffill() or obj.bfill() instead.\n",
            "  df.fillna(method='ffill', inplace=True)  # Forward fill\n",
            "<ipython-input-10-52a0e9cea7f7>:77: FutureWarning: DataFrame.fillna with 'method' is deprecated and will raise in a future version. Use obj.ffill() or obj.bfill() instead.\n",
            "  df.fillna(method='bfill', inplace=True)  # Backward fill\n",
            "\r[*********************100%%**********************]  1 of 1 completed\n",
            "<ipython-input-10-52a0e9cea7f7>:76: FutureWarning: DataFrame.fillna with 'method' is deprecated and will raise in a future version. Use obj.ffill() or obj.bfill() instead.\n",
            "  df.fillna(method='ffill', inplace=True)  # Forward fill\n",
            "<ipython-input-10-52a0e9cea7f7>:77: FutureWarning: DataFrame.fillna with 'method' is deprecated and will raise in a future version. Use obj.ffill() or obj.bfill() instead.\n",
            "  df.fillna(method='bfill', inplace=True)  # Backward fill\n",
            "[*********************100%%**********************]  1 of 1 completed\n",
            "<ipython-input-10-52a0e9cea7f7>:76: FutureWarning: DataFrame.fillna with 'method' is deprecated and will raise in a future version. Use obj.ffill() or obj.bfill() instead.\n",
            "  df.fillna(method='ffill', inplace=True)  # Forward fill\n",
            "<ipython-input-10-52a0e9cea7f7>:77: FutureWarning: DataFrame.fillna with 'method' is deprecated and will raise in a future version. Use obj.ffill() or obj.bfill() instead.\n",
            "  df.fillna(method='bfill', inplace=True)  # Backward fill\n"
          ]
        },
        {
          "output_type": "stream",
          "name": "stdout",
          "text": [
            "Processed and saved cleaned data for BIK.JO to Stocks/BIK.JO.csv\n",
            "Processed and saved cleaned data for BKI.JO to Stocks/BKI.JO.csv\n"
          ]
        },
        {
          "output_type": "stream",
          "name": "stderr",
          "text": [
            "\r[*********************100%%**********************]  1 of 1 completed\n",
            "<ipython-input-10-52a0e9cea7f7>:76: FutureWarning: DataFrame.fillna with 'method' is deprecated and will raise in a future version. Use obj.ffill() or obj.bfill() instead.\n",
            "  df.fillna(method='ffill', inplace=True)  # Forward fill\n",
            "<ipython-input-10-52a0e9cea7f7>:77: FutureWarning: DataFrame.fillna with 'method' is deprecated and will raise in a future version. Use obj.ffill() or obj.bfill() instead.\n",
            "  df.fillna(method='bfill', inplace=True)  # Backward fill\n"
          ]
        },
        {
          "output_type": "stream",
          "name": "stdout",
          "text": [
            "Processed and saved cleaned data for BLU.JO to Stocks/BLU.JO.csv\n"
          ]
        },
        {
          "output_type": "stream",
          "name": "stderr",
          "text": [
            "[*********************100%%**********************]  1 of 1 completed\n",
            "<ipython-input-10-52a0e9cea7f7>:76: FutureWarning: DataFrame.fillna with 'method' is deprecated and will raise in a future version. Use obj.ffill() or obj.bfill() instead.\n",
            "  df.fillna(method='ffill', inplace=True)  # Forward fill\n",
            "<ipython-input-10-52a0e9cea7f7>:77: FutureWarning: DataFrame.fillna with 'method' is deprecated and will raise in a future version. Use obj.ffill() or obj.bfill() instead.\n",
            "  df.fillna(method='bfill', inplace=True)  # Backward fill\n",
            "[*********************100%%**********************]  1 of 1 completed\n",
            "<ipython-input-10-52a0e9cea7f7>:76: FutureWarning: DataFrame.fillna with 'method' is deprecated and will raise in a future version. Use obj.ffill() or obj.bfill() instead.\n",
            "  df.fillna(method='ffill', inplace=True)  # Forward fill\n",
            "<ipython-input-10-52a0e9cea7f7>:77: FutureWarning: DataFrame.fillna with 'method' is deprecated and will raise in a future version. Use obj.ffill() or obj.bfill() instead.\n",
            "  df.fillna(method='bfill', inplace=True)  # Backward fill\n"
          ]
        },
        {
          "output_type": "stream",
          "name": "stdout",
          "text": [
            "Processed and saved cleaned data for BRN.JO to Stocks/BRN.JO.csv\n",
            "Processed and saved cleaned data for BRT.JO to Stocks/BRT.JO.csv\n"
          ]
        },
        {
          "output_type": "stream",
          "name": "stderr",
          "text": [
            "\r[*********************100%%**********************]  1 of 1 completed\n",
            "<ipython-input-10-52a0e9cea7f7>:76: FutureWarning: DataFrame.fillna with 'method' is deprecated and will raise in a future version. Use obj.ffill() or obj.bfill() instead.\n",
            "  df.fillna(method='ffill', inplace=True)  # Forward fill\n",
            "<ipython-input-10-52a0e9cea7f7>:77: FutureWarning: DataFrame.fillna with 'method' is deprecated and will raise in a future version. Use obj.ffill() or obj.bfill() instead.\n",
            "  df.fillna(method='bfill', inplace=True)  # Backward fill\n",
            "[*********************100%%**********************]  1 of 1 completed\n",
            "<ipython-input-10-52a0e9cea7f7>:76: FutureWarning: DataFrame.fillna with 'method' is deprecated and will raise in a future version. Use obj.ffill() or obj.bfill() instead.\n",
            "  df.fillna(method='ffill', inplace=True)  # Forward fill\n",
            "<ipython-input-10-52a0e9cea7f7>:77: FutureWarning: DataFrame.fillna with 'method' is deprecated and will raise in a future version. Use obj.ffill() or obj.bfill() instead.\n",
            "  df.fillna(method='bfill', inplace=True)  # Backward fill\n"
          ]
        },
        {
          "output_type": "stream",
          "name": "stdout",
          "text": [
            "Processed and saved cleaned data for BTI.JO to Stocks/BTI.JO.csv\n",
            "Processed and saved cleaned data for BTN.JO to Stocks/BTN.JO.csv\n"
          ]
        },
        {
          "output_type": "stream",
          "name": "stderr",
          "text": [
            "\r[*********************100%%**********************]  1 of 1 completed\n",
            "<ipython-input-10-52a0e9cea7f7>:76: FutureWarning: DataFrame.fillna with 'method' is deprecated and will raise in a future version. Use obj.ffill() or obj.bfill() instead.\n",
            "  df.fillna(method='ffill', inplace=True)  # Forward fill\n",
            "<ipython-input-10-52a0e9cea7f7>:77: FutureWarning: DataFrame.fillna with 'method' is deprecated and will raise in a future version. Use obj.ffill() or obj.bfill() instead.\n",
            "  df.fillna(method='bfill', inplace=True)  # Backward fill\n",
            "[*********************100%%**********************]  1 of 1 completed\n",
            "<ipython-input-10-52a0e9cea7f7>:76: FutureWarning: DataFrame.fillna with 'method' is deprecated and will raise in a future version. Use obj.ffill() or obj.bfill() instead.\n",
            "  df.fillna(method='ffill', inplace=True)  # Forward fill\n",
            "<ipython-input-10-52a0e9cea7f7>:77: FutureWarning: DataFrame.fillna with 'method' is deprecated and will raise in a future version. Use obj.ffill() or obj.bfill() instead.\n",
            "  df.fillna(method='bfill', inplace=True)  # Backward fill\n"
          ]
        },
        {
          "output_type": "stream",
          "name": "stdout",
          "text": [
            "Processed and saved cleaned data for BVT.JO to Stocks/BVT.JO.csv\n",
            "Processed and saved cleaned data for BWN.JO to Stocks/BWN.JO.csv\n"
          ]
        },
        {
          "output_type": "stream",
          "name": "stderr",
          "text": [
            "\r[*********************100%%**********************]  1 of 1 completed\n",
            "<ipython-input-10-52a0e9cea7f7>:76: FutureWarning: DataFrame.fillna with 'method' is deprecated and will raise in a future version. Use obj.ffill() or obj.bfill() instead.\n",
            "  df.fillna(method='ffill', inplace=True)  # Forward fill\n",
            "<ipython-input-10-52a0e9cea7f7>:77: FutureWarning: DataFrame.fillna with 'method' is deprecated and will raise in a future version. Use obj.ffill() or obj.bfill() instead.\n",
            "  df.fillna(method='bfill', inplace=True)  # Backward fill\n",
            "[*********************100%%**********************]  1 of 1 completed\n",
            "<ipython-input-10-52a0e9cea7f7>:76: FutureWarning: DataFrame.fillna with 'method' is deprecated and will raise in a future version. Use obj.ffill() or obj.bfill() instead.\n",
            "  df.fillna(method='ffill', inplace=True)  # Forward fill\n",
            "<ipython-input-10-52a0e9cea7f7>:77: FutureWarning: DataFrame.fillna with 'method' is deprecated and will raise in a future version. Use obj.ffill() or obj.bfill() instead.\n",
            "  df.fillna(method='bfill', inplace=True)  # Backward fill\n"
          ]
        },
        {
          "output_type": "stream",
          "name": "stdout",
          "text": [
            "Processed and saved cleaned data for BYI.JO to Stocks/BYI.JO.csv\n",
            "Processed and saved cleaned data for CAA.JO to Stocks/CAA.JO.csv\n"
          ]
        },
        {
          "output_type": "stream",
          "name": "stderr",
          "text": [
            "[*********************100%%**********************]  1 of 1 completed\n",
            "<ipython-input-10-52a0e9cea7f7>:76: FutureWarning: DataFrame.fillna with 'method' is deprecated and will raise in a future version. Use obj.ffill() or obj.bfill() instead.\n",
            "  df.fillna(method='ffill', inplace=True)  # Forward fill\n",
            "<ipython-input-10-52a0e9cea7f7>:77: FutureWarning: DataFrame.fillna with 'method' is deprecated and will raise in a future version. Use obj.ffill() or obj.bfill() instead.\n",
            "  df.fillna(method='bfill', inplace=True)  # Backward fill\n",
            "[*********************100%%**********************]  1 of 1 completed\n",
            "<ipython-input-10-52a0e9cea7f7>:76: FutureWarning: DataFrame.fillna with 'method' is deprecated and will raise in a future version. Use obj.ffill() or obj.bfill() instead.\n",
            "  df.fillna(method='ffill', inplace=True)  # Forward fill\n",
            "<ipython-input-10-52a0e9cea7f7>:77: FutureWarning: DataFrame.fillna with 'method' is deprecated and will raise in a future version. Use obj.ffill() or obj.bfill() instead.\n",
            "  df.fillna(method='bfill', inplace=True)  # Backward fill\n"
          ]
        },
        {
          "output_type": "stream",
          "name": "stdout",
          "text": [
            "Processed and saved cleaned data for CAT.JO to Stocks/CAT.JO.csv\n",
            "Processed and saved cleaned data for CFR.JO to Stocks/CFR.JO.csv\n"
          ]
        },
        {
          "output_type": "stream",
          "name": "stderr",
          "text": [
            "\r[*********************100%%**********************]  1 of 1 completed\n",
            "<ipython-input-10-52a0e9cea7f7>:76: FutureWarning: DataFrame.fillna with 'method' is deprecated and will raise in a future version. Use obj.ffill() or obj.bfill() instead.\n",
            "  df.fillna(method='ffill', inplace=True)  # Forward fill\n",
            "<ipython-input-10-52a0e9cea7f7>:77: FutureWarning: DataFrame.fillna with 'method' is deprecated and will raise in a future version. Use obj.ffill() or obj.bfill() instead.\n",
            "  df.fillna(method='bfill', inplace=True)  # Backward fill\n",
            "[*********************100%%**********************]  1 of 1 completed\n",
            "<ipython-input-10-52a0e9cea7f7>:76: FutureWarning: DataFrame.fillna with 'method' is deprecated and will raise in a future version. Use obj.ffill() or obj.bfill() instead.\n",
            "  df.fillna(method='ffill', inplace=True)  # Forward fill\n",
            "<ipython-input-10-52a0e9cea7f7>:77: FutureWarning: DataFrame.fillna with 'method' is deprecated and will raise in a future version. Use obj.ffill() or obj.bfill() instead.\n",
            "  df.fillna(method='bfill', inplace=True)  # Backward fill\n"
          ]
        },
        {
          "output_type": "stream",
          "name": "stdout",
          "text": [
            "Processed and saved cleaned data for CGR.JO to Stocks/CGR.JO.csv\n",
            "Processed and saved cleaned data for CHP.JO to Stocks/CHP.JO.csv\n"
          ]
        },
        {
          "output_type": "stream",
          "name": "stderr",
          "text": [
            "\r[*********************100%%**********************]  1 of 1 completed\n",
            "<ipython-input-10-52a0e9cea7f7>:76: FutureWarning: DataFrame.fillna with 'method' is deprecated and will raise in a future version. Use obj.ffill() or obj.bfill() instead.\n",
            "  df.fillna(method='ffill', inplace=True)  # Forward fill\n",
            "<ipython-input-10-52a0e9cea7f7>:77: FutureWarning: DataFrame.fillna with 'method' is deprecated and will raise in a future version. Use obj.ffill() or obj.bfill() instead.\n",
            "  df.fillna(method='bfill', inplace=True)  # Backward fill\n",
            "[*********************100%%**********************]  1 of 1 completed\n",
            "<ipython-input-10-52a0e9cea7f7>:76: FutureWarning: DataFrame.fillna with 'method' is deprecated and will raise in a future version. Use obj.ffill() or obj.bfill() instead.\n",
            "  df.fillna(method='ffill', inplace=True)  # Forward fill\n",
            "<ipython-input-10-52a0e9cea7f7>:77: FutureWarning: DataFrame.fillna with 'method' is deprecated and will raise in a future version. Use obj.ffill() or obj.bfill() instead.\n",
            "  df.fillna(method='bfill', inplace=True)  # Backward fill\n"
          ]
        },
        {
          "output_type": "stream",
          "name": "stdout",
          "text": [
            "Processed and saved cleaned data for CKS.JO to Stocks/CKS.JO.csv\n",
            "Processed and saved cleaned data for CLH.JO to Stocks/CLH.JO.csv\n"
          ]
        },
        {
          "output_type": "stream",
          "name": "stderr",
          "text": [
            "\r[*********************100%%**********************]  1 of 1 completed\n",
            "<ipython-input-10-52a0e9cea7f7>:76: FutureWarning: DataFrame.fillna with 'method' is deprecated and will raise in a future version. Use obj.ffill() or obj.bfill() instead.\n",
            "  df.fillna(method='ffill', inplace=True)  # Forward fill\n",
            "<ipython-input-10-52a0e9cea7f7>:77: FutureWarning: DataFrame.fillna with 'method' is deprecated and will raise in a future version. Use obj.ffill() or obj.bfill() instead.\n",
            "  df.fillna(method='bfill', inplace=True)  # Backward fill\n",
            "[*********************100%%**********************]  1 of 1 completed"
          ]
        },
        {
          "output_type": "stream",
          "name": "stdout",
          "text": [
            "Processed and saved cleaned data for CLI.JO to Stocks/CLI.JO.csv\n"
          ]
        },
        {
          "output_type": "stream",
          "name": "stderr",
          "text": [
            "\n",
            "<ipython-input-10-52a0e9cea7f7>:76: FutureWarning: DataFrame.fillna with 'method' is deprecated and will raise in a future version. Use obj.ffill() or obj.bfill() instead.\n",
            "  df.fillna(method='ffill', inplace=True)  # Forward fill\n",
            "<ipython-input-10-52a0e9cea7f7>:77: FutureWarning: DataFrame.fillna with 'method' is deprecated and will raise in a future version. Use obj.ffill() or obj.bfill() instead.\n",
            "  df.fillna(method='bfill', inplace=True)  # Backward fill\n",
            "\r[*********************100%%**********************]  1 of 1 completed\n",
            "<ipython-input-10-52a0e9cea7f7>:76: FutureWarning: DataFrame.fillna with 'method' is deprecated and will raise in a future version. Use obj.ffill() or obj.bfill() instead.\n",
            "  df.fillna(method='ffill', inplace=True)  # Forward fill\n",
            "<ipython-input-10-52a0e9cea7f7>:77: FutureWarning: DataFrame.fillna with 'method' is deprecated and will raise in a future version. Use obj.ffill() or obj.bfill() instead.\n",
            "  df.fillna(method='bfill', inplace=True)  # Backward fill\n"
          ]
        },
        {
          "output_type": "stream",
          "name": "stdout",
          "text": [
            "Processed and saved cleaned data for CLS.JO to Stocks/CLS.JO.csv\n",
            "Processed and saved cleaned data for CMH.JO to Stocks/CMH.JO.csv\n"
          ]
        },
        {
          "output_type": "stream",
          "name": "stderr",
          "text": [
            "\r[*********************100%%**********************]  1 of 1 completed\n",
            "<ipython-input-10-52a0e9cea7f7>:76: FutureWarning: DataFrame.fillna with 'method' is deprecated and will raise in a future version. Use obj.ffill() or obj.bfill() instead.\n",
            "  df.fillna(method='ffill', inplace=True)  # Forward fill\n",
            "<ipython-input-10-52a0e9cea7f7>:77: FutureWarning: DataFrame.fillna with 'method' is deprecated and will raise in a future version. Use obj.ffill() or obj.bfill() instead.\n",
            "  df.fillna(method='bfill', inplace=True)  # Backward fill\n",
            "[*********************100%%**********************]  1 of 1 completed\n",
            "<ipython-input-10-52a0e9cea7f7>:76: FutureWarning: DataFrame.fillna with 'method' is deprecated and will raise in a future version. Use obj.ffill() or obj.bfill() instead.\n",
            "  df.fillna(method='ffill', inplace=True)  # Forward fill\n",
            "<ipython-input-10-52a0e9cea7f7>:77: FutureWarning: DataFrame.fillna with 'method' is deprecated and will raise in a future version. Use obj.ffill() or obj.bfill() instead.\n",
            "  df.fillna(method='bfill', inplace=True)  # Backward fill\n"
          ]
        },
        {
          "output_type": "stream",
          "name": "stdout",
          "text": [
            "Processed and saved cleaned data for CML.JO to Stocks/CML.JO.csv\n",
            "Processed and saved cleaned data for CMO.JO to Stocks/CMO.JO.csv\n"
          ]
        },
        {
          "output_type": "stream",
          "name": "stderr",
          "text": [
            "[*********************100%%**********************]  1 of 1 completed\n",
            "<ipython-input-10-52a0e9cea7f7>:76: FutureWarning: DataFrame.fillna with 'method' is deprecated and will raise in a future version. Use obj.ffill() or obj.bfill() instead.\n",
            "  df.fillna(method='ffill', inplace=True)  # Forward fill\n",
            "<ipython-input-10-52a0e9cea7f7>:77: FutureWarning: DataFrame.fillna with 'method' is deprecated and will raise in a future version. Use obj.ffill() or obj.bfill() instead.\n",
            "  df.fillna(method='bfill', inplace=True)  # Backward fill\n",
            "[*********************100%%**********************]  1 of 1 completed\n",
            "<ipython-input-10-52a0e9cea7f7>:76: FutureWarning: DataFrame.fillna with 'method' is deprecated and will raise in a future version. Use obj.ffill() or obj.bfill() instead.\n",
            "  df.fillna(method='ffill', inplace=True)  # Forward fill\n",
            "<ipython-input-10-52a0e9cea7f7>:77: FutureWarning: DataFrame.fillna with 'method' is deprecated and will raise in a future version. Use obj.ffill() or obj.bfill() instead.\n",
            "  df.fillna(method='bfill', inplace=True)  # Backward fill\n"
          ]
        },
        {
          "output_type": "stream",
          "name": "stdout",
          "text": [
            "Processed and saved cleaned data for CND.JO to Stocks/CND.JO.csv\n",
            "Processed and saved cleaned data for COH.JO to Stocks/COH.JO.csv\n"
          ]
        },
        {
          "output_type": "stream",
          "name": "stderr",
          "text": [
            "\r[*********************100%%**********************]  1 of 1 completed\n",
            "<ipython-input-10-52a0e9cea7f7>:76: FutureWarning: DataFrame.fillna with 'method' is deprecated and will raise in a future version. Use obj.ffill() or obj.bfill() instead.\n",
            "  df.fillna(method='ffill', inplace=True)  # Forward fill\n",
            "<ipython-input-10-52a0e9cea7f7>:77: FutureWarning: DataFrame.fillna with 'method' is deprecated and will raise in a future version. Use obj.ffill() or obj.bfill() instead.\n",
            "  df.fillna(method='bfill', inplace=True)  # Backward fill\n",
            "[*********************100%%**********************]  1 of 1 completed\n",
            "<ipython-input-10-52a0e9cea7f7>:76: FutureWarning: DataFrame.fillna with 'method' is deprecated and will raise in a future version. Use obj.ffill() or obj.bfill() instead.\n",
            "  df.fillna(method='ffill', inplace=True)  # Forward fill\n",
            "<ipython-input-10-52a0e9cea7f7>:77: FutureWarning: DataFrame.fillna with 'method' is deprecated and will raise in a future version. Use obj.ffill() or obj.bfill() instead.\n",
            "  df.fillna(method='bfill', inplace=True)  # Backward fill\n"
          ]
        },
        {
          "output_type": "stream",
          "name": "stdout",
          "text": [
            "Processed and saved cleaned data for CPI.JO to Stocks/CPI.JO.csv\n",
            "Processed and saved cleaned data for CPP.JO to Stocks/CPP.JO.csv\n"
          ]
        },
        {
          "output_type": "stream",
          "name": "stderr",
          "text": [
            "\r[*********************100%%**********************]  1 of 1 completed\n",
            "<ipython-input-10-52a0e9cea7f7>:76: FutureWarning: DataFrame.fillna with 'method' is deprecated and will raise in a future version. Use obj.ffill() or obj.bfill() instead.\n",
            "  df.fillna(method='ffill', inplace=True)  # Forward fill\n",
            "<ipython-input-10-52a0e9cea7f7>:77: FutureWarning: DataFrame.fillna with 'method' is deprecated and will raise in a future version. Use obj.ffill() or obj.bfill() instead.\n",
            "  df.fillna(method='bfill', inplace=True)  # Backward fill\n",
            "[*********************100%%**********************]  1 of 1 completed\n",
            "<ipython-input-10-52a0e9cea7f7>:76: FutureWarning: DataFrame.fillna with 'method' is deprecated and will raise in a future version. Use obj.ffill() or obj.bfill() instead.\n",
            "  df.fillna(method='ffill', inplace=True)  # Forward fill\n",
            "<ipython-input-10-52a0e9cea7f7>:77: FutureWarning: DataFrame.fillna with 'method' is deprecated and will raise in a future version. Use obj.ffill() or obj.bfill() instead.\n",
            "  df.fillna(method='bfill', inplace=True)  # Backward fill\n"
          ]
        },
        {
          "output_type": "stream",
          "name": "stdout",
          "text": [
            "Processed and saved cleaned data for CPR.JO to Stocks/CPR.JO.csv\n",
            "Processed and saved cleaned data for CRP.JO to Stocks/CRP.JO.csv\n"
          ]
        },
        {
          "output_type": "stream",
          "name": "stderr",
          "text": [
            "[*********************100%%**********************]  1 of 1 completed\n",
            "<ipython-input-10-52a0e9cea7f7>:76: FutureWarning: DataFrame.fillna with 'method' is deprecated and will raise in a future version. Use obj.ffill() or obj.bfill() instead.\n",
            "  df.fillna(method='ffill', inplace=True)  # Forward fill\n",
            "<ipython-input-10-52a0e9cea7f7>:77: FutureWarning: DataFrame.fillna with 'method' is deprecated and will raise in a future version. Use obj.ffill() or obj.bfill() instead.\n",
            "  df.fillna(method='bfill', inplace=True)  # Backward fill\n",
            "[*********************100%%**********************]  1 of 1 completed\n",
            "<ipython-input-10-52a0e9cea7f7>:76: FutureWarning: DataFrame.fillna with 'method' is deprecated and will raise in a future version. Use obj.ffill() or obj.bfill() instead.\n",
            "  df.fillna(method='ffill', inplace=True)  # Forward fill\n",
            "<ipython-input-10-52a0e9cea7f7>:77: FutureWarning: DataFrame.fillna with 'method' is deprecated and will raise in a future version. Use obj.ffill() or obj.bfill() instead.\n",
            "  df.fillna(method='bfill', inplace=True)  # Backward fill\n"
          ]
        },
        {
          "output_type": "stream",
          "name": "stdout",
          "text": [
            "Processed and saved cleaned data for CSB.JO to Stocks/CSB.JO.csv\n",
            "Processed and saved cleaned data for CTA.JO to Stocks/CTA.JO.csv\n"
          ]
        },
        {
          "output_type": "stream",
          "name": "stderr",
          "text": [
            "\r[*********************100%%**********************]  1 of 1 completed\n",
            "<ipython-input-10-52a0e9cea7f7>:76: FutureWarning: DataFrame.fillna with 'method' is deprecated and will raise in a future version. Use obj.ffill() or obj.bfill() instead.\n",
            "  df.fillna(method='ffill', inplace=True)  # Forward fill\n",
            "<ipython-input-10-52a0e9cea7f7>:77: FutureWarning: DataFrame.fillna with 'method' is deprecated and will raise in a future version. Use obj.ffill() or obj.bfill() instead.\n",
            "  df.fillna(method='bfill', inplace=True)  # Backward fill\n",
            "[*********************100%%**********************]  1 of 1 completed\n",
            "<ipython-input-10-52a0e9cea7f7>:76: FutureWarning: DataFrame.fillna with 'method' is deprecated and will raise in a future version. Use obj.ffill() or obj.bfill() instead.\n",
            "  df.fillna(method='ffill', inplace=True)  # Forward fill\n",
            "<ipython-input-10-52a0e9cea7f7>:77: FutureWarning: DataFrame.fillna with 'method' is deprecated and will raise in a future version. Use obj.ffill() or obj.bfill() instead.\n",
            "  df.fillna(method='bfill', inplace=True)  # Backward fill\n"
          ]
        },
        {
          "output_type": "stream",
          "name": "stdout",
          "text": [
            "Processed and saved cleaned data for DCP.JO to Stocks/DCP.JO.csv\n",
            "Processed and saved cleaned data for DIB.JO to Stocks/DIB.JO.csv\n"
          ]
        },
        {
          "output_type": "stream",
          "name": "stderr",
          "text": [
            "\r[*********************100%%**********************]  1 of 1 completed\n",
            "<ipython-input-10-52a0e9cea7f7>:76: FutureWarning: DataFrame.fillna with 'method' is deprecated and will raise in a future version. Use obj.ffill() or obj.bfill() instead.\n",
            "  df.fillna(method='ffill', inplace=True)  # Forward fill\n",
            "<ipython-input-10-52a0e9cea7f7>:77: FutureWarning: DataFrame.fillna with 'method' is deprecated and will raise in a future version. Use obj.ffill() or obj.bfill() instead.\n",
            "  df.fillna(method='bfill', inplace=True)  # Backward fill\n",
            "[*********************100%%**********************]  1 of 1 completed\n",
            "<ipython-input-10-52a0e9cea7f7>:76: FutureWarning: DataFrame.fillna with 'method' is deprecated and will raise in a future version. Use obj.ffill() or obj.bfill() instead.\n",
            "  df.fillna(method='ffill', inplace=True)  # Forward fill\n",
            "<ipython-input-10-52a0e9cea7f7>:77: FutureWarning: DataFrame.fillna with 'method' is deprecated and will raise in a future version. Use obj.ffill() or obj.bfill() instead.\n",
            "  df.fillna(method='bfill', inplace=True)  # Backward fill\n"
          ]
        },
        {
          "output_type": "stream",
          "name": "stdout",
          "text": [
            "Processed and saved cleaned data for DNB.JO to Stocks/DNB.JO.csv\n",
            "Processed and saved cleaned data for DRA.JO to Stocks/DRA.JO.csv\n"
          ]
        },
        {
          "output_type": "stream",
          "name": "stderr",
          "text": [
            "\r[*********************100%%**********************]  1 of 1 completed\n",
            "<ipython-input-10-52a0e9cea7f7>:76: FutureWarning: DataFrame.fillna with 'method' is deprecated and will raise in a future version. Use obj.ffill() or obj.bfill() instead.\n",
            "  df.fillna(method='ffill', inplace=True)  # Forward fill\n",
            "<ipython-input-10-52a0e9cea7f7>:77: FutureWarning: DataFrame.fillna with 'method' is deprecated and will raise in a future version. Use obj.ffill() or obj.bfill() instead.\n",
            "  df.fillna(method='bfill', inplace=True)  # Backward fill\n",
            "[*********************100%%**********************]  1 of 1 completed\n",
            "<ipython-input-10-52a0e9cea7f7>:76: FutureWarning: DataFrame.fillna with 'method' is deprecated and will raise in a future version. Use obj.ffill() or obj.bfill() instead.\n",
            "  df.fillna(method='ffill', inplace=True)  # Forward fill\n",
            "<ipython-input-10-52a0e9cea7f7>:77: FutureWarning: DataFrame.fillna with 'method' is deprecated and will raise in a future version. Use obj.ffill() or obj.bfill() instead.\n",
            "  df.fillna(method='bfill', inplace=True)  # Backward fill\n"
          ]
        },
        {
          "output_type": "stream",
          "name": "stdout",
          "text": [
            "Processed and saved cleaned data for DRD.JO to Stocks/DRD.JO.csv\n",
            "Processed and saved cleaned data for DSY.JO to Stocks/DSY.JO.csv\n"
          ]
        },
        {
          "output_type": "stream",
          "name": "stderr",
          "text": [
            "\r[*********************100%%**********************]  1 of 1 completed\n",
            "<ipython-input-10-52a0e9cea7f7>:76: FutureWarning: DataFrame.fillna with 'method' is deprecated and will raise in a future version. Use obj.ffill() or obj.bfill() instead.\n",
            "  df.fillna(method='ffill', inplace=True)  # Forward fill\n",
            "<ipython-input-10-52a0e9cea7f7>:77: FutureWarning: DataFrame.fillna with 'method' is deprecated and will raise in a future version. Use obj.ffill() or obj.bfill() instead.\n",
            "  df.fillna(method='bfill', inplace=True)  # Backward fill\n",
            "[*********************100%%**********************]  1 of 1 completed\n",
            "<ipython-input-10-52a0e9cea7f7>:76: FutureWarning: DataFrame.fillna with 'method' is deprecated and will raise in a future version. Use obj.ffill() or obj.bfill() instead.\n",
            "  df.fillna(method='ffill', inplace=True)  # Forward fill\n",
            "<ipython-input-10-52a0e9cea7f7>:77: FutureWarning: DataFrame.fillna with 'method' is deprecated and will raise in a future version. Use obj.ffill() or obj.bfill() instead.\n",
            "  df.fillna(method='bfill', inplace=True)  # Backward fill\n"
          ]
        },
        {
          "output_type": "stream",
          "name": "stdout",
          "text": [
            "Processed and saved cleaned data for DTC.JO to Stocks/DTC.JO.csv\n",
            "Processed and saved cleaned data for ELI.JO to Stocks/ELI.JO.csv\n"
          ]
        },
        {
          "output_type": "stream",
          "name": "stderr",
          "text": [
            "[*********************100%%**********************]  1 of 1 completed\n",
            "<ipython-input-10-52a0e9cea7f7>:76: FutureWarning: DataFrame.fillna with 'method' is deprecated and will raise in a future version. Use obj.ffill() or obj.bfill() instead.\n",
            "  df.fillna(method='ffill', inplace=True)  # Forward fill\n",
            "<ipython-input-10-52a0e9cea7f7>:77: FutureWarning: DataFrame.fillna with 'method' is deprecated and will raise in a future version. Use obj.ffill() or obj.bfill() instead.\n",
            "  df.fillna(method='bfill', inplace=True)  # Backward fill\n",
            "[*********************100%%**********************]  1 of 1 completed\n",
            "<ipython-input-10-52a0e9cea7f7>:76: FutureWarning: DataFrame.fillna with 'method' is deprecated and will raise in a future version. Use obj.ffill() or obj.bfill() instead.\n",
            "  df.fillna(method='ffill', inplace=True)  # Forward fill\n",
            "<ipython-input-10-52a0e9cea7f7>:77: FutureWarning: DataFrame.fillna with 'method' is deprecated and will raise in a future version. Use obj.ffill() or obj.bfill() instead.\n",
            "  df.fillna(method='bfill', inplace=True)  # Backward fill\n"
          ]
        },
        {
          "output_type": "stream",
          "name": "stdout",
          "text": [
            "Processed and saved cleaned data for EMH.JO to Stocks/EMH.JO.csv\n",
            "Processed and saved cleaned data for EMI.JO to Stocks/EMI.JO.csv\n"
          ]
        },
        {
          "output_type": "stream",
          "name": "stderr",
          "text": [
            "\r[*********************100%%**********************]  1 of 1 completed\n",
            "<ipython-input-10-52a0e9cea7f7>:76: FutureWarning: DataFrame.fillna with 'method' is deprecated and will raise in a future version. Use obj.ffill() or obj.bfill() instead.\n",
            "  df.fillna(method='ffill', inplace=True)  # Forward fill\n",
            "<ipython-input-10-52a0e9cea7f7>:77: FutureWarning: DataFrame.fillna with 'method' is deprecated and will raise in a future version. Use obj.ffill() or obj.bfill() instead.\n",
            "  df.fillna(method='bfill', inplace=True)  # Backward fill\n",
            "[*********************100%%**********************]  1 of 1 completed"
          ]
        },
        {
          "output_type": "stream",
          "name": "stdout",
          "text": [
            "Processed and saved cleaned data for EMN.JO to Stocks/EMN.JO.csv\n"
          ]
        },
        {
          "output_type": "stream",
          "name": "stderr",
          "text": [
            "\n",
            "<ipython-input-10-52a0e9cea7f7>:76: FutureWarning: DataFrame.fillna with 'method' is deprecated and will raise in a future version. Use obj.ffill() or obj.bfill() instead.\n",
            "  df.fillna(method='ffill', inplace=True)  # Forward fill\n",
            "<ipython-input-10-52a0e9cea7f7>:77: FutureWarning: DataFrame.fillna with 'method' is deprecated and will raise in a future version. Use obj.ffill() or obj.bfill() instead.\n",
            "  df.fillna(method='bfill', inplace=True)  # Backward fill\n",
            "\r[*********************100%%**********************]  1 of 1 completed\n",
            "<ipython-input-10-52a0e9cea7f7>:76: FutureWarning: DataFrame.fillna with 'method' is deprecated and will raise in a future version. Use obj.ffill() or obj.bfill() instead.\n",
            "  df.fillna(method='ffill', inplace=True)  # Forward fill\n",
            "<ipython-input-10-52a0e9cea7f7>:77: FutureWarning: DataFrame.fillna with 'method' is deprecated and will raise in a future version. Use obj.ffill() or obj.bfill() instead.\n",
            "  df.fillna(method='bfill', inplace=True)  # Backward fill\n"
          ]
        },
        {
          "output_type": "stream",
          "name": "stdout",
          "text": [
            "Processed and saved cleaned data for ENX.JO to Stocks/ENX.JO.csv\n",
            "Processed and saved cleaned data for EOH.JO to Stocks/EOH.JO.csv\n"
          ]
        },
        {
          "output_type": "stream",
          "name": "stderr",
          "text": [
            "\r[*********************100%%**********************]  1 of 1 completed\n",
            "<ipython-input-10-52a0e9cea7f7>:76: FutureWarning: DataFrame.fillna with 'method' is deprecated and will raise in a future version. Use obj.ffill() or obj.bfill() instead.\n",
            "  df.fillna(method='ffill', inplace=True)  # Forward fill\n",
            "<ipython-input-10-52a0e9cea7f7>:77: FutureWarning: DataFrame.fillna with 'method' is deprecated and will raise in a future version. Use obj.ffill() or obj.bfill() instead.\n",
            "  df.fillna(method='bfill', inplace=True)  # Backward fill\n",
            "[*********************100%%**********************]  1 of 1 completed\n",
            "<ipython-input-10-52a0e9cea7f7>:76: FutureWarning: DataFrame.fillna with 'method' is deprecated and will raise in a future version. Use obj.ffill() or obj.bfill() instead.\n",
            "  df.fillna(method='ffill', inplace=True)  # Forward fill\n",
            "<ipython-input-10-52a0e9cea7f7>:77: FutureWarning: DataFrame.fillna with 'method' is deprecated and will raise in a future version. Use obj.ffill() or obj.bfill() instead.\n",
            "  df.fillna(method='bfill', inplace=True)  # Backward fill\n"
          ]
        },
        {
          "output_type": "stream",
          "name": "stdout",
          "text": [
            "Processed and saved cleaned data for EPE.JO to Stocks/EPE.JO.csv\n",
            "Processed and saved cleaned data for EPS.JO to Stocks/EPS.JO.csv\n"
          ]
        },
        {
          "output_type": "stream",
          "name": "stderr",
          "text": [
            "[*********************100%%**********************]  1 of 1 completed\n",
            "<ipython-input-10-52a0e9cea7f7>:76: FutureWarning: DataFrame.fillna with 'method' is deprecated and will raise in a future version. Use obj.ffill() or obj.bfill() instead.\n",
            "  df.fillna(method='ffill', inplace=True)  # Forward fill\n",
            "<ipython-input-10-52a0e9cea7f7>:77: FutureWarning: DataFrame.fillna with 'method' is deprecated and will raise in a future version. Use obj.ffill() or obj.bfill() instead.\n",
            "  df.fillna(method='bfill', inplace=True)  # Backward fill\n",
            "[*********************100%%**********************]  1 of 1 completed\n",
            "<ipython-input-10-52a0e9cea7f7>:76: FutureWarning: DataFrame.fillna with 'method' is deprecated and will raise in a future version. Use obj.ffill() or obj.bfill() instead.\n",
            "  df.fillna(method='ffill', inplace=True)  # Forward fill\n",
            "<ipython-input-10-52a0e9cea7f7>:77: FutureWarning: DataFrame.fillna with 'method' is deprecated and will raise in a future version. Use obj.ffill() or obj.bfill() instead.\n",
            "  df.fillna(method='bfill', inplace=True)  # Backward fill\n"
          ]
        },
        {
          "output_type": "stream",
          "name": "stdout",
          "text": [
            "Processed and saved cleaned data for EQU.JO to Stocks/EQU.JO.csv\n",
            "Processed and saved cleaned data for EUZ.JO to Stocks/EUZ.JO.csv\n"
          ]
        },
        {
          "output_type": "stream",
          "name": "stderr",
          "text": [
            "\r[*********************100%%**********************]  1 of 1 completed\n",
            "<ipython-input-10-52a0e9cea7f7>:76: FutureWarning: DataFrame.fillna with 'method' is deprecated and will raise in a future version. Use obj.ffill() or obj.bfill() instead.\n",
            "  df.fillna(method='ffill', inplace=True)  # Forward fill\n",
            "<ipython-input-10-52a0e9cea7f7>:77: FutureWarning: DataFrame.fillna with 'method' is deprecated and will raise in a future version. Use obj.ffill() or obj.bfill() instead.\n",
            "  df.fillna(method='bfill', inplace=True)  # Backward fill\n",
            "[*********************100%%**********************]  1 of 1 completed\n"
          ]
        },
        {
          "output_type": "stream",
          "name": "stdout",
          "text": [
            "Processed and saved cleaned data for EXP.JO to Stocks/EXP.JO.csv\n"
          ]
        },
        {
          "output_type": "stream",
          "name": "stderr",
          "text": [
            "<ipython-input-10-52a0e9cea7f7>:76: FutureWarning: DataFrame.fillna with 'method' is deprecated and will raise in a future version. Use obj.ffill() or obj.bfill() instead.\n",
            "  df.fillna(method='ffill', inplace=True)  # Forward fill\n",
            "<ipython-input-10-52a0e9cea7f7>:77: FutureWarning: DataFrame.fillna with 'method' is deprecated and will raise in a future version. Use obj.ffill() or obj.bfill() instead.\n",
            "  df.fillna(method='bfill', inplace=True)  # Backward fill\n"
          ]
        },
        {
          "output_type": "stream",
          "name": "stdout",
          "text": [
            "Processed and saved cleaned data for EXX.JO to Stocks/EXX.JO.csv\n"
          ]
        },
        {
          "output_type": "stream",
          "name": "stderr",
          "text": [
            "[*********************100%%**********************]  1 of 1 completed\n",
            "<ipython-input-10-52a0e9cea7f7>:76: FutureWarning: DataFrame.fillna with 'method' is deprecated and will raise in a future version. Use obj.ffill() or obj.bfill() instead.\n",
            "  df.fillna(method='ffill', inplace=True)  # Forward fill\n",
            "<ipython-input-10-52a0e9cea7f7>:77: FutureWarning: DataFrame.fillna with 'method' is deprecated and will raise in a future version. Use obj.ffill() or obj.bfill() instead.\n",
            "  df.fillna(method='bfill', inplace=True)  # Backward fill\n",
            "[*********************100%%**********************]  1 of 1 completed\n",
            "<ipython-input-10-52a0e9cea7f7>:76: FutureWarning: DataFrame.fillna with 'method' is deprecated and will raise in a future version. Use obj.ffill() or obj.bfill() instead.\n",
            "  df.fillna(method='ffill', inplace=True)  # Forward fill\n",
            "<ipython-input-10-52a0e9cea7f7>:77: FutureWarning: DataFrame.fillna with 'method' is deprecated and will raise in a future version. Use obj.ffill() or obj.bfill() instead.\n",
            "  df.fillna(method='bfill', inplace=True)  # Backward fill\n"
          ]
        },
        {
          "output_type": "stream",
          "name": "stdout",
          "text": [
            "Processed and saved cleaned data for FBR.JO to Stocks/FBR.JO.csv\n",
            "Processed and saved cleaned data for FFB.JO to Stocks/FFB.JO.csv\n"
          ]
        },
        {
          "output_type": "stream",
          "name": "stderr",
          "text": [
            "\r[*********************100%%**********************]  1 of 1 completed\n",
            "<ipython-input-10-52a0e9cea7f7>:76: FutureWarning: DataFrame.fillna with 'method' is deprecated and will raise in a future version. Use obj.ffill() or obj.bfill() instead.\n",
            "  df.fillna(method='ffill', inplace=True)  # Forward fill\n",
            "<ipython-input-10-52a0e9cea7f7>:77: FutureWarning: DataFrame.fillna with 'method' is deprecated and will raise in a future version. Use obj.ffill() or obj.bfill() instead.\n",
            "  df.fillna(method='bfill', inplace=True)  # Backward fill\n",
            "[*********************100%%**********************]  1 of 1 completed"
          ]
        },
        {
          "output_type": "stream",
          "name": "stdout",
          "text": [
            "Processed and saved cleaned data for FGL.JO to Stocks/FGL.JO.csv\n"
          ]
        },
        {
          "output_type": "stream",
          "name": "stderr",
          "text": [
            "\n",
            "<ipython-input-10-52a0e9cea7f7>:76: FutureWarning: DataFrame.fillna with 'method' is deprecated and will raise in a future version. Use obj.ffill() or obj.bfill() instead.\n",
            "  df.fillna(method='ffill', inplace=True)  # Forward fill\n",
            "<ipython-input-10-52a0e9cea7f7>:77: FutureWarning: DataFrame.fillna with 'method' is deprecated and will raise in a future version. Use obj.ffill() or obj.bfill() instead.\n",
            "  df.fillna(method='bfill', inplace=True)  # Backward fill\n",
            "\r[*********************100%%**********************]  1 of 1 completed\n",
            "<ipython-input-10-52a0e9cea7f7>:76: FutureWarning: DataFrame.fillna with 'method' is deprecated and will raise in a future version. Use obj.ffill() or obj.bfill() instead.\n",
            "  df.fillna(method='ffill', inplace=True)  # Forward fill\n",
            "<ipython-input-10-52a0e9cea7f7>:77: FutureWarning: DataFrame.fillna with 'method' is deprecated and will raise in a future version. Use obj.ffill() or obj.bfill() instead.\n",
            "  df.fillna(method='bfill', inplace=True)  # Backward fill\n"
          ]
        },
        {
          "output_type": "stream",
          "name": "stdout",
          "text": [
            "Processed and saved cleaned data for FSR.JO to Stocks/FSR.JO.csv\n",
            "Processed and saved cleaned data for FTA.JO to Stocks/FTA.JO.csv\n"
          ]
        },
        {
          "output_type": "stream",
          "name": "stderr",
          "text": [
            "\r[*********************100%%**********************]  1 of 1 completed\n",
            "<ipython-input-10-52a0e9cea7f7>:76: FutureWarning: DataFrame.fillna with 'method' is deprecated and will raise in a future version. Use obj.ffill() or obj.bfill() instead.\n",
            "  df.fillna(method='ffill', inplace=True)  # Forward fill\n",
            "<ipython-input-10-52a0e9cea7f7>:77: FutureWarning: DataFrame.fillna with 'method' is deprecated and will raise in a future version. Use obj.ffill() or obj.bfill() instead.\n",
            "  df.fillna(method='bfill', inplace=True)  # Backward fill\n",
            "[*********************100%%**********************]  1 of 1 completed\n",
            "<ipython-input-10-52a0e9cea7f7>:76: FutureWarning: DataFrame.fillna with 'method' is deprecated and will raise in a future version. Use obj.ffill() or obj.bfill() instead.\n",
            "  df.fillna(method='ffill', inplace=True)  # Forward fill\n",
            "<ipython-input-10-52a0e9cea7f7>:77: FutureWarning: DataFrame.fillna with 'method' is deprecated and will raise in a future version. Use obj.ffill() or obj.bfill() instead.\n",
            "  df.fillna(method='bfill', inplace=True)  # Backward fill\n"
          ]
        },
        {
          "output_type": "stream",
          "name": "stdout",
          "text": [
            "Processed and saved cleaned data for FTB.JO to Stocks/FTB.JO.csv\n",
            "Processed and saved cleaned data for FTH.JO to Stocks/FTH.JO.csv\n"
          ]
        },
        {
          "output_type": "stream",
          "name": "stderr",
          "text": [
            "[*********************100%%**********************]  1 of 1 completed\n",
            "<ipython-input-10-52a0e9cea7f7>:76: FutureWarning: DataFrame.fillna with 'method' is deprecated and will raise in a future version. Use obj.ffill() or obj.bfill() instead.\n",
            "  df.fillna(method='ffill', inplace=True)  # Forward fill\n",
            "<ipython-input-10-52a0e9cea7f7>:77: FutureWarning: DataFrame.fillna with 'method' is deprecated and will raise in a future version. Use obj.ffill() or obj.bfill() instead.\n",
            "  df.fillna(method='bfill', inplace=True)  # Backward fill\n",
            "[*********************100%%**********************]  1 of 1 completed\n",
            "<ipython-input-10-52a0e9cea7f7>:76: FutureWarning: DataFrame.fillna with 'method' is deprecated and will raise in a future version. Use obj.ffill() or obj.bfill() instead.\n",
            "  df.fillna(method='ffill', inplace=True)  # Forward fill\n",
            "<ipython-input-10-52a0e9cea7f7>:77: FutureWarning: DataFrame.fillna with 'method' is deprecated and will raise in a future version. Use obj.ffill() or obj.bfill() instead.\n",
            "  df.fillna(method='bfill', inplace=True)  # Backward fill\n"
          ]
        },
        {
          "output_type": "stream",
          "name": "stdout",
          "text": [
            "Processed and saved cleaned data for GFI.JO to Stocks/GFI.JO.csv\n",
            "Processed and saved cleaned data for GLD.JO to Stocks/GLD.JO.csv\n"
          ]
        },
        {
          "output_type": "stream",
          "name": "stderr",
          "text": [
            "\r[*********************100%%**********************]  1 of 1 completed\n",
            "<ipython-input-10-52a0e9cea7f7>:76: FutureWarning: DataFrame.fillna with 'method' is deprecated and will raise in a future version. Use obj.ffill() or obj.bfill() instead.\n",
            "  df.fillna(method='ffill', inplace=True)  # Forward fill\n",
            "<ipython-input-10-52a0e9cea7f7>:77: FutureWarning: DataFrame.fillna with 'method' is deprecated and will raise in a future version. Use obj.ffill() or obj.bfill() instead.\n",
            "  df.fillna(method='bfill', inplace=True)  # Backward fill\n",
            "[*********************100%%**********************]  1 of 1 completed\n",
            "<ipython-input-10-52a0e9cea7f7>:76: FutureWarning: DataFrame.fillna with 'method' is deprecated and will raise in a future version. Use obj.ffill() or obj.bfill() instead.\n",
            "  df.fillna(method='ffill', inplace=True)  # Forward fill\n",
            "<ipython-input-10-52a0e9cea7f7>:77: FutureWarning: DataFrame.fillna with 'method' is deprecated and will raise in a future version. Use obj.ffill() or obj.bfill() instead.\n",
            "  df.fillna(method='bfill', inplace=True)  # Backward fill\n"
          ]
        },
        {
          "output_type": "stream",
          "name": "stdout",
          "text": [
            "Processed and saved cleaned data for GLN.JO to Stocks/GLN.JO.csv\n",
            "Processed and saved cleaned data for GML.JO to Stocks/GML.JO.csv\n"
          ]
        },
        {
          "output_type": "stream",
          "name": "stderr",
          "text": [
            "[*********************100%%**********************]  1 of 1 completed\n",
            "<ipython-input-10-52a0e9cea7f7>:76: FutureWarning: DataFrame.fillna with 'method' is deprecated and will raise in a future version. Use obj.ffill() or obj.bfill() instead.\n",
            "  df.fillna(method='ffill', inplace=True)  # Forward fill\n",
            "<ipython-input-10-52a0e9cea7f7>:77: FutureWarning: DataFrame.fillna with 'method' is deprecated and will raise in a future version. Use obj.ffill() or obj.bfill() instead.\n",
            "  df.fillna(method='bfill', inplace=True)  # Backward fill\n",
            "[*********************100%%**********************]  1 of 1 completed\n",
            "<ipython-input-10-52a0e9cea7f7>:76: FutureWarning: DataFrame.fillna with 'method' is deprecated and will raise in a future version. Use obj.ffill() or obj.bfill() instead.\n",
            "  df.fillna(method='ffill', inplace=True)  # Forward fill\n",
            "<ipython-input-10-52a0e9cea7f7>:77: FutureWarning: DataFrame.fillna with 'method' is deprecated and will raise in a future version. Use obj.ffill() or obj.bfill() instead.\n",
            "  df.fillna(method='bfill', inplace=True)  # Backward fill\n"
          ]
        },
        {
          "output_type": "stream",
          "name": "stdout",
          "text": [
            "Processed and saved cleaned data for GND.JO to Stocks/GND.JO.csv\n",
            "Processed and saved cleaned data for GPL.JO to Stocks/GPL.JO.csv\n"
          ]
        },
        {
          "output_type": "stream",
          "name": "stderr",
          "text": [
            "\r[*********************100%%**********************]  1 of 1 completed\n",
            "<ipython-input-10-52a0e9cea7f7>:76: FutureWarning: DataFrame.fillna with 'method' is deprecated and will raise in a future version. Use obj.ffill() or obj.bfill() instead.\n",
            "  df.fillna(method='ffill', inplace=True)  # Forward fill\n",
            "<ipython-input-10-52a0e9cea7f7>:77: FutureWarning: DataFrame.fillna with 'method' is deprecated and will raise in a future version. Use obj.ffill() or obj.bfill() instead.\n",
            "  df.fillna(method='bfill', inplace=True)  # Backward fill\n",
            "[*********************100%%**********************]  1 of 1 completed\n",
            "<ipython-input-10-52a0e9cea7f7>:76: FutureWarning: DataFrame.fillna with 'method' is deprecated and will raise in a future version. Use obj.ffill() or obj.bfill() instead.\n",
            "  df.fillna(method='ffill', inplace=True)  # Forward fill\n",
            "<ipython-input-10-52a0e9cea7f7>:77: FutureWarning: DataFrame.fillna with 'method' is deprecated and will raise in a future version. Use obj.ffill() or obj.bfill() instead.\n",
            "  df.fillna(method='bfill', inplace=True)  # Backward fill\n"
          ]
        },
        {
          "output_type": "stream",
          "name": "stdout",
          "text": [
            "Processed and saved cleaned data for GRT.JO to Stocks/GRT.JO.csv\n",
            "Processed and saved cleaned data for GSH.JO to Stocks/GSH.JO.csv\n"
          ]
        },
        {
          "output_type": "stream",
          "name": "stderr",
          "text": [
            "[*********************100%%**********************]  1 of 1 completed\n",
            "<ipython-input-10-52a0e9cea7f7>:76: FutureWarning: DataFrame.fillna with 'method' is deprecated and will raise in a future version. Use obj.ffill() or obj.bfill() instead.\n",
            "  df.fillna(method='ffill', inplace=True)  # Forward fill\n",
            "<ipython-input-10-52a0e9cea7f7>:77: FutureWarning: DataFrame.fillna with 'method' is deprecated and will raise in a future version. Use obj.ffill() or obj.bfill() instead.\n",
            "  df.fillna(method='bfill', inplace=True)  # Backward fill\n",
            "[*********************100%%**********************]  1 of 1 completed\n",
            "<ipython-input-10-52a0e9cea7f7>:76: FutureWarning: DataFrame.fillna with 'method' is deprecated and will raise in a future version. Use obj.ffill() or obj.bfill() instead.\n",
            "  df.fillna(method='ffill', inplace=True)  # Forward fill\n",
            "<ipython-input-10-52a0e9cea7f7>:77: FutureWarning: DataFrame.fillna with 'method' is deprecated and will raise in a future version. Use obj.ffill() or obj.bfill() instead.\n",
            "  df.fillna(method='bfill', inplace=True)  # Backward fill\n"
          ]
        },
        {
          "output_type": "stream",
          "name": "stdout",
          "text": [
            "Processed and saved cleaned data for HAR.JO to Stocks/HAR.JO.csv\n",
            "Processed and saved cleaned data for HCI.JO to Stocks/HCI.JO.csv"
          ]
        },
        {
          "output_type": "stream",
          "name": "stderr",
          "text": [
            "\r[*********************100%%**********************]  1 of 1 completed"
          ]
        },
        {
          "output_type": "stream",
          "name": "stdout",
          "text": [
            "\n"
          ]
        },
        {
          "output_type": "stream",
          "name": "stderr",
          "text": [
            "\n",
            "<ipython-input-10-52a0e9cea7f7>:76: FutureWarning: DataFrame.fillna with 'method' is deprecated and will raise in a future version. Use obj.ffill() or obj.bfill() instead.\n",
            "  df.fillna(method='ffill', inplace=True)  # Forward fill\n",
            "<ipython-input-10-52a0e9cea7f7>:77: FutureWarning: DataFrame.fillna with 'method' is deprecated and will raise in a future version. Use obj.ffill() or obj.bfill() instead.\n",
            "  df.fillna(method='bfill', inplace=True)  # Backward fill\n",
            "\r[*********************100%%**********************]  1 of 1 completed\n",
            "<ipython-input-10-52a0e9cea7f7>:76: FutureWarning: DataFrame.fillna with 'method' is deprecated and will raise in a future version. Use obj.ffill() or obj.bfill() instead.\n",
            "  df.fillna(method='ffill', inplace=True)  # Forward fill\n",
            "<ipython-input-10-52a0e9cea7f7>:77: FutureWarning: DataFrame.fillna with 'method' is deprecated and will raise in a future version. Use obj.ffill() or obj.bfill() instead.\n",
            "  df.fillna(method='bfill', inplace=True)  # Backward fill\n"
          ]
        },
        {
          "output_type": "stream",
          "name": "stdout",
          "text": [
            "Processed and saved cleaned data for HDC.JO to Stocks/HDC.JO.csv\n",
            "Processed and saved cleaned data for HIL.JO to Stocks/HIL.JO.csv\n"
          ]
        },
        {
          "output_type": "stream",
          "name": "stderr",
          "text": [
            "\r[*********************100%%**********************]  1 of 1 completed\n",
            "<ipython-input-10-52a0e9cea7f7>:76: FutureWarning: DataFrame.fillna with 'method' is deprecated and will raise in a future version. Use obj.ffill() or obj.bfill() instead.\n",
            "  df.fillna(method='ffill', inplace=True)  # Forward fill\n",
            "<ipython-input-10-52a0e9cea7f7>:77: FutureWarning: DataFrame.fillna with 'method' is deprecated and will raise in a future version. Use obj.ffill() or obj.bfill() instead.\n",
            "  df.fillna(method='bfill', inplace=True)  # Backward fill\n",
            "[*********************100%%**********************]  1 of 1 completed\n",
            "<ipython-input-10-52a0e9cea7f7>:76: FutureWarning: DataFrame.fillna with 'method' is deprecated and will raise in a future version. Use obj.ffill() or obj.bfill() instead.\n",
            "  df.fillna(method='ffill', inplace=True)  # Forward fill\n",
            "<ipython-input-10-52a0e9cea7f7>:77: FutureWarning: DataFrame.fillna with 'method' is deprecated and will raise in a future version. Use obj.ffill() or obj.bfill() instead.\n",
            "  df.fillna(method='bfill', inplace=True)  # Backward fill\n"
          ]
        },
        {
          "output_type": "stream",
          "name": "stdout",
          "text": [
            "Processed and saved cleaned data for HLM.JO to Stocks/HLM.JO.csv\n",
            "Processed and saved cleaned data for HMN.JO to Stocks/HMN.JO.csv\n"
          ]
        },
        {
          "output_type": "stream",
          "name": "stderr",
          "text": [
            "\r[*********************100%%**********************]  1 of 1 completed\n",
            "<ipython-input-10-52a0e9cea7f7>:76: FutureWarning: DataFrame.fillna with 'method' is deprecated and will raise in a future version. Use obj.ffill() or obj.bfill() instead.\n",
            "  df.fillna(method='ffill', inplace=True)  # Forward fill\n",
            "<ipython-input-10-52a0e9cea7f7>:77: FutureWarning: DataFrame.fillna with 'method' is deprecated and will raise in a future version. Use obj.ffill() or obj.bfill() instead.\n",
            "  df.fillna(method='bfill', inplace=True)  # Backward fill\n",
            "[*********************100%%**********************]  1 of 1 completed\n",
            "<ipython-input-10-52a0e9cea7f7>:76: FutureWarning: DataFrame.fillna with 'method' is deprecated and will raise in a future version. Use obj.ffill() or obj.bfill() instead.\n",
            "  df.fillna(method='ffill', inplace=True)  # Forward fill\n",
            "<ipython-input-10-52a0e9cea7f7>:77: FutureWarning: DataFrame.fillna with 'method' is deprecated and will raise in a future version. Use obj.ffill() or obj.bfill() instead.\n",
            "  df.fillna(method='bfill', inplace=True)  # Backward fill\n"
          ]
        },
        {
          "output_type": "stream",
          "name": "stdout",
          "text": [
            "Processed and saved cleaned data for HUG.JO to Stocks/HUG.JO.csv\n",
            "Processed and saved cleaned data for HYP.JO to Stocks/HYP.JO.csv\n"
          ]
        },
        {
          "output_type": "stream",
          "name": "stderr",
          "text": [
            "\r[*********************100%%**********************]  1 of 1 completed\n",
            "<ipython-input-10-52a0e9cea7f7>:76: FutureWarning: DataFrame.fillna with 'method' is deprecated and will raise in a future version. Use obj.ffill() or obj.bfill() instead.\n",
            "  df.fillna(method='ffill', inplace=True)  # Forward fill\n",
            "<ipython-input-10-52a0e9cea7f7>:77: FutureWarning: DataFrame.fillna with 'method' is deprecated and will raise in a future version. Use obj.ffill() or obj.bfill() instead.\n",
            "  df.fillna(method='bfill', inplace=True)  # Backward fill\n",
            "[*********************100%%**********************]  1 of 1 completed"
          ]
        },
        {
          "output_type": "stream",
          "name": "stdout",
          "text": [
            "Processed and saved cleaned data for IMP.JO to Stocks/IMP.JO.csv\n"
          ]
        },
        {
          "output_type": "stream",
          "name": "stderr",
          "text": [
            "\n",
            "<ipython-input-10-52a0e9cea7f7>:76: FutureWarning: DataFrame.fillna with 'method' is deprecated and will raise in a future version. Use obj.ffill() or obj.bfill() instead.\n",
            "  df.fillna(method='ffill', inplace=True)  # Forward fill\n",
            "<ipython-input-10-52a0e9cea7f7>:77: FutureWarning: DataFrame.fillna with 'method' is deprecated and will raise in a future version. Use obj.ffill() or obj.bfill() instead.\n",
            "  df.fillna(method='bfill', inplace=True)  # Backward fill\n",
            "\r[*********************100%%**********************]  1 of 1 completed\n",
            "<ipython-input-10-52a0e9cea7f7>:76: FutureWarning: DataFrame.fillna with 'method' is deprecated and will raise in a future version. Use obj.ffill() or obj.bfill() instead.\n",
            "  df.fillna(method='ffill', inplace=True)  # Forward fill\n",
            "<ipython-input-10-52a0e9cea7f7>:77: FutureWarning: DataFrame.fillna with 'method' is deprecated and will raise in a future version. Use obj.ffill() or obj.bfill() instead.\n",
            "  df.fillna(method='bfill', inplace=True)  # Backward fill\n"
          ]
        },
        {
          "output_type": "stream",
          "name": "stdout",
          "text": [
            "Processed and saved cleaned data for INL.JO to Stocks/INL.JO.csv\n",
            "Processed and saved cleaned data for INP.JO to Stocks/INP.JO.csv\n"
          ]
        },
        {
          "output_type": "stream",
          "name": "stderr",
          "text": [
            "\r[*********************100%%**********************]  1 of 1 completed\n",
            "<ipython-input-10-52a0e9cea7f7>:76: FutureWarning: DataFrame.fillna with 'method' is deprecated and will raise in a future version. Use obj.ffill() or obj.bfill() instead.\n",
            "  df.fillna(method='ffill', inplace=True)  # Forward fill\n",
            "<ipython-input-10-52a0e9cea7f7>:77: FutureWarning: DataFrame.fillna with 'method' is deprecated and will raise in a future version. Use obj.ffill() or obj.bfill() instead.\n",
            "  df.fillna(method='bfill', inplace=True)  # Backward fill\n",
            "[*********************100%%**********************]  1 of 1 completed\n",
            "<ipython-input-10-52a0e9cea7f7>:76: FutureWarning: DataFrame.fillna with 'method' is deprecated and will raise in a future version. Use obj.ffill() or obj.bfill() instead.\n",
            "  df.fillna(method='ffill', inplace=True)  # Forward fill\n",
            "<ipython-input-10-52a0e9cea7f7>:77: FutureWarning: DataFrame.fillna with 'method' is deprecated and will raise in a future version. Use obj.ffill() or obj.bfill() instead.\n",
            "  df.fillna(method='bfill', inplace=True)  # Backward fill\n"
          ]
        },
        {
          "output_type": "stream",
          "name": "stdout",
          "text": [
            "Processed and saved cleaned data for ISA.JO to Stocks/ISA.JO.csv\n",
            "Processed and saved cleaned data for ISB.JO to Stocks/ISB.JO.csv\n"
          ]
        },
        {
          "output_type": "stream",
          "name": "stderr",
          "text": [
            "\r[*********************100%%**********************]  1 of 1 completed\n",
            "<ipython-input-10-52a0e9cea7f7>:76: FutureWarning: DataFrame.fillna with 'method' is deprecated and will raise in a future version. Use obj.ffill() or obj.bfill() instead.\n",
            "  df.fillna(method='ffill', inplace=True)  # Forward fill\n",
            "<ipython-input-10-52a0e9cea7f7>:77: FutureWarning: DataFrame.fillna with 'method' is deprecated and will raise in a future version. Use obj.ffill() or obj.bfill() instead.\n",
            "  df.fillna(method='bfill', inplace=True)  # Backward fill\n",
            "[*********************100%%**********************]  1 of 1 completed"
          ]
        },
        {
          "output_type": "stream",
          "name": "stdout",
          "text": [
            "Processed and saved cleaned data for ITE.JO to Stocks/ITE.JO.csv\n"
          ]
        },
        {
          "output_type": "stream",
          "name": "stderr",
          "text": [
            "\n",
            "<ipython-input-10-52a0e9cea7f7>:76: FutureWarning: DataFrame.fillna with 'method' is deprecated and will raise in a future version. Use obj.ffill() or obj.bfill() instead.\n",
            "  df.fillna(method='ffill', inplace=True)  # Forward fill\n",
            "<ipython-input-10-52a0e9cea7f7>:77: FutureWarning: DataFrame.fillna with 'method' is deprecated and will raise in a future version. Use obj.ffill() or obj.bfill() instead.\n",
            "  df.fillna(method='bfill', inplace=True)  # Backward fill\n",
            "\r[*********************100%%**********************]  1 of 1 completed\n",
            "<ipython-input-10-52a0e9cea7f7>:76: FutureWarning: DataFrame.fillna with 'method' is deprecated and will raise in a future version. Use obj.ffill() or obj.bfill() instead.\n",
            "  df.fillna(method='ffill', inplace=True)  # Forward fill\n",
            "<ipython-input-10-52a0e9cea7f7>:77: FutureWarning: DataFrame.fillna with 'method' is deprecated and will raise in a future version. Use obj.ffill() or obj.bfill() instead.\n",
            "  df.fillna(method='bfill', inplace=True)  # Backward fill\n"
          ]
        },
        {
          "output_type": "stream",
          "name": "stdout",
          "text": [
            "Processed and saved cleaned data for IVT.JO to Stocks/IVT.JO.csv\n",
            "Processed and saved cleaned data for JBL.JO to Stocks/JBL.JO.csv\n"
          ]
        },
        {
          "output_type": "stream",
          "name": "stderr",
          "text": [
            "\r[*********************100%%**********************]  1 of 1 completed\n",
            "<ipython-input-10-52a0e9cea7f7>:76: FutureWarning: DataFrame.fillna with 'method' is deprecated and will raise in a future version. Use obj.ffill() or obj.bfill() instead.\n",
            "  df.fillna(method='ffill', inplace=True)  # Forward fill\n",
            "<ipython-input-10-52a0e9cea7f7>:77: FutureWarning: DataFrame.fillna with 'method' is deprecated and will raise in a future version. Use obj.ffill() or obj.bfill() instead.\n",
            "  df.fillna(method='bfill', inplace=True)  # Backward fill\n",
            "[*********************100%%**********************]  1 of 1 completed\n",
            "<ipython-input-10-52a0e9cea7f7>:76: FutureWarning: DataFrame.fillna with 'method' is deprecated and will raise in a future version. Use obj.ffill() or obj.bfill() instead.\n",
            "  df.fillna(method='ffill', inplace=True)  # Forward fill\n",
            "<ipython-input-10-52a0e9cea7f7>:77: FutureWarning: DataFrame.fillna with 'method' is deprecated and will raise in a future version. Use obj.ffill() or obj.bfill() instead.\n",
            "  df.fillna(method='bfill', inplace=True)  # Backward fill\n"
          ]
        },
        {
          "output_type": "stream",
          "name": "stdout",
          "text": [
            "Processed and saved cleaned data for JSE.JO to Stocks/JSE.JO.csv\n",
            "Processed and saved cleaned data for KAL.JO to Stocks/KAL.JO.csv\n"
          ]
        },
        {
          "output_type": "stream",
          "name": "stderr",
          "text": [
            "[*********************100%%**********************]  1 of 1 completed\n",
            "<ipython-input-10-52a0e9cea7f7>:76: FutureWarning: DataFrame.fillna with 'method' is deprecated and will raise in a future version. Use obj.ffill() or obj.bfill() instead.\n",
            "  df.fillna(method='ffill', inplace=True)  # Forward fill\n",
            "<ipython-input-10-52a0e9cea7f7>:77: FutureWarning: DataFrame.fillna with 'method' is deprecated and will raise in a future version. Use obj.ffill() or obj.bfill() instead.\n",
            "  df.fillna(method='bfill', inplace=True)  # Backward fill\n",
            "[*********************100%%**********************]  1 of 1 completed\n",
            "<ipython-input-10-52a0e9cea7f7>:76: FutureWarning: DataFrame.fillna with 'method' is deprecated and will raise in a future version. Use obj.ffill() or obj.bfill() instead.\n",
            "  df.fillna(method='ffill', inplace=True)  # Forward fill\n",
            "<ipython-input-10-52a0e9cea7f7>:77: FutureWarning: DataFrame.fillna with 'method' is deprecated and will raise in a future version. Use obj.ffill() or obj.bfill() instead.\n",
            "  df.fillna(method='bfill', inplace=True)  # Backward fill\n"
          ]
        },
        {
          "output_type": "stream",
          "name": "stdout",
          "text": [
            "Processed and saved cleaned data for KAP.JO to Stocks/KAP.JO.csv\n",
            "Processed and saved cleaned data for KBO.JO to Stocks/KBO.JO.csv\n"
          ]
        },
        {
          "output_type": "stream",
          "name": "stderr",
          "text": [
            "\r[*********************100%%**********************]  1 of 1 completed\n",
            "<ipython-input-10-52a0e9cea7f7>:76: FutureWarning: DataFrame.fillna with 'method' is deprecated and will raise in a future version. Use obj.ffill() or obj.bfill() instead.\n",
            "  df.fillna(method='ffill', inplace=True)  # Forward fill\n",
            "<ipython-input-10-52a0e9cea7f7>:77: FutureWarning: DataFrame.fillna with 'method' is deprecated and will raise in a future version. Use obj.ffill() or obj.bfill() instead.\n",
            "  df.fillna(method='bfill', inplace=True)  # Backward fill\n",
            "[*********************100%%**********************]  1 of 1 completed\n",
            "<ipython-input-10-52a0e9cea7f7>:76: FutureWarning: DataFrame.fillna with 'method' is deprecated and will raise in a future version. Use obj.ffill() or obj.bfill() instead.\n",
            "  df.fillna(method='ffill', inplace=True)  # Forward fill\n",
            "<ipython-input-10-52a0e9cea7f7>:77: FutureWarning: DataFrame.fillna with 'method' is deprecated and will raise in a future version. Use obj.ffill() or obj.bfill() instead.\n",
            "  df.fillna(method='bfill', inplace=True)  # Backward fill\n"
          ]
        },
        {
          "output_type": "stream",
          "name": "stdout",
          "text": [
            "Processed and saved cleaned data for KIO.JO to Stocks/KIO.JO.csv\n",
            "Processed and saved cleaned data for KP2.JO to Stocks/KP2.JO.csv\n"
          ]
        },
        {
          "output_type": "stream",
          "name": "stderr",
          "text": [
            "\r[*********************100%%**********************]  1 of 1 completed\n",
            "<ipython-input-10-52a0e9cea7f7>:76: FutureWarning: DataFrame.fillna with 'method' is deprecated and will raise in a future version. Use obj.ffill() or obj.bfill() instead.\n",
            "  df.fillna(method='ffill', inplace=True)  # Forward fill\n",
            "<ipython-input-10-52a0e9cea7f7>:77: FutureWarning: DataFrame.fillna with 'method' is deprecated and will raise in a future version. Use obj.ffill() or obj.bfill() instead.\n",
            "  df.fillna(method='bfill', inplace=True)  # Backward fill\n",
            "[*********************100%%**********************]  1 of 1 completed\n",
            "<ipython-input-10-52a0e9cea7f7>:76: FutureWarning: DataFrame.fillna with 'method' is deprecated and will raise in a future version. Use obj.ffill() or obj.bfill() instead.\n",
            "  df.fillna(method='ffill', inplace=True)  # Forward fill\n",
            "<ipython-input-10-52a0e9cea7f7>:77: FutureWarning: DataFrame.fillna with 'method' is deprecated and will raise in a future version. Use obj.ffill() or obj.bfill() instead.\n",
            "  df.fillna(method='bfill', inplace=True)  # Backward fill\n"
          ]
        },
        {
          "output_type": "stream",
          "name": "stdout",
          "text": [
            "Processed and saved cleaned data for KRO.JO to Stocks/KRO.JO.csv\n",
            "Processed and saved cleaned data for KST.JO to Stocks/KST.JO.csv\n"
          ]
        },
        {
          "output_type": "stream",
          "name": "stderr",
          "text": [
            "\r[*********************100%%**********************]  1 of 1 completed\n",
            "<ipython-input-10-52a0e9cea7f7>:76: FutureWarning: DataFrame.fillna with 'method' is deprecated and will raise in a future version. Use obj.ffill() or obj.bfill() instead.\n",
            "  df.fillna(method='ffill', inplace=True)  # Forward fill\n",
            "<ipython-input-10-52a0e9cea7f7>:77: FutureWarning: DataFrame.fillna with 'method' is deprecated and will raise in a future version. Use obj.ffill() or obj.bfill() instead.\n",
            "  df.fillna(method='bfill', inplace=True)  # Backward fill\n",
            "[*********************100%%**********************]  1 of 1 completed\n",
            "<ipython-input-10-52a0e9cea7f7>:76: FutureWarning: DataFrame.fillna with 'method' is deprecated and will raise in a future version. Use obj.ffill() or obj.bfill() instead.\n",
            "  df.fillna(method='ffill', inplace=True)  # Forward fill\n",
            "<ipython-input-10-52a0e9cea7f7>:77: FutureWarning: DataFrame.fillna with 'method' is deprecated and will raise in a future version. Use obj.ffill() or obj.bfill() instead.\n",
            "  df.fillna(method='bfill', inplace=True)  # Backward fill\n"
          ]
        },
        {
          "output_type": "stream",
          "name": "stdout",
          "text": [
            "Processed and saved cleaned data for LAB.JO to Stocks/LAB.JO.csv\n",
            "Processed and saved cleaned data for LBR.JO to Stocks/LBR.JO.csv\n"
          ]
        },
        {
          "output_type": "stream",
          "name": "stderr",
          "text": [
            "\r[*********************100%%**********************]  1 of 1 completed\n",
            "<ipython-input-10-52a0e9cea7f7>:76: FutureWarning: DataFrame.fillna with 'method' is deprecated and will raise in a future version. Use obj.ffill() or obj.bfill() instead.\n",
            "  df.fillna(method='ffill', inplace=True)  # Forward fill\n",
            "<ipython-input-10-52a0e9cea7f7>:77: FutureWarning: DataFrame.fillna with 'method' is deprecated and will raise in a future version. Use obj.ffill() or obj.bfill() instead.\n",
            "  df.fillna(method='bfill', inplace=True)  # Backward fill\n",
            "[*********************100%%**********************]  1 of 1 completed\n",
            "<ipython-input-10-52a0e9cea7f7>:76: FutureWarning: DataFrame.fillna with 'method' is deprecated and will raise in a future version. Use obj.ffill() or obj.bfill() instead.\n",
            "  df.fillna(method='ffill', inplace=True)  # Forward fill\n",
            "<ipython-input-10-52a0e9cea7f7>:77: FutureWarning: DataFrame.fillna with 'method' is deprecated and will raise in a future version. Use obj.ffill() or obj.bfill() instead.\n",
            "  df.fillna(method='bfill', inplace=True)  # Backward fill\n"
          ]
        },
        {
          "output_type": "stream",
          "name": "stdout",
          "text": [
            "Processed and saved cleaned data for LEW.JO to Stocks/LEW.JO.csv\n",
            "Processed and saved cleaned data for LHC.JO to Stocks/LHC.JO.csv\n"
          ]
        },
        {
          "output_type": "stream",
          "name": "stderr",
          "text": [
            "\r[*********************100%%**********************]  1 of 1 completed\n",
            "<ipython-input-10-52a0e9cea7f7>:76: FutureWarning: DataFrame.fillna with 'method' is deprecated and will raise in a future version. Use obj.ffill() or obj.bfill() instead.\n",
            "  df.fillna(method='ffill', inplace=True)  # Forward fill\n",
            "<ipython-input-10-52a0e9cea7f7>:77: FutureWarning: DataFrame.fillna with 'method' is deprecated and will raise in a future version. Use obj.ffill() or obj.bfill() instead.\n",
            "  df.fillna(method='bfill', inplace=True)  # Backward fill\n",
            "[*********************100%%**********************]  1 of 1 completed\n",
            "<ipython-input-10-52a0e9cea7f7>:76: FutureWarning: DataFrame.fillna with 'method' is deprecated and will raise in a future version. Use obj.ffill() or obj.bfill() instead.\n",
            "  df.fillna(method='ffill', inplace=True)  # Forward fill\n",
            "<ipython-input-10-52a0e9cea7f7>:77: FutureWarning: DataFrame.fillna with 'method' is deprecated and will raise in a future version. Use obj.ffill() or obj.bfill() instead.\n",
            "  df.fillna(method='bfill', inplace=True)  # Backward fill\n"
          ]
        },
        {
          "output_type": "stream",
          "name": "stdout",
          "text": [
            "Processed and saved cleaned data for LSK.JO to Stocks/LSK.JO.csv\n",
            "Processed and saved cleaned data for LTE.JO to Stocks/LTE.JO.csv\n"
          ]
        },
        {
          "output_type": "stream",
          "name": "stderr",
          "text": [
            "\r[*********************100%%**********************]  1 of 1 completed\n",
            "<ipython-input-10-52a0e9cea7f7>:76: FutureWarning: DataFrame.fillna with 'method' is deprecated and will raise in a future version. Use obj.ffill() or obj.bfill() instead.\n",
            "  df.fillna(method='ffill', inplace=True)  # Forward fill\n",
            "<ipython-input-10-52a0e9cea7f7>:77: FutureWarning: DataFrame.fillna with 'method' is deprecated and will raise in a future version. Use obj.ffill() or obj.bfill() instead.\n",
            "  df.fillna(method='bfill', inplace=True)  # Backward fill\n",
            "[*********************100%%**********************]  1 of 1 completed\n",
            "<ipython-input-10-52a0e9cea7f7>:76: FutureWarning: DataFrame.fillna with 'method' is deprecated and will raise in a future version. Use obj.ffill() or obj.bfill() instead.\n",
            "  df.fillna(method='ffill', inplace=True)  # Forward fill\n",
            "<ipython-input-10-52a0e9cea7f7>:77: FutureWarning: DataFrame.fillna with 'method' is deprecated and will raise in a future version. Use obj.ffill() or obj.bfill() instead.\n",
            "  df.fillna(method='bfill', inplace=True)  # Backward fill\n"
          ]
        },
        {
          "output_type": "stream",
          "name": "stdout",
          "text": [
            "Processed and saved cleaned data for MCG.JO to Stocks/MCG.JO.csv\n",
            "Processed and saved cleaned data for MCZ.JO to Stocks/MCZ.JO.csv\n"
          ]
        },
        {
          "output_type": "stream",
          "name": "stderr",
          "text": [
            "\r[*********************100%%**********************]  1 of 1 completed\n",
            "<ipython-input-10-52a0e9cea7f7>:76: FutureWarning: DataFrame.fillna with 'method' is deprecated and will raise in a future version. Use obj.ffill() or obj.bfill() instead.\n",
            "  df.fillna(method='ffill', inplace=True)  # Forward fill\n",
            "<ipython-input-10-52a0e9cea7f7>:77: FutureWarning: DataFrame.fillna with 'method' is deprecated and will raise in a future version. Use obj.ffill() or obj.bfill() instead.\n",
            "  df.fillna(method='bfill', inplace=True)  # Backward fill\n",
            "[*********************100%%**********************]  1 of 1 completed\n",
            "<ipython-input-10-52a0e9cea7f7>:76: FutureWarning: DataFrame.fillna with 'method' is deprecated and will raise in a future version. Use obj.ffill() or obj.bfill() instead.\n",
            "  df.fillna(method='ffill', inplace=True)  # Forward fill\n",
            "<ipython-input-10-52a0e9cea7f7>:77: FutureWarning: DataFrame.fillna with 'method' is deprecated and will raise in a future version. Use obj.ffill() or obj.bfill() instead.\n",
            "  df.fillna(method='bfill', inplace=True)  # Backward fill\n"
          ]
        },
        {
          "output_type": "stream",
          "name": "stdout",
          "text": [
            "Processed and saved cleaned data for MDI.JO to Stocks/MDI.JO.csv\n",
            "Processed and saved cleaned data for MFL.JO to Stocks/MFL.JO.csv\n"
          ]
        },
        {
          "output_type": "stream",
          "name": "stderr",
          "text": [
            "\r[*********************100%%**********************]  1 of 1 completed\n",
            "<ipython-input-10-52a0e9cea7f7>:76: FutureWarning: DataFrame.fillna with 'method' is deprecated and will raise in a future version. Use obj.ffill() or obj.bfill() instead.\n",
            "  df.fillna(method='ffill', inplace=True)  # Forward fill\n",
            "<ipython-input-10-52a0e9cea7f7>:77: FutureWarning: DataFrame.fillna with 'method' is deprecated and will raise in a future version. Use obj.ffill() or obj.bfill() instead.\n",
            "  df.fillna(method='bfill', inplace=True)  # Backward fill\n",
            "[*********************100%%**********************]  1 of 1 completed\n",
            "<ipython-input-10-52a0e9cea7f7>:76: FutureWarning: DataFrame.fillna with 'method' is deprecated and will raise in a future version. Use obj.ffill() or obj.bfill() instead.\n",
            "  df.fillna(method='ffill', inplace=True)  # Forward fill\n",
            "<ipython-input-10-52a0e9cea7f7>:77: FutureWarning: DataFrame.fillna with 'method' is deprecated and will raise in a future version. Use obj.ffill() or obj.bfill() instead.\n",
            "  df.fillna(method='bfill', inplace=True)  # Backward fill\n"
          ]
        },
        {
          "output_type": "stream",
          "name": "stdout",
          "text": [
            "Processed and saved cleaned data for MHB.JO to Stocks/MHB.JO.csv\n",
            "Processed and saved cleaned data for MKR.JO to Stocks/MKR.JO.csv\n"
          ]
        },
        {
          "output_type": "stream",
          "name": "stderr",
          "text": [
            "\r[*********************100%%**********************]  1 of 1 completed\n",
            "<ipython-input-10-52a0e9cea7f7>:76: FutureWarning: DataFrame.fillna with 'method' is deprecated and will raise in a future version. Use obj.ffill() or obj.bfill() instead.\n",
            "  df.fillna(method='ffill', inplace=True)  # Forward fill\n",
            "<ipython-input-10-52a0e9cea7f7>:77: FutureWarning: DataFrame.fillna with 'method' is deprecated and will raise in a future version. Use obj.ffill() or obj.bfill() instead.\n",
            "  df.fillna(method='bfill', inplace=True)  # Backward fill\n",
            "[*********************100%%**********************]  1 of 1 completed"
          ]
        },
        {
          "output_type": "stream",
          "name": "stdout",
          "text": [
            "Processed and saved cleaned data for MMP.JO to Stocks/MMP.JO.csv\n"
          ]
        },
        {
          "output_type": "stream",
          "name": "stderr",
          "text": [
            "\n",
            "<ipython-input-10-52a0e9cea7f7>:76: FutureWarning: DataFrame.fillna with 'method' is deprecated and will raise in a future version. Use obj.ffill() or obj.bfill() instead.\n",
            "  df.fillna(method='ffill', inplace=True)  # Forward fill\n",
            "<ipython-input-10-52a0e9cea7f7>:77: FutureWarning: DataFrame.fillna with 'method' is deprecated and will raise in a future version. Use obj.ffill() or obj.bfill() instead.\n",
            "  df.fillna(method='bfill', inplace=True)  # Backward fill\n",
            "\r[*********************100%%**********************]  1 of 1 completed\n",
            "<ipython-input-10-52a0e9cea7f7>:76: FutureWarning: DataFrame.fillna with 'method' is deprecated and will raise in a future version. Use obj.ffill() or obj.bfill() instead.\n",
            "  df.fillna(method='ffill', inplace=True)  # Forward fill\n",
            "<ipython-input-10-52a0e9cea7f7>:77: FutureWarning: DataFrame.fillna with 'method' is deprecated and will raise in a future version. Use obj.ffill() or obj.bfill() instead.\n",
            "  df.fillna(method='bfill', inplace=True)  # Backward fill\n"
          ]
        },
        {
          "output_type": "stream",
          "name": "stdout",
          "text": [
            "Processed and saved cleaned data for MNP.JO to Stocks/MNP.JO.csv\n",
            "Processed and saved cleaned data for MPT.JO to Stocks/MPT.JO.csv\n"
          ]
        },
        {
          "output_type": "stream",
          "name": "stderr",
          "text": [
            "\r[*********************100%%**********************]  1 of 1 completed\n",
            "<ipython-input-10-52a0e9cea7f7>:76: FutureWarning: DataFrame.fillna with 'method' is deprecated and will raise in a future version. Use obj.ffill() or obj.bfill() instead.\n",
            "  df.fillna(method='ffill', inplace=True)  # Forward fill\n",
            "<ipython-input-10-52a0e9cea7f7>:76: SettingWithCopyWarning: \n",
            "A value is trying to be set on a copy of a slice from a DataFrame\n",
            "\n",
            "See the caveats in the documentation: https://pandas.pydata.org/pandas-docs/stable/user_guide/indexing.html#returning-a-view-versus-a-copy\n",
            "  df.fillna(method='ffill', inplace=True)  # Forward fill\n",
            "<ipython-input-10-52a0e9cea7f7>:77: FutureWarning: DataFrame.fillna with 'method' is deprecated and will raise in a future version. Use obj.ffill() or obj.bfill() instead.\n",
            "  df.fillna(method='bfill', inplace=True)  # Backward fill\n",
            "<ipython-input-10-52a0e9cea7f7>:77: SettingWithCopyWarning: \n",
            "A value is trying to be set on a copy of a slice from a DataFrame\n",
            "\n",
            "See the caveats in the documentation: https://pandas.pydata.org/pandas-docs/stable/user_guide/indexing.html#returning-a-view-versus-a-copy\n",
            "  df.fillna(method='bfill', inplace=True)  # Backward fill\n",
            "[*********************100%%**********************]  1 of 1 completed\n",
            "<ipython-input-10-52a0e9cea7f7>:76: FutureWarning: DataFrame.fillna with 'method' is deprecated and will raise in a future version. Use obj.ffill() or obj.bfill() instead.\n",
            "  df.fillna(method='ffill', inplace=True)  # Forward fill\n",
            "<ipython-input-10-52a0e9cea7f7>:77: FutureWarning: DataFrame.fillna with 'method' is deprecated and will raise in a future version. Use obj.ffill() or obj.bfill() instead.\n",
            "  df.fillna(method='bfill', inplace=True)  # Backward fill\n"
          ]
        },
        {
          "output_type": "stream",
          "name": "stdout",
          "text": [
            "Processed and saved cleaned data for MRF.JO to Stocks/MRF.JO.csv\n",
            "Processed and saved cleaned data for MRP.JO to Stocks/MRP.JO.csv\n"
          ]
        },
        {
          "output_type": "stream",
          "name": "stderr",
          "text": [
            "\r[*********************100%%**********************]  1 of 1 completed\n",
            "<ipython-input-10-52a0e9cea7f7>:76: FutureWarning: DataFrame.fillna with 'method' is deprecated and will raise in a future version. Use obj.ffill() or obj.bfill() instead.\n",
            "  df.fillna(method='ffill', inplace=True)  # Forward fill\n",
            "<ipython-input-10-52a0e9cea7f7>:77: FutureWarning: DataFrame.fillna with 'method' is deprecated and will raise in a future version. Use obj.ffill() or obj.bfill() instead.\n",
            "  df.fillna(method='bfill', inplace=True)  # Backward fill\n",
            "[*********************100%%**********************]  1 of 1 completed\n",
            "<ipython-input-10-52a0e9cea7f7>:76: FutureWarning: DataFrame.fillna with 'method' is deprecated and will raise in a future version. Use obj.ffill() or obj.bfill() instead.\n",
            "  df.fillna(method='ffill', inplace=True)  # Forward fill\n",
            "<ipython-input-10-52a0e9cea7f7>:77: FutureWarning: DataFrame.fillna with 'method' is deprecated and will raise in a future version. Use obj.ffill() or obj.bfill() instead.\n",
            "  df.fillna(method='bfill', inplace=True)  # Backward fill\n"
          ]
        },
        {
          "output_type": "stream",
          "name": "stdout",
          "text": [
            "Processed and saved cleaned data for MSP.JO to Stocks/MSP.JO.csv\n",
            "Processed and saved cleaned data for MST.JO to Stocks/MST.JO.csv\n"
          ]
        },
        {
          "output_type": "stream",
          "name": "stderr",
          "text": [
            "[*********************100%%**********************]  1 of 1 completed\n",
            "<ipython-input-10-52a0e9cea7f7>:76: FutureWarning: DataFrame.fillna with 'method' is deprecated and will raise in a future version. Use obj.ffill() or obj.bfill() instead.\n",
            "  df.fillna(method='ffill', inplace=True)  # Forward fill\n",
            "<ipython-input-10-52a0e9cea7f7>:77: FutureWarning: DataFrame.fillna with 'method' is deprecated and will raise in a future version. Use obj.ffill() or obj.bfill() instead.\n",
            "  df.fillna(method='bfill', inplace=True)  # Backward fill\n",
            "[*********************100%%**********************]  1 of 1 completed\n",
            "<ipython-input-10-52a0e9cea7f7>:76: FutureWarning: DataFrame.fillna with 'method' is deprecated and will raise in a future version. Use obj.ffill() or obj.bfill() instead.\n",
            "  df.fillna(method='ffill', inplace=True)  # Forward fill\n",
            "<ipython-input-10-52a0e9cea7f7>:77: FutureWarning: DataFrame.fillna with 'method' is deprecated and will raise in a future version. Use obj.ffill() or obj.bfill() instead.\n",
            "  df.fillna(method='bfill', inplace=True)  # Backward fill\n"
          ]
        },
        {
          "output_type": "stream",
          "name": "stdout",
          "text": [
            "Processed and saved cleaned data for MTA.JO to Stocks/MTA.JO.csv\n",
            "Processed and saved cleaned data for MTH.JO to Stocks/MTH.JO.csv\n"
          ]
        },
        {
          "output_type": "stream",
          "name": "stderr",
          "text": [
            "[*********************100%%**********************]  1 of 1 completed\n",
            "<ipython-input-10-52a0e9cea7f7>:76: FutureWarning: DataFrame.fillna with 'method' is deprecated and will raise in a future version. Use obj.ffill() or obj.bfill() instead.\n",
            "  df.fillna(method='ffill', inplace=True)  # Forward fill\n",
            "<ipython-input-10-52a0e9cea7f7>:77: FutureWarning: DataFrame.fillna with 'method' is deprecated and will raise in a future version. Use obj.ffill() or obj.bfill() instead.\n",
            "  df.fillna(method='bfill', inplace=True)  # Backward fill\n",
            "[*********************100%%**********************]  1 of 1 completed\n",
            "<ipython-input-10-52a0e9cea7f7>:76: FutureWarning: DataFrame.fillna with 'method' is deprecated and will raise in a future version. Use obj.ffill() or obj.bfill() instead.\n",
            "  df.fillna(method='ffill', inplace=True)  # Forward fill\n",
            "<ipython-input-10-52a0e9cea7f7>:77: FutureWarning: DataFrame.fillna with 'method' is deprecated and will raise in a future version. Use obj.ffill() or obj.bfill() instead.\n",
            "  df.fillna(method='bfill', inplace=True)  # Backward fill\n"
          ]
        },
        {
          "output_type": "stream",
          "name": "stdout",
          "text": [
            "Processed and saved cleaned data for MTM.JO to Stocks/MTM.JO.csv\n",
            "Processed and saved cleaned data for MTN.JO to Stocks/MTN.JO.csv\n"
          ]
        },
        {
          "output_type": "stream",
          "name": "stderr",
          "text": [
            "\r[*********************100%%**********************]  1 of 1 completed\n",
            "<ipython-input-10-52a0e9cea7f7>:76: FutureWarning: DataFrame.fillna with 'method' is deprecated and will raise in a future version. Use obj.ffill() or obj.bfill() instead.\n",
            "  df.fillna(method='ffill', inplace=True)  # Forward fill\n",
            "<ipython-input-10-52a0e9cea7f7>:77: FutureWarning: DataFrame.fillna with 'method' is deprecated and will raise in a future version. Use obj.ffill() or obj.bfill() instead.\n",
            "  df.fillna(method='bfill', inplace=True)  # Backward fill\n",
            "[*********************100%%**********************]  1 of 1 completed\n",
            "<ipython-input-10-52a0e9cea7f7>:76: FutureWarning: DataFrame.fillna with 'method' is deprecated and will raise in a future version. Use obj.ffill() or obj.bfill() instead.\n",
            "  df.fillna(method='ffill', inplace=True)  # Forward fill\n",
            "<ipython-input-10-52a0e9cea7f7>:77: FutureWarning: DataFrame.fillna with 'method' is deprecated and will raise in a future version. Use obj.ffill() or obj.bfill() instead.\n",
            "  df.fillna(method='bfill', inplace=True)  # Backward fill\n"
          ]
        },
        {
          "output_type": "stream",
          "name": "stdout",
          "text": [
            "Processed and saved cleaned data for MTU.JO to Stocks/MTU.JO.csv\n",
            "Processed and saved cleaned data for MUR.JO to Stocks/MUR.JO.csv\n"
          ]
        },
        {
          "output_type": "stream",
          "name": "stderr",
          "text": [
            "\r[*********************100%%**********************]  1 of 1 completed\n",
            "<ipython-input-10-52a0e9cea7f7>:76: FutureWarning: DataFrame.fillna with 'method' is deprecated and will raise in a future version. Use obj.ffill() or obj.bfill() instead.\n",
            "  df.fillna(method='ffill', inplace=True)  # Forward fill\n",
            "<ipython-input-10-52a0e9cea7f7>:77: FutureWarning: DataFrame.fillna with 'method' is deprecated and will raise in a future version. Use obj.ffill() or obj.bfill() instead.\n",
            "  df.fillna(method='bfill', inplace=True)  # Backward fill\n",
            "[*********************100%%**********************]  1 of 1 completed"
          ]
        },
        {
          "output_type": "stream",
          "name": "stdout",
          "text": [
            "Processed and saved cleaned data for N91.JO to Stocks/N91.JO.csv\n"
          ]
        },
        {
          "output_type": "stream",
          "name": "stderr",
          "text": [
            "\n",
            "<ipython-input-10-52a0e9cea7f7>:76: FutureWarning: DataFrame.fillna with 'method' is deprecated and will raise in a future version. Use obj.ffill() or obj.bfill() instead.\n",
            "  df.fillna(method='ffill', inplace=True)  # Forward fill\n",
            "<ipython-input-10-52a0e9cea7f7>:77: FutureWarning: DataFrame.fillna with 'method' is deprecated and will raise in a future version. Use obj.ffill() or obj.bfill() instead.\n",
            "  df.fillna(method='bfill', inplace=True)  # Backward fill\n",
            "\r[*********************100%%**********************]  1 of 1 completed\n",
            "<ipython-input-10-52a0e9cea7f7>:76: FutureWarning: DataFrame.fillna with 'method' is deprecated and will raise in a future version. Use obj.ffill() or obj.bfill() instead.\n",
            "  df.fillna(method='ffill', inplace=True)  # Forward fill\n",
            "<ipython-input-10-52a0e9cea7f7>:77: FutureWarning: DataFrame.fillna with 'method' is deprecated and will raise in a future version. Use obj.ffill() or obj.bfill() instead.\n",
            "  df.fillna(method='bfill', inplace=True)  # Backward fill\n"
          ]
        },
        {
          "output_type": "stream",
          "name": "stdout",
          "text": [
            "Processed and saved cleaned data for NCS.JO to Stocks/NCS.JO.csv\n",
            "Processed and saved cleaned data for NED.JO to Stocks/NED.JO.csv\n"
          ]
        },
        {
          "output_type": "stream",
          "name": "stderr",
          "text": [
            "\r[*********************100%%**********************]  1 of 1 completed\n",
            "<ipython-input-10-52a0e9cea7f7>:76: FutureWarning: DataFrame.fillna with 'method' is deprecated and will raise in a future version. Use obj.ffill() or obj.bfill() instead.\n",
            "  df.fillna(method='ffill', inplace=True)  # Forward fill\n",
            "<ipython-input-10-52a0e9cea7f7>:77: FutureWarning: DataFrame.fillna with 'method' is deprecated and will raise in a future version. Use obj.ffill() or obj.bfill() instead.\n",
            "  df.fillna(method='bfill', inplace=True)  # Backward fill\n",
            "[*********************100%%**********************]  1 of 1 completed\n",
            "<ipython-input-10-52a0e9cea7f7>:76: FutureWarning: DataFrame.fillna with 'method' is deprecated and will raise in a future version. Use obj.ffill() or obj.bfill() instead.\n",
            "  df.fillna(method='ffill', inplace=True)  # Forward fill\n",
            "<ipython-input-10-52a0e9cea7f7>:77: FutureWarning: DataFrame.fillna with 'method' is deprecated and will raise in a future version. Use obj.ffill() or obj.bfill() instead.\n",
            "  df.fillna(method='bfill', inplace=True)  # Backward fill\n"
          ]
        },
        {
          "output_type": "stream",
          "name": "stdout",
          "text": [
            "Processed and saved cleaned data for NPH.JO to Stocks/NPH.JO.csv\n",
            "Processed and saved cleaned data for NPK.JO to Stocks/NPK.JO.csv\n"
          ]
        },
        {
          "output_type": "stream",
          "name": "stderr",
          "text": [
            "[*********************100%%**********************]  1 of 1 completed\n",
            "<ipython-input-10-52a0e9cea7f7>:76: FutureWarning: DataFrame.fillna with 'method' is deprecated and will raise in a future version. Use obj.ffill() or obj.bfill() instead.\n",
            "  df.fillna(method='ffill', inplace=True)  # Forward fill\n",
            "<ipython-input-10-52a0e9cea7f7>:77: FutureWarning: DataFrame.fillna with 'method' is deprecated and will raise in a future version. Use obj.ffill() or obj.bfill() instead.\n",
            "  df.fillna(method='bfill', inplace=True)  # Backward fill\n",
            "[*********************100%%**********************]  1 of 1 completed\n"
          ]
        },
        {
          "output_type": "stream",
          "name": "stdout",
          "text": [
            "Processed and saved cleaned data for NPN.JO to Stocks/NPN.JO.csv\n"
          ]
        },
        {
          "output_type": "stream",
          "name": "stderr",
          "text": [
            "<ipython-input-10-52a0e9cea7f7>:76: FutureWarning: DataFrame.fillna with 'method' is deprecated and will raise in a future version. Use obj.ffill() or obj.bfill() instead.\n",
            "  df.fillna(method='ffill', inplace=True)  # Forward fill\n",
            "<ipython-input-10-52a0e9cea7f7>:77: FutureWarning: DataFrame.fillna with 'method' is deprecated and will raise in a future version. Use obj.ffill() or obj.bfill() instead.\n",
            "  df.fillna(method='bfill', inplace=True)  # Backward fill\n",
            "[*********************100%%**********************]  1 of 1 completed"
          ]
        },
        {
          "output_type": "stream",
          "name": "stdout",
          "text": [
            "Processed and saved cleaned data for NRP.JO to Stocks/NRP.JO.csv\n"
          ]
        },
        {
          "output_type": "stream",
          "name": "stderr",
          "text": [
            "\n",
            "<ipython-input-10-52a0e9cea7f7>:76: FutureWarning: DataFrame.fillna with 'method' is deprecated and will raise in a future version. Use obj.ffill() or obj.bfill() instead.\n",
            "  df.fillna(method='ffill', inplace=True)  # Forward fill\n",
            "<ipython-input-10-52a0e9cea7f7>:77: FutureWarning: DataFrame.fillna with 'method' is deprecated and will raise in a future version. Use obj.ffill() or obj.bfill() instead.\n",
            "  df.fillna(method='bfill', inplace=True)  # Backward fill\n",
            "\r[*********************100%%**********************]  1 of 1 completed\n",
            "<ipython-input-10-52a0e9cea7f7>:76: FutureWarning: DataFrame.fillna with 'method' is deprecated and will raise in a future version. Use obj.ffill() or obj.bfill() instead.\n",
            "  df.fillna(method='ffill', inplace=True)  # Forward fill\n",
            "<ipython-input-10-52a0e9cea7f7>:77: FutureWarning: DataFrame.fillna with 'method' is deprecated and will raise in a future version. Use obj.ffill() or obj.bfill() instead.\n",
            "  df.fillna(method='bfill', inplace=True)  # Backward fill\n"
          ]
        },
        {
          "output_type": "stream",
          "name": "stdout",
          "text": [
            "Processed and saved cleaned data for NTC.JO to Stocks/NTC.JO.csv\n",
            "Processed and saved cleaned data for NVS.JO to Stocks/NVS.JO.csv\n"
          ]
        },
        {
          "output_type": "stream",
          "name": "stderr",
          "text": [
            "[*********************100%%**********************]  1 of 1 completed\n",
            "<ipython-input-10-52a0e9cea7f7>:76: FutureWarning: DataFrame.fillna with 'method' is deprecated and will raise in a future version. Use obj.ffill() or obj.bfill() instead.\n",
            "  df.fillna(method='ffill', inplace=True)  # Forward fill\n",
            "<ipython-input-10-52a0e9cea7f7>:77: FutureWarning: DataFrame.fillna with 'method' is deprecated and will raise in a future version. Use obj.ffill() or obj.bfill() instead.\n",
            "  df.fillna(method='bfill', inplace=True)  # Backward fill\n",
            "[*********************100%%**********************]  1 of 1 completed\n",
            "<ipython-input-10-52a0e9cea7f7>:76: FutureWarning: DataFrame.fillna with 'method' is deprecated and will raise in a future version. Use obj.ffill() or obj.bfill() instead.\n",
            "  df.fillna(method='ffill', inplace=True)  # Forward fill\n",
            "<ipython-input-10-52a0e9cea7f7>:77: FutureWarning: DataFrame.fillna with 'method' is deprecated and will raise in a future version. Use obj.ffill() or obj.bfill() instead.\n",
            "  df.fillna(method='bfill', inplace=True)  # Backward fill\n"
          ]
        },
        {
          "output_type": "stream",
          "name": "stdout",
          "text": [
            "Processed and saved cleaned data for NWL.JO to Stocks/NWL.JO.csv\n",
            "Processed and saved cleaned data for NY1.JO to Stocks/NY1.JO.csv\n"
          ]
        },
        {
          "output_type": "stream",
          "name": "stderr",
          "text": [
            "\r[*********************100%%**********************]  1 of 1 completed\n",
            "<ipython-input-10-52a0e9cea7f7>:76: FutureWarning: DataFrame.fillna with 'method' is deprecated and will raise in a future version. Use obj.ffill() or obj.bfill() instead.\n",
            "  df.fillna(method='ffill', inplace=True)  # Forward fill\n",
            "<ipython-input-10-52a0e9cea7f7>:77: FutureWarning: DataFrame.fillna with 'method' is deprecated and will raise in a future version. Use obj.ffill() or obj.bfill() instead.\n",
            "  df.fillna(method='bfill', inplace=True)  # Backward fill\n",
            "[*********************100%%**********************]  1 of 1 completed\n",
            "<ipython-input-10-52a0e9cea7f7>:76: FutureWarning: DataFrame.fillna with 'method' is deprecated and will raise in a future version. Use obj.ffill() or obj.bfill() instead.\n",
            "  df.fillna(method='ffill', inplace=True)  # Forward fill\n",
            "<ipython-input-10-52a0e9cea7f7>:77: FutureWarning: DataFrame.fillna with 'method' is deprecated and will raise in a future version. Use obj.ffill() or obj.bfill() instead.\n",
            "  df.fillna(method='bfill', inplace=True)  # Backward fill\n"
          ]
        },
        {
          "output_type": "stream",
          "name": "stdout",
          "text": [
            "Processed and saved cleaned data for OAO.JO to Stocks/OAO.JO.csv\n",
            "Processed and saved cleaned data for OAS.JO to Stocks/OAS.JO.csv\n"
          ]
        },
        {
          "output_type": "stream",
          "name": "stderr",
          "text": [
            "\r[*********************100%%**********************]  1 of 1 completed\n",
            "<ipython-input-10-52a0e9cea7f7>:76: FutureWarning: DataFrame.fillna with 'method' is deprecated and will raise in a future version. Use obj.ffill() or obj.bfill() instead.\n",
            "  df.fillna(method='ffill', inplace=True)  # Forward fill\n",
            "<ipython-input-10-52a0e9cea7f7>:77: FutureWarning: DataFrame.fillna with 'method' is deprecated and will raise in a future version. Use obj.ffill() or obj.bfill() instead.\n",
            "  df.fillna(method='bfill', inplace=True)  # Backward fill\n",
            "[*********************100%%**********************]  1 of 1 completed\n",
            "<ipython-input-10-52a0e9cea7f7>:76: FutureWarning: DataFrame.fillna with 'method' is deprecated and will raise in a future version. Use obj.ffill() or obj.bfill() instead.\n",
            "  df.fillna(method='ffill', inplace=True)  # Forward fill\n",
            "<ipython-input-10-52a0e9cea7f7>:77: FutureWarning: DataFrame.fillna with 'method' is deprecated and will raise in a future version. Use obj.ffill() or obj.bfill() instead.\n",
            "  df.fillna(method='bfill', inplace=True)  # Backward fill\n"
          ]
        },
        {
          "output_type": "stream",
          "name": "stdout",
          "text": [
            "Processed and saved cleaned data for OCE.JO to Stocks/OCE.JO.csv\n",
            "Processed and saved cleaned data for OCT.JO to Stocks/OCT.JO.csv\n"
          ]
        },
        {
          "output_type": "stream",
          "name": "stderr",
          "text": [
            "[*********************100%%**********************]  1 of 1 completed\n",
            "<ipython-input-10-52a0e9cea7f7>:76: FutureWarning: DataFrame.fillna with 'method' is deprecated and will raise in a future version. Use obj.ffill() or obj.bfill() instead.\n",
            "  df.fillna(method='ffill', inplace=True)  # Forward fill\n",
            "<ipython-input-10-52a0e9cea7f7>:77: FutureWarning: DataFrame.fillna with 'method' is deprecated and will raise in a future version. Use obj.ffill() or obj.bfill() instead.\n",
            "  df.fillna(method='bfill', inplace=True)  # Backward fill\n",
            "[*********************100%%**********************]  1 of 1 completed\n",
            "<ipython-input-10-52a0e9cea7f7>:76: FutureWarning: DataFrame.fillna with 'method' is deprecated and will raise in a future version. Use obj.ffill() or obj.bfill() instead.\n",
            "  df.fillna(method='ffill', inplace=True)  # Forward fill\n",
            "<ipython-input-10-52a0e9cea7f7>:77: FutureWarning: DataFrame.fillna with 'method' is deprecated and will raise in a future version. Use obj.ffill() or obj.bfill() instead.\n",
            "  df.fillna(method='bfill', inplace=True)  # Backward fill\n"
          ]
        },
        {
          "output_type": "stream",
          "name": "stdout",
          "text": [
            "Processed and saved cleaned data for OMN.JO to Stocks/OMN.JO.csv\n",
            "Processed and saved cleaned data for OMU.JO to Stocks/OMU.JO.csv\n"
          ]
        },
        {
          "output_type": "stream",
          "name": "stderr",
          "text": [
            "\r[*********************100%%**********************]  1 of 1 completed\n",
            "<ipython-input-10-52a0e9cea7f7>:76: FutureWarning: DataFrame.fillna with 'method' is deprecated and will raise in a future version. Use obj.ffill() or obj.bfill() instead.\n",
            "  df.fillna(method='ffill', inplace=True)  # Forward fill\n",
            "<ipython-input-10-52a0e9cea7f7>:77: FutureWarning: DataFrame.fillna with 'method' is deprecated and will raise in a future version. Use obj.ffill() or obj.bfill() instead.\n",
            "  df.fillna(method='bfill', inplace=True)  # Backward fill\n"
          ]
        },
        {
          "output_type": "stream",
          "name": "stdout",
          "text": [
            "Processed and saved cleaned data for ORN.JO to Stocks/ORN.JO.csv\n"
          ]
        },
        {
          "output_type": "stream",
          "name": "stderr",
          "text": [
            "[*********************100%%**********************]  1 of 1 completed\n",
            "<ipython-input-10-52a0e9cea7f7>:76: FutureWarning: DataFrame.fillna with 'method' is deprecated and will raise in a future version. Use obj.ffill() or obj.bfill() instead.\n",
            "  df.fillna(method='ffill', inplace=True)  # Forward fill\n",
            "<ipython-input-10-52a0e9cea7f7>:77: FutureWarning: DataFrame.fillna with 'method' is deprecated and will raise in a future version. Use obj.ffill() or obj.bfill() instead.\n",
            "  df.fillna(method='bfill', inplace=True)  # Backward fill\n",
            "[*********************100%%**********************]  1 of 1 completed\n",
            "<ipython-input-10-52a0e9cea7f7>:76: FutureWarning: DataFrame.fillna with 'method' is deprecated and will raise in a future version. Use obj.ffill() or obj.bfill() instead.\n",
            "  df.fillna(method='ffill', inplace=True)  # Forward fill\n",
            "<ipython-input-10-52a0e9cea7f7>:77: FutureWarning: DataFrame.fillna with 'method' is deprecated and will raise in a future version. Use obj.ffill() or obj.bfill() instead.\n",
            "  df.fillna(method='bfill', inplace=True)  # Backward fill\n"
          ]
        },
        {
          "output_type": "stream",
          "name": "stdout",
          "text": [
            "Processed and saved cleaned data for OUT.JO to Stocks/OUT.JO.csv\n",
            "Processed and saved cleaned data for PAN.JO to Stocks/PAN.JO.csv\n"
          ]
        },
        {
          "output_type": "stream",
          "name": "stderr",
          "text": [
            "\r[*********************100%%**********************]  1 of 1 completed\n",
            "<ipython-input-10-52a0e9cea7f7>:76: FutureWarning: DataFrame.fillna with 'method' is deprecated and will raise in a future version. Use obj.ffill() or obj.bfill() instead.\n",
            "  df.fillna(method='ffill', inplace=True)  # Forward fill\n",
            "<ipython-input-10-52a0e9cea7f7>:77: FutureWarning: DataFrame.fillna with 'method' is deprecated and will raise in a future version. Use obj.ffill() or obj.bfill() instead.\n",
            "  df.fillna(method='bfill', inplace=True)  # Backward fill\n",
            "[*********************100%%**********************]  1 of 1 completed\n"
          ]
        },
        {
          "output_type": "stream",
          "name": "stdout",
          "text": [
            "Processed and saved cleaned data for PBG.JO to Stocks/PBG.JO.csv\n"
          ]
        },
        {
          "output_type": "stream",
          "name": "stderr",
          "text": [
            "<ipython-input-10-52a0e9cea7f7>:76: FutureWarning: DataFrame.fillna with 'method' is deprecated and will raise in a future version. Use obj.ffill() or obj.bfill() instead.\n",
            "  df.fillna(method='ffill', inplace=True)  # Forward fill\n",
            "<ipython-input-10-52a0e9cea7f7>:77: FutureWarning: DataFrame.fillna with 'method' is deprecated and will raise in a future version. Use obj.ffill() or obj.bfill() instead.\n",
            "  df.fillna(method='bfill', inplace=True)  # Backward fill\n",
            "\r[*********************100%%**********************]  1 of 1 completed\n",
            "<ipython-input-10-52a0e9cea7f7>:76: FutureWarning: DataFrame.fillna with 'method' is deprecated and will raise in a future version. Use obj.ffill() or obj.bfill() instead.\n",
            "  df.fillna(method='ffill', inplace=True)  # Forward fill\n",
            "<ipython-input-10-52a0e9cea7f7>:77: FutureWarning: DataFrame.fillna with 'method' is deprecated and will raise in a future version. Use obj.ffill() or obj.bfill() instead.\n",
            "  df.fillna(method='bfill', inplace=True)  # Backward fill\n"
          ]
        },
        {
          "output_type": "stream",
          "name": "stdout",
          "text": [
            "Processed and saved cleaned data for PIK.JO to Stocks/PIK.JO.csv\n",
            "Processed and saved cleaned data for PMR.JO to Stocks/PMR.JO.csv\n"
          ]
        },
        {
          "output_type": "stream",
          "name": "stderr",
          "text": [
            "\r[*********************100%%**********************]  1 of 1 completed\n",
            "<ipython-input-10-52a0e9cea7f7>:76: FutureWarning: DataFrame.fillna with 'method' is deprecated and will raise in a future version. Use obj.ffill() or obj.bfill() instead.\n",
            "  df.fillna(method='ffill', inplace=True)  # Forward fill\n",
            "<ipython-input-10-52a0e9cea7f7>:77: FutureWarning: DataFrame.fillna with 'method' is deprecated and will raise in a future version. Use obj.ffill() or obj.bfill() instead.\n",
            "  df.fillna(method='bfill', inplace=True)  # Backward fill\n",
            "[*********************100%%**********************]  1 of 1 completed"
          ]
        },
        {
          "output_type": "stream",
          "name": "stdout",
          "text": [
            "Processed and saved cleaned data for PMV.JO to Stocks/PMV.JO.csv\n"
          ]
        },
        {
          "output_type": "stream",
          "name": "stderr",
          "text": [
            "\n",
            "<ipython-input-10-52a0e9cea7f7>:76: FutureWarning: DataFrame.fillna with 'method' is deprecated and will raise in a future version. Use obj.ffill() or obj.bfill() instead.\n",
            "  df.fillna(method='ffill', inplace=True)  # Forward fill\n",
            "<ipython-input-10-52a0e9cea7f7>:77: FutureWarning: DataFrame.fillna with 'method' is deprecated and will raise in a future version. Use obj.ffill() or obj.bfill() instead.\n",
            "  df.fillna(method='bfill', inplace=True)  # Backward fill\n",
            "\r[*********************100%%**********************]  1 of 1 completed\n",
            "<ipython-input-10-52a0e9cea7f7>:76: FutureWarning: DataFrame.fillna with 'method' is deprecated and will raise in a future version. Use obj.ffill() or obj.bfill() instead.\n",
            "  df.fillna(method='ffill', inplace=True)  # Forward fill\n",
            "<ipython-input-10-52a0e9cea7f7>:77: FutureWarning: DataFrame.fillna with 'method' is deprecated and will raise in a future version. Use obj.ffill() or obj.bfill() instead.\n",
            "  df.fillna(method='bfill', inplace=True)  # Backward fill\n"
          ]
        },
        {
          "output_type": "stream",
          "name": "stdout",
          "text": [
            "Processed and saved cleaned data for PPC.JO to Stocks/PPC.JO.csv\n",
            "Processed and saved cleaned data for PPE.JO to Stocks/PPE.JO.csv\n"
          ]
        },
        {
          "output_type": "stream",
          "name": "stderr",
          "text": [
            "\r[*********************100%%**********************]  1 of 1 completed\n",
            "<ipython-input-10-52a0e9cea7f7>:76: FutureWarning: DataFrame.fillna with 'method' is deprecated and will raise in a future version. Use obj.ffill() or obj.bfill() instead.\n",
            "  df.fillna(method='ffill', inplace=True)  # Forward fill\n",
            "<ipython-input-10-52a0e9cea7f7>:77: FutureWarning: DataFrame.fillna with 'method' is deprecated and will raise in a future version. Use obj.ffill() or obj.bfill() instead.\n",
            "  df.fillna(method='bfill', inplace=True)  # Backward fill\n",
            "[*********************100%%**********************]  1 of 1 completed"
          ]
        },
        {
          "output_type": "stream",
          "name": "stdout",
          "text": [
            "Processed and saved cleaned data for PPH.JO to Stocks/PPH.JO.csv\n"
          ]
        },
        {
          "output_type": "stream",
          "name": "stderr",
          "text": [
            "\n",
            "<ipython-input-10-52a0e9cea7f7>:76: FutureWarning: DataFrame.fillna with 'method' is deprecated and will raise in a future version. Use obj.ffill() or obj.bfill() instead.\n",
            "  df.fillna(method='ffill', inplace=True)  # Forward fill\n",
            "<ipython-input-10-52a0e9cea7f7>:77: FutureWarning: DataFrame.fillna with 'method' is deprecated and will raise in a future version. Use obj.ffill() or obj.bfill() instead.\n",
            "  df.fillna(method='bfill', inplace=True)  # Backward fill\n",
            "\r[*********************100%%**********************]  1 of 1 completed\n",
            "<ipython-input-10-52a0e9cea7f7>:76: FutureWarning: DataFrame.fillna with 'method' is deprecated and will raise in a future version. Use obj.ffill() or obj.bfill() instead.\n",
            "  df.fillna(method='ffill', inplace=True)  # Forward fill\n",
            "<ipython-input-10-52a0e9cea7f7>:77: FutureWarning: DataFrame.fillna with 'method' is deprecated and will raise in a future version. Use obj.ffill() or obj.bfill() instead.\n",
            "  df.fillna(method='bfill', inplace=True)  # Backward fill\n"
          ]
        },
        {
          "output_type": "stream",
          "name": "stdout",
          "text": [
            "Processed and saved cleaned data for PPR.JO to Stocks/PPR.JO.csv\n",
            "Processed and saved cleaned data for PRX.JO to Stocks/PRX.JO.csv\n"
          ]
        },
        {
          "output_type": "stream",
          "name": "stderr",
          "text": [
            "\r[*********************100%%**********************]  1 of 1 completed\n",
            "<ipython-input-10-52a0e9cea7f7>:76: FutureWarning: DataFrame.fillna with 'method' is deprecated and will raise in a future version. Use obj.ffill() or obj.bfill() instead.\n",
            "  df.fillna(method='ffill', inplace=True)  # Forward fill\n",
            "<ipython-input-10-52a0e9cea7f7>:77: FutureWarning: DataFrame.fillna with 'method' is deprecated and will raise in a future version. Use obj.ffill() or obj.bfill() instead.\n",
            "  df.fillna(method='bfill', inplace=True)  # Backward fill\n",
            "[*********************100%%**********************]  1 of 1 completed\n",
            "<ipython-input-10-52a0e9cea7f7>:76: FutureWarning: DataFrame.fillna with 'method' is deprecated and will raise in a future version. Use obj.ffill() or obj.bfill() instead.\n",
            "  df.fillna(method='ffill', inplace=True)  # Forward fill\n",
            "<ipython-input-10-52a0e9cea7f7>:77: FutureWarning: DataFrame.fillna with 'method' is deprecated and will raise in a future version. Use obj.ffill() or obj.bfill() instead.\n",
            "  df.fillna(method='bfill', inplace=True)  # Backward fill\n"
          ]
        },
        {
          "output_type": "stream",
          "name": "stdout",
          "text": [
            "Processed and saved cleaned data for QFH.JO to Stocks/QFH.JO.csv\n",
            "Processed and saved cleaned data for QLT.JO to Stocks/QLT.JO.csv\n"
          ]
        },
        {
          "output_type": "stream",
          "name": "stderr",
          "text": [
            "\r[*********************100%%**********************]  1 of 1 completed\n",
            "<ipython-input-10-52a0e9cea7f7>:76: FutureWarning: DataFrame.fillna with 'method' is deprecated and will raise in a future version. Use obj.ffill() or obj.bfill() instead.\n",
            "  df.fillna(method='ffill', inplace=True)  # Forward fill\n",
            "<ipython-input-10-52a0e9cea7f7>:77: FutureWarning: DataFrame.fillna with 'method' is deprecated and will raise in a future version. Use obj.ffill() or obj.bfill() instead.\n",
            "  df.fillna(method='bfill', inplace=True)  # Backward fill\n",
            "[*********************100%%**********************]  1 of 1 completed\n",
            "<ipython-input-10-52a0e9cea7f7>:76: FutureWarning: DataFrame.fillna with 'method' is deprecated and will raise in a future version. Use obj.ffill() or obj.bfill() instead.\n",
            "  df.fillna(method='ffill', inplace=True)  # Forward fill\n",
            "<ipython-input-10-52a0e9cea7f7>:77: FutureWarning: DataFrame.fillna with 'method' is deprecated and will raise in a future version. Use obj.ffill() or obj.bfill() instead.\n",
            "  df.fillna(method='bfill', inplace=True)  # Backward fill\n"
          ]
        },
        {
          "output_type": "stream",
          "name": "stdout",
          "text": [
            "Processed and saved cleaned data for RBX.JO to Stocks/RBX.JO.csv\n",
            "Processed and saved cleaned data for RCL.JO to Stocks/RCL.JO.csv\n"
          ]
        },
        {
          "output_type": "stream",
          "name": "stderr",
          "text": [
            "\r[*********************100%%**********************]  1 of 1 completed\n",
            "<ipython-input-10-52a0e9cea7f7>:76: FutureWarning: DataFrame.fillna with 'method' is deprecated and will raise in a future version. Use obj.ffill() or obj.bfill() instead.\n",
            "  df.fillna(method='ffill', inplace=True)  # Forward fill\n",
            "<ipython-input-10-52a0e9cea7f7>:77: FutureWarning: DataFrame.fillna with 'method' is deprecated and will raise in a future version. Use obj.ffill() or obj.bfill() instead.\n",
            "  df.fillna(method='bfill', inplace=True)  # Backward fill\n",
            "[*********************100%%**********************]  1 of 1 completed\n",
            "<ipython-input-10-52a0e9cea7f7>:76: FutureWarning: DataFrame.fillna with 'method' is deprecated and will raise in a future version. Use obj.ffill() or obj.bfill() instead.\n",
            "  df.fillna(method='ffill', inplace=True)  # Forward fill\n",
            "<ipython-input-10-52a0e9cea7f7>:77: FutureWarning: DataFrame.fillna with 'method' is deprecated and will raise in a future version. Use obj.ffill() or obj.bfill() instead.\n",
            "  df.fillna(method='bfill', inplace=True)  # Backward fill\n"
          ]
        },
        {
          "output_type": "stream",
          "name": "stdout",
          "text": [
            "Processed and saved cleaned data for RDF.JO to Stocks/RDF.JO.csv\n",
            "Processed and saved cleaned data for REA.JO to Stocks/REA.JO.csv\n"
          ]
        },
        {
          "output_type": "stream",
          "name": "stderr",
          "text": [
            "\r[*********************100%%**********************]  1 of 1 completed\n",
            "<ipython-input-10-52a0e9cea7f7>:76: FutureWarning: DataFrame.fillna with 'method' is deprecated and will raise in a future version. Use obj.ffill() or obj.bfill() instead.\n",
            "  df.fillna(method='ffill', inplace=True)  # Forward fill\n",
            "<ipython-input-10-52a0e9cea7f7>:77: FutureWarning: DataFrame.fillna with 'method' is deprecated and will raise in a future version. Use obj.ffill() or obj.bfill() instead.\n",
            "  df.fillna(method='bfill', inplace=True)  # Backward fill\n",
            "[*********************100%%**********************]  1 of 1 completed"
          ]
        },
        {
          "output_type": "stream",
          "name": "stdout",
          "text": [
            "Processed and saved cleaned data for REB.JO to Stocks/REB.JO.csv\n"
          ]
        },
        {
          "output_type": "stream",
          "name": "stderr",
          "text": [
            "\n",
            "<ipython-input-10-52a0e9cea7f7>:76: FutureWarning: DataFrame.fillna with 'method' is deprecated and will raise in a future version. Use obj.ffill() or obj.bfill() instead.\n",
            "  df.fillna(method='ffill', inplace=True)  # Forward fill\n",
            "<ipython-input-10-52a0e9cea7f7>:77: FutureWarning: DataFrame.fillna with 'method' is deprecated and will raise in a future version. Use obj.ffill() or obj.bfill() instead.\n",
            "  df.fillna(method='bfill', inplace=True)  # Backward fill\n",
            "\r[*********************100%%**********************]  1 of 1 completed\n",
            "<ipython-input-10-52a0e9cea7f7>:76: FutureWarning: DataFrame.fillna with 'method' is deprecated and will raise in a future version. Use obj.ffill() or obj.bfill() instead.\n",
            "  df.fillna(method='ffill', inplace=True)  # Forward fill\n",
            "<ipython-input-10-52a0e9cea7f7>:77: FutureWarning: DataFrame.fillna with 'method' is deprecated and will raise in a future version. Use obj.ffill() or obj.bfill() instead.\n",
            "  df.fillna(method='bfill', inplace=True)  # Backward fill\n"
          ]
        },
        {
          "output_type": "stream",
          "name": "stdout",
          "text": [
            "Processed and saved cleaned data for REM.JO to Stocks/REM.JO.csv\n",
            "Processed and saved cleaned data for REN.JO to Stocks/REN.JO.csv\n"
          ]
        },
        {
          "output_type": "stream",
          "name": "stderr",
          "text": [
            "\r[*********************100%%**********************]  1 of 1 completed\n",
            "<ipython-input-10-52a0e9cea7f7>:76: FutureWarning: DataFrame.fillna with 'method' is deprecated and will raise in a future version. Use obj.ffill() or obj.bfill() instead.\n",
            "  df.fillna(method='ffill', inplace=True)  # Forward fill\n",
            "<ipython-input-10-52a0e9cea7f7>:77: FutureWarning: DataFrame.fillna with 'method' is deprecated and will raise in a future version. Use obj.ffill() or obj.bfill() instead.\n",
            "  df.fillna(method='bfill', inplace=True)  # Backward fill\n",
            "[*********************100%%**********************]  1 of 1 completed\n",
            "<ipython-input-10-52a0e9cea7f7>:76: FutureWarning: DataFrame.fillna with 'method' is deprecated and will raise in a future version. Use obj.ffill() or obj.bfill() instead.\n",
            "  df.fillna(method='ffill', inplace=True)  # Forward fill\n",
            "<ipython-input-10-52a0e9cea7f7>:77: FutureWarning: DataFrame.fillna with 'method' is deprecated and will raise in a future version. Use obj.ffill() or obj.bfill() instead.\n",
            "  df.fillna(method='bfill', inplace=True)  # Backward fill\n"
          ]
        },
        {
          "output_type": "stream",
          "name": "stdout",
          "text": [
            "Processed and saved cleaned data for RES.JO to Stocks/RES.JO.csv\n",
            "Processed and saved cleaned data for RFG.JO to Stocks/RFG.JO.csv\n"
          ]
        },
        {
          "output_type": "stream",
          "name": "stderr",
          "text": [
            "\r[*********************100%%**********************]  1 of 1 completed\n",
            "<ipython-input-10-52a0e9cea7f7>:76: FutureWarning: DataFrame.fillna with 'method' is deprecated and will raise in a future version. Use obj.ffill() or obj.bfill() instead.\n",
            "  df.fillna(method='ffill', inplace=True)  # Forward fill\n",
            "<ipython-input-10-52a0e9cea7f7>:77: FutureWarning: DataFrame.fillna with 'method' is deprecated and will raise in a future version. Use obj.ffill() or obj.bfill() instead.\n",
            "  df.fillna(method='bfill', inplace=True)  # Backward fill\n",
            "[*********************100%%**********************]  1 of 1 completed"
          ]
        },
        {
          "output_type": "stream",
          "name": "stdout",
          "text": [
            "Processed and saved cleaned data for RHB.JO to Stocks/RHB.JO.csv\n"
          ]
        },
        {
          "output_type": "stream",
          "name": "stderr",
          "text": [
            "\n",
            "<ipython-input-10-52a0e9cea7f7>:76: FutureWarning: DataFrame.fillna with 'method' is deprecated and will raise in a future version. Use obj.ffill() or obj.bfill() instead.\n",
            "  df.fillna(method='ffill', inplace=True)  # Forward fill\n",
            "<ipython-input-10-52a0e9cea7f7>:77: FutureWarning: DataFrame.fillna with 'method' is deprecated and will raise in a future version. Use obj.ffill() or obj.bfill() instead.\n",
            "  df.fillna(method='bfill', inplace=True)  # Backward fill\n",
            "\r[*********************100%%**********************]  1 of 1 completed\n",
            "<ipython-input-10-52a0e9cea7f7>:76: FutureWarning: DataFrame.fillna with 'method' is deprecated and will raise in a future version. Use obj.ffill() or obj.bfill() instead.\n",
            "  df.fillna(method='ffill', inplace=True)  # Forward fill\n",
            "<ipython-input-10-52a0e9cea7f7>:77: FutureWarning: DataFrame.fillna with 'method' is deprecated and will raise in a future version. Use obj.ffill() or obj.bfill() instead.\n",
            "  df.fillna(method='bfill', inplace=True)  # Backward fill\n"
          ]
        },
        {
          "output_type": "stream",
          "name": "stdout",
          "text": [
            "Processed and saved cleaned data for RLO.JO to Stocks/RLO.JO.csv\n",
            "Processed and saved cleaned data for RMH.JO to Stocks/RMH.JO.csv\n"
          ]
        },
        {
          "output_type": "stream",
          "name": "stderr",
          "text": [
            "\r[*********************100%%**********************]  1 of 1 completed\n",
            "<ipython-input-10-52a0e9cea7f7>:76: FutureWarning: DataFrame.fillna with 'method' is deprecated and will raise in a future version. Use obj.ffill() or obj.bfill() instead.\n",
            "  df.fillna(method='ffill', inplace=True)  # Forward fill\n",
            "<ipython-input-10-52a0e9cea7f7>:77: FutureWarning: DataFrame.fillna with 'method' is deprecated and will raise in a future version. Use obj.ffill() or obj.bfill() instead.\n",
            "  df.fillna(method='bfill', inplace=True)  # Backward fill\n",
            "[*********************100%%**********************]  1 of 1 completed\n",
            "<ipython-input-10-52a0e9cea7f7>:76: FutureWarning: DataFrame.fillna with 'method' is deprecated and will raise in a future version. Use obj.ffill() or obj.bfill() instead.\n",
            "  df.fillna(method='ffill', inplace=True)  # Forward fill\n",
            "<ipython-input-10-52a0e9cea7f7>:77: FutureWarning: DataFrame.fillna with 'method' is deprecated and will raise in a future version. Use obj.ffill() or obj.bfill() instead.\n",
            "  df.fillna(method='bfill', inplace=True)  # Backward fill\n"
          ]
        },
        {
          "output_type": "stream",
          "name": "stdout",
          "text": [
            "Processed and saved cleaned data for RNG.JO to Stocks/RNG.JO.csv\n",
            "Processed and saved cleaned data for RNI.JO to Stocks/RNI.JO.csv\n"
          ]
        },
        {
          "output_type": "stream",
          "name": "stderr",
          "text": [
            "\r[*********************100%%**********************]  1 of 1 completed\n",
            "<ipython-input-10-52a0e9cea7f7>:76: FutureWarning: DataFrame.fillna with 'method' is deprecated and will raise in a future version. Use obj.ffill() or obj.bfill() instead.\n",
            "  df.fillna(method='ffill', inplace=True)  # Forward fill\n",
            "<ipython-input-10-52a0e9cea7f7>:77: FutureWarning: DataFrame.fillna with 'method' is deprecated and will raise in a future version. Use obj.ffill() or obj.bfill() instead.\n",
            "  df.fillna(method='bfill', inplace=True)  # Backward fill\n",
            "[*********************100%%**********************]  1 of 1 completed\n",
            "<ipython-input-10-52a0e9cea7f7>:76: FutureWarning: DataFrame.fillna with 'method' is deprecated and will raise in a future version. Use obj.ffill() or obj.bfill() instead.\n",
            "  df.fillna(method='ffill', inplace=True)  # Forward fill\n",
            "<ipython-input-10-52a0e9cea7f7>:77: FutureWarning: DataFrame.fillna with 'method' is deprecated and will raise in a future version. Use obj.ffill() or obj.bfill() instead.\n",
            "  df.fillna(method='bfill', inplace=True)  # Backward fill\n"
          ]
        },
        {
          "output_type": "stream",
          "name": "stdout",
          "text": [
            "Processed and saved cleaned data for RTN.JO to Stocks/RTN.JO.csv\n",
            "Processed and saved cleaned data for RTO.JO to Stocks/RTO.JO.csv\n"
          ]
        },
        {
          "output_type": "stream",
          "name": "stderr",
          "text": [
            "\r[*********************100%%**********************]  1 of 1 completed\n",
            "<ipython-input-10-52a0e9cea7f7>:76: FutureWarning: DataFrame.fillna with 'method' is deprecated and will raise in a future version. Use obj.ffill() or obj.bfill() instead.\n",
            "  df.fillna(method='ffill', inplace=True)  # Forward fill\n",
            "<ipython-input-10-52a0e9cea7f7>:77: FutureWarning: DataFrame.fillna with 'method' is deprecated and will raise in a future version. Use obj.ffill() or obj.bfill() instead.\n",
            "  df.fillna(method='bfill', inplace=True)  # Backward fill\n"
          ]
        },
        {
          "output_type": "stream",
          "name": "stdout",
          "text": [
            "Processed and saved cleaned data for S32.JO to Stocks/S32.JO.csv\n"
          ]
        },
        {
          "output_type": "stream",
          "name": "stderr",
          "text": [
            "[*********************100%%**********************]  1 of 1 completed\n",
            "<ipython-input-10-52a0e9cea7f7>:76: FutureWarning: DataFrame.fillna with 'method' is deprecated and will raise in a future version. Use obj.ffill() or obj.bfill() instead.\n",
            "  df.fillna(method='ffill', inplace=True)  # Forward fill\n",
            "<ipython-input-10-52a0e9cea7f7>:77: FutureWarning: DataFrame.fillna with 'method' is deprecated and will raise in a future version. Use obj.ffill() or obj.bfill() instead.\n",
            "  df.fillna(method='bfill', inplace=True)  # Backward fill\n",
            "[*********************100%%**********************]  1 of 1 completed\n",
            "<ipython-input-10-52a0e9cea7f7>:76: FutureWarning: DataFrame.fillna with 'method' is deprecated and will raise in a future version. Use obj.ffill() or obj.bfill() instead.\n",
            "  df.fillna(method='ffill', inplace=True)  # Forward fill\n",
            "<ipython-input-10-52a0e9cea7f7>:77: FutureWarning: DataFrame.fillna with 'method' is deprecated and will raise in a future version. Use obj.ffill() or obj.bfill() instead.\n",
            "  df.fillna(method='bfill', inplace=True)  # Backward fill\n"
          ]
        },
        {
          "output_type": "stream",
          "name": "stdout",
          "text": [
            "Processed and saved cleaned data for SAC.JO to Stocks/SAC.JO.csv\n"
          ]
        },
        {
          "output_type": "stream",
          "name": "stderr",
          "text": [
            "\r[*********************100%%**********************]  1 of 1 completed\n",
            "<ipython-input-10-52a0e9cea7f7>:76: FutureWarning: DataFrame.fillna with 'method' is deprecated and will raise in a future version. Use obj.ffill() or obj.bfill() instead.\n",
            "  df.fillna(method='ffill', inplace=True)  # Forward fill\n",
            "<ipython-input-10-52a0e9cea7f7>:77: FutureWarning: DataFrame.fillna with 'method' is deprecated and will raise in a future version. Use obj.ffill() or obj.bfill() instead.\n",
            "  df.fillna(method='bfill', inplace=True)  # Backward fill\n"
          ]
        },
        {
          "output_type": "stream",
          "name": "stdout",
          "text": [
            "Processed and saved cleaned data for SAP.JO to Stocks/SAP.JO.csv\n",
            "Processed and saved cleaned data for SAR.JO to Stocks/SAR.JO.csv\n"
          ]
        },
        {
          "output_type": "stream",
          "name": "stderr",
          "text": [
            "[*********************100%%**********************]  1 of 1 completed\n",
            "<ipython-input-10-52a0e9cea7f7>:76: FutureWarning: DataFrame.fillna with 'method' is deprecated and will raise in a future version. Use obj.ffill() or obj.bfill() instead.\n",
            "  df.fillna(method='ffill', inplace=True)  # Forward fill\n",
            "<ipython-input-10-52a0e9cea7f7>:77: FutureWarning: DataFrame.fillna with 'method' is deprecated and will raise in a future version. Use obj.ffill() or obj.bfill() instead.\n",
            "  df.fillna(method='bfill', inplace=True)  # Backward fill\n",
            "[*********************100%%**********************]  1 of 1 completed\n",
            "<ipython-input-10-52a0e9cea7f7>:76: FutureWarning: DataFrame.fillna with 'method' is deprecated and will raise in a future version. Use obj.ffill() or obj.bfill() instead.\n",
            "  df.fillna(method='ffill', inplace=True)  # Forward fill\n",
            "<ipython-input-10-52a0e9cea7f7>:77: FutureWarning: DataFrame.fillna with 'method' is deprecated and will raise in a future version. Use obj.ffill() or obj.bfill() instead.\n",
            "  df.fillna(method='bfill', inplace=True)  # Backward fill\n"
          ]
        },
        {
          "output_type": "stream",
          "name": "stdout",
          "text": [
            "Processed and saved cleaned data for SBK.JO to Stocks/SBK.JO.csv\n",
            "Processed and saved cleaned data for SBP.JO to Stocks/SBP.JO.csv\n"
          ]
        },
        {
          "output_type": "stream",
          "name": "stderr",
          "text": [
            "\r[*********************100%%**********************]  1 of 1 completed\n",
            "<ipython-input-10-52a0e9cea7f7>:76: FutureWarning: DataFrame.fillna with 'method' is deprecated and will raise in a future version. Use obj.ffill() or obj.bfill() instead.\n",
            "  df.fillna(method='ffill', inplace=True)  # Forward fill\n",
            "<ipython-input-10-52a0e9cea7f7>:77: FutureWarning: DataFrame.fillna with 'method' is deprecated and will raise in a future version. Use obj.ffill() or obj.bfill() instead.\n",
            "  df.fillna(method='bfill', inplace=True)  # Backward fill\n",
            "[*********************100%%**********************]  1 of 1 completed"
          ]
        },
        {
          "output_type": "stream",
          "name": "stdout",
          "text": [
            "Processed and saved cleaned data for SCD.JO to Stocks/SCD.JO.csv\n"
          ]
        },
        {
          "output_type": "stream",
          "name": "stderr",
          "text": [
            "\n",
            "<ipython-input-10-52a0e9cea7f7>:76: FutureWarning: DataFrame.fillna with 'method' is deprecated and will raise in a future version. Use obj.ffill() or obj.bfill() instead.\n",
            "  df.fillna(method='ffill', inplace=True)  # Forward fill\n",
            "<ipython-input-10-52a0e9cea7f7>:77: FutureWarning: DataFrame.fillna with 'method' is deprecated and will raise in a future version. Use obj.ffill() or obj.bfill() instead.\n",
            "  df.fillna(method='bfill', inplace=True)  # Backward fill\n"
          ]
        },
        {
          "output_type": "stream",
          "name": "stdout",
          "text": [
            "Processed and saved cleaned data for SDL.JO to Stocks/SDL.JO.csv\n"
          ]
        },
        {
          "output_type": "stream",
          "name": "stderr",
          "text": [
            "\r[*********************100%%**********************]  1 of 1 completed\n",
            "<ipython-input-10-52a0e9cea7f7>:76: FutureWarning: DataFrame.fillna with 'method' is deprecated and will raise in a future version. Use obj.ffill() or obj.bfill() instead.\n",
            "  df.fillna(method='ffill', inplace=True)  # Forward fill\n",
            "<ipython-input-10-52a0e9cea7f7>:77: FutureWarning: DataFrame.fillna with 'method' is deprecated and will raise in a future version. Use obj.ffill() or obj.bfill() instead.\n",
            "  df.fillna(method='bfill', inplace=True)  # Backward fill\n",
            "[*********************100%%**********************]  1 of 1 completed"
          ]
        },
        {
          "output_type": "stream",
          "name": "stdout",
          "text": [
            "Processed and saved cleaned data for SDO.JO to Stocks/SDO.JO.csv\n",
            "Processed and saved cleaned data for SEA.JO to Stocks/SEA.JO.csv\n"
          ]
        },
        {
          "output_type": "stream",
          "name": "stderr",
          "text": [
            "\n",
            "<ipython-input-10-52a0e9cea7f7>:76: FutureWarning: DataFrame.fillna with 'method' is deprecated and will raise in a future version. Use obj.ffill() or obj.bfill() instead.\n",
            "  df.fillna(method='ffill', inplace=True)  # Forward fill\n",
            "<ipython-input-10-52a0e9cea7f7>:77: FutureWarning: DataFrame.fillna with 'method' is deprecated and will raise in a future version. Use obj.ffill() or obj.bfill() instead.\n",
            "  df.fillna(method='bfill', inplace=True)  # Backward fill\n",
            "\r[*********************100%%**********************]  1 of 1 completed\n",
            "<ipython-input-10-52a0e9cea7f7>:76: FutureWarning: DataFrame.fillna with 'method' is deprecated and will raise in a future version. Use obj.ffill() or obj.bfill() instead.\n",
            "  df.fillna(method='ffill', inplace=True)  # Forward fill\n",
            "<ipython-input-10-52a0e9cea7f7>:77: FutureWarning: DataFrame.fillna with 'method' is deprecated and will raise in a future version. Use obj.ffill() or obj.bfill() instead.\n",
            "  df.fillna(method='bfill', inplace=True)  # Backward fill\n",
            "[*********************100%%**********************]  1 of 1 completed\n",
            "<ipython-input-10-52a0e9cea7f7>:76: FutureWarning: DataFrame.fillna with 'method' is deprecated and will raise in a future version. Use obj.ffill() or obj.bfill() instead.\n",
            "  df.fillna(method='ffill', inplace=True)  # Forward fill\n",
            "<ipython-input-10-52a0e9cea7f7>:77: FutureWarning: DataFrame.fillna with 'method' is deprecated and will raise in a future version. Use obj.ffill() or obj.bfill() instead.\n",
            "  df.fillna(method='bfill', inplace=True)  # Backward fill\n"
          ]
        },
        {
          "output_type": "stream",
          "name": "stdout",
          "text": [
            "Processed and saved cleaned data for SEB.JO to Stocks/SEB.JO.csv\n",
            "Processed and saved cleaned data for SEP.JO to Stocks/SEP.JO.csv\n"
          ]
        },
        {
          "output_type": "stream",
          "name": "stderr",
          "text": [
            "\r[*********************100%%**********************]  1 of 1 completed\n",
            "<ipython-input-10-52a0e9cea7f7>:76: FutureWarning: DataFrame.fillna with 'method' is deprecated and will raise in a future version. Use obj.ffill() or obj.bfill() instead.\n",
            "  df.fillna(method='ffill', inplace=True)  # Forward fill\n",
            "<ipython-input-10-52a0e9cea7f7>:77: FutureWarning: DataFrame.fillna with 'method' is deprecated and will raise in a future version. Use obj.ffill() or obj.bfill() instead.\n",
            "  df.fillna(method='bfill', inplace=True)  # Backward fill\n",
            "[*********************100%%**********************]  1 of 1 completed\n"
          ]
        },
        {
          "output_type": "stream",
          "name": "stdout",
          "text": [
            "Processed and saved cleaned data for SFN.JO to Stocks/SFN.JO.csv\n"
          ]
        },
        {
          "output_type": "stream",
          "name": "stderr",
          "text": [
            "<ipython-input-10-52a0e9cea7f7>:76: FutureWarning: DataFrame.fillna with 'method' is deprecated and will raise in a future version. Use obj.ffill() or obj.bfill() instead.\n",
            "  df.fillna(method='ffill', inplace=True)  # Forward fill\n",
            "<ipython-input-10-52a0e9cea7f7>:77: FutureWarning: DataFrame.fillna with 'method' is deprecated and will raise in a future version. Use obj.ffill() or obj.bfill() instead.\n",
            "  df.fillna(method='bfill', inplace=True)  # Backward fill\n",
            "[*********************100%%**********************]  1 of 1 completed"
          ]
        },
        {
          "output_type": "stream",
          "name": "stdout",
          "text": [
            "Processed and saved cleaned data for SHC.JO to Stocks/SHC.JO.csv\n"
          ]
        },
        {
          "output_type": "stream",
          "name": "stderr",
          "text": [
            "\n",
            "<ipython-input-10-52a0e9cea7f7>:76: FutureWarning: DataFrame.fillna with 'method' is deprecated and will raise in a future version. Use obj.ffill() or obj.bfill() instead.\n",
            "  df.fillna(method='ffill', inplace=True)  # Forward fill\n",
            "<ipython-input-10-52a0e9cea7f7>:77: FutureWarning: DataFrame.fillna with 'method' is deprecated and will raise in a future version. Use obj.ffill() or obj.bfill() instead.\n",
            "  df.fillna(method='bfill', inplace=True)  # Backward fill\n"
          ]
        },
        {
          "output_type": "stream",
          "name": "stdout",
          "text": [
            "Processed and saved cleaned data for SHG.JO to Stocks/SHG.JO.csv\n"
          ]
        },
        {
          "output_type": "stream",
          "name": "stderr",
          "text": [
            "[*********************100%%**********************]  1 of 1 completed\n",
            "<ipython-input-10-52a0e9cea7f7>:76: FutureWarning: DataFrame.fillna with 'method' is deprecated and will raise in a future version. Use obj.ffill() or obj.bfill() instead.\n",
            "  df.fillna(method='ffill', inplace=True)  # Forward fill\n",
            "<ipython-input-10-52a0e9cea7f7>:77: FutureWarning: DataFrame.fillna with 'method' is deprecated and will raise in a future version. Use obj.ffill() or obj.bfill() instead.\n",
            "  df.fillna(method='bfill', inplace=True)  # Backward fill\n",
            "[*********************100%%**********************]  1 of 1 completed\n",
            "<ipython-input-10-52a0e9cea7f7>:76: FutureWarning: DataFrame.fillna with 'method' is deprecated and will raise in a future version. Use obj.ffill() or obj.bfill() instead.\n",
            "  df.fillna(method='ffill', inplace=True)  # Forward fill\n",
            "<ipython-input-10-52a0e9cea7f7>:77: FutureWarning: DataFrame.fillna with 'method' is deprecated and will raise in a future version. Use obj.ffill() or obj.bfill() instead.\n",
            "  df.fillna(method='bfill', inplace=True)  # Backward fill\n"
          ]
        },
        {
          "output_type": "stream",
          "name": "stdout",
          "text": [
            "Processed and saved cleaned data for SHP.JO to Stocks/SHP.JO.csv\n",
            "Processed and saved cleaned data for SLG.JO to Stocks/SLG.JO.csv\n"
          ]
        },
        {
          "output_type": "stream",
          "name": "stderr",
          "text": [
            "\r[*********************100%%**********************]  1 of 1 completed\n",
            "<ipython-input-10-52a0e9cea7f7>:76: FutureWarning: DataFrame.fillna with 'method' is deprecated and will raise in a future version. Use obj.ffill() or obj.bfill() instead.\n",
            "  df.fillna(method='ffill', inplace=True)  # Forward fill\n",
            "<ipython-input-10-52a0e9cea7f7>:77: FutureWarning: DataFrame.fillna with 'method' is deprecated and will raise in a future version. Use obj.ffill() or obj.bfill() instead.\n",
            "  df.fillna(method='bfill', inplace=True)  # Backward fill\n"
          ]
        },
        {
          "output_type": "stream",
          "name": "stdout",
          "text": [
            "Processed and saved cleaned data for SLM.JO to Stocks/SLM.JO.csv\n"
          ]
        },
        {
          "output_type": "stream",
          "name": "stderr",
          "text": [
            "\r[*********************100%%**********************]  1 of 1 completed\n",
            "<ipython-input-10-52a0e9cea7f7>:76: FutureWarning: DataFrame.fillna with 'method' is deprecated and will raise in a future version. Use obj.ffill() or obj.bfill() instead.\n",
            "  df.fillna(method='ffill', inplace=True)  # Forward fill\n",
            "<ipython-input-10-52a0e9cea7f7>:77: FutureWarning: DataFrame.fillna with 'method' is deprecated and will raise in a future version. Use obj.ffill() or obj.bfill() instead.\n",
            "  df.fillna(method='bfill', inplace=True)  # Backward fill\n",
            "[*********************100%%**********************]  1 of 1 completed"
          ]
        },
        {
          "output_type": "stream",
          "name": "stdout",
          "text": [
            "Processed and saved cleaned data for SNT.JO to Stocks/SNT.JO.csv\n",
            "Processed and saved cleaned data for SNV.JO to Stocks/SNV.JO.csv\n"
          ]
        },
        {
          "output_type": "stream",
          "name": "stderr",
          "text": [
            "\n",
            "<ipython-input-10-52a0e9cea7f7>:76: FutureWarning: DataFrame.fillna with 'method' is deprecated and will raise in a future version. Use obj.ffill() or obj.bfill() instead.\n",
            "  df.fillna(method='ffill', inplace=True)  # Forward fill\n",
            "<ipython-input-10-52a0e9cea7f7>:77: FutureWarning: DataFrame.fillna with 'method' is deprecated and will raise in a future version. Use obj.ffill() or obj.bfill() instead.\n",
            "  df.fillna(method='bfill', inplace=True)  # Backward fill\n",
            "\r[*********************100%%**********************]  1 of 1 completed\n",
            "<ipython-input-10-52a0e9cea7f7>:76: FutureWarning: DataFrame.fillna with 'method' is deprecated and will raise in a future version. Use obj.ffill() or obj.bfill() instead.\n",
            "  df.fillna(method='ffill', inplace=True)  # Forward fill\n",
            "<ipython-input-10-52a0e9cea7f7>:77: FutureWarning: DataFrame.fillna with 'method' is deprecated and will raise in a future version. Use obj.ffill() or obj.bfill() instead.\n",
            "  df.fillna(method='bfill', inplace=True)  # Backward fill\n"
          ]
        },
        {
          "output_type": "stream",
          "name": "stdout",
          "text": [
            "Processed and saved cleaned data for SOH.JO to Stocks/SOH.JO.csv\n"
          ]
        },
        {
          "output_type": "stream",
          "name": "stderr",
          "text": [
            "[*********************100%%**********************]  1 of 1 completed\n",
            "<ipython-input-10-52a0e9cea7f7>:76: FutureWarning: DataFrame.fillna with 'method' is deprecated and will raise in a future version. Use obj.ffill() or obj.bfill() instead.\n",
            "  df.fillna(method='ffill', inplace=True)  # Forward fill\n",
            "<ipython-input-10-52a0e9cea7f7>:77: FutureWarning: DataFrame.fillna with 'method' is deprecated and will raise in a future version. Use obj.ffill() or obj.bfill() instead.\n",
            "  df.fillna(method='bfill', inplace=True)  # Backward fill\n",
            "[*********************100%%**********************]  1 of 1 completed\n",
            "<ipython-input-10-52a0e9cea7f7>:76: FutureWarning: DataFrame.fillna with 'method' is deprecated and will raise in a future version. Use obj.ffill() or obj.bfill() instead.\n",
            "  df.fillna(method='ffill', inplace=True)  # Forward fill\n"
          ]
        },
        {
          "output_type": "stream",
          "name": "stdout",
          "text": [
            "Processed and saved cleaned data for SOL.JO to Stocks/SOL.JO.csv\n",
            "Processed and saved cleaned data for SPG.JO to Stocks/SPG.JO.csv\n"
          ]
        },
        {
          "output_type": "stream",
          "name": "stderr",
          "text": [
            "<ipython-input-10-52a0e9cea7f7>:77: FutureWarning: DataFrame.fillna with 'method' is deprecated and will raise in a future version. Use obj.ffill() or obj.bfill() instead.\n",
            "  df.fillna(method='bfill', inplace=True)  # Backward fill\n",
            "\r[*********************100%%**********************]  1 of 1 completed\n",
            "<ipython-input-10-52a0e9cea7f7>:76: FutureWarning: DataFrame.fillna with 'method' is deprecated and will raise in a future version. Use obj.ffill() or obj.bfill() instead.\n",
            "  df.fillna(method='ffill', inplace=True)  # Forward fill\n",
            "<ipython-input-10-52a0e9cea7f7>:77: FutureWarning: DataFrame.fillna with 'method' is deprecated and will raise in a future version. Use obj.ffill() or obj.bfill() instead.\n",
            "  df.fillna(method='bfill', inplace=True)  # Backward fill\n",
            "[*********************100%%**********************]  1 of 1 completed\n",
            "<ipython-input-10-52a0e9cea7f7>:76: FutureWarning: DataFrame.fillna with 'method' is deprecated and will raise in a future version. Use obj.ffill() or obj.bfill() instead.\n",
            "  df.fillna(method='ffill', inplace=True)  # Forward fill\n",
            "<ipython-input-10-52a0e9cea7f7>:77: FutureWarning: DataFrame.fillna with 'method' is deprecated and will raise in a future version. Use obj.ffill() or obj.bfill() instead.\n",
            "  df.fillna(method='bfill', inplace=True)  # Backward fill\n"
          ]
        },
        {
          "output_type": "stream",
          "name": "stdout",
          "text": [
            "Processed and saved cleaned data for SPP.JO to Stocks/SPP.JO.csv\n",
            "Processed and saved cleaned data for SRE.JO to Stocks/SRE.JO.csv\n"
          ]
        },
        {
          "output_type": "stream",
          "name": "stderr",
          "text": [
            "\r[*********************100%%**********************]  1 of 1 completed\n",
            "<ipython-input-10-52a0e9cea7f7>:76: FutureWarning: DataFrame.fillna with 'method' is deprecated and will raise in a future version. Use obj.ffill() or obj.bfill() instead.\n",
            "  df.fillna(method='ffill', inplace=True)  # Forward fill\n",
            "<ipython-input-10-52a0e9cea7f7>:77: FutureWarning: DataFrame.fillna with 'method' is deprecated and will raise in a future version. Use obj.ffill() or obj.bfill() instead.\n",
            "  df.fillna(method='bfill', inplace=True)  # Backward fill\n",
            "[*********************100%%**********************]  1 of 1 completed\n"
          ]
        },
        {
          "output_type": "stream",
          "name": "stdout",
          "text": [
            "Processed and saved cleaned data for SSK.JO to Stocks/SSK.JO.csv\n"
          ]
        },
        {
          "output_type": "stream",
          "name": "stderr",
          "text": [
            "<ipython-input-10-52a0e9cea7f7>:76: FutureWarning: DataFrame.fillna with 'method' is deprecated and will raise in a future version. Use obj.ffill() or obj.bfill() instead.\n",
            "  df.fillna(method='ffill', inplace=True)  # Forward fill\n",
            "<ipython-input-10-52a0e9cea7f7>:77: FutureWarning: DataFrame.fillna with 'method' is deprecated and will raise in a future version. Use obj.ffill() or obj.bfill() instead.\n",
            "  df.fillna(method='bfill', inplace=True)  # Backward fill\n",
            "\r[*********************100%%**********************]  1 of 1 completed\n",
            "<ipython-input-10-52a0e9cea7f7>:76: FutureWarning: DataFrame.fillna with 'method' is deprecated and will raise in a future version. Use obj.ffill() or obj.bfill() instead.\n",
            "  df.fillna(method='ffill', inplace=True)  # Forward fill\n",
            "<ipython-input-10-52a0e9cea7f7>:77: FutureWarning: DataFrame.fillna with 'method' is deprecated and will raise in a future version. Use obj.ffill() or obj.bfill() instead.\n",
            "  df.fillna(method='bfill', inplace=True)  # Backward fill\n"
          ]
        },
        {
          "output_type": "stream",
          "name": "stdout",
          "text": [
            "Processed and saved cleaned data for SSS.JO to Stocks/SSS.JO.csv\n",
            "Processed and saved cleaned data for SSU.JO to Stocks/SSU.JO.csv\n"
          ]
        },
        {
          "output_type": "stream",
          "name": "stderr",
          "text": [
            "\r[*********************100%%**********************]  1 of 1 completed\n",
            "<ipython-input-10-52a0e9cea7f7>:76: FutureWarning: DataFrame.fillna with 'method' is deprecated and will raise in a future version. Use obj.ffill() or obj.bfill() instead.\n",
            "  df.fillna(method='ffill', inplace=True)  # Forward fill\n",
            "<ipython-input-10-52a0e9cea7f7>:77: FutureWarning: DataFrame.fillna with 'method' is deprecated and will raise in a future version. Use obj.ffill() or obj.bfill() instead.\n",
            "  df.fillna(method='bfill', inplace=True)  # Backward fill\n",
            "[*********************100%%**********************]  1 of 1 completed"
          ]
        },
        {
          "output_type": "stream",
          "name": "stdout",
          "text": [
            "Processed and saved cleaned data for SSW.JO to Stocks/SSW.JO.csv\n"
          ]
        },
        {
          "output_type": "stream",
          "name": "stderr",
          "text": [
            "\n",
            "<ipython-input-10-52a0e9cea7f7>:76: FutureWarning: DataFrame.fillna with 'method' is deprecated and will raise in a future version. Use obj.ffill() or obj.bfill() instead.\n",
            "  df.fillna(method='ffill', inplace=True)  # Forward fill\n",
            "<ipython-input-10-52a0e9cea7f7>:77: FutureWarning: DataFrame.fillna with 'method' is deprecated and will raise in a future version. Use obj.ffill() or obj.bfill() instead.\n",
            "  df.fillna(method='bfill', inplace=True)  # Backward fill\n",
            "[*********************100%%**********************]  1 of 1 completed"
          ]
        },
        {
          "output_type": "stream",
          "name": "stdout",
          "text": [
            "Processed and saved cleaned data for SUI.JO to Stocks/SUI.JO.csv\n"
          ]
        },
        {
          "output_type": "stream",
          "name": "stderr",
          "text": [
            "\n",
            "<ipython-input-10-52a0e9cea7f7>:76: FutureWarning: DataFrame.fillna with 'method' is deprecated and will raise in a future version. Use obj.ffill() or obj.bfill() instead.\n",
            "  df.fillna(method='ffill', inplace=True)  # Forward fill\n",
            "<ipython-input-10-52a0e9cea7f7>:77: FutureWarning: DataFrame.fillna with 'method' is deprecated and will raise in a future version. Use obj.ffill() or obj.bfill() instead.\n",
            "  df.fillna(method='bfill', inplace=True)  # Backward fill\n",
            "\r[*********************100%%**********************]  1 of 1 completed\n",
            "<ipython-input-10-52a0e9cea7f7>:76: FutureWarning: DataFrame.fillna with 'method' is deprecated and will raise in a future version. Use obj.ffill() or obj.bfill() instead.\n",
            "  df.fillna(method='ffill', inplace=True)  # Forward fill\n",
            "<ipython-input-10-52a0e9cea7f7>:77: FutureWarning: DataFrame.fillna with 'method' is deprecated and will raise in a future version. Use obj.ffill() or obj.bfill() instead.\n",
            "  df.fillna(method='bfill', inplace=True)  # Backward fill\n"
          ]
        },
        {
          "output_type": "stream",
          "name": "stdout",
          "text": [
            "Processed and saved cleaned data for SUR.JO to Stocks/SUR.JO.csv\n",
            "Processed and saved cleaned data for SXM.JO to Stocks/SXM.JO.csv\n"
          ]
        },
        {
          "output_type": "stream",
          "name": "stderr",
          "text": [
            "\r[*********************100%%**********************]  1 of 1 completed\n",
            "<ipython-input-10-52a0e9cea7f7>:76: FutureWarning: DataFrame.fillna with 'method' is deprecated and will raise in a future version. Use obj.ffill() or obj.bfill() instead.\n",
            "  df.fillna(method='ffill', inplace=True)  # Forward fill\n",
            "<ipython-input-10-52a0e9cea7f7>:77: FutureWarning: DataFrame.fillna with 'method' is deprecated and will raise in a future version. Use obj.ffill() or obj.bfill() instead.\n",
            "  df.fillna(method='bfill', inplace=True)  # Backward fill\n",
            "[*********************100%%**********************]  1 of 1 completed\n"
          ]
        },
        {
          "output_type": "stream",
          "name": "stdout",
          "text": [
            "Processed and saved cleaned data for SYG.JO to Stocks/SYG.JO.csv\n",
            "Processed and saved cleaned data for SZK.JO to Stocks/SZK.JO.csv\n"
          ]
        },
        {
          "output_type": "stream",
          "name": "stderr",
          "text": [
            "<ipython-input-10-52a0e9cea7f7>:76: FutureWarning: DataFrame.fillna with 'method' is deprecated and will raise in a future version. Use obj.ffill() or obj.bfill() instead.\n",
            "  df.fillna(method='ffill', inplace=True)  # Forward fill\n",
            "<ipython-input-10-52a0e9cea7f7>:77: FutureWarning: DataFrame.fillna with 'method' is deprecated and will raise in a future version. Use obj.ffill() or obj.bfill() instead.\n",
            "  df.fillna(method='bfill', inplace=True)  # Backward fill\n",
            "[*********************100%%**********************]  1 of 1 completed\n",
            "<ipython-input-10-52a0e9cea7f7>:76: FutureWarning: DataFrame.fillna with 'method' is deprecated and will raise in a future version. Use obj.ffill() or obj.bfill() instead.\n",
            "  df.fillna(method='ffill', inplace=True)  # Forward fill\n",
            "<ipython-input-10-52a0e9cea7f7>:77: FutureWarning: DataFrame.fillna with 'method' is deprecated and will raise in a future version. Use obj.ffill() or obj.bfill() instead.\n",
            "  df.fillna(method='bfill', inplace=True)  # Backward fill\n",
            "[*********************100%%**********************]  1 of 1 completed\n",
            "<ipython-input-10-52a0e9cea7f7>:76: FutureWarning: DataFrame.fillna with 'method' is deprecated and will raise in a future version. Use obj.ffill() or obj.bfill() instead.\n",
            "  df.fillna(method='ffill', inplace=True)  # Forward fill\n",
            "<ipython-input-10-52a0e9cea7f7>:77: FutureWarning: DataFrame.fillna with 'method' is deprecated and will raise in a future version. Use obj.ffill() or obj.bfill() instead.\n",
            "  df.fillna(method='bfill', inplace=True)  # Backward fill\n"
          ]
        },
        {
          "output_type": "stream",
          "name": "stdout",
          "text": [
            "Processed and saved cleaned data for TBS.JO to Stocks/TBS.JO.csv\n",
            "Processed and saved cleaned data for TCP.JO to Stocks/TCP.JO.csv\n"
          ]
        },
        {
          "output_type": "stream",
          "name": "stderr",
          "text": [
            "\r[*********************100%%**********************]  1 of 1 completed\n",
            "<ipython-input-10-52a0e9cea7f7>:76: FutureWarning: DataFrame.fillna with 'method' is deprecated and will raise in a future version. Use obj.ffill() or obj.bfill() instead.\n",
            "  df.fillna(method='ffill', inplace=True)  # Forward fill\n",
            "<ipython-input-10-52a0e9cea7f7>:77: FutureWarning: DataFrame.fillna with 'method' is deprecated and will raise in a future version. Use obj.ffill() or obj.bfill() instead.\n",
            "  df.fillna(method='bfill', inplace=True)  # Backward fill\n",
            "[*********************100%%**********************]  1 of 1 completed"
          ]
        },
        {
          "output_type": "stream",
          "name": "stdout",
          "text": [
            "Processed and saved cleaned data for TEX.JO to Stocks/TEX.JO.csv\n"
          ]
        },
        {
          "output_type": "stream",
          "name": "stderr",
          "text": [
            "\n",
            "<ipython-input-10-52a0e9cea7f7>:76: FutureWarning: DataFrame.fillna with 'method' is deprecated and will raise in a future version. Use obj.ffill() or obj.bfill() instead.\n",
            "  df.fillna(method='ffill', inplace=True)  # Forward fill\n",
            "<ipython-input-10-52a0e9cea7f7>:77: FutureWarning: DataFrame.fillna with 'method' is deprecated and will raise in a future version. Use obj.ffill() or obj.bfill() instead.\n",
            "  df.fillna(method='bfill', inplace=True)  # Backward fill\n",
            "\r[*********************100%%**********************]  1 of 1 completed\n",
            "<ipython-input-10-52a0e9cea7f7>:76: FutureWarning: DataFrame.fillna with 'method' is deprecated and will raise in a future version. Use obj.ffill() or obj.bfill() instead.\n",
            "  df.fillna(method='ffill', inplace=True)  # Forward fill\n",
            "<ipython-input-10-52a0e9cea7f7>:77: FutureWarning: DataFrame.fillna with 'method' is deprecated and will raise in a future version. Use obj.ffill() or obj.bfill() instead.\n",
            "  df.fillna(method='bfill', inplace=True)  # Backward fill\n"
          ]
        },
        {
          "output_type": "stream",
          "name": "stdout",
          "text": [
            "Processed and saved cleaned data for TFG.JO to Stocks/TFG.JO.csv\n",
            "Processed and saved cleaned data for TGA.JO to Stocks/TGA.JO.csv\n"
          ]
        },
        {
          "output_type": "stream",
          "name": "stderr",
          "text": [
            "\r[*********************100%%**********************]  1 of 1 completed\n",
            "<ipython-input-10-52a0e9cea7f7>:76: FutureWarning: DataFrame.fillna with 'method' is deprecated and will raise in a future version. Use obj.ffill() or obj.bfill() instead.\n",
            "  df.fillna(method='ffill', inplace=True)  # Forward fill\n",
            "<ipython-input-10-52a0e9cea7f7>:77: FutureWarning: DataFrame.fillna with 'method' is deprecated and will raise in a future version. Use obj.ffill() or obj.bfill() instead.\n",
            "  df.fillna(method='bfill', inplace=True)  # Backward fill\n",
            "[*********************100%%**********************]  1 of 1 completed\n",
            "<ipython-input-10-52a0e9cea7f7>:76: FutureWarning: DataFrame.fillna with 'method' is deprecated and will raise in a future version. Use obj.ffill() or obj.bfill() instead.\n",
            "  df.fillna(method='ffill', inplace=True)  # Forward fill\n",
            "<ipython-input-10-52a0e9cea7f7>:77: FutureWarning: DataFrame.fillna with 'method' is deprecated and will raise in a future version. Use obj.ffill() or obj.bfill() instead.\n",
            "  df.fillna(method='bfill', inplace=True)  # Backward fill\n"
          ]
        },
        {
          "output_type": "stream",
          "name": "stdout",
          "text": [
            "Processed and saved cleaned data for THA.JO to Stocks/THA.JO.csv\n",
            "Processed and saved cleaned data for TKG.JO to Stocks/TKG.JO.csv\n"
          ]
        },
        {
          "output_type": "stream",
          "name": "stderr",
          "text": [
            "[*********************100%%**********************]  1 of 1 completed\n",
            "<ipython-input-10-52a0e9cea7f7>:76: FutureWarning: DataFrame.fillna with 'method' is deprecated and will raise in a future version. Use obj.ffill() or obj.bfill() instead.\n",
            "  df.fillna(method='ffill', inplace=True)  # Forward fill\n",
            "<ipython-input-10-52a0e9cea7f7>:77: FutureWarning: DataFrame.fillna with 'method' is deprecated and will raise in a future version. Use obj.ffill() or obj.bfill() instead.\n",
            "  df.fillna(method='bfill', inplace=True)  # Backward fill\n",
            "[*********************100%%**********************]  1 of 1 completed\n"
          ]
        },
        {
          "output_type": "stream",
          "name": "stdout",
          "text": [
            "Processed and saved cleaned data for TLM.JO to Stocks/TLM.JO.csv\n"
          ]
        },
        {
          "output_type": "stream",
          "name": "stderr",
          "text": [
            "<ipython-input-10-52a0e9cea7f7>:76: FutureWarning: DataFrame.fillna with 'method' is deprecated and will raise in a future version. Use obj.ffill() or obj.bfill() instead.\n",
            "  df.fillna(method='ffill', inplace=True)  # Forward fill\n",
            "<ipython-input-10-52a0e9cea7f7>:77: FutureWarning: DataFrame.fillna with 'method' is deprecated and will raise in a future version. Use obj.ffill() or obj.bfill() instead.\n",
            "  df.fillna(method='bfill', inplace=True)  # Backward fill\n",
            "\r[*********************100%%**********************]  1 of 1 completed\n",
            "<ipython-input-10-52a0e9cea7f7>:76: FutureWarning: DataFrame.fillna with 'method' is deprecated and will raise in a future version. Use obj.ffill() or obj.bfill() instead.\n",
            "  df.fillna(method='ffill', inplace=True)  # Forward fill\n",
            "<ipython-input-10-52a0e9cea7f7>:77: FutureWarning: DataFrame.fillna with 'method' is deprecated and will raise in a future version. Use obj.ffill() or obj.bfill() instead.\n",
            "  df.fillna(method='bfill', inplace=True)  # Backward fill\n"
          ]
        },
        {
          "output_type": "stream",
          "name": "stdout",
          "text": [
            "Processed and saved cleaned data for TMT.JO to Stocks/TMT.JO.csv\n",
            "Processed and saved cleaned data for TON.JO to Stocks/TON.JO.csv\n"
          ]
        },
        {
          "output_type": "stream",
          "name": "stderr",
          "text": [
            "\r[*********************100%%**********************]  1 of 1 completed\n",
            "<ipython-input-10-52a0e9cea7f7>:76: FutureWarning: DataFrame.fillna with 'method' is deprecated and will raise in a future version. Use obj.ffill() or obj.bfill() instead.\n",
            "  df.fillna(method='ffill', inplace=True)  # Forward fill\n",
            "<ipython-input-10-52a0e9cea7f7>:77: FutureWarning: DataFrame.fillna with 'method' is deprecated and will raise in a future version. Use obj.ffill() or obj.bfill() instead.\n",
            "  df.fillna(method='bfill', inplace=True)  # Backward fill\n",
            "[*********************100%%**********************]  1 of 1 completed\n",
            "<ipython-input-10-52a0e9cea7f7>:76: FutureWarning: DataFrame.fillna with 'method' is deprecated and will raise in a future version. Use obj.ffill() or obj.bfill() instead.\n",
            "  df.fillna(method='ffill', inplace=True)  # Forward fill\n",
            "<ipython-input-10-52a0e9cea7f7>:77: FutureWarning: DataFrame.fillna with 'method' is deprecated and will raise in a future version. Use obj.ffill() or obj.bfill() instead.\n",
            "  df.fillna(method='bfill', inplace=True)  # Backward fill\n"
          ]
        },
        {
          "output_type": "stream",
          "name": "stdout",
          "text": [
            "Processed and saved cleaned data for TPC.JO to Stocks/TPC.JO.csv\n",
            "Processed and saved cleaned data for TRE.JO to Stocks/TRE.JO.csv\n"
          ]
        },
        {
          "output_type": "stream",
          "name": "stderr",
          "text": [
            "\r[*********************100%%**********************]  1 of 1 completed\n",
            "<ipython-input-10-52a0e9cea7f7>:76: FutureWarning: DataFrame.fillna with 'method' is deprecated and will raise in a future version. Use obj.ffill() or obj.bfill() instead.\n",
            "  df.fillna(method='ffill', inplace=True)  # Forward fill\n",
            "<ipython-input-10-52a0e9cea7f7>:77: FutureWarning: DataFrame.fillna with 'method' is deprecated and will raise in a future version. Use obj.ffill() or obj.bfill() instead.\n",
            "  df.fillna(method='bfill', inplace=True)  # Backward fill\n"
          ]
        },
        {
          "output_type": "stream",
          "name": "stdout",
          "text": [
            "Processed and saved cleaned data for TRL.JO to Stocks/TRL.JO.csv\n"
          ]
        },
        {
          "output_type": "stream",
          "name": "stderr",
          "text": [
            "[*********************100%%**********************]  1 of 1 completed\n",
            "<ipython-input-10-52a0e9cea7f7>:76: FutureWarning: DataFrame.fillna with 'method' is deprecated and will raise in a future version. Use obj.ffill() or obj.bfill() instead.\n",
            "  df.fillna(method='ffill', inplace=True)  # Forward fill\n",
            "<ipython-input-10-52a0e9cea7f7>:77: FutureWarning: DataFrame.fillna with 'method' is deprecated and will raise in a future version. Use obj.ffill() or obj.bfill() instead.\n",
            "  df.fillna(method='bfill', inplace=True)  # Backward fill\n",
            "[*********************100%%**********************]  1 of 1 completed\n",
            "<ipython-input-10-52a0e9cea7f7>:76: FutureWarning: DataFrame.fillna with 'method' is deprecated and will raise in a future version. Use obj.ffill() or obj.bfill() instead.\n",
            "  df.fillna(method='ffill', inplace=True)  # Forward fill\n",
            "<ipython-input-10-52a0e9cea7f7>:77: FutureWarning: DataFrame.fillna with 'method' is deprecated and will raise in a future version. Use obj.ffill() or obj.bfill() instead.\n",
            "  df.fillna(method='bfill', inplace=True)  # Backward fill\n"
          ]
        },
        {
          "output_type": "stream",
          "name": "stdout",
          "text": [
            "Processed and saved cleaned data for TRU.JO to Stocks/TRU.JO.csv\n",
            "Processed and saved cleaned data for TSG.JO to Stocks/TSG.JO.csv\n"
          ]
        },
        {
          "output_type": "stream",
          "name": "stderr",
          "text": [
            "\r[*********************100%%**********************]  1 of 1 completed\n",
            "<ipython-input-10-52a0e9cea7f7>:76: FutureWarning: DataFrame.fillna with 'method' is deprecated and will raise in a future version. Use obj.ffill() or obj.bfill() instead.\n",
            "  df.fillna(method='ffill', inplace=True)  # Forward fill\n",
            "<ipython-input-10-52a0e9cea7f7>:77: FutureWarning: DataFrame.fillna with 'method' is deprecated and will raise in a future version. Use obj.ffill() or obj.bfill() instead.\n",
            "  df.fillna(method='bfill', inplace=True)  # Backward fill\n",
            "[*********************100%%**********************]  1 of 1 completed\n",
            "<ipython-input-10-52a0e9cea7f7>:76: FutureWarning: DataFrame.fillna with 'method' is deprecated and will raise in a future version. Use obj.ffill() or obj.bfill() instead.\n",
            "  df.fillna(method='ffill', inplace=True)  # Forward fill\n",
            "<ipython-input-10-52a0e9cea7f7>:77: FutureWarning: DataFrame.fillna with 'method' is deprecated and will raise in a future version. Use obj.ffill() or obj.bfill() instead.\n",
            "  df.fillna(method='bfill', inplace=True)  # Backward fill\n"
          ]
        },
        {
          "output_type": "stream",
          "name": "stdout",
          "text": [
            "Processed and saved cleaned data for TTO.JO to Stocks/TTO.JO.csv\n",
            "Processed and saved cleaned data for UPL.JO to Stocks/UPL.JO.csv\n"
          ]
        },
        {
          "output_type": "stream",
          "name": "stderr",
          "text": [
            "\r[*********************100%%**********************]  1 of 1 completed\n",
            "<ipython-input-10-52a0e9cea7f7>:76: FutureWarning: DataFrame.fillna with 'method' is deprecated and will raise in a future version. Use obj.ffill() or obj.bfill() instead.\n",
            "  df.fillna(method='ffill', inplace=True)  # Forward fill\n",
            "<ipython-input-10-52a0e9cea7f7>:77: FutureWarning: DataFrame.fillna with 'method' is deprecated and will raise in a future version. Use obj.ffill() or obj.bfill() instead.\n",
            "  df.fillna(method='bfill', inplace=True)  # Backward fill\n",
            "[*********************100%%**********************]  1 of 1 completed\n",
            "<ipython-input-10-52a0e9cea7f7>:76: FutureWarning: DataFrame.fillna with 'method' is deprecated and will raise in a future version. Use obj.ffill() or obj.bfill() instead.\n",
            "  df.fillna(method='ffill', inplace=True)  # Forward fill\n",
            "<ipython-input-10-52a0e9cea7f7>:77: FutureWarning: DataFrame.fillna with 'method' is deprecated and will raise in a future version. Use obj.ffill() or obj.bfill() instead.\n",
            "  df.fillna(method='bfill', inplace=True)  # Backward fill\n"
          ]
        },
        {
          "output_type": "stream",
          "name": "stdout",
          "text": [
            "Processed and saved cleaned data for VIS.JO to Stocks/VIS.JO.csv\n",
            "Processed and saved cleaned data for VKE.JO to Stocks/VKE.JO.csv\n"
          ]
        },
        {
          "output_type": "stream",
          "name": "stderr",
          "text": [
            "[*********************100%%**********************]  1 of 1 completed\n",
            "<ipython-input-10-52a0e9cea7f7>:76: FutureWarning: DataFrame.fillna with 'method' is deprecated and will raise in a future version. Use obj.ffill() or obj.bfill() instead.\n",
            "  df.fillna(method='ffill', inplace=True)  # Forward fill\n",
            "<ipython-input-10-52a0e9cea7f7>:77: FutureWarning: DataFrame.fillna with 'method' is deprecated and will raise in a future version. Use obj.ffill() or obj.bfill() instead.\n",
            "  df.fillna(method='bfill', inplace=True)  # Backward fill\n",
            "[*********************100%%**********************]  1 of 1 completed\n",
            "<ipython-input-10-52a0e9cea7f7>:76: FutureWarning: DataFrame.fillna with 'method' is deprecated and will raise in a future version. Use obj.ffill() or obj.bfill() instead.\n",
            "  df.fillna(method='ffill', inplace=True)  # Forward fill\n",
            "<ipython-input-10-52a0e9cea7f7>:77: FutureWarning: DataFrame.fillna with 'method' is deprecated and will raise in a future version. Use obj.ffill() or obj.bfill() instead.\n",
            "  df.fillna(method='bfill', inplace=True)  # Backward fill\n"
          ]
        },
        {
          "output_type": "stream",
          "name": "stdout",
          "text": [
            "Processed and saved cleaned data for VOD.JO to Stocks/VOD.JO.csv\n",
            "Processed and saved cleaned data for VUN.JO to Stocks/VUN.JO.csv\n"
          ]
        },
        {
          "output_type": "stream",
          "name": "stderr",
          "text": [
            "\r[*********************100%%**********************]  1 of 1 completed\n",
            "<ipython-input-10-52a0e9cea7f7>:76: FutureWarning: DataFrame.fillna with 'method' is deprecated and will raise in a future version. Use obj.ffill() or obj.bfill() instead.\n",
            "  df.fillna(method='ffill', inplace=True)  # Forward fill\n",
            "<ipython-input-10-52a0e9cea7f7>:77: FutureWarning: DataFrame.fillna with 'method' is deprecated and will raise in a future version. Use obj.ffill() or obj.bfill() instead.\n",
            "  df.fillna(method='bfill', inplace=True)  # Backward fill\n",
            "[*********************100%%**********************]  1 of 1 completed\n"
          ]
        },
        {
          "output_type": "stream",
          "name": "stdout",
          "text": [
            "Processed and saved cleaned data for WBC.JO to Stocks/WBC.JO.csv\n"
          ]
        },
        {
          "output_type": "stream",
          "name": "stderr",
          "text": [
            "<ipython-input-10-52a0e9cea7f7>:76: FutureWarning: DataFrame.fillna with 'method' is deprecated and will raise in a future version. Use obj.ffill() or obj.bfill() instead.\n",
            "  df.fillna(method='ffill', inplace=True)  # Forward fill\n",
            "<ipython-input-10-52a0e9cea7f7>:77: FutureWarning: DataFrame.fillna with 'method' is deprecated and will raise in a future version. Use obj.ffill() or obj.bfill() instead.\n",
            "  df.fillna(method='bfill', inplace=True)  # Backward fill\n",
            "\r[*********************100%%**********************]  1 of 1 completed\n",
            "<ipython-input-10-52a0e9cea7f7>:76: FutureWarning: DataFrame.fillna with 'method' is deprecated and will raise in a future version. Use obj.ffill() or obj.bfill() instead.\n",
            "  df.fillna(method='ffill', inplace=True)  # Forward fill\n",
            "<ipython-input-10-52a0e9cea7f7>:77: FutureWarning: DataFrame.fillna with 'method' is deprecated and will raise in a future version. Use obj.ffill() or obj.bfill() instead.\n",
            "  df.fillna(method='bfill', inplace=True)  # Backward fill\n"
          ]
        },
        {
          "output_type": "stream",
          "name": "stdout",
          "text": [
            "Processed and saved cleaned data for WBO.JO to Stocks/WBO.JO.csv\n",
            "Processed and saved cleaned data for WEZ.JO to Stocks/WEZ.JO.csv\n"
          ]
        },
        {
          "output_type": "stream",
          "name": "stderr",
          "text": [
            "\r[*********************100%%**********************]  1 of 1 completed\n",
            "<ipython-input-10-52a0e9cea7f7>:76: FutureWarning: DataFrame.fillna with 'method' is deprecated and will raise in a future version. Use obj.ffill() or obj.bfill() instead.\n",
            "  df.fillna(method='ffill', inplace=True)  # Forward fill\n",
            "<ipython-input-10-52a0e9cea7f7>:77: FutureWarning: DataFrame.fillna with 'method' is deprecated and will raise in a future version. Use obj.ffill() or obj.bfill() instead.\n",
            "  df.fillna(method='bfill', inplace=True)  # Backward fill\n",
            "[*********************100%%**********************]  1 of 1 completed\n",
            "<ipython-input-10-52a0e9cea7f7>:76: FutureWarning: DataFrame.fillna with 'method' is deprecated and will raise in a future version. Use obj.ffill() or obj.bfill() instead.\n",
            "  df.fillna(method='ffill', inplace=True)  # Forward fill\n",
            "<ipython-input-10-52a0e9cea7f7>:77: FutureWarning: DataFrame.fillna with 'method' is deprecated and will raise in a future version. Use obj.ffill() or obj.bfill() instead.\n",
            "  df.fillna(method='bfill', inplace=True)  # Backward fill\n"
          ]
        },
        {
          "output_type": "stream",
          "name": "stdout",
          "text": [
            "Processed and saved cleaned data for WHL.JO to Stocks/WHL.JO.csv\n",
            "Processed and saved cleaned data for WKF.JO to Stocks/WKF.JO.csv\n"
          ]
        },
        {
          "output_type": "stream",
          "name": "stderr",
          "text": [
            "\r[*********************100%%**********************]  1 of 1 completed\n",
            "<ipython-input-10-52a0e9cea7f7>:76: FutureWarning: DataFrame.fillna with 'method' is deprecated and will raise in a future version. Use obj.ffill() or obj.bfill() instead.\n",
            "  df.fillna(method='ffill', inplace=True)  # Forward fill\n",
            "<ipython-input-10-52a0e9cea7f7>:77: FutureWarning: DataFrame.fillna with 'method' is deprecated and will raise in a future version. Use obj.ffill() or obj.bfill() instead.\n",
            "  df.fillna(method='bfill', inplace=True)  # Backward fill\n",
            "[*********************100%%**********************]  1 of 1 completed\n",
            "<ipython-input-10-52a0e9cea7f7>:76: FutureWarning: DataFrame.fillna with 'method' is deprecated and will raise in a future version. Use obj.ffill() or obj.bfill() instead.\n",
            "  df.fillna(method='ffill', inplace=True)  # Forward fill\n",
            "<ipython-input-10-52a0e9cea7f7>:77: FutureWarning: DataFrame.fillna with 'method' is deprecated and will raise in a future version. Use obj.ffill() or obj.bfill() instead.\n",
            "  df.fillna(method='bfill', inplace=True)  # Backward fill\n"
          ]
        },
        {
          "output_type": "stream",
          "name": "stdout",
          "text": [
            "Processed and saved cleaned data for YRK.JO to Stocks/YRK.JO.csv\n",
            "Processed and saved cleaned data for ZED.JO to Stocks/ZED.JO.csv\n"
          ]
        },
        {
          "output_type": "stream",
          "name": "stderr",
          "text": [
            "\r[*********************100%%**********************]  1 of 1 completed"
          ]
        },
        {
          "output_type": "stream",
          "name": "stdout",
          "text": [
            "Processed and saved cleaned data for ZZD.JO to Stocks/ZZD.JO.csv\n",
            "All data saved and processed in the \"Stocks\" directory.\n",
            "Saved unique tickers to Stocks/tickers.csv\n"
          ]
        },
        {
          "output_type": "stream",
          "name": "stderr",
          "text": [
            "\n",
            "<ipython-input-10-52a0e9cea7f7>:76: FutureWarning: DataFrame.fillna with 'method' is deprecated and will raise in a future version. Use obj.ffill() or obj.bfill() instead.\n",
            "  df.fillna(method='ffill', inplace=True)  # Forward fill\n",
            "<ipython-input-10-52a0e9cea7f7>:77: FutureWarning: DataFrame.fillna with 'method' is deprecated and will raise in a future version. Use obj.ffill() or obj.bfill() instead.\n",
            "  df.fillna(method='bfill', inplace=True)  # Backward fill\n"
          ]
        }
      ]
    },
    {
      "cell_type": "code",
      "source": [
        "\n",
        "import os\n",
        "import glob\n",
        "\n",
        "# Specify the path to the directory\n",
        "path = '/content/drive/MyDrive/Stocks'\n",
        "\n",
        "# Specify the file to exclude\n",
        "exclude_file = 'tickers.csv'\n",
        "\n",
        "# Use glob to find all CSV files in the directory\n",
        "csv_files = glob.glob(os.path.join(path, '*.csv'))\n",
        "\n",
        "# Filter out the specific file\n",
        "csv_files = [file for file in csv_files if os.path.basename(file) != exclude_file]\n",
        "\n",
        "# Count the number of CSV files\n",
        "csv_count = len(csv_files)\n",
        "\n",
        "print(f'There are {csv_count} CSV files in the folder, excluding {exclude_file}.')"
      ],
      "metadata": {
        "id": "WVjiyhrF986R",
        "colab": {
          "base_uri": "https://localhost:8080/"
        },
        "outputId": "e578c9cf-dab5-4109-a44f-8ab36da66745"
      },
      "execution_count": null,
      "outputs": [
        {
          "output_type": "stream",
          "name": "stdout",
          "text": [
            "There are 263 CSV files in the folder, excluding tickers.csv.\n"
          ]
        }
      ]
    },
    {
      "cell_type": "markdown",
      "metadata": {
        "id": "5Iq88Jjt27xE"
      },
      "source": [
        "###ranker.py"
      ]
    },
    {
      "cell_type": "code",
      "execution_count": 10,
      "metadata": {
        "id": "ZSXlB3Lgfdgc"
      },
      "outputs": [],
      "source": [
        "\n",
        "import os\n",
        "import pandas as pd\n",
        "import numpy as np\n",
        "import yfinance as yf\n",
        "from scipy.stats import linregress\n",
        "\n",
        "#Make a variable for this is Settings\n",
        "\n",
        "#ranking_day = '2024-08-13'\n",
        "\n",
        "\n",
        "# Define the directory containing the CSV files\n",
        "data_dir = '/content/drive/MyDrive/Stocks'\n",
        "\n",
        "# Read tickers from the 'tickers.csv' file\n",
        "tickers_df = pd.read_csv(os.path.join(data_dir, 'tickers.csv'), header=None)\n",
        "tickers = tickers_df[0].tolist()\n",
        "\n",
        "# Create a dictionary to store stock data\n",
        "stock_data = {}\n",
        "for ticker in tickers:\n",
        "    stock_data[ticker] = pd.read_csv(os.path.join(data_dir, f\"{ticker}.csv\"),\n",
        "                                     parse_dates=True, index_col=0)['Close']\n",
        "\n",
        "# Create a DataFrame from the dictionary\n",
        "stocks = pd.DataFrame(stock_data)\n",
        "\n",
        "# Remove duplicate columns\n",
        "stocks = stocks.loc[:, ~stocks.columns.duplicated()]\n",
        "\n",
        "# Calculate momentum\n",
        "def momentum(closes):\n",
        "    log_returns = np.log(closes)\n",
        "    x = np.arange(len(log_returns))\n",
        "    # Use linregress for consistency with previous code and to get rvalue\n",
        "    slope, _, rvalue, _, _ = linregress(x, log_returns)\n",
        "    annualized_slope = (1 + slope) ** 252\n",
        "    momentum_score = annualized_slope * (rvalue ** 2)\n",
        "    return momentum_score\n",
        "\n",
        "momentums = stocks.copy(deep=True)\n",
        "for ticker in tickers:\n",
        "    momentums[ticker] = stocks[ticker].rolling(90).apply(momentum, raw=False)\n",
        "\n",
        "# Rank stocks by momentum - sort by the values in the dataframe on the date provided in the 'ranking_day' variable\n",
        "result = momentums.sort_values(by=momentums.index[-1], axis=1, ascending=False)\n",
        "# Filter the result to only include rows where the date index is greater than or equal to the ranking day\n",
        "res = result[~(result.index < pd.to_datetime(ranking_day))].dropna(axis=1)\n",
        "\n",
        "# Reset the index to make 'Date' a column # This is the key change\n",
        "res = res.reset_index()\n",
        "\n",
        "# Prepare DataFrame for final results\n",
        "# Use the tickers list as the value_vars since they are now columns in the DataFrame\n",
        "finalframe = res.melt(id_vars=['Date'], value_vars=res.columns[1:], var_name='symbol', value_name='momentum_score')\n",
        "finalframe['momentum_score'] = finalframe['momentum_score'].astype(float)\n",
        "finalframe['rank'] = finalframe['momentum_score'].rank(ascending=False)\n",
        "\n",
        "# Filter out rows with momentum score < 0.001\n",
        "finalframe = finalframe[finalframe['momentum_score'] >= 0.001]\n",
        "\n",
        "# Reset the index\n",
        "finalframe.reset_index(drop=True, inplace=True)\n",
        "\n",
        "# Filter out low-ranked stocks (rank >= 50)\n",
        "finalframe = finalframe[finalframe['rank'] < 50]\n",
        "\n",
        "# Function to get company name from ticker\n",
        "def get_company_name(ticker):\n",
        "    try:\n",
        "        stock = yf.Ticker(ticker)\n",
        "        return stock.info['longName']\n",
        "    except KeyError:\n",
        "        return None\n",
        "\n",
        "# Add a new column with company names\n",
        "finalframe['company'] = finalframe['symbol'].apply(get_company_name)\n",
        "\n",
        "finalframe = finalframe.iloc[:, [0,4,1,2,3]]\n",
        "finalframe = finalframe.sort_values(by='rank')\n",
        "finalframe.to_csv('/content/drive/MyDrive/ranking_list.csv')"
      ]
    },
    {
      "cell_type": "markdown",
      "metadata": {
        "id": "VuEnsRplb-d_"
      },
      "source": [
        "###metrics.py"
      ]
    },
    {
      "cell_type": "code",
      "execution_count": 16,
      "metadata": {
        "id": "Kk1_R5chbbW9",
        "colab": {
          "base_uri": "https://localhost:8080/",
          "height": 1000
        },
        "outputId": "0f930c59-756e-4a66-e834-d2d48eacda54"
      },
      "outputs": [
        {
          "output_type": "execute_result",
          "data": {
            "text/plain": [
              "         Date                                  company  symbol  \\\n",
              "0  2024-08-14                           Nictus Limited  NCS.JO   \n",
              "1  2024-08-14               The Foschini Group Limited  TFG.JO   \n",
              "2  2024-08-14        Wilson Bayly Holmes-Ovcon Limited  WBO.JO   \n",
              "3  2024-08-14                       The SPAR Group Ltd  SPP.JO   \n",
              "4  2024-08-14                   Mr Price Group Limited  MRP.JO   \n",
              "5  2024-08-14                         Grindrod Limited  GND.JO   \n",
              "6  2024-08-14      Frontier Transport Holdings Limited  FTH.JO   \n",
              "7  2024-08-14                              Tharisa plc  THA.JO   \n",
              "8  2024-08-14             York Timber Holdings Limited  YRK.JO   \n",
              "9  2024-08-14          Truworths International Limited  TRU.JO   \n",
              "10 2024-08-14           Growthpoint Properties Limited  GRT.JO   \n",
              "11 2024-08-14   Randgold & Exploration Company Limited  RNG.JO   \n",
              "12 2024-08-14                 OUTsurance Group Limited  OUT.JO   \n",
              "13 2024-08-14                 Crookes Brothers Limited  CKS.JO   \n",
              "14 2024-08-14                CA Sales Holdings Limited  CAA.JO   \n",
              "15 2024-08-14                        KAL Group Limited  KAL.JO   \n",
              "16 2024-08-14               Trellidor Holdings Limited  TRL.JO   \n",
              "17 2024-08-14                    AngloGold Ashanti plc  ANG.JO   \n",
              "18 2024-08-14                          Santova Limited  SNV.JO   \n",
              "19 2024-08-14             Texton Property Fund Limited  TEX.JO   \n",
              "20 2024-08-14                     Tiger Brands Limited  TBS.JO   \n",
              "21 2024-08-14                               MAS P.L.C.  MSP.JO   \n",
              "22 2024-08-14             Choppies Enterprises Limited  CHP.JO   \n",
              "23 2024-08-14              Dis-Chem Pharmacies Limited  DCP.JO   \n",
              "24 2024-08-14                        Transpaco Limited  TPC.JO   \n",
              "25 2024-08-14                              KAP Limited  KAP.JO   \n",
              "29 2024-08-14            Mahube Infrastructure Limited  MHB.JO   \n",
              "32 2024-08-14                       Absa Group Limited  ABG.JO   \n",
              "33 2024-08-14                Lesaka Technologies, Inc.  LSK.JO   \n",
              "37 2024-08-14  Hosken Consolidated Investments Limited  HCI.JO   \n",
              "38 2024-08-14         Grand Parade Investments Limited  GPL.JO   \n",
              "40 2024-08-14                     RMB Holdings Limited  RMH.JO   \n",
              "41 2024-08-14                Sun International Limited  SUI.JO   \n",
              "44 2024-08-14                  Adcorp Holdings Limited  ADR.JO   \n",
              "48 2024-08-14          Grindrod Shipping Holdings Ltd.  GSH.JO   \n",
              "\n",
              "    momentum_score  rank    Close  20_day_volatility  90_day_return  \\\n",
              "0      1744.945887   1.0     80.0           0.066667       0.002310   \n",
              "1         2.716209   2.0  13144.0           0.054692       0.003156   \n",
              "2         2.656110   3.0  18326.0           0.055980       0.003509   \n",
              "3         2.250935   4.0  12278.0           0.055927       0.002996   \n",
              "4         2.140414   5.0  22056.0           0.048945       0.002963   \n",
              "5         1.763600   6.0   1543.0           0.037366       0.002166   \n",
              "6         1.688734   7.0    721.0           0.127479       0.001325   \n",
              "7         1.633547   8.0   1900.0           0.145788       0.002817   \n",
              "8         1.578587   9.0    212.0           0.117182       0.002993   \n",
              "9         1.575724  10.0   9062.0           0.071716       0.002128   \n",
              "10        1.466907  11.0   1315.0           0.050354       0.001726   \n",
              "11        1.453227  12.0     91.0           0.451631       0.006454   \n",
              "12        1.449365  13.0   4711.0           0.045023       0.001330   \n",
              "13        1.298705  14.0   3151.0           0.114732       0.002937   \n",
              "14        1.235363  15.0   1340.0           0.108394       0.001817   \n",
              "15        1.069316  16.0   4750.0           0.087754       0.001911   \n",
              "16        0.977274  17.0    165.0           0.179506       0.001060   \n",
              "17        0.962665  18.0  55326.0           0.117308       0.002498   \n",
              "18        0.949974  19.0    770.0           0.083542       0.000352   \n",
              "19        0.890243  20.0    330.0           0.092656       0.001060   \n",
              "20        0.866251  21.0  22396.0           0.051221       0.000989   \n",
              "21        0.835333  22.0   1768.0           0.062954       0.000883   \n",
              "22        0.834047  23.0     66.0           0.183573       0.001630   \n",
              "23        0.825113  24.0   3594.0           0.061167       0.000982   \n",
              "24        0.814560  25.0   3251.0           0.154628       0.000186   \n",
              "25        0.757864  26.0    290.0           0.075157       0.000836   \n",
              "29        0.466890  30.0    490.0           0.099478       0.000947   \n",
              "32        0.365234  33.0  15317.0           0.072550       0.000415   \n",
              "33        0.358956  34.0   8334.0           0.142461       0.001702   \n",
              "37        0.298970  38.0  17895.0           0.062693       0.000254   \n",
              "38        0.271318  39.0    370.0           0.166131       0.001614   \n",
              "40        0.197192  41.0     42.0           0.048740       0.000542   \n",
              "41        0.177025  42.0   3921.0           0.063673       0.000618   \n",
              "44        0.149046  45.0    416.0           0.250152       0.001124   \n",
              "48        0.085563  49.0  25987.0           0.050671       0.002914   \n",
              "\n",
              "    100_day_mean  index_mean  stock_trend  market_trend    weight  \\\n",
              "0        57.8505  3751.93093         True          True  0.025358   \n",
              "1     11321.3300  3751.93093         True          True  0.030911   \n",
              "2     15444.4400  3751.93093         True          True  0.030199   \n",
              "3     10686.0000  3751.93093         True          True  0.030228   \n",
              "4     18908.3900  3751.93093         True          True  0.034540   \n",
              "5      1404.8600  3751.93093         True          True  0.045243   \n",
              "6       675.3300  3751.93093         True          True  0.013261   \n",
              "7      1748.7800  3751.93093         True          True  0.011596   \n",
              "8       180.3900  3751.93093         True          True  0.014427   \n",
              "9      8295.4100  3751.93093         True          True  0.023573   \n",
              "10     1155.2300  3751.93093         True          True  0.033573   \n",
              "11       68.7100  3751.93093         True          True  0.003743   \n",
              "12     4351.1400  3751.93093         True          True  0.037549   \n",
              "13     3025.6000  3751.93093         True          True  0.014735   \n",
              "14     1238.5200  3751.93093         True          True  0.015596   \n",
              "15     4527.8100  3751.93093         True          True  0.019265   \n",
              "16      163.5800  3751.93093         True          True  0.009418   \n",
              "17    46219.6300  3751.93093         True          True  0.014411   \n",
              "18      755.7600  3751.93093         True          True  0.020236   \n",
              "19      315.4200  3751.93093         True          True  0.018246   \n",
              "20    20594.3500  3751.93093         True          True  0.033005   \n",
              "21     1698.0500  3751.93093         True          True  0.026854   \n",
              "22       60.5100  3751.93093         True          True  0.009209   \n",
              "23     3340.4200  3751.93093         True          True  0.027638   \n",
              "24     3132.3100  3751.93093         True          True  0.010933   \n",
              "25      274.3300  3751.93093         True          True  0.022494   \n",
              "29      470.5600  3751.93093         True          True  0.016994   \n",
              "32    15307.7500  3751.93093         True          True  0.023302   \n",
              "33     8237.4600  3751.93093         True          True  0.011867   \n",
              "37    17515.6300  3751.93093         True          True  0.026966   \n",
              "38      343.0200  3751.93093         True          True  0.010176   \n",
              "40       40.0900  3751.93093         True          True  0.034685   \n",
              "41     3683.2200  3751.93093         True          True  0.026551   \n",
              "44      415.2200  3751.93093         True          True  0.006758   \n",
              "48    24467.9900  3751.93093         True          True  0.033364   \n",
              "\n",
              "           units          ZAR  \n",
              "0    4713.494083  3770.795266  \n",
              "1      34.969715  4596.419398  \n",
              "2      24.504276  4490.653550  \n",
              "3      36.609135  4494.869543  \n",
              "4      23.286861  5136.149965  \n",
              "5     436.012102  6727.666736  \n",
              "6     273.505549  1971.975007  \n",
              "7      90.753836  1724.322885  \n",
              "8    1011.918342  2145.266885  \n",
              "9      38.681187  3505.289138  \n",
              "10    379.647810  4992.368700  \n",
              "11    611.668699   556.618516  \n",
              "12    118.520847  5583.517116  \n",
              "13     69.535846  2191.074498  \n",
              "14    173.074456  2319.197705  \n",
              "15     60.308564  2864.656782  \n",
              "16    848.749837  1400.437230  \n",
              "17      3.873334  2142.960668  \n",
              "18    390.791764  3009.096582  \n",
              "19    822.153595  2713.106864  \n",
              "20     21.914024  4907.864761  \n",
              "21    225.859096  3993.188820  \n",
              "22   2074.865836  1369.411452  \n",
              "23    114.352292  4109.821373  \n",
              "24     50.007767  1625.752510  \n",
              "25   1153.380568  3344.803648  \n",
              "29    515.726227  2527.058511  \n",
              "32     22.621974  3465.007749  \n",
              "33     21.173503  1764.599702  \n",
              "37     22.407421  4009.807909  \n",
              "38    408.967838  1513.181000  \n",
              "40  12280.245209  5157.702988  \n",
              "41    100.690902  3948.090265  \n",
              "44    241.570910  1004.934988  \n",
              "48     19.090910  4961.154875  "
            ],
            "text/html": [
              "\n",
              "  <div id=\"df-2afe063e-625f-473a-861e-a708b17a122a\" class=\"colab-df-container\">\n",
              "    <div>\n",
              "<style scoped>\n",
              "    .dataframe tbody tr th:only-of-type {\n",
              "        vertical-align: middle;\n",
              "    }\n",
              "\n",
              "    .dataframe tbody tr th {\n",
              "        vertical-align: top;\n",
              "    }\n",
              "\n",
              "    .dataframe thead th {\n",
              "        text-align: right;\n",
              "    }\n",
              "</style>\n",
              "<table border=\"1\" class=\"dataframe\">\n",
              "  <thead>\n",
              "    <tr style=\"text-align: right;\">\n",
              "      <th></th>\n",
              "      <th>Date</th>\n",
              "      <th>company</th>\n",
              "      <th>symbol</th>\n",
              "      <th>momentum_score</th>\n",
              "      <th>rank</th>\n",
              "      <th>Close</th>\n",
              "      <th>20_day_volatility</th>\n",
              "      <th>90_day_return</th>\n",
              "      <th>100_day_mean</th>\n",
              "      <th>index_mean</th>\n",
              "      <th>stock_trend</th>\n",
              "      <th>market_trend</th>\n",
              "      <th>weight</th>\n",
              "      <th>units</th>\n",
              "      <th>ZAR</th>\n",
              "    </tr>\n",
              "  </thead>\n",
              "  <tbody>\n",
              "    <tr>\n",
              "      <th>0</th>\n",
              "      <td>2024-08-14</td>\n",
              "      <td>Nictus Limited</td>\n",
              "      <td>NCS.JO</td>\n",
              "      <td>1744.945887</td>\n",
              "      <td>1.0</td>\n",
              "      <td>80.0</td>\n",
              "      <td>0.066667</td>\n",
              "      <td>0.002310</td>\n",
              "      <td>57.8505</td>\n",
              "      <td>3751.93093</td>\n",
              "      <td>True</td>\n",
              "      <td>True</td>\n",
              "      <td>0.025358</td>\n",
              "      <td>4713.494083</td>\n",
              "      <td>3770.795266</td>\n",
              "    </tr>\n",
              "    <tr>\n",
              "      <th>1</th>\n",
              "      <td>2024-08-14</td>\n",
              "      <td>The Foschini Group Limited</td>\n",
              "      <td>TFG.JO</td>\n",
              "      <td>2.716209</td>\n",
              "      <td>2.0</td>\n",
              "      <td>13144.0</td>\n",
              "      <td>0.054692</td>\n",
              "      <td>0.003156</td>\n",
              "      <td>11321.3300</td>\n",
              "      <td>3751.93093</td>\n",
              "      <td>True</td>\n",
              "      <td>True</td>\n",
              "      <td>0.030911</td>\n",
              "      <td>34.969715</td>\n",
              "      <td>4596.419398</td>\n",
              "    </tr>\n",
              "    <tr>\n",
              "      <th>2</th>\n",
              "      <td>2024-08-14</td>\n",
              "      <td>Wilson Bayly Holmes-Ovcon Limited</td>\n",
              "      <td>WBO.JO</td>\n",
              "      <td>2.656110</td>\n",
              "      <td>3.0</td>\n",
              "      <td>18326.0</td>\n",
              "      <td>0.055980</td>\n",
              "      <td>0.003509</td>\n",
              "      <td>15444.4400</td>\n",
              "      <td>3751.93093</td>\n",
              "      <td>True</td>\n",
              "      <td>True</td>\n",
              "      <td>0.030199</td>\n",
              "      <td>24.504276</td>\n",
              "      <td>4490.653550</td>\n",
              "    </tr>\n",
              "    <tr>\n",
              "      <th>3</th>\n",
              "      <td>2024-08-14</td>\n",
              "      <td>The SPAR Group Ltd</td>\n",
              "      <td>SPP.JO</td>\n",
              "      <td>2.250935</td>\n",
              "      <td>4.0</td>\n",
              "      <td>12278.0</td>\n",
              "      <td>0.055927</td>\n",
              "      <td>0.002996</td>\n",
              "      <td>10686.0000</td>\n",
              "      <td>3751.93093</td>\n",
              "      <td>True</td>\n",
              "      <td>True</td>\n",
              "      <td>0.030228</td>\n",
              "      <td>36.609135</td>\n",
              "      <td>4494.869543</td>\n",
              "    </tr>\n",
              "    <tr>\n",
              "      <th>4</th>\n",
              "      <td>2024-08-14</td>\n",
              "      <td>Mr Price Group Limited</td>\n",
              "      <td>MRP.JO</td>\n",
              "      <td>2.140414</td>\n",
              "      <td>5.0</td>\n",
              "      <td>22056.0</td>\n",
              "      <td>0.048945</td>\n",
              "      <td>0.002963</td>\n",
              "      <td>18908.3900</td>\n",
              "      <td>3751.93093</td>\n",
              "      <td>True</td>\n",
              "      <td>True</td>\n",
              "      <td>0.034540</td>\n",
              "      <td>23.286861</td>\n",
              "      <td>5136.149965</td>\n",
              "    </tr>\n",
              "    <tr>\n",
              "      <th>5</th>\n",
              "      <td>2024-08-14</td>\n",
              "      <td>Grindrod Limited</td>\n",
              "      <td>GND.JO</td>\n",
              "      <td>1.763600</td>\n",
              "      <td>6.0</td>\n",
              "      <td>1543.0</td>\n",
              "      <td>0.037366</td>\n",
              "      <td>0.002166</td>\n",
              "      <td>1404.8600</td>\n",
              "      <td>3751.93093</td>\n",
              "      <td>True</td>\n",
              "      <td>True</td>\n",
              "      <td>0.045243</td>\n",
              "      <td>436.012102</td>\n",
              "      <td>6727.666736</td>\n",
              "    </tr>\n",
              "    <tr>\n",
              "      <th>6</th>\n",
              "      <td>2024-08-14</td>\n",
              "      <td>Frontier Transport Holdings Limited</td>\n",
              "      <td>FTH.JO</td>\n",
              "      <td>1.688734</td>\n",
              "      <td>7.0</td>\n",
              "      <td>721.0</td>\n",
              "      <td>0.127479</td>\n",
              "      <td>0.001325</td>\n",
              "      <td>675.3300</td>\n",
              "      <td>3751.93093</td>\n",
              "      <td>True</td>\n",
              "      <td>True</td>\n",
              "      <td>0.013261</td>\n",
              "      <td>273.505549</td>\n",
              "      <td>1971.975007</td>\n",
              "    </tr>\n",
              "    <tr>\n",
              "      <th>7</th>\n",
              "      <td>2024-08-14</td>\n",
              "      <td>Tharisa plc</td>\n",
              "      <td>THA.JO</td>\n",
              "      <td>1.633547</td>\n",
              "      <td>8.0</td>\n",
              "      <td>1900.0</td>\n",
              "      <td>0.145788</td>\n",
              "      <td>0.002817</td>\n",
              "      <td>1748.7800</td>\n",
              "      <td>3751.93093</td>\n",
              "      <td>True</td>\n",
              "      <td>True</td>\n",
              "      <td>0.011596</td>\n",
              "      <td>90.753836</td>\n",
              "      <td>1724.322885</td>\n",
              "    </tr>\n",
              "    <tr>\n",
              "      <th>8</th>\n",
              "      <td>2024-08-14</td>\n",
              "      <td>York Timber Holdings Limited</td>\n",
              "      <td>YRK.JO</td>\n",
              "      <td>1.578587</td>\n",
              "      <td>9.0</td>\n",
              "      <td>212.0</td>\n",
              "      <td>0.117182</td>\n",
              "      <td>0.002993</td>\n",
              "      <td>180.3900</td>\n",
              "      <td>3751.93093</td>\n",
              "      <td>True</td>\n",
              "      <td>True</td>\n",
              "      <td>0.014427</td>\n",
              "      <td>1011.918342</td>\n",
              "      <td>2145.266885</td>\n",
              "    </tr>\n",
              "    <tr>\n",
              "      <th>9</th>\n",
              "      <td>2024-08-14</td>\n",
              "      <td>Truworths International Limited</td>\n",
              "      <td>TRU.JO</td>\n",
              "      <td>1.575724</td>\n",
              "      <td>10.0</td>\n",
              "      <td>9062.0</td>\n",
              "      <td>0.071716</td>\n",
              "      <td>0.002128</td>\n",
              "      <td>8295.4100</td>\n",
              "      <td>3751.93093</td>\n",
              "      <td>True</td>\n",
              "      <td>True</td>\n",
              "      <td>0.023573</td>\n",
              "      <td>38.681187</td>\n",
              "      <td>3505.289138</td>\n",
              "    </tr>\n",
              "    <tr>\n",
              "      <th>10</th>\n",
              "      <td>2024-08-14</td>\n",
              "      <td>Growthpoint Properties Limited</td>\n",
              "      <td>GRT.JO</td>\n",
              "      <td>1.466907</td>\n",
              "      <td>11.0</td>\n",
              "      <td>1315.0</td>\n",
              "      <td>0.050354</td>\n",
              "      <td>0.001726</td>\n",
              "      <td>1155.2300</td>\n",
              "      <td>3751.93093</td>\n",
              "      <td>True</td>\n",
              "      <td>True</td>\n",
              "      <td>0.033573</td>\n",
              "      <td>379.647810</td>\n",
              "      <td>4992.368700</td>\n",
              "    </tr>\n",
              "    <tr>\n",
              "      <th>11</th>\n",
              "      <td>2024-08-14</td>\n",
              "      <td>Randgold &amp; Exploration Company Limited</td>\n",
              "      <td>RNG.JO</td>\n",
              "      <td>1.453227</td>\n",
              "      <td>12.0</td>\n",
              "      <td>91.0</td>\n",
              "      <td>0.451631</td>\n",
              "      <td>0.006454</td>\n",
              "      <td>68.7100</td>\n",
              "      <td>3751.93093</td>\n",
              "      <td>True</td>\n",
              "      <td>True</td>\n",
              "      <td>0.003743</td>\n",
              "      <td>611.668699</td>\n",
              "      <td>556.618516</td>\n",
              "    </tr>\n",
              "    <tr>\n",
              "      <th>12</th>\n",
              "      <td>2024-08-14</td>\n",
              "      <td>OUTsurance Group Limited</td>\n",
              "      <td>OUT.JO</td>\n",
              "      <td>1.449365</td>\n",
              "      <td>13.0</td>\n",
              "      <td>4711.0</td>\n",
              "      <td>0.045023</td>\n",
              "      <td>0.001330</td>\n",
              "      <td>4351.1400</td>\n",
              "      <td>3751.93093</td>\n",
              "      <td>True</td>\n",
              "      <td>True</td>\n",
              "      <td>0.037549</td>\n",
              "      <td>118.520847</td>\n",
              "      <td>5583.517116</td>\n",
              "    </tr>\n",
              "    <tr>\n",
              "      <th>13</th>\n",
              "      <td>2024-08-14</td>\n",
              "      <td>Crookes Brothers Limited</td>\n",
              "      <td>CKS.JO</td>\n",
              "      <td>1.298705</td>\n",
              "      <td>14.0</td>\n",
              "      <td>3151.0</td>\n",
              "      <td>0.114732</td>\n",
              "      <td>0.002937</td>\n",
              "      <td>3025.6000</td>\n",
              "      <td>3751.93093</td>\n",
              "      <td>True</td>\n",
              "      <td>True</td>\n",
              "      <td>0.014735</td>\n",
              "      <td>69.535846</td>\n",
              "      <td>2191.074498</td>\n",
              "    </tr>\n",
              "    <tr>\n",
              "      <th>14</th>\n",
              "      <td>2024-08-14</td>\n",
              "      <td>CA Sales Holdings Limited</td>\n",
              "      <td>CAA.JO</td>\n",
              "      <td>1.235363</td>\n",
              "      <td>15.0</td>\n",
              "      <td>1340.0</td>\n",
              "      <td>0.108394</td>\n",
              "      <td>0.001817</td>\n",
              "      <td>1238.5200</td>\n",
              "      <td>3751.93093</td>\n",
              "      <td>True</td>\n",
              "      <td>True</td>\n",
              "      <td>0.015596</td>\n",
              "      <td>173.074456</td>\n",
              "      <td>2319.197705</td>\n",
              "    </tr>\n",
              "    <tr>\n",
              "      <th>15</th>\n",
              "      <td>2024-08-14</td>\n",
              "      <td>KAL Group Limited</td>\n",
              "      <td>KAL.JO</td>\n",
              "      <td>1.069316</td>\n",
              "      <td>16.0</td>\n",
              "      <td>4750.0</td>\n",
              "      <td>0.087754</td>\n",
              "      <td>0.001911</td>\n",
              "      <td>4527.8100</td>\n",
              "      <td>3751.93093</td>\n",
              "      <td>True</td>\n",
              "      <td>True</td>\n",
              "      <td>0.019265</td>\n",
              "      <td>60.308564</td>\n",
              "      <td>2864.656782</td>\n",
              "    </tr>\n",
              "    <tr>\n",
              "      <th>16</th>\n",
              "      <td>2024-08-14</td>\n",
              "      <td>Trellidor Holdings Limited</td>\n",
              "      <td>TRL.JO</td>\n",
              "      <td>0.977274</td>\n",
              "      <td>17.0</td>\n",
              "      <td>165.0</td>\n",
              "      <td>0.179506</td>\n",
              "      <td>0.001060</td>\n",
              "      <td>163.5800</td>\n",
              "      <td>3751.93093</td>\n",
              "      <td>True</td>\n",
              "      <td>True</td>\n",
              "      <td>0.009418</td>\n",
              "      <td>848.749837</td>\n",
              "      <td>1400.437230</td>\n",
              "    </tr>\n",
              "    <tr>\n",
              "      <th>17</th>\n",
              "      <td>2024-08-14</td>\n",
              "      <td>AngloGold Ashanti plc</td>\n",
              "      <td>ANG.JO</td>\n",
              "      <td>0.962665</td>\n",
              "      <td>18.0</td>\n",
              "      <td>55326.0</td>\n",
              "      <td>0.117308</td>\n",
              "      <td>0.002498</td>\n",
              "      <td>46219.6300</td>\n",
              "      <td>3751.93093</td>\n",
              "      <td>True</td>\n",
              "      <td>True</td>\n",
              "      <td>0.014411</td>\n",
              "      <td>3.873334</td>\n",
              "      <td>2142.960668</td>\n",
              "    </tr>\n",
              "    <tr>\n",
              "      <th>18</th>\n",
              "      <td>2024-08-14</td>\n",
              "      <td>Santova Limited</td>\n",
              "      <td>SNV.JO</td>\n",
              "      <td>0.949974</td>\n",
              "      <td>19.0</td>\n",
              "      <td>770.0</td>\n",
              "      <td>0.083542</td>\n",
              "      <td>0.000352</td>\n",
              "      <td>755.7600</td>\n",
              "      <td>3751.93093</td>\n",
              "      <td>True</td>\n",
              "      <td>True</td>\n",
              "      <td>0.020236</td>\n",
              "      <td>390.791764</td>\n",
              "      <td>3009.096582</td>\n",
              "    </tr>\n",
              "    <tr>\n",
              "      <th>19</th>\n",
              "      <td>2024-08-14</td>\n",
              "      <td>Texton Property Fund Limited</td>\n",
              "      <td>TEX.JO</td>\n",
              "      <td>0.890243</td>\n",
              "      <td>20.0</td>\n",
              "      <td>330.0</td>\n",
              "      <td>0.092656</td>\n",
              "      <td>0.001060</td>\n",
              "      <td>315.4200</td>\n",
              "      <td>3751.93093</td>\n",
              "      <td>True</td>\n",
              "      <td>True</td>\n",
              "      <td>0.018246</td>\n",
              "      <td>822.153595</td>\n",
              "      <td>2713.106864</td>\n",
              "    </tr>\n",
              "    <tr>\n",
              "      <th>20</th>\n",
              "      <td>2024-08-14</td>\n",
              "      <td>Tiger Brands Limited</td>\n",
              "      <td>TBS.JO</td>\n",
              "      <td>0.866251</td>\n",
              "      <td>21.0</td>\n",
              "      <td>22396.0</td>\n",
              "      <td>0.051221</td>\n",
              "      <td>0.000989</td>\n",
              "      <td>20594.3500</td>\n",
              "      <td>3751.93093</td>\n",
              "      <td>True</td>\n",
              "      <td>True</td>\n",
              "      <td>0.033005</td>\n",
              "      <td>21.914024</td>\n",
              "      <td>4907.864761</td>\n",
              "    </tr>\n",
              "    <tr>\n",
              "      <th>21</th>\n",
              "      <td>2024-08-14</td>\n",
              "      <td>MAS P.L.C.</td>\n",
              "      <td>MSP.JO</td>\n",
              "      <td>0.835333</td>\n",
              "      <td>22.0</td>\n",
              "      <td>1768.0</td>\n",
              "      <td>0.062954</td>\n",
              "      <td>0.000883</td>\n",
              "      <td>1698.0500</td>\n",
              "      <td>3751.93093</td>\n",
              "      <td>True</td>\n",
              "      <td>True</td>\n",
              "      <td>0.026854</td>\n",
              "      <td>225.859096</td>\n",
              "      <td>3993.188820</td>\n",
              "    </tr>\n",
              "    <tr>\n",
              "      <th>22</th>\n",
              "      <td>2024-08-14</td>\n",
              "      <td>Choppies Enterprises Limited</td>\n",
              "      <td>CHP.JO</td>\n",
              "      <td>0.834047</td>\n",
              "      <td>23.0</td>\n",
              "      <td>66.0</td>\n",
              "      <td>0.183573</td>\n",
              "      <td>0.001630</td>\n",
              "      <td>60.5100</td>\n",
              "      <td>3751.93093</td>\n",
              "      <td>True</td>\n",
              "      <td>True</td>\n",
              "      <td>0.009209</td>\n",
              "      <td>2074.865836</td>\n",
              "      <td>1369.411452</td>\n",
              "    </tr>\n",
              "    <tr>\n",
              "      <th>23</th>\n",
              "      <td>2024-08-14</td>\n",
              "      <td>Dis-Chem Pharmacies Limited</td>\n",
              "      <td>DCP.JO</td>\n",
              "      <td>0.825113</td>\n",
              "      <td>24.0</td>\n",
              "      <td>3594.0</td>\n",
              "      <td>0.061167</td>\n",
              "      <td>0.000982</td>\n",
              "      <td>3340.4200</td>\n",
              "      <td>3751.93093</td>\n",
              "      <td>True</td>\n",
              "      <td>True</td>\n",
              "      <td>0.027638</td>\n",
              "      <td>114.352292</td>\n",
              "      <td>4109.821373</td>\n",
              "    </tr>\n",
              "    <tr>\n",
              "      <th>24</th>\n",
              "      <td>2024-08-14</td>\n",
              "      <td>Transpaco Limited</td>\n",
              "      <td>TPC.JO</td>\n",
              "      <td>0.814560</td>\n",
              "      <td>25.0</td>\n",
              "      <td>3251.0</td>\n",
              "      <td>0.154628</td>\n",
              "      <td>0.000186</td>\n",
              "      <td>3132.3100</td>\n",
              "      <td>3751.93093</td>\n",
              "      <td>True</td>\n",
              "      <td>True</td>\n",
              "      <td>0.010933</td>\n",
              "      <td>50.007767</td>\n",
              "      <td>1625.752510</td>\n",
              "    </tr>\n",
              "    <tr>\n",
              "      <th>25</th>\n",
              "      <td>2024-08-14</td>\n",
              "      <td>KAP Limited</td>\n",
              "      <td>KAP.JO</td>\n",
              "      <td>0.757864</td>\n",
              "      <td>26.0</td>\n",
              "      <td>290.0</td>\n",
              "      <td>0.075157</td>\n",
              "      <td>0.000836</td>\n",
              "      <td>274.3300</td>\n",
              "      <td>3751.93093</td>\n",
              "      <td>True</td>\n",
              "      <td>True</td>\n",
              "      <td>0.022494</td>\n",
              "      <td>1153.380568</td>\n",
              "      <td>3344.803648</td>\n",
              "    </tr>\n",
              "    <tr>\n",
              "      <th>29</th>\n",
              "      <td>2024-08-14</td>\n",
              "      <td>Mahube Infrastructure Limited</td>\n",
              "      <td>MHB.JO</td>\n",
              "      <td>0.466890</td>\n",
              "      <td>30.0</td>\n",
              "      <td>490.0</td>\n",
              "      <td>0.099478</td>\n",
              "      <td>0.000947</td>\n",
              "      <td>470.5600</td>\n",
              "      <td>3751.93093</td>\n",
              "      <td>True</td>\n",
              "      <td>True</td>\n",
              "      <td>0.016994</td>\n",
              "      <td>515.726227</td>\n",
              "      <td>2527.058511</td>\n",
              "    </tr>\n",
              "    <tr>\n",
              "      <th>32</th>\n",
              "      <td>2024-08-14</td>\n",
              "      <td>Absa Group Limited</td>\n",
              "      <td>ABG.JO</td>\n",
              "      <td>0.365234</td>\n",
              "      <td>33.0</td>\n",
              "      <td>15317.0</td>\n",
              "      <td>0.072550</td>\n",
              "      <td>0.000415</td>\n",
              "      <td>15307.7500</td>\n",
              "      <td>3751.93093</td>\n",
              "      <td>True</td>\n",
              "      <td>True</td>\n",
              "      <td>0.023302</td>\n",
              "      <td>22.621974</td>\n",
              "      <td>3465.007749</td>\n",
              "    </tr>\n",
              "    <tr>\n",
              "      <th>33</th>\n",
              "      <td>2024-08-14</td>\n",
              "      <td>Lesaka Technologies, Inc.</td>\n",
              "      <td>LSK.JO</td>\n",
              "      <td>0.358956</td>\n",
              "      <td>34.0</td>\n",
              "      <td>8334.0</td>\n",
              "      <td>0.142461</td>\n",
              "      <td>0.001702</td>\n",
              "      <td>8237.4600</td>\n",
              "      <td>3751.93093</td>\n",
              "      <td>True</td>\n",
              "      <td>True</td>\n",
              "      <td>0.011867</td>\n",
              "      <td>21.173503</td>\n",
              "      <td>1764.599702</td>\n",
              "    </tr>\n",
              "    <tr>\n",
              "      <th>37</th>\n",
              "      <td>2024-08-14</td>\n",
              "      <td>Hosken Consolidated Investments Limited</td>\n",
              "      <td>HCI.JO</td>\n",
              "      <td>0.298970</td>\n",
              "      <td>38.0</td>\n",
              "      <td>17895.0</td>\n",
              "      <td>0.062693</td>\n",
              "      <td>0.000254</td>\n",
              "      <td>17515.6300</td>\n",
              "      <td>3751.93093</td>\n",
              "      <td>True</td>\n",
              "      <td>True</td>\n",
              "      <td>0.026966</td>\n",
              "      <td>22.407421</td>\n",
              "      <td>4009.807909</td>\n",
              "    </tr>\n",
              "    <tr>\n",
              "      <th>38</th>\n",
              "      <td>2024-08-14</td>\n",
              "      <td>Grand Parade Investments Limited</td>\n",
              "      <td>GPL.JO</td>\n",
              "      <td>0.271318</td>\n",
              "      <td>39.0</td>\n",
              "      <td>370.0</td>\n",
              "      <td>0.166131</td>\n",
              "      <td>0.001614</td>\n",
              "      <td>343.0200</td>\n",
              "      <td>3751.93093</td>\n",
              "      <td>True</td>\n",
              "      <td>True</td>\n",
              "      <td>0.010176</td>\n",
              "      <td>408.967838</td>\n",
              "      <td>1513.181000</td>\n",
              "    </tr>\n",
              "    <tr>\n",
              "      <th>40</th>\n",
              "      <td>2024-08-14</td>\n",
              "      <td>RMB Holdings Limited</td>\n",
              "      <td>RMH.JO</td>\n",
              "      <td>0.197192</td>\n",
              "      <td>41.0</td>\n",
              "      <td>42.0</td>\n",
              "      <td>0.048740</td>\n",
              "      <td>0.000542</td>\n",
              "      <td>40.0900</td>\n",
              "      <td>3751.93093</td>\n",
              "      <td>True</td>\n",
              "      <td>True</td>\n",
              "      <td>0.034685</td>\n",
              "      <td>12280.245209</td>\n",
              "      <td>5157.702988</td>\n",
              "    </tr>\n",
              "    <tr>\n",
              "      <th>41</th>\n",
              "      <td>2024-08-14</td>\n",
              "      <td>Sun International Limited</td>\n",
              "      <td>SUI.JO</td>\n",
              "      <td>0.177025</td>\n",
              "      <td>42.0</td>\n",
              "      <td>3921.0</td>\n",
              "      <td>0.063673</td>\n",
              "      <td>0.000618</td>\n",
              "      <td>3683.2200</td>\n",
              "      <td>3751.93093</td>\n",
              "      <td>True</td>\n",
              "      <td>True</td>\n",
              "      <td>0.026551</td>\n",
              "      <td>100.690902</td>\n",
              "      <td>3948.090265</td>\n",
              "    </tr>\n",
              "    <tr>\n",
              "      <th>44</th>\n",
              "      <td>2024-08-14</td>\n",
              "      <td>Adcorp Holdings Limited</td>\n",
              "      <td>ADR.JO</td>\n",
              "      <td>0.149046</td>\n",
              "      <td>45.0</td>\n",
              "      <td>416.0</td>\n",
              "      <td>0.250152</td>\n",
              "      <td>0.001124</td>\n",
              "      <td>415.2200</td>\n",
              "      <td>3751.93093</td>\n",
              "      <td>True</td>\n",
              "      <td>True</td>\n",
              "      <td>0.006758</td>\n",
              "      <td>241.570910</td>\n",
              "      <td>1004.934988</td>\n",
              "    </tr>\n",
              "    <tr>\n",
              "      <th>48</th>\n",
              "      <td>2024-08-14</td>\n",
              "      <td>Grindrod Shipping Holdings Ltd.</td>\n",
              "      <td>GSH.JO</td>\n",
              "      <td>0.085563</td>\n",
              "      <td>49.0</td>\n",
              "      <td>25987.0</td>\n",
              "      <td>0.050671</td>\n",
              "      <td>0.002914</td>\n",
              "      <td>24467.9900</td>\n",
              "      <td>3751.93093</td>\n",
              "      <td>True</td>\n",
              "      <td>True</td>\n",
              "      <td>0.033364</td>\n",
              "      <td>19.090910</td>\n",
              "      <td>4961.154875</td>\n",
              "    </tr>\n",
              "  </tbody>\n",
              "</table>\n",
              "</div>\n",
              "    <div class=\"colab-df-buttons\">\n",
              "\n",
              "  <div class=\"colab-df-container\">\n",
              "    <button class=\"colab-df-convert\" onclick=\"convertToInteractive('df-2afe063e-625f-473a-861e-a708b17a122a')\"\n",
              "            title=\"Convert this dataframe to an interactive table.\"\n",
              "            style=\"display:none;\">\n",
              "\n",
              "  <svg xmlns=\"http://www.w3.org/2000/svg\" height=\"24px\" viewBox=\"0 -960 960 960\">\n",
              "    <path d=\"M120-120v-720h720v720H120Zm60-500h600v-160H180v160Zm220 220h160v-160H400v160Zm0 220h160v-160H400v160ZM180-400h160v-160H180v160Zm440 0h160v-160H620v160ZM180-180h160v-160H180v160Zm440 0h160v-160H620v160Z\"/>\n",
              "  </svg>\n",
              "    </button>\n",
              "\n",
              "  <style>\n",
              "    .colab-df-container {\n",
              "      display:flex;\n",
              "      gap: 12px;\n",
              "    }\n",
              "\n",
              "    .colab-df-convert {\n",
              "      background-color: #E8F0FE;\n",
              "      border: none;\n",
              "      border-radius: 50%;\n",
              "      cursor: pointer;\n",
              "      display: none;\n",
              "      fill: #1967D2;\n",
              "      height: 32px;\n",
              "      padding: 0 0 0 0;\n",
              "      width: 32px;\n",
              "    }\n",
              "\n",
              "    .colab-df-convert:hover {\n",
              "      background-color: #E2EBFA;\n",
              "      box-shadow: 0px 1px 2px rgba(60, 64, 67, 0.3), 0px 1px 3px 1px rgba(60, 64, 67, 0.15);\n",
              "      fill: #174EA6;\n",
              "    }\n",
              "\n",
              "    .colab-df-buttons div {\n",
              "      margin-bottom: 4px;\n",
              "    }\n",
              "\n",
              "    [theme=dark] .colab-df-convert {\n",
              "      background-color: #3B4455;\n",
              "      fill: #D2E3FC;\n",
              "    }\n",
              "\n",
              "    [theme=dark] .colab-df-convert:hover {\n",
              "      background-color: #434B5C;\n",
              "      box-shadow: 0px 1px 3px 1px rgba(0, 0, 0, 0.15);\n",
              "      filter: drop-shadow(0px 1px 2px rgba(0, 0, 0, 0.3));\n",
              "      fill: #FFFFFF;\n",
              "    }\n",
              "  </style>\n",
              "\n",
              "    <script>\n",
              "      const buttonEl =\n",
              "        document.querySelector('#df-2afe063e-625f-473a-861e-a708b17a122a button.colab-df-convert');\n",
              "      buttonEl.style.display =\n",
              "        google.colab.kernel.accessAllowed ? 'block' : 'none';\n",
              "\n",
              "      async function convertToInteractive(key) {\n",
              "        const element = document.querySelector('#df-2afe063e-625f-473a-861e-a708b17a122a');\n",
              "        const dataTable =\n",
              "          await google.colab.kernel.invokeFunction('convertToInteractive',\n",
              "                                                    [key], {});\n",
              "        if (!dataTable) return;\n",
              "\n",
              "        const docLinkHtml = 'Like what you see? Visit the ' +\n",
              "          '<a target=\"_blank\" href=https://colab.research.google.com/notebooks/data_table.ipynb>data table notebook</a>'\n",
              "          + ' to learn more about interactive tables.';\n",
              "        element.innerHTML = '';\n",
              "        dataTable['output_type'] = 'display_data';\n",
              "        await google.colab.output.renderOutput(dataTable, element);\n",
              "        const docLink = document.createElement('div');\n",
              "        docLink.innerHTML = docLinkHtml;\n",
              "        element.appendChild(docLink);\n",
              "      }\n",
              "    </script>\n",
              "  </div>\n",
              "\n",
              "\n",
              "<div id=\"df-c1c59bca-4ebc-4ef8-af72-109ad7d50773\">\n",
              "  <button class=\"colab-df-quickchart\" onclick=\"quickchart('df-c1c59bca-4ebc-4ef8-af72-109ad7d50773')\"\n",
              "            title=\"Suggest charts\"\n",
              "            style=\"display:none;\">\n",
              "\n",
              "<svg xmlns=\"http://www.w3.org/2000/svg\" height=\"24px\"viewBox=\"0 0 24 24\"\n",
              "     width=\"24px\">\n",
              "    <g>\n",
              "        <path d=\"M19 3H5c-1.1 0-2 .9-2 2v14c0 1.1.9 2 2 2h14c1.1 0 2-.9 2-2V5c0-1.1-.9-2-2-2zM9 17H7v-7h2v7zm4 0h-2V7h2v10zm4 0h-2v-4h2v4z\"/>\n",
              "    </g>\n",
              "</svg>\n",
              "  </button>\n",
              "\n",
              "<style>\n",
              "  .colab-df-quickchart {\n",
              "      --bg-color: #E8F0FE;\n",
              "      --fill-color: #1967D2;\n",
              "      --hover-bg-color: #E2EBFA;\n",
              "      --hover-fill-color: #174EA6;\n",
              "      --disabled-fill-color: #AAA;\n",
              "      --disabled-bg-color: #DDD;\n",
              "  }\n",
              "\n",
              "  [theme=dark] .colab-df-quickchart {\n",
              "      --bg-color: #3B4455;\n",
              "      --fill-color: #D2E3FC;\n",
              "      --hover-bg-color: #434B5C;\n",
              "      --hover-fill-color: #FFFFFF;\n",
              "      --disabled-bg-color: #3B4455;\n",
              "      --disabled-fill-color: #666;\n",
              "  }\n",
              "\n",
              "  .colab-df-quickchart {\n",
              "    background-color: var(--bg-color);\n",
              "    border: none;\n",
              "    border-radius: 50%;\n",
              "    cursor: pointer;\n",
              "    display: none;\n",
              "    fill: var(--fill-color);\n",
              "    height: 32px;\n",
              "    padding: 0;\n",
              "    width: 32px;\n",
              "  }\n",
              "\n",
              "  .colab-df-quickchart:hover {\n",
              "    background-color: var(--hover-bg-color);\n",
              "    box-shadow: 0 1px 2px rgba(60, 64, 67, 0.3), 0 1px 3px 1px rgba(60, 64, 67, 0.15);\n",
              "    fill: var(--button-hover-fill-color);\n",
              "  }\n",
              "\n",
              "  .colab-df-quickchart-complete:disabled,\n",
              "  .colab-df-quickchart-complete:disabled:hover {\n",
              "    background-color: var(--disabled-bg-color);\n",
              "    fill: var(--disabled-fill-color);\n",
              "    box-shadow: none;\n",
              "  }\n",
              "\n",
              "  .colab-df-spinner {\n",
              "    border: 2px solid var(--fill-color);\n",
              "    border-color: transparent;\n",
              "    border-bottom-color: var(--fill-color);\n",
              "    animation:\n",
              "      spin 1s steps(1) infinite;\n",
              "  }\n",
              "\n",
              "  @keyframes spin {\n",
              "    0% {\n",
              "      border-color: transparent;\n",
              "      border-bottom-color: var(--fill-color);\n",
              "      border-left-color: var(--fill-color);\n",
              "    }\n",
              "    20% {\n",
              "      border-color: transparent;\n",
              "      border-left-color: var(--fill-color);\n",
              "      border-top-color: var(--fill-color);\n",
              "    }\n",
              "    30% {\n",
              "      border-color: transparent;\n",
              "      border-left-color: var(--fill-color);\n",
              "      border-top-color: var(--fill-color);\n",
              "      border-right-color: var(--fill-color);\n",
              "    }\n",
              "    40% {\n",
              "      border-color: transparent;\n",
              "      border-right-color: var(--fill-color);\n",
              "      border-top-color: var(--fill-color);\n",
              "    }\n",
              "    60% {\n",
              "      border-color: transparent;\n",
              "      border-right-color: var(--fill-color);\n",
              "    }\n",
              "    80% {\n",
              "      border-color: transparent;\n",
              "      border-right-color: var(--fill-color);\n",
              "      border-bottom-color: var(--fill-color);\n",
              "    }\n",
              "    90% {\n",
              "      border-color: transparent;\n",
              "      border-bottom-color: var(--fill-color);\n",
              "    }\n",
              "  }\n",
              "</style>\n",
              "\n",
              "  <script>\n",
              "    async function quickchart(key) {\n",
              "      const quickchartButtonEl =\n",
              "        document.querySelector('#' + key + ' button');\n",
              "      quickchartButtonEl.disabled = true;  // To prevent multiple clicks.\n",
              "      quickchartButtonEl.classList.add('colab-df-spinner');\n",
              "      try {\n",
              "        const charts = await google.colab.kernel.invokeFunction(\n",
              "            'suggestCharts', [key], {});\n",
              "      } catch (error) {\n",
              "        console.error('Error during call to suggestCharts:', error);\n",
              "      }\n",
              "      quickchartButtonEl.classList.remove('colab-df-spinner');\n",
              "      quickchartButtonEl.classList.add('colab-df-quickchart-complete');\n",
              "    }\n",
              "    (() => {\n",
              "      let quickchartButtonEl =\n",
              "        document.querySelector('#df-c1c59bca-4ebc-4ef8-af72-109ad7d50773 button');\n",
              "      quickchartButtonEl.style.display =\n",
              "        google.colab.kernel.accessAllowed ? 'block' : 'none';\n",
              "    })();\n",
              "  </script>\n",
              "</div>\n",
              "\n",
              "  <div id=\"id_189f7994-aca5-4e6e-be01-70b4c4d79986\">\n",
              "    <style>\n",
              "      .colab-df-generate {\n",
              "        background-color: #E8F0FE;\n",
              "        border: none;\n",
              "        border-radius: 50%;\n",
              "        cursor: pointer;\n",
              "        display: none;\n",
              "        fill: #1967D2;\n",
              "        height: 32px;\n",
              "        padding: 0 0 0 0;\n",
              "        width: 32px;\n",
              "      }\n",
              "\n",
              "      .colab-df-generate:hover {\n",
              "        background-color: #E2EBFA;\n",
              "        box-shadow: 0px 1px 2px rgba(60, 64, 67, 0.3), 0px 1px 3px 1px rgba(60, 64, 67, 0.15);\n",
              "        fill: #174EA6;\n",
              "      }\n",
              "\n",
              "      [theme=dark] .colab-df-generate {\n",
              "        background-color: #3B4455;\n",
              "        fill: #D2E3FC;\n",
              "      }\n",
              "\n",
              "      [theme=dark] .colab-df-generate:hover {\n",
              "        background-color: #434B5C;\n",
              "        box-shadow: 0px 1px 3px 1px rgba(0, 0, 0, 0.15);\n",
              "        filter: drop-shadow(0px 1px 2px rgba(0, 0, 0, 0.3));\n",
              "        fill: #FFFFFF;\n",
              "      }\n",
              "    </style>\n",
              "    <button class=\"colab-df-generate\" onclick=\"generateWithVariable('updated_df')\"\n",
              "            title=\"Generate code using this dataframe.\"\n",
              "            style=\"display:none;\">\n",
              "\n",
              "  <svg xmlns=\"http://www.w3.org/2000/svg\" height=\"24px\"viewBox=\"0 0 24 24\"\n",
              "       width=\"24px\">\n",
              "    <path d=\"M7,19H8.4L18.45,9,17,7.55,7,17.6ZM5,21V16.75L18.45,3.32a2,2,0,0,1,2.83,0l1.4,1.43a1.91,1.91,0,0,1,.58,1.4,1.91,1.91,0,0,1-.58,1.4L9.25,21ZM18.45,9,17,7.55Zm-12,3A5.31,5.31,0,0,0,4.9,8.1,5.31,5.31,0,0,0,1,6.5,5.31,5.31,0,0,0,4.9,4.9,5.31,5.31,0,0,0,6.5,1,5.31,5.31,0,0,0,8.1,4.9,5.31,5.31,0,0,0,12,6.5,5.46,5.46,0,0,0,6.5,12Z\"/>\n",
              "  </svg>\n",
              "    </button>\n",
              "    <script>\n",
              "      (() => {\n",
              "      const buttonEl =\n",
              "        document.querySelector('#id_189f7994-aca5-4e6e-be01-70b4c4d79986 button.colab-df-generate');\n",
              "      buttonEl.style.display =\n",
              "        google.colab.kernel.accessAllowed ? 'block' : 'none';\n",
              "\n",
              "      buttonEl.onclick = () => {\n",
              "        google.colab.notebook.generateWithVariable('updated_df');\n",
              "      }\n",
              "      })();\n",
              "    </script>\n",
              "  </div>\n",
              "\n",
              "    </div>\n",
              "  </div>\n"
            ],
            "application/vnd.google.colaboratory.intrinsic+json": {
              "type": "dataframe",
              "variable_name": "updated_df",
              "summary": "{\n  \"name\": \"updated_df\",\n  \"rows\": 35,\n  \"fields\": [\n    {\n      \"column\": \"Date\",\n      \"properties\": {\n        \"dtype\": \"date\",\n        \"min\": \"2024-08-14 00:00:00\",\n        \"max\": \"2024-08-14 00:00:00\",\n        \"num_unique_values\": 1,\n        \"samples\": [\n          \"2024-08-14 00:00:00\"\n        ],\n        \"semantic_type\": \"\",\n        \"description\": \"\"\n      }\n    },\n    {\n      \"column\": \"company\",\n      \"properties\": {\n        \"dtype\": \"string\",\n        \"num_unique_values\": 35,\n        \"samples\": [\n          \"Mahube Infrastructure Limited\"\n        ],\n        \"semantic_type\": \"\",\n        \"description\": \"\"\n      }\n    },\n    {\n      \"column\": \"symbol\",\n      \"properties\": {\n        \"dtype\": \"string\",\n        \"num_unique_values\": 35,\n        \"samples\": [\n          \"MHB.JO\"\n        ],\n        \"semantic_type\": \"\",\n        \"description\": \"\"\n      }\n    },\n    {\n      \"column\": \"momentum_score\",\n      \"properties\": {\n        \"dtype\": \"number\",\n        \"std\": 294.7662610014466,\n        \"min\": 0.0855630449853599,\n        \"max\": 1744.945886588011,\n        \"num_unique_values\": 35,\n        \"samples\": [\n          0.4668899437432289\n        ],\n        \"semantic_type\": \"\",\n        \"description\": \"\"\n      }\n    },\n    {\n      \"column\": \"rank\",\n      \"properties\": {\n        \"dtype\": \"number\",\n        \"std\": 13.396537869567508,\n        \"min\": 1.0,\n        \"max\": 49.0,\n        \"num_unique_values\": 35,\n        \"samples\": [\n          30.0\n        ],\n        \"semantic_type\": \"\",\n        \"description\": \"\"\n      }\n    },\n    {\n      \"column\": \"Close\",\n      \"properties\": {\n        \"dtype\": \"number\",\n        \"std\": 11290.8600857344,\n        \"min\": 42.0,\n        \"max\": 55326.0,\n        \"num_unique_values\": 35,\n        \"samples\": [\n          490.0\n        ],\n        \"semantic_type\": \"\",\n        \"description\": \"\"\n      }\n    },\n    {\n      \"column\": \"20_day_volatility\",\n      \"properties\": {\n        \"dtype\": \"number\",\n        \"std\": 0.07791711859959295,\n        \"min\": 0.037366052877010975,\n        \"max\": 0.4516313124958683,\n        \"num_unique_values\": 35,\n        \"samples\": [\n          0.0994778514107179\n        ],\n        \"semantic_type\": \"\",\n        \"description\": \"\"\n      }\n    },\n    {\n      \"column\": \"90_day_return\",\n      \"properties\": {\n        \"dtype\": \"number\",\n        \"std\": 0.0012496255904847781,\n        \"min\": 0.0001861258886526329,\n        \"max\": 0.006454450475280149,\n        \"num_unique_values\": 34,\n        \"samples\": [\n          0.0019112714545372889\n        ],\n        \"semantic_type\": \"\",\n        \"description\": \"\"\n      }\n    },\n    {\n      \"column\": \"100_day_mean\",\n      \"properties\": {\n        \"dtype\": \"number\",\n        \"std\": 9788.79838979189,\n        \"min\": 40.09,\n        \"max\": 46219.63,\n        \"num_unique_values\": 35,\n        \"samples\": [\n          470.56\n        ],\n        \"semantic_type\": \"\",\n        \"description\": \"\"\n      }\n    },\n    {\n      \"column\": \"index_mean\",\n      \"properties\": {\n        \"dtype\": \"number\",\n        \"std\": 0.0,\n        \"min\": 3751.930930175781,\n        \"max\": 3751.930930175781,\n        \"num_unique_values\": 1,\n        \"samples\": [\n          3751.930930175781\n        ],\n        \"semantic_type\": \"\",\n        \"description\": \"\"\n      }\n    },\n    {\n      \"column\": \"stock_trend\",\n      \"properties\": {\n        \"dtype\": \"boolean\",\n        \"num_unique_values\": 1,\n        \"samples\": [\n          true\n        ],\n        \"semantic_type\": \"\",\n        \"description\": \"\"\n      }\n    },\n    {\n      \"column\": \"market_trend\",\n      \"properties\": {\n        \"dtype\": \"boolean\",\n        \"num_unique_values\": 1,\n        \"samples\": [\n          true\n        ],\n        \"semantic_type\": \"\",\n        \"description\": \"\"\n      }\n    },\n    {\n      \"column\": \"weight\",\n      \"properties\": {\n        \"dtype\": \"number\",\n        \"std\": 0.010161092530769035,\n        \"min\": 0.0037432314469593845,\n        \"max\": 0.04524321947866675,\n        \"num_unique_values\": 35,\n        \"samples\": [\n          0.016994341025583625\n        ],\n        \"semantic_type\": \"\",\n        \"description\": \"\"\n      }\n    },\n    {\n      \"column\": \"units\",\n      \"properties\": {\n        \"dtype\": \"number\",\n        \"std\": 2177.0495833865994,\n        \"min\": 3.8733338177766274,\n        \"max\": 12280.245209128178,\n        \"num_unique_values\": 35,\n        \"samples\": [\n          515.7262266335275\n        ],\n        \"semantic_type\": \"\",\n        \"description\": \"\"\n      }\n    },\n    {\n      \"column\": \"ZAR\",\n      \"properties\": {\n        \"dtype\": \"number\",\n        \"std\": 1510.9544593253552,\n        \"min\": 556.6185161628605,\n        \"max\": 6727.666736477746,\n        \"num_unique_values\": 35,\n        \"samples\": [\n          2527.058510504285\n        ],\n        \"semantic_type\": \"\",\n        \"description\": \"\"\n      }\n    }\n  ]\n}"
            }
          },
          "metadata": {},
          "execution_count": 16
        }
      ],
      "source": [
        "\n",
        "import os\n",
        "import pandas as pd\n",
        "import numpy as np\n",
        "\n",
        "def calculate_metrics_and_add_columns(original_df, data_folder, portfolio_value):\n",
        "    \"\"\"\n",
        "    Calculates 20-day volatility, 100-day mean, and 90-day rate of return for each stock\n",
        "    and adds the results as columns to the original DataFrame.\n",
        "\n",
        "    Args:\n",
        "        original_df (pd.DataFrame): Original DataFrame with columns 'Date', 'symbol', 'rank', 'momentum_score'.\n",
        "        data_folder (str): Path to the folder containing stock data CSV files.\n",
        "        portfolio_value (float): Total value of the portfolio.\n",
        "\n",
        "    Returns:\n",
        "        pd.DataFrame: Updated DataFrame with additional columns.\n",
        "    \"\"\"\n",
        "    result_df = original_df.copy()  # Create a copy to avoid modifying the original DataFrame\n",
        "\n",
        "    result_df['Date'] = pd.to_datetime(result_df['Date'])\n",
        "\n",
        "    # Loop through each ticker in the DataFrame\n",
        "    for ticker in result_df['symbol']:\n",
        "        filepath = os.path.join(data_folder, f\"{ticker}.csv\")\n",
        "\n",
        "        # Read CSV data (adjust column names as needed)\n",
        "        stock_data = pd.read_csv(filepath, parse_dates=['Date'], index_col='Date')\n",
        "\n",
        "        # Calculate daily returns\n",
        "        stock_data['daily_return'] = stock_data['Close'].pct_change()\n",
        "\n",
        "        # Compute 20-day volatility\n",
        "        stock_data['20_day_volatility'] = stock_data['daily_return'].rolling(window=20).std() * np.sqrt(20)\n",
        "\n",
        "        # Compute 100-day mean\n",
        "        stock_data['100_day_mean'] = stock_data['Close'].rolling(window=100).mean()\n",
        "\n",
        "        # Compute 90-day rate of return\n",
        "        stock_data['90_day_return'] = (stock_data['Close'].pct_change(periods=90) + 1).pow(1 / 90) - 1\n",
        "\n",
        "        # Ensure the date exists in stock_data\n",
        "        if ranking_day in stock_data.index:\n",
        "            # Add the calculated values to the result_df\n",
        "            result_df.loc[result_df['symbol'] == ticker, ['20_day_volatility', '100_day_mean', '90_day_return']] = \\\n",
        "                stock_data.loc[ranking_day, ['20_day_volatility', '100_day_mean', '90_day_return']].values\n",
        "\n",
        "            # Add the 'close' column\n",
        "            result_df.loc[result_df['symbol'] == ticker, 'Close'] = stock_data.loc[ranking_day, 'Close']\n",
        "\n",
        "    # Replace any remaining NaN values in '20_day_volatility' with a small number to avoid division by zero\n",
        "    result_df['20_day_volatility'].replace(0, np.nan, inplace=True)\n",
        "    result_df['20_day_volatility'].fillna(1e-10, inplace=True)\n",
        "\n",
        "    # Calculate inverse volatility\n",
        "    inv_vol = 1 / result_df[\"20_day_volatility\"]\n",
        "    sum_inv_vol = inv_vol.sum()\n",
        "    vol_targets = inv_vol / sum_inv_vol\n",
        "    result_df[\"weight\"] = vol_targets\n",
        "\n",
        "    # Add a boolean column indicating if close > 100_day_mean\n",
        "    result_df['stock_trend'] = result_df['Close'] > result_df['100_day_mean']\n",
        "\n",
        "    # Read index data from a CSV file (adjust filename and column names)\n",
        "    index_data = pd.read_csv(benchmark_index, parse_dates=['Date'], index_col='Date')\n",
        "\n",
        "    # Calculate 200-day SMA for the index\n",
        "    index_data['index_mean'] = index_data['Close'].rolling(window=200).mean()\n",
        "\n",
        "    # Add a boolean column indicating if close > 200-day_mean\n",
        "    index_data['market_trend'] = index_data['Close'] > index_data['index_mean']\n",
        "\n",
        "\n",
        "    # Calculate position weight\n",
        "    stockprice = result_df[\"Close\"] / 100\n",
        "    pos_weight = portfolio_value * result_df[\"weight\"]\n",
        "    result_df[\"units\"] = pos_weight / stockprice\n",
        "    result_df[\"ZAR\"] = stockprice * result_df[\"units\"]\n",
        "\n",
        "    # Merge index data with result_df based on date (adjust column names)\n",
        "    merged_df = pd.merge(result_df,\n",
        "                         index_data[['index_mean', 'market_trend']],\n",
        "                         left_on='Date',\n",
        "                         right_index=True,\n",
        "                         how='left')\n",
        "\n",
        "    merged_df.to_csv(ranked_list)\n",
        "\n",
        "    # Drop rows where boolean value is False and '90_day_return' >= 0.15\n",
        "    merged_df = merged_df.drop(merged_df[(merged_df['stock_trend'] == False) |\n",
        "                                         (merged_df['90_day_return'] >= 0.15)].index)\n",
        "\n",
        "    merged_df = merged_df.loc[:, ~merged_df.columns.str.contains('^Unnamed')]\n",
        "\n",
        "    merged_df = merged_df.iloc[:, [0, 1, 2, 3, 4, 8, 5, 7, 6, 13, 10, 14, 9, 11, 12]]\n",
        "\n",
        "    merged_df.to_csv(initial_portfolio)\n",
        "\n",
        "\n",
        "    return merged_df\n",
        "\n",
        "# Example usage:\n",
        "original_df = pd.read_csv(ranking_list)  # Replace with your actual data\n",
        "data_folder = Data # Path to your stock data folder\n",
        "#portfolio_value = 148700.00  # Example portfolio value\n",
        "\n",
        "updated_df = calculate_metrics_and_add_columns(original_df, data_folder, portfolio_value)\n",
        "\n",
        "# Display the merged DataFrame\n",
        "updated_df"
      ]
    },
    {
      "cell_type": "code",
      "source": [
        "\n",
        "import pandas as pd\n",
        "import matplotlib.pyplot as plt\n",
        "from PIL import Image\n",
        "\n",
        "# Load the first dataset\n",
        "stock1 = pd.read_csv(\"/content/drive/MyDrive/STX.csv\")  # Replace with your file\n",
        "stock1['Date'] = pd.to_datetime(stock1['Date'])\n",
        "stock1.set_index('Date', inplace=True)\n",
        "\n",
        "# Load the second dataset\n",
        "stock2 = pd.read_csv(\"/content/drive/MyDrive/Stocks/ABG.JO.csv\")  # Replace with your file\n",
        "stock2['Date'] = pd.to_datetime(stock2['Date'])\n",
        "stock2.set_index('Date', inplace=True)\n",
        "\n",
        "# Find the common date range\n",
        "common_dates = stock1.index.intersection(stock2.index)\n",
        "\n",
        "# Restrict both datasets to the common date range\n",
        "stock1 = stock1.loc[common_dates]\n",
        "stock2 = stock2.loc[common_dates]\n",
        "\n",
        "# Normalize both datasets based on their initial values at the common starting date\n",
        "stock1['Normalized'] = stock1['Close'] / stock1['Close'].iloc[0] * 100\n",
        "#stock1['200-day MA'] = stock1['Close'].rolling(window=200).mean() / stock1['Close'].iloc[0] * 100\n",
        "stock2['Normalized'] = stock2['Close'] / stock2['Close'].iloc[0] * 100\n",
        "stock2['100-day MA'] = stock2['Close'].rolling(window=100).mean() / stock2['Close'].iloc[0] * 100\n",
        "\n",
        "# Plot the data\n",
        "plt.figure(figsize=(14, 8))\n",
        "plt.plot(stock1.index, stock1['Normalized'], label='STXCAP', color='grey')\n",
        "#plt.plot(stock1.index, stock1['200-day MA'], label='STXCAP 200-day mean', color='black', linestyle='-')\n",
        "plt.plot(stock2.index, stock2['Normalized'], label='ABG', color='blue')\n",
        "plt.plot(stock2.index, stock2['100-day MA'], label='ABG 100-day mean', color='red', linestyle='--')\n",
        "\n",
        "# Customize the chart\n",
        "plt.xlabel(\"Period\")\n",
        "plt.ylabel(\"Normalized Price\")\n",
        "plt.title(\"Relative Performance Absa Group Ltd / STXCAP (90-Day Returns)\")\n",
        "plt.xticks(rotation=45)\n",
        "plt.grid(False)\n",
        "plt.legend()\n",
        "\n",
        "# Add the logo\n",
        "logo_path = \"/content/drive/MyDrive/-j9g8q1.jpg\"  # Replace with your logo file path\n",
        "logo = Image.open(logo_path)\n",
        "logo.thumbnail((5000, 5000))  # Resize the logo to fit in the corner\n",
        "\n",
        "# Get the current figure and add a new axes for the logo\n",
        "fig = plt.gcf()\n",
        "newax = fig.add_axes([0.90, 0.0, 0.1, 0.1], anchor='NW', zorder=-1)\n",
        "newax.imshow(logo)\n",
        "newax.axis('off')\n",
        "\n",
        "plt.tight_layout()\n",
        "plt.show()"
      ],
      "metadata": {
        "id": "MFe_TrtbZ9qK",
        "outputId": "0405cf5b-8afe-424d-9047-37254416954c",
        "colab": {
          "base_uri": "https://localhost:8080/",
          "height": 224
        }
      },
      "execution_count": 12,
      "outputs": [
        {
          "output_type": "stream",
          "name": "stderr",
          "text": [
            "<ipython-input-12-ca9e875d0cf3>:54: UserWarning: This figure includes Axes that are not compatible with tight_layout, so results might be incorrect.\n",
            "  plt.tight_layout()\n"
          ]
        },
        {
          "output_type": "display_data",
          "data": {
            "text/plain": [
              "<Figure size 1400x800 with 2 Axes>"
            ],
            "image/png": "[encoded data removed]"
          },
          "metadata": {}
        }
      ]
    },
    {
      "cell_type": "code",
      "execution_count": 13,
      "metadata": {
        "id": "yi13UWMib_VY",
        "colab": {
          "base_uri": "https://localhost:8080/"
        },
        "outputId": "d7c99e66-4f61-46e6-fdaa-2127fd03e82e"
      },
      "outputs": [
        {
          "output_type": "stream",
          "name": "stdout",
          "text": [
            "0.7669053368227419\n",
            "27434.934312398767\n",
            "114038.82358554173\n"
          ]
        }
      ],
      "source": [
        "print (updated_df['weight'].sum())\n",
        "print (updated_df['units'].sum())\n",
        "print (updated_df['ZAR'].sum())"
      ]
    },
    {
      "cell_type": "markdown",
      "source": [
        "###Portfolio Rebalance Function"
      ],
      "metadata": {
        "id": "ilo4Km_1tTz0"
      }
    },
    {
      "cell_type": "code",
      "source": [
        "\n",
        "import pandas as pd\n",
        "\n",
        "# Read the CSV file into a DataFrame\n",
        "filename = initial_portfolio\n",
        "cols = ['symbol', 'stock_trend', '90_day_return']\n",
        "df = pd.read_csv(filename, usecols=cols)\n",
        "\n",
        "# Convert the DataFrame to a dictionary\n",
        "data_ranking = df.to_dict(orient='list')\n",
        "\n",
        "current_ranking_table = pd.DataFrame(data_ranking)\n",
        "\n",
        "# Read the CSV file into a DataFrame\n",
        "filename2 = current_portfolio\n",
        "cols2 = ['symbol', 'company', 'stock_trend', '90_day_return']\n",
        "df2 = pd.read_csv(filename2, usecols=cols2)\n",
        "\n",
        "# Convert the DataFrame to a dictionary\n",
        "data_portfolio = df2.to_dict(orient='list')\n",
        "\n",
        "cpf = pd.DataFrame(data_portfolio)\n",
        "\n",
        "# Identify stocks to sell based on stock trend\n",
        "sell_list = current_ranking_table[~current_ranking_table[\"stock_trend\"]]\n",
        "\n",
        "# Drop stocks with a 90-day return greater than or equal to 15%\n",
        "index_names1 = current_ranking_table[(current_ranking_table[\"90_day_return\"] >= 15)].index\n",
        "current_ranking_table.drop(index_names1, inplace=True)\n",
        "\n",
        "# List of disqualified tickers\n",
        "dqs = sell_list[\"symbol\"].tolist()\n",
        "\n",
        "# Identify stocks to liquidate\n",
        "liquidate = cpf.loc[cpf['symbol'].isin(dqs)].reset_index(drop=True)\n",
        "\n",
        "# Remove disqualified stocks from the portfolio\n",
        "newpf = cpf[~cpf['symbol'].isin(liquidate['symbol'])]\n",
        "\n",
        "# Remove stocks that are not in the current ranking table\n",
        "ineligible = newpf[~newpf['symbol'].isin(current_ranking_table['symbol'])]\n",
        "\n",
        "# Get tickers to remove\n",
        "remove = ineligible['symbol'].tolist()\n",
        "\n",
        "# Create a new portfolio without removed stocks\n",
        "rebalanced = newpf[~newpf['symbol'].isin(ineligible['symbol'])]\n",
        "\n",
        "# Get symbols for rebalancing\n",
        "rebalance = rebalanced[\"symbol\"].tolist()\n",
        "\n",
        "\n",
        "# Identify qualified stocks to buy (in current ranking table but not in cpf)\n",
        "qualified_to_buy = current_ranking_table[~current_ranking_table['symbol'].isin(cpf['symbol'])]\n",
        "\n",
        "# Remove duplicates from the qualified_to_buy list\n",
        "qualified_to_buy_unique = list(set(qualified_to_buy['symbol']))\n",
        "\n",
        "updated_list = rebalance + qualified_to_buy_unique\n",
        "\n",
        "selldf = pd.read_csv(current_portfolio)\n",
        "\n",
        "\n",
        "# Drop rows where 'Name' is not in the list\n",
        "sell = selldf[selldf['symbol'].isin(remove)]\n",
        "#sell = sell.iloc[::]\n",
        "sell = sell.drop(columns=['Unnamed: 0'])\n",
        "\n",
        "# Print relevant information\n",
        "print(f\"Sell these stocks:{sell['company']}\")\n",
        "print(f\"Sell declining stocks: {liquidate['symbol'].tolist()}\")\n",
        "#print(f\"Sell disqualified stocks: {ineligible['symbol'].tolist()}\")\n",
        "print(f\"Portfolio after rebalance: {rebalanced['symbol'].tolist()}\")\n",
        "print(f\"Portfolio after position rebalance: {updated_list}\")\n",
        "print(f\"Buy these securities: {qualified_to_buy_unique}\")"
      ],
      "metadata": {
        "id": "x6gvoM0w5Rmf",
        "outputId": "95d3e78c-5fdf-4168-f85f-61c1a9f40b15",
        "colab": {
          "base_uri": "https://localhost:8080/"
        }
      },
      "execution_count": 17,
      "outputs": [
        {
          "output_type": "stream",
          "name": "stdout",
          "text": [
            "Sell these stocks:Series([], Name: company, dtype: object)\n",
            "Sell declining stocks: []\n",
            "Portfolio after rebalance: ['NCS.JO', 'TFG.JO', 'WBO.JO', 'SPP.JO', 'MRP.JO', 'GND.JO', 'FTH.JO', 'THA.JO', 'YRK.JO', 'TRU.JO', 'GRT.JO', 'RNG.JO', 'OUT.JO', 'CKS.JO', 'CAA.JO', 'KAL.JO', 'TRL.JO', 'ANG.JO', 'SNV.JO', 'TEX.JO', 'TBS.JO', 'MSP.JO', 'CHP.JO', 'DCP.JO', 'TPC.JO', 'KAP.JO', 'MHB.JO', 'ABG.JO', 'LSK.JO', 'HCI.JO', 'GPL.JO', 'RMH.JO', 'SUI.JO', 'ADR.JO', 'GSH.JO']\n",
            "Portfolio after position rebalance: ['NCS.JO', 'TFG.JO', 'WBO.JO', 'SPP.JO', 'MRP.JO', 'GND.JO', 'FTH.JO', 'THA.JO', 'YRK.JO', 'TRU.JO', 'GRT.JO', 'RNG.JO', 'OUT.JO', 'CKS.JO', 'CAA.JO', 'KAL.JO', 'TRL.JO', 'ANG.JO', 'SNV.JO', 'TEX.JO', 'TBS.JO', 'MSP.JO', 'CHP.JO', 'DCP.JO', 'TPC.JO', 'KAP.JO', 'MHB.JO', 'ABG.JO', 'LSK.JO', 'HCI.JO', 'GPL.JO', 'RMH.JO', 'SUI.JO', 'ADR.JO', 'GSH.JO']\n",
            "Buy these securities: []\n"
          ]
        }
      ]
    },
    {
      "cell_type": "markdown",
      "source": [
        "###Securities rebalance function"
      ],
      "metadata": {
        "id": "Vx7k8s5Ttluw"
      }
    },
    {
      "cell_type": "code",
      "source": [
        "# Calculate position weight\n",
        "\n",
        "new_portfolio_value = 149079.42\n",
        "\n",
        "mypf = pd.read_csv(initial_portfolio)\n",
        "\n",
        "stockprice2 = mypf[\"Close\"]\n",
        "new_pos_weight = new_portfolio_value * mypf[\"weight\"]\n",
        "mypf[\"units\"] = new_pos_weight / stockprice2\n",
        "mypf[\"ZAR\"] = stockprice2 * mypf[\"units\"]\n",
        "# Drop columns by index\n",
        "mypf = mypf.drop(mypf.columns[[0]], axis=1)\n",
        "\n",
        "\n",
        "oldpf = pd.read_csv(current_portfolio)\n",
        "\n",
        "# Drop rows where 'Name' is not in the list\n",
        "filtered = oldpf[~oldpf['symbol'].isin(remove)]\n",
        "filtered = filtered.iloc[0::]\n",
        "#filtered =filtered.drop(columns=['Unnamed: 0'])\n",
        "\n",
        "name_list = filtered['symbol'].tolist()\n",
        "\n",
        "\n",
        "# Round the values in column 'A' to 2 decimal places\n",
        "filtered['units'] = filtered['units'].round(2)\n",
        "\n",
        "filtered.reset_index(inplace=True)\n",
        "filtered.set_index('Date')\n",
        "\n",
        "\n",
        "# Drop rows where 'Name' is not in the list\n",
        "rb = mypf[mypf['symbol'].isin(rebalance)]\n",
        "rb = rb.iloc[0::]\n",
        "#rb =rb.drop(columns=['Unnamed: 0'])\n",
        "\n",
        "# Round the values in column 'A' to 2 decimal places\n",
        "rb['units'] = rb['units'].round(2)\n",
        "\n",
        "#rb.reset_index(inplace=True)\n",
        "rb.set_index('Date')\n",
        "\n",
        "\n",
        "# Reindex the DataFrame\n",
        "df_reindexed = rb.set_index('symbol').reindex(name_list).reset_index()\n",
        "\n",
        "df_reindexed[\"buy/sell\"] = df_reindexed[\"units\"] - filtered[\"units\"]\n",
        "df_reindexed.set_index('Date', inplace=True)\n",
        "\n",
        "print(f\"Rebalance positions:{df_reindexed[['symbol','buy/sell', 'company']]}\")"
      ],
      "metadata": {
        "id": "1Z3z53PqzF-D",
        "outputId": "fadfa0cb-0cb3-41fd-9c7d-7a5f08bfd946",
        "colab": {
          "base_uri": "https://localhost:8080/"
        }
      },
      "execution_count": 18,
      "outputs": [
        {
          "output_type": "stream",
          "name": "stdout",
          "text": [
            "Rebalance positions:            symbol  buy/sell                                  company\n",
            "Date                                                                 \n",
            "2024-08-14  NCS.JO  -4666.23                           Nictus Limited\n",
            "2024-08-14  TFG.JO    -34.62               The Foschini Group Limited\n",
            "2024-08-14  WBO.JO    -24.25        Wilson Bayly Holmes-Ovcon Limited\n",
            "2024-08-14  SPP.JO    -36.24                       The SPAR Group Ltd\n",
            "2024-08-14  MRP.JO    -23.06                   Mr Price Group Limited\n",
            "2024-08-14  GND.JO   -431.64                         Grindrod Limited\n",
            "2024-08-14  FTH.JO   -270.77      Frontier Transport Holdings Limited\n",
            "2024-08-14  THA.JO    -89.84                              Tharisa plc\n",
            "2024-08-14  YRK.JO  -1001.77             York Timber Holdings Limited\n",
            "2024-08-14  TRU.JO    -38.29          Truworths International Limited\n",
            "2024-08-14  GRT.JO   -375.84           Growthpoint Properties Limited\n",
            "2024-08-14  RNG.JO   -605.54   Randgold & Exploration Company Limited\n",
            "2024-08-14  OUT.JO   -117.33                 OUTsurance Group Limited\n",
            "2024-08-14  CKS.JO    -68.84                 Crookes Brothers Limited\n",
            "2024-08-14  CAA.JO   -171.33                CA Sales Holdings Limited\n",
            "2024-08-14  KAL.JO    -59.71                        KAL Group Limited\n",
            "2024-08-14  TRL.JO   -840.24               Trellidor Holdings Limited\n",
            "2024-08-14  ANG.JO     -3.83                    AngloGold Ashanti plc\n",
            "2024-08-14  SNV.JO   -386.87                          Santova Limited\n",
            "2024-08-14  TEX.JO   -813.91             Texton Property Fund Limited\n",
            "2024-08-14  TBS.JO    -21.69                     Tiger Brands Limited\n",
            "2024-08-14  MSP.JO   -223.60                               MAS P.L.C.\n",
            "2024-08-14  CHP.JO  -2054.07             Choppies Enterprises Limited\n",
            "2024-08-14  DCP.JO   -113.20              Dis-Chem Pharmacies Limited\n",
            "2024-08-14  TPC.JO    -49.51                        Transpaco Limited\n",
            "2024-08-14  KAP.JO  -1141.82                              KAP Limited\n",
            "2024-08-14  MHB.JO   -510.56            Mahube Infrastructure Limited\n",
            "2024-08-14  ABG.JO    -22.39                       Absa Group Limited\n",
            "2024-08-14  LSK.JO    -20.96                Lesaka Technologies, Inc.\n",
            "2024-08-14  HCI.JO    -22.19  Hosken Consolidated Investments Limited\n",
            "2024-08-14  GPL.JO   -404.87         Grand Parade Investments Limited\n",
            "2024-08-14  RMH.JO -12157.13                     RMB Holdings Limited\n",
            "2024-08-14  SUI.JO    -99.68                Sun International Limited\n",
            "2024-08-14  ADR.JO   -239.15                  Adcorp Holdings Limited\n",
            "2024-08-14  GSH.JO    -18.90          Grindrod Shipping Holdings Ltd.\n"
          ]
        }
      ]
    },
    {
      "cell_type": "code",
      "source": [],
      "metadata": {
        "id": "R2iBP4oCylyp"
      },
      "execution_count": 18,
      "outputs": []
    },
    {
      "cell_type": "markdown",
      "source": [
        "###Enter new positions"
      ],
      "metadata": {
        "id": "Elt0AKSguANP"
      }
    },
    {
      "cell_type": "code",
      "source": [
        "\n",
        "# Drop rows where 'Name' is not in the list\n",
        "buy = mypf[mypf['symbol'].isin(qualified_to_buy_unique)]\n",
        "buy = buy.iloc[0::]\n",
        "\n",
        "print(f\"Buy securities:{buy[['symbol', 'ZAR', 'company']]}\") # Use square brackets to select columns\n",
        "# Concatenate along rows (axis=0)\n",
        "result = pd.concat([buy, rb], axis=0)\n",
        "\n",
        "print(f\"New Portfolio:{result[['symbol','weight', 'company']]}\")\n",
        "print(f\"Portfolio Value:{new_portfolio_value}\")\n",
        "print(f\"Equity:{result['ZAR'].sum()}\")\n",
        "print(f\"Cash:{new_portfolio_value - result['ZAR'].sum()}\")\n",
        "print(f\"Total Weights:{result['weight'].sum()}\")\n",
        "print(f\"Units:{result['units'].sum()}\")"
      ],
      "metadata": {
        "id": "8nx7tXkkx5Gh",
        "outputId": "55172499-eda9-488f-d38d-f44e35012650",
        "colab": {
          "base_uri": "https://localhost:8080/"
        }
      },
      "execution_count": 19,
      "outputs": [
        {
          "output_type": "stream",
          "name": "stdout",
          "text": [
            "Buy securities:Empty DataFrame\n",
            "Columns: [symbol, ZAR, company]\n",
            "Index: []\n",
            "New Portfolio:    symbol    weight                                  company\n",
            "0   NCS.JO  0.025358                           Nictus Limited\n",
            "1   TFG.JO  0.030911               The Foschini Group Limited\n",
            "2   WBO.JO  0.030199        Wilson Bayly Holmes-Ovcon Limited\n",
            "3   SPP.JO  0.030228                       The SPAR Group Ltd\n",
            "4   MRP.JO  0.034540                   Mr Price Group Limited\n",
            "5   GND.JO  0.045243                         Grindrod Limited\n",
            "6   FTH.JO  0.013261      Frontier Transport Holdings Limited\n",
            "7   THA.JO  0.011596                              Tharisa plc\n",
            "8   YRK.JO  0.014427             York Timber Holdings Limited\n",
            "9   TRU.JO  0.023573          Truworths International Limited\n",
            "10  GRT.JO  0.033573           Growthpoint Properties Limited\n",
            "11  RNG.JO  0.003743   Randgold & Exploration Company Limited\n",
            "12  OUT.JO  0.037549                 OUTsurance Group Limited\n",
            "13  CKS.JO  0.014735                 Crookes Brothers Limited\n",
            "14  CAA.JO  0.015596                CA Sales Holdings Limited\n",
            "15  KAL.JO  0.019265                        KAL Group Limited\n",
            "16  TRL.JO  0.009418               Trellidor Holdings Limited\n",
            "17  ANG.JO  0.014411                    AngloGold Ashanti plc\n",
            "18  SNV.JO  0.020236                          Santova Limited\n",
            "19  TEX.JO  0.018246             Texton Property Fund Limited\n",
            "20  TBS.JO  0.033005                     Tiger Brands Limited\n",
            "21  MSP.JO  0.026854                               MAS P.L.C.\n",
            "22  CHP.JO  0.009209             Choppies Enterprises Limited\n",
            "23  DCP.JO  0.027638              Dis-Chem Pharmacies Limited\n",
            "24  TPC.JO  0.010933                        Transpaco Limited\n",
            "25  KAP.JO  0.022494                              KAP Limited\n",
            "26  MHB.JO  0.016994            Mahube Infrastructure Limited\n",
            "27  ABG.JO  0.023302                       Absa Group Limited\n",
            "28  LSK.JO  0.011867                Lesaka Technologies, Inc.\n",
            "29  HCI.JO  0.026966  Hosken Consolidated Investments Limited\n",
            "30  GPL.JO  0.010176         Grand Parade Investments Limited\n",
            "31  RMH.JO  0.034685                     RMB Holdings Limited\n",
            "32  SUI.JO  0.026551                Sun International Limited\n",
            "33  ADR.JO  0.006758                  Adcorp Holdings Limited\n",
            "34  GSH.JO  0.033364          Grindrod Shipping Holdings Ltd.\n",
            "Portfolio Value:149079.42\n",
            "Equity:114329.80280843878\n",
            "Cash:34749.617191561236\n",
            "Total Weights:0.7669053368227403\n",
            "Units:275.06\n"
          ]
        }
      ]
    },
    {
      "cell_type": "markdown",
      "source": [
        "###Save Portfolio data to disc"
      ],
      "metadata": {
        "id": "EU83Sf5lotOv"
      }
    },
    {
      "cell_type": "code",
      "source": [
        "result.head(2)"
      ],
      "metadata": {
        "id": "JHsWJ7kFOAGf",
        "outputId": "a9be5782-f7a2-47b5-b31e-41da4a233128",
        "colab": {
          "base_uri": "https://localhost:8080/",
          "height": 202
        }
      },
      "execution_count": 24,
      "outputs": [
        {
          "output_type": "execute_result",
          "data": {
            "text/plain": [
              "         Date                     company  symbol  momentum_score  rank  \\\n",
              "0  2024-08-14              Nictus Limited  NCS.JO     1744.945887   1.0   \n",
              "1  2024-08-14  The Foschini Group Limited  TFG.JO        2.716209   2.0   \n",
              "\n",
              "     Close  20_day_volatility  90_day_return  100_day_mean  index_mean  \\\n",
              "0     80.0           0.066667       0.002310       57.8505  3751.93093   \n",
              "1  13144.0           0.054692       0.003156    11321.3300  3751.93093   \n",
              "\n",
              "   stock_trend  market_trend    weight  units          ZAR  \n",
              "0         True          True  0.025358  47.26  3780.416753  \n",
              "1         True          True  0.030911   0.35  4608.147531  "
            ],
            "text/html": [
              "\n",
              "  <div id=\"df-fdb3f979-29ca-4811-9d13-40a4747ce09a\" class=\"colab-df-container\">\n",
              "    <div>\n",
              "<style scoped>\n",
              "    .dataframe tbody tr th:only-of-type {\n",
              "        vertical-align: middle;\n",
              "    }\n",
              "\n",
              "    .dataframe tbody tr th {\n",
              "        vertical-align: top;\n",
              "    }\n",
              "\n",
              "    .dataframe thead th {\n",
              "        text-align: right;\n",
              "    }\n",
              "</style>\n",
              "<table border=\"1\" class=\"dataframe\">\n",
              "  <thead>\n",
              "    <tr style=\"text-align: right;\">\n",
              "      <th></th>\n",
              "      <th>Date</th>\n",
              "      <th>company</th>\n",
              "      <th>symbol</th>\n",
              "      <th>momentum_score</th>\n",
              "      <th>rank</th>\n",
              "      <th>Close</th>\n",
              "      <th>20_day_volatility</th>\n",
              "      <th>90_day_return</th>\n",
              "      <th>100_day_mean</th>\n",
              "      <th>index_mean</th>\n",
              "      <th>stock_trend</th>\n",
              "      <th>market_trend</th>\n",
              "      <th>weight</th>\n",
              "      <th>units</th>\n",
              "      <th>ZAR</th>\n",
              "    </tr>\n",
              "  </thead>\n",
              "  <tbody>\n",
              "    <tr>\n",
              "      <th>0</th>\n",
              "      <td>2024-08-14</td>\n",
              "      <td>Nictus Limited</td>\n",
              "      <td>NCS.JO</td>\n",
              "      <td>1744.945887</td>\n",
              "      <td>1.0</td>\n",
              "      <td>80.0</td>\n",
              "      <td>0.066667</td>\n",
              "      <td>0.002310</td>\n",
              "      <td>57.8505</td>\n",
              "      <td>3751.93093</td>\n",
              "      <td>True</td>\n",
              "      <td>True</td>\n",
              "      <td>0.025358</td>\n",
              "      <td>47.26</td>\n",
              "      <td>3780.416753</td>\n",
              "    </tr>\n",
              "    <tr>\n",
              "      <th>1</th>\n",
              "      <td>2024-08-14</td>\n",
              "      <td>The Foschini Group Limited</td>\n",
              "      <td>TFG.JO</td>\n",
              "      <td>2.716209</td>\n",
              "      <td>2.0</td>\n",
              "      <td>13144.0</td>\n",
              "      <td>0.054692</td>\n",
              "      <td>0.003156</td>\n",
              "      <td>11321.3300</td>\n",
              "      <td>3751.93093</td>\n",
              "      <td>True</td>\n",
              "      <td>True</td>\n",
              "      <td>0.030911</td>\n",
              "      <td>0.35</td>\n",
              "      <td>4608.147531</td>\n",
              "    </tr>\n",
              "  </tbody>\n",
              "</table>\n",
              "</div>\n",
              "    <div class=\"colab-df-buttons\">\n",
              "\n",
              "  <div class=\"colab-df-container\">\n",
              "    <button class=\"colab-df-convert\" onclick=\"convertToInteractive('df-fdb3f979-29ca-4811-9d13-40a4747ce09a')\"\n",
              "            title=\"Convert this dataframe to an interactive table.\"\n",
              "            style=\"display:none;\">\n",
              "\n",
              "  <svg xmlns=\"http://www.w3.org/2000/svg\" height=\"24px\" viewBox=\"0 -960 960 960\">\n",
              "    <path d=\"M120-120v-720h720v720H120Zm60-500h600v-160H180v160Zm220 220h160v-160H400v160Zm0 220h160v-160H400v160ZM180-400h160v-160H180v160Zm440 0h160v-160H620v160ZM180-180h160v-160H180v160Zm440 0h160v-160H620v160Z\"/>\n",
              "  </svg>\n",
              "    </button>\n",
              "\n",
              "  <style>\n",
              "    .colab-df-container {\n",
              "      display:flex;\n",
              "      gap: 12px;\n",
              "    }\n",
              "\n",
              "    .colab-df-convert {\n",
              "      background-color: #E8F0FE;\n",
              "      border: none;\n",
              "      border-radius: 50%;\n",
              "      cursor: pointer;\n",
              "      display: none;\n",
              "      fill: #1967D2;\n",
              "      height: 32px;\n",
              "      padding: 0 0 0 0;\n",
              "      width: 32px;\n",
              "    }\n",
              "\n",
              "    .colab-df-convert:hover {\n",
              "      background-color: #E2EBFA;\n",
              "      box-shadow: 0px 1px 2px rgba(60, 64, 67, 0.3), 0px 1px 3px 1px rgba(60, 64, 67, 0.15);\n",
              "      fill: #174EA6;\n",
              "    }\n",
              "\n",
              "    .colab-df-buttons div {\n",
              "      margin-bottom: 4px;\n",
              "    }\n",
              "\n",
              "    [theme=dark] .colab-df-convert {\n",
              "      background-color: #3B4455;\n",
              "      fill: #D2E3FC;\n",
              "    }\n",
              "\n",
              "    [theme=dark] .colab-df-convert:hover {\n",
              "      background-color: #434B5C;\n",
              "      box-shadow: 0px 1px 3px 1px rgba(0, 0, 0, 0.15);\n",
              "      filter: drop-shadow(0px 1px 2px rgba(0, 0, 0, 0.3));\n",
              "      fill: #FFFFFF;\n",
              "    }\n",
              "  </style>\n",
              "\n",
              "    <script>\n",
              "      const buttonEl =\n",
              "        document.querySelector('#df-fdb3f979-29ca-4811-9d13-40a4747ce09a button.colab-df-convert');\n",
              "      buttonEl.style.display =\n",
              "        google.colab.kernel.accessAllowed ? 'block' : 'none';\n",
              "\n",
              "      async function convertToInteractive(key) {\n",
              "        const element = document.querySelector('#df-fdb3f979-29ca-4811-9d13-40a4747ce09a');\n",
              "        const dataTable =\n",
              "          await google.colab.kernel.invokeFunction('convertToInteractive',\n",
              "                                                    [key], {});\n",
              "        if (!dataTable) return;\n",
              "\n",
              "        const docLinkHtml = 'Like what you see? Visit the ' +\n",
              "          '<a target=\"_blank\" href=https://colab.research.google.com/notebooks/data_table.ipynb>data table notebook</a>'\n",
              "          + ' to learn more about interactive tables.';\n",
              "        element.innerHTML = '';\n",
              "        dataTable['output_type'] = 'display_data';\n",
              "        await google.colab.output.renderOutput(dataTable, element);\n",
              "        const docLink = document.createElement('div');\n",
              "        docLink.innerHTML = docLinkHtml;\n",
              "        element.appendChild(docLink);\n",
              "      }\n",
              "    </script>\n",
              "  </div>\n",
              "\n",
              "\n",
              "<div id=\"df-268a7417-4ea0-45a5-8e49-c44f627e6075\">\n",
              "  <button class=\"colab-df-quickchart\" onclick=\"quickchart('df-268a7417-4ea0-45a5-8e49-c44f627e6075')\"\n",
              "            title=\"Suggest charts\"\n",
              "            style=\"display:none;\">\n",
              "\n",
              "<svg xmlns=\"http://www.w3.org/2000/svg\" height=\"24px\"viewBox=\"0 0 24 24\"\n",
              "     width=\"24px\">\n",
              "    <g>\n",
              "        <path d=\"M19 3H5c-1.1 0-2 .9-2 2v14c0 1.1.9 2 2 2h14c1.1 0 2-.9 2-2V5c0-1.1-.9-2-2-2zM9 17H7v-7h2v7zm4 0h-2V7h2v10zm4 0h-2v-4h2v4z\"/>\n",
              "    </g>\n",
              "</svg>\n",
              "  </button>\n",
              "\n",
              "<style>\n",
              "  .colab-df-quickchart {\n",
              "      --bg-color: #E8F0FE;\n",
              "      --fill-color: #1967D2;\n",
              "      --hover-bg-color: #E2EBFA;\n",
              "      --hover-fill-color: #174EA6;\n",
              "      --disabled-fill-color: #AAA;\n",
              "      --disabled-bg-color: #DDD;\n",
              "  }\n",
              "\n",
              "  [theme=dark] .colab-df-quickchart {\n",
              "      --bg-color: #3B4455;\n",
              "      --fill-color: #D2E3FC;\n",
              "      --hover-bg-color: #434B5C;\n",
              "      --hover-fill-color: #FFFFFF;\n",
              "      --disabled-bg-color: #3B4455;\n",
              "      --disabled-fill-color: #666;\n",
              "  }\n",
              "\n",
              "  .colab-df-quickchart {\n",
              "    background-color: var(--bg-color);\n",
              "    border: none;\n",
              "    border-radius: 50%;\n",
              "    cursor: pointer;\n",
              "    display: none;\n",
              "    fill: var(--fill-color);\n",
              "    height: 32px;\n",
              "    padding: 0;\n",
              "    width: 32px;\n",
              "  }\n",
              "\n",
              "  .colab-df-quickchart:hover {\n",
              "    background-color: var(--hover-bg-color);\n",
              "    box-shadow: 0 1px 2px rgba(60, 64, 67, 0.3), 0 1px 3px 1px rgba(60, 64, 67, 0.15);\n",
              "    fill: var(--button-hover-fill-color);\n",
              "  }\n",
              "\n",
              "  .colab-df-quickchart-complete:disabled,\n",
              "  .colab-df-quickchart-complete:disabled:hover {\n",
              "    background-color: var(--disabled-bg-color);\n",
              "    fill: var(--disabled-fill-color);\n",
              "    box-shadow: none;\n",
              "  }\n",
              "\n",
              "  .colab-df-spinner {\n",
              "    border: 2px solid var(--fill-color);\n",
              "    border-color: transparent;\n",
              "    border-bottom-color: var(--fill-color);\n",
              "    animation:\n",
              "      spin 1s steps(1) infinite;\n",
              "  }\n",
              "\n",
              "  @keyframes spin {\n",
              "    0% {\n",
              "      border-color: transparent;\n",
              "      border-bottom-color: var(--fill-color);\n",
              "      border-left-color: var(--fill-color);\n",
              "    }\n",
              "    20% {\n",
              "      border-color: transparent;\n",
              "      border-left-color: var(--fill-color);\n",
              "      border-top-color: var(--fill-color);\n",
              "    }\n",
              "    30% {\n",
              "      border-color: transparent;\n",
              "      border-left-color: var(--fill-color);\n",
              "      border-top-color: var(--fill-color);\n",
              "      border-right-color: var(--fill-color);\n",
              "    }\n",
              "    40% {\n",
              "      border-color: transparent;\n",
              "      border-right-color: var(--fill-color);\n",
              "      border-top-color: var(--fill-color);\n",
              "    }\n",
              "    60% {\n",
              "      border-color: transparent;\n",
              "      border-right-color: var(--fill-color);\n",
              "    }\n",
              "    80% {\n",
              "      border-color: transparent;\n",
              "      border-right-color: var(--fill-color);\n",
              "      border-bottom-color: var(--fill-color);\n",
              "    }\n",
              "    90% {\n",
              "      border-color: transparent;\n",
              "      border-bottom-color: var(--fill-color);\n",
              "    }\n",
              "  }\n",
              "</style>\n",
              "\n",
              "  <script>\n",
              "    async function quickchart(key) {\n",
              "      const quickchartButtonEl =\n",
              "        document.querySelector('#' + key + ' button');\n",
              "      quickchartButtonEl.disabled = true;  // To prevent multiple clicks.\n",
              "      quickchartButtonEl.classList.add('colab-df-spinner');\n",
              "      try {\n",
              "        const charts = await google.colab.kernel.invokeFunction(\n",
              "            'suggestCharts', [key], {});\n",
              "      } catch (error) {\n",
              "        console.error('Error during call to suggestCharts:', error);\n",
              "      }\n",
              "      quickchartButtonEl.classList.remove('colab-df-spinner');\n",
              "      quickchartButtonEl.classList.add('colab-df-quickchart-complete');\n",
              "    }\n",
              "    (() => {\n",
              "      let quickchartButtonEl =\n",
              "        document.querySelector('#df-268a7417-4ea0-45a5-8e49-c44f627e6075 button');\n",
              "      quickchartButtonEl.style.display =\n",
              "        google.colab.kernel.accessAllowed ? 'block' : 'none';\n",
              "    })();\n",
              "  </script>\n",
              "</div>\n",
              "\n",
              "    </div>\n",
              "  </div>\n"
            ],
            "application/vnd.google.colaboratory.intrinsic+json": {
              "type": "dataframe",
              "variable_name": "result",
              "summary": "{\n  \"name\": \"result\",\n  \"rows\": 35,\n  \"fields\": [\n    {\n      \"column\": \"Date\",\n      \"properties\": {\n        \"dtype\": \"object\",\n        \"num_unique_values\": 1,\n        \"samples\": [\n          \"2024-08-14\"\n        ],\n        \"semantic_type\": \"\",\n        \"description\": \"\"\n      }\n    },\n    {\n      \"column\": \"company\",\n      \"properties\": {\n        \"dtype\": \"string\",\n        \"num_unique_values\": 35,\n        \"samples\": [\n          \"Mahube Infrastructure Limited\"\n        ],\n        \"semantic_type\": \"\",\n        \"description\": \"\"\n      }\n    },\n    {\n      \"column\": \"symbol\",\n      \"properties\": {\n        \"dtype\": \"string\",\n        \"num_unique_values\": 35,\n        \"samples\": [\n          \"MHB.JO\"\n        ],\n        \"semantic_type\": \"\",\n        \"description\": \"\"\n      }\n    },\n    {\n      \"column\": \"momentum_score\",\n      \"properties\": {\n        \"dtype\": \"number\",\n        \"std\": 294.7662610014466,\n        \"min\": 0.0855630449853599,\n        \"max\": 1744.945886588011,\n        \"num_unique_values\": 35,\n        \"samples\": [\n          0.4668899437432289\n        ],\n        \"semantic_type\": \"\",\n        \"description\": \"\"\n      }\n    },\n    {\n      \"column\": \"rank\",\n      \"properties\": {\n        \"dtype\": \"number\",\n        \"std\": 13.396537869567508,\n        \"min\": 1.0,\n        \"max\": 49.0,\n        \"num_unique_values\": 35,\n        \"samples\": [\n          30.0\n        ],\n        \"semantic_type\": \"\",\n        \"description\": \"\"\n      }\n    },\n    {\n      \"column\": \"Close\",\n      \"properties\": {\n        \"dtype\": \"number\",\n        \"std\": 11290.8600857344,\n        \"min\": 42.0,\n        \"max\": 55326.0,\n        \"num_unique_values\": 35,\n        \"samples\": [\n          490.0\n        ],\n        \"semantic_type\": \"\",\n        \"description\": \"\"\n      }\n    },\n    {\n      \"column\": \"20_day_volatility\",\n      \"properties\": {\n        \"dtype\": \"number\",\n        \"std\": 0.07791711859959295,\n        \"min\": 0.0373660528770109,\n        \"max\": 0.4516313124958683,\n        \"num_unique_values\": 35,\n        \"samples\": [\n          0.0994778514107179\n        ],\n        \"semantic_type\": \"\",\n        \"description\": \"\"\n      }\n    },\n    {\n      \"column\": \"90_day_return\",\n      \"properties\": {\n        \"dtype\": \"number\",\n        \"std\": 0.0012496255904847799,\n        \"min\": 0.0001861258886526,\n        \"max\": 0.0064544504752801,\n        \"num_unique_values\": 34,\n        \"samples\": [\n          0.0019112714545372\n        ],\n        \"semantic_type\": \"\",\n        \"description\": \"\"\n      }\n    },\n    {\n      \"column\": \"100_day_mean\",\n      \"properties\": {\n        \"dtype\": \"number\",\n        \"std\": 9788.79838979189,\n        \"min\": 40.09,\n        \"max\": 46219.63,\n        \"num_unique_values\": 35,\n        \"samples\": [\n          470.56\n        ],\n        \"semantic_type\": \"\",\n        \"description\": \"\"\n      }\n    },\n    {\n      \"column\": \"index_mean\",\n      \"properties\": {\n        \"dtype\": \"number\",\n        \"std\": 0.0,\n        \"min\": 3751.930930175781,\n        \"max\": 3751.930930175781,\n        \"num_unique_values\": 1,\n        \"samples\": [\n          3751.930930175781\n        ],\n        \"semantic_type\": \"\",\n        \"description\": \"\"\n      }\n    },\n    {\n      \"column\": \"stock_trend\",\n      \"properties\": {\n        \"dtype\": \"boolean\",\n        \"num_unique_values\": 1,\n        \"samples\": [\n          true\n        ],\n        \"semantic_type\": \"\",\n        \"description\": \"\"\n      }\n    },\n    {\n      \"column\": \"market_trend\",\n      \"properties\": {\n        \"dtype\": \"boolean\",\n        \"num_unique_values\": 1,\n        \"samples\": [\n          true\n        ],\n        \"semantic_type\": \"\",\n        \"description\": \"\"\n      }\n    },\n    {\n      \"column\": \"weight\",\n      \"properties\": {\n        \"dtype\": \"number\",\n        \"std\": 0.010161092530769038,\n        \"min\": 0.0037432314469593,\n        \"max\": 0.0452432194786667,\n        \"num_unique_values\": 35,\n        \"samples\": [\n          0.0169943410255836\n        ],\n        \"semantic_type\": \"\",\n        \"description\": \"\"\n      }\n    },\n    {\n      \"column\": \"units\",\n      \"properties\": {\n        \"dtype\": \"number\",\n        \"std\": 21.826884498039483,\n        \"min\": 0.04,\n        \"max\": 123.12,\n        \"num_unique_values\": 33,\n        \"samples\": [\n          2.42\n        ],\n        \"semantic_type\": \"\",\n        \"description\": \"\"\n      }\n    },\n    {\n      \"column\": \"ZAR\",\n      \"properties\": {\n        \"dtype\": \"number\",\n        \"std\": 1514.8097810533802,\n        \"min\": 558.0387730384532,\n        \"max\": 6744.832918812334,\n        \"num_unique_values\": 35,\n        \"samples\": [\n          2533.5065033762085\n        ],\n        \"semantic_type\": \"\",\n        \"description\": \"\"\n      }\n    }\n  ]\n}"
            }
          },
          "metadata": {},
          "execution_count": 24
        }
      ]
    },
    {
      "cell_type": "code",
      "source": [
        "\n",
        "import pandas as pd\n",
        "import yfinance as yf\n",
        "\"\"\"\n",
        "\n",
        "# Sample DataFrame with the specified columns\n",
        "data = {\n",
        "    'Date': ['2023-08-14', '2023-08-14', '2023-08-14', '2023-08-14'],\n",
        "    'symbols': ['AAPL', 'MSFT', 'GOOGL', 'AMZN'],\n",
        "    'company': ['Apple Inc.', 'Microsoft Corp.', 'Alphabet Inc.', 'Amazon.com Inc.'],\n",
        "    'Close': [150.00, 280.00, 2700.00, 3400.00]\n",
        "}\n",
        "df = pd.DataFrame(data)\n",
        "\"\"\"\n",
        "# Function to get industry information\n",
        "def get_sector(ticker):\n",
        "    try:\n",
        "        stock = yf.Ticker(ticker)\n",
        "        return stock.info.get('sector', 'Unknown')\n",
        "    except Exception as e:\n",
        "        return 'Unknown'\n",
        "\n",
        "# Add a new column 'Industry' to the DataFrame\n",
        "result['Sector'] = result['symbol'].apply(get_sector)\n",
        "\n",
        "# Calculate the total weight and the weight of Cash holdings\n",
        "total_weight = result['weight'].sum()\n",
        "cash_weight = 1 - total_weight\n",
        "\n",
        "# Group by industry and sum the weights\n",
        "sector_weights = result.groupby('Sector')['weight'].sum()\n",
        "\n",
        "# Add Cash holdings to the industry weights\n",
        "sector_weights['Cash Holdings'] = cash_weight\n",
        "\n",
        "# Create a pie chart\n",
        "plt.figure(figsize=(8, 8))\n",
        "plt.pie(sector_weights, labels=sector_weights.index, autopct='%1.1f%%', startangle=140)\n",
        "plt.title('Sector Allocation')\n",
        "plt.show()\n",
        "\n",
        "# Create a bar chart with custom labels\n",
        "plt.figure(figsize=(10, 6))\n",
        "sector_weights.plot(kind='barh')\n",
        "plt.title('Sector Allocation')\n",
        "plt.xlabel('Weight')\n",
        "plt.ylabel('Sector')\n",
        "plt.show()"
      ],
      "metadata": {
        "colab": {
          "base_uri": "https://localhost:8080/",
          "height": 409
        },
        "id": "MY26oj_Ko_kf",
        "outputId": "bf3d7688-5ace-4b55-acb3-43ba471b109f"
      },
      "execution_count": 35,
      "outputs": [
        {
          "output_type": "display_data",
          "data": {
            "text/plain": [
              "<Figure size 800x800 with 1 Axes>"
            ],
            "image/png": "[encoded data removed]"
          },
          "metadata": {}
        },
        {
          "output_type": "display_data",
          "data": {
            "text/plain": [
              "<Figure size 1000x600 with 1 Axes>"
            ],
            "image/png": "[encoded data removed]"
          },
          "metadata": {}
        }
      ]
    },
    {
      "cell_type": "code",
      "source": [
        "\n",
        "pip install dataframe_image"
      ],
      "metadata": {
        "id": "npFUd0iu5OSe",
        "outputId": "0241aa53-57ec-47ce-d755-66de822ee0d7",
        "colab": {
          "base_uri": "https://localhost:8080/"
        }
      },
      "execution_count": 36,
      "outputs": [
        {
          "output_type": "stream",
          "name": "stdout",
          "text": [
            "Collecting dataframe_image\n",
            "  Downloading dataframe_image-0.2.4-py3-none-any.whl.metadata (9.0 kB)\n",
            "Requirement already satisfied: pandas>=0.24 in /usr/local/lib/python3.10/dist-packages (from dataframe_image) (2.1.4)\n",
            "Requirement already satisfied: nbconvert>=5 in /usr/local/lib/python3.10/dist-packages (from dataframe_image) (6.5.4)\n",
            "Requirement already satisfied: aiohttp in /usr/local/lib/python3.10/dist-packages (from dataframe_image) (3.10.2)\n",
            "Requirement already satisfied: requests in /usr/local/lib/python3.10/dist-packages (from dataframe_image) (2.32.3)\n",
            "Requirement already satisfied: pillow in /usr/local/lib/python3.10/dist-packages (from dataframe_image) (9.4.0)\n",
            "Requirement already satisfied: packaging in /usr/local/lib/python3.10/dist-packages (from dataframe_image) (24.1)\n",
            "Requirement already satisfied: mistune in /usr/local/lib/python3.10/dist-packages (from dataframe_image) (0.8.4)\n",
            "Requirement already satisfied: lxml in /usr/local/lib/python3.10/dist-packages (from dataframe_image) (4.9.4)\n",
            "Requirement already satisfied: beautifulsoup4 in /usr/local/lib/python3.10/dist-packages (from dataframe_image) (4.12.3)\n",
            "Collecting cssutils (from dataframe_image)\n",
            "  Downloading cssutils-2.11.1-py3-none-any.whl.metadata (8.7 kB)\n",
            "Collecting html2image (from dataframe_image)\n",
            "  Downloading html2image-2.0.4.3-py3-none-any.whl.metadata (14 kB)\n",
            "Collecting cssselect (from dataframe_image)\n",
            "  Downloading cssselect-1.2.0-py2.py3-none-any.whl.metadata (2.2 kB)\n",
            "Requirement already satisfied: bleach in /usr/local/lib/python3.10/dist-packages (from nbconvert>=5->dataframe_image) (6.1.0)\n",
            "Requirement already satisfied: defusedxml in /usr/local/lib/python3.10/dist-packages (from nbconvert>=5->dataframe_image) (0.7.1)\n",
            "Requirement already satisfied: entrypoints>=0.2.2 in /usr/local/lib/python3.10/dist-packages (from nbconvert>=5->dataframe_image) (0.4)\n",
            "Requirement already satisfied: jinja2>=3.0 in /usr/local/lib/python3.10/dist-packages (from nbconvert>=5->dataframe_image) (3.1.4)\n",
            "Requirement already satisfied: jupyter-core>=4.7 in /usr/local/lib/python3.10/dist-packages (from nbconvert>=5->dataframe_image) (5.7.2)\n",
            "Requirement already satisfied: jupyterlab-pygments in /usr/local/lib/python3.10/dist-packages (from nbconvert>=5->dataframe_image) (0.3.0)\n",
            "Requirement already satisfied: MarkupSafe>=2.0 in /usr/local/lib/python3.10/dist-packages (from nbconvert>=5->dataframe_image) (2.1.5)\n",
            "Requirement already satisfied: nbclient>=0.5.0 in /usr/local/lib/python3.10/dist-packages (from nbconvert>=5->dataframe_image) (0.10.0)\n",
            "Requirement already satisfied: nbformat>=5.1 in /usr/local/lib/python3.10/dist-packages (from nbconvert>=5->dataframe_image) (5.10.4)\n",
            "Requirement already satisfied: pandocfilters>=1.4.1 in /usr/local/lib/python3.10/dist-packages (from nbconvert>=5->dataframe_image) (1.5.1)\n",
            "Requirement already satisfied: pygments>=2.4.1 in /usr/local/lib/python3.10/dist-packages (from nbconvert>=5->dataframe_image) (2.16.1)\n",
            "Requirement already satisfied: tinycss2 in /usr/local/lib/python3.10/dist-packages (from nbconvert>=5->dataframe_image) (1.3.0)\n",
            "Requirement already satisfied: traitlets>=5.0 in /usr/local/lib/python3.10/dist-packages (from nbconvert>=5->dataframe_image) (5.7.1)\n",
            "Requirement already satisfied: numpy<2,>=1.22.4 in /usr/local/lib/python3.10/dist-packages (from pandas>=0.24->dataframe_image) (1.26.4)\n",
            "Requirement already satisfied: python-dateutil>=2.8.2 in /usr/local/lib/python3.10/dist-packages (from pandas>=0.24->dataframe_image) (2.8.2)\n",
            "Requirement already satisfied: pytz>=2020.1 in /usr/local/lib/python3.10/dist-packages (from pandas>=0.24->dataframe_image) (2024.1)\n",
            "Requirement already satisfied: tzdata>=2022.1 in /usr/local/lib/python3.10/dist-packages (from pandas>=0.24->dataframe_image) (2024.1)\n",
            "Requirement already satisfied: aiohappyeyeballs>=2.3.0 in /usr/local/lib/python3.10/dist-packages (from aiohttp->dataframe_image) (2.3.5)\n",
            "Requirement already satisfied: aiosignal>=1.1.2 in /usr/local/lib/python3.10/dist-packages (from aiohttp->dataframe_image) (1.3.1)\n",
            "Requirement already satisfied: attrs>=17.3.0 in /usr/local/lib/python3.10/dist-packages (from aiohttp->dataframe_image) (24.2.0)\n",
            "Requirement already satisfied: frozenlist>=1.1.1 in /usr/local/lib/python3.10/dist-packages (from aiohttp->dataframe_image) (1.4.1)\n",
            "Requirement already satisfied: multidict<7.0,>=4.5 in /usr/local/lib/python3.10/dist-packages (from aiohttp->dataframe_image) (6.0.5)\n",
            "Requirement already satisfied: yarl<2.0,>=1.0 in /usr/local/lib/python3.10/dist-packages (from aiohttp->dataframe_image) (1.9.4)\n",
            "Requirement already satisfied: async-timeout<5.0,>=4.0 in /usr/local/lib/python3.10/dist-packages (from aiohttp->dataframe_image) (4.0.3)\n",
            "Requirement already satisfied: soupsieve>1.2 in /usr/local/lib/python3.10/dist-packages (from beautifulsoup4->dataframe_image) (2.5)\n",
            "Requirement already satisfied: more-itertools in /usr/local/lib/python3.10/dist-packages (from cssutils->dataframe_image) (10.3.0)\n",
            "Requirement already satisfied: websocket-client<2.0.0,>=1.0.0 in /usr/local/lib/python3.10/dist-packages (from html2image->dataframe_image) (1.8.0)\n",
            "Requirement already satisfied: charset-normalizer<4,>=2 in /usr/local/lib/python3.10/dist-packages (from requests->dataframe_image) (3.3.2)\n",
            "Requirement already satisfied: idna<4,>=2.5 in /usr/local/lib/python3.10/dist-packages (from requests->dataframe_image) (3.7)\n",
            "Requirement already satisfied: urllib3<3,>=1.21.1 in /usr/local/lib/python3.10/dist-packages (from requests->dataframe_image) (2.0.7)\n",
            "Requirement already satisfied: certifi>=2017.4.17 in /usr/local/lib/python3.10/dist-packages (from requests->dataframe_image) (2024.7.4)\n",
            "Requirement already satisfied: platformdirs>=2.5 in /usr/local/lib/python3.10/dist-packages (from jupyter-core>=4.7->nbconvert>=5->dataframe_image) (4.2.2)\n",
            "Requirement already satisfied: jupyter-client>=6.1.12 in /usr/local/lib/python3.10/dist-packages (from nbclient>=0.5.0->nbconvert>=5->dataframe_image) (6.1.12)\n",
            "Requirement already satisfied: fastjsonschema>=2.15 in /usr/local/lib/python3.10/dist-packages (from nbformat>=5.1->nbconvert>=5->dataframe_image) (2.20.0)\n",
            "Requirement already satisfied: jsonschema>=2.6 in /usr/local/lib/python3.10/dist-packages (from nbformat>=5.1->nbconvert>=5->dataframe_image) (4.23.0)\n",
            "Requirement already satisfied: six>=1.5 in /usr/local/lib/python3.10/dist-packages (from python-dateutil>=2.8.2->pandas>=0.24->dataframe_image) (1.16.0)\n",
            "Requirement already satisfied: webencodings in /usr/local/lib/python3.10/dist-packages (from bleach->nbconvert>=5->dataframe_image) (0.5.1)\n",
            "Requirement already satisfied: jsonschema-specifications>=2023.03.6 in /usr/local/lib/python3.10/dist-packages (from jsonschema>=2.6->nbformat>=5.1->nbconvert>=5->dataframe_image) (2023.12.1)\n",
            "Requirement already satisfied: referencing>=0.28.4 in /usr/local/lib/python3.10/dist-packages (from jsonschema>=2.6->nbformat>=5.1->nbconvert>=5->dataframe_image) (0.35.1)\n",
            "Requirement already satisfied: rpds-py>=0.7.1 in /usr/local/lib/python3.10/dist-packages (from jsonschema>=2.6->nbformat>=5.1->nbconvert>=5->dataframe_image) (0.20.0)\n",
            "Requirement already satisfied: pyzmq>=13 in /usr/local/lib/python3.10/dist-packages (from jupyter-client>=6.1.12->nbclient>=0.5.0->nbconvert>=5->dataframe_image) (24.0.1)\n",
            "Requirement already satisfied: tornado>=4.1 in /usr/local/lib/python3.10/dist-packages (from jupyter-client>=6.1.12->nbclient>=0.5.0->nbconvert>=5->dataframe_image) (6.3.3)\n",
            "Downloading dataframe_image-0.2.4-py3-none-any.whl (6.7 MB)\n",
            "\u001b[2K   \u001b[90m━━━━━━━━━━━━━━━━━━━━━━━━━━━━━━━━━━━━━━━━\u001b[0m \u001b[32m6.7/6.7 MB\u001b[0m \u001b[31m36.5 MB/s\u001b[0m eta \u001b[36m0:00:00\u001b[0m\n",
            "\u001b[?25hDownloading cssselect-1.2.0-py2.py3-none-any.whl (18 kB)\n",
            "Downloading cssutils-2.11.1-py3-none-any.whl (385 kB)\n",
            "\u001b[2K   \u001b[90m━━━━━━━━━━━━━━━━━━━━━━━━━━━━━━━━━━━━━━━━\u001b[0m \u001b[32m385.7/385.7 kB\u001b[0m \u001b[31m16.8 MB/s\u001b[0m eta \u001b[36m0:00:00\u001b[0m\n",
            "\u001b[?25hDownloading html2image-2.0.4.3-py3-none-any.whl (27 kB)\n",
            "Installing collected packages: cssutils, cssselect, html2image, dataframe_image\n",
            "Successfully installed cssselect-1.2.0 cssutils-2.11.1 dataframe_image-0.2.4 html2image-2.0.4.3\n"
          ]
        }
      ]
    },
    {
      "cell_type": "code",
      "source": [
        "\n",
        "import pandas as pd\n",
        "import dataframe_image as dfi\n",
        "\n",
        "# Sample DataFrame with multiple columns\n",
        "data = {\n",
        "    'Date': ['2023-08-14', '2023-08-14', '2023-08-14', '2023-08-14'],\n",
        "    'symbols': ['AAPL', 'MSFT', 'GOOGL', 'AMZN'],\n",
        "    'company': ['Apple Inc.', 'Microsoft Corp.', 'Alphabet Inc.', 'Amazon.com Inc.'],\n",
        "    'Close': [150.00, 280.00, 2700.00, 3400.00],\n",
        "    'Weight': [0.25, 0.30, 0.20, 0.15]  # Example weights\n",
        "}\n",
        "df = pd.DataFrame(data)\n",
        "\n",
        "# Select the columns you want to save\n",
        "selected_columns = df[['Date', 'symbols', 'company', 'Weight']]\n",
        "\n",
        "# Save the selected columns as a PNG file\n",
        "dfi.export(selected_columns, 'selected_columns.png')"
      ],
      "metadata": {
        "id": "8Xhor9Hl5J8e",
        "outputId": "6bb06cdd-a4a3-40dd-9c97-04356cacb1e0",
        "colab": {
          "base_uri": "https://localhost:8080/",
          "height": 637
        }
      },
      "execution_count": 37,
      "outputs": [
        {
          "output_type": "error",
          "ename": "OSError",
          "evalue": "Chrome executable not able to be found on your machine",
          "traceback": [
            "\u001b[0;31m---------------------------------------------------------------------------\u001b[0m",
            "\u001b[0;31mOSError\u001b[0m                                   Traceback (most recent call last)",
            "\u001b[0;32m<ipython-input-37-c8cb9618ed8c>\u001b[0m in \u001b[0;36m<cell line: 18>\u001b[0;34m()\u001b[0m\n\u001b[1;32m     16\u001b[0m \u001b[0;34m\u001b[0m\u001b[0m\n\u001b[1;32m     17\u001b[0m \u001b[0;31m# Save the selected columns as a PNG file\u001b[0m\u001b[0;34m\u001b[0m\u001b[0;34m\u001b[0m\u001b[0m\n\u001b[0;32m---> 18\u001b[0;31m \u001b[0mdfi\u001b[0m\u001b[0;34m.\u001b[0m\u001b[0mexport\u001b[0m\u001b[0;34m(\u001b[0m\u001b[0mselected_columns\u001b[0m\u001b[0;34m,\u001b[0m \u001b[0;34m'selected_columns.png'\u001b[0m\u001b[0;34m)\u001b[0m\u001b[0;34m\u001b[0m\u001b[0;34m\u001b[0m\u001b[0m\n\u001b[0m",
            "\u001b[0;32m/usr/local/lib/python3.10/dist-packages/dataframe_image/_pandas_accessor.py\u001b[0m in \u001b[0;36mexport\u001b[0;34m(obj, filename, fontsize, max_rows, max_cols, table_conversion, chrome_path, dpi, use_mathjax)\u001b[0m\n\u001b[1;32m     70\u001b[0m     \u001b[0mdf\u001b[0m \u001b[0;34m=\u001b[0m \u001b[0mobj\u001b[0m\u001b[0;34m.\u001b[0m\u001b[0mdata\u001b[0m \u001b[0;32mif\u001b[0m \u001b[0mis_styler\u001b[0m \u001b[0;32melse\u001b[0m \u001b[0mobj\u001b[0m\u001b[0;34m\u001b[0m\u001b[0;34m\u001b[0m\u001b[0m\n\u001b[1;32m     71\u001b[0m     \u001b[0;32mif\u001b[0m \u001b[0mtable_conversion\u001b[0m \u001b[0;32min\u001b[0m \u001b[0mBROWSER_CONVERTER_DICT\u001b[0m\u001b[0;34m:\u001b[0m\u001b[0;34m\u001b[0m\u001b[0;34m\u001b[0m\u001b[0m\n\u001b[0;32m---> 72\u001b[0;31m         converter = BROWSER_CONVERTER_DICT[table_conversion](\n\u001b[0m\u001b[1;32m     73\u001b[0m             \u001b[0mmax_rows\u001b[0m\u001b[0;34m=\u001b[0m\u001b[0mmax_rows\u001b[0m\u001b[0;34m,\u001b[0m\u001b[0;34m\u001b[0m\u001b[0;34m\u001b[0m\u001b[0m\n\u001b[1;32m     74\u001b[0m             \u001b[0mmax_cols\u001b[0m\u001b[0;34m=\u001b[0m\u001b[0mmax_cols\u001b[0m\u001b[0;34m,\u001b[0m\u001b[0;34m\u001b[0m\u001b[0;34m\u001b[0m\u001b[0m\n",
            "\u001b[0;32m/usr/local/lib/python3.10/dist-packages/dataframe_image/converter/browser/chrome_converter.py\u001b[0m in \u001b[0;36m__init__\u001b[0;34m(self, center_df, max_rows, max_cols, chrome_path, fontsize, encode_base64, limit_crop, device_scale_factor, use_mathjax)\u001b[0m\n\u001b[1;32m     99\u001b[0m             \u001b[0muse_mathjax\u001b[0m\u001b[0;34m,\u001b[0m\u001b[0;34m\u001b[0m\u001b[0;34m\u001b[0m\u001b[0m\n\u001b[1;32m    100\u001b[0m         )\n\u001b[0;32m--> 101\u001b[0;31m         \u001b[0mself\u001b[0m\u001b[0;34m.\u001b[0m\u001b[0mchrome_path\u001b[0m \u001b[0;34m=\u001b[0m \u001b[0mget_chrome_path\u001b[0m\u001b[0;34m(\u001b[0m\u001b[0mchrome_path\u001b[0m\u001b[0;34m)\u001b[0m\u001b[0;34m\u001b[0m\u001b[0;34m\u001b[0m\u001b[0m\n\u001b[0m\u001b[1;32m    102\u001b[0m \u001b[0;34m\u001b[0m\u001b[0m\n\u001b[1;32m    103\u001b[0m     \u001b[0;32mdef\u001b[0m \u001b[0mscreenshot\u001b[0m\u001b[0;34m(\u001b[0m\u001b[0mself\u001b[0m\u001b[0;34m,\u001b[0m \u001b[0mhtml\u001b[0m\u001b[0;34m,\u001b[0m \u001b[0mss_width\u001b[0m\u001b[0;34m=\u001b[0m\u001b[0;36m1400\u001b[0m\u001b[0;34m,\u001b[0m \u001b[0mss_height\u001b[0m\u001b[0;34m=\u001b[0m\u001b[0;36m900\u001b[0m\u001b[0;34m)\u001b[0m \u001b[0;34m->\u001b[0m \u001b[0mImage\u001b[0m\u001b[0;34m:\u001b[0m\u001b[0;34m\u001b[0m\u001b[0;34m\u001b[0m\u001b[0m\n",
            "\u001b[0;32m/usr/local/lib/python3.10/dist-packages/dataframe_image/converter/browser/chrome_converter.py\u001b[0m in \u001b[0;36mget_chrome_path\u001b[0;34m(chrome_path)\u001b[0m\n\u001b[1;32m     58\u001b[0m                 \u001b[0;32mif\u001b[0m \u001b[0mchrome_path\u001b[0m\u001b[0;34m:\u001b[0m\u001b[0;34m\u001b[0m\u001b[0;34m\u001b[0m\u001b[0m\n\u001b[1;32m     59\u001b[0m                     \u001b[0;32mreturn\u001b[0m \u001b[0mchrome_path\u001b[0m\u001b[0;34m\u001b[0m\u001b[0;34m\u001b[0m\u001b[0m\n\u001b[0;32m---> 60\u001b[0;31m         \u001b[0;32mraise\u001b[0m \u001b[0mOSError\u001b[0m\u001b[0;34m(\u001b[0m\u001b[0;34m\"Chrome executable not able to be found on your machine\"\u001b[0m\u001b[0;34m)\u001b[0m\u001b[0;34m\u001b[0m\u001b[0;34m\u001b[0m\u001b[0m\n\u001b[0m\u001b[1;32m     61\u001b[0m     \u001b[0;32melif\u001b[0m \u001b[0msystem\u001b[0m \u001b[0;34m==\u001b[0m \u001b[0;34m\"windows\"\u001b[0m\u001b[0;34m:\u001b[0m\u001b[0;34m\u001b[0m\u001b[0;34m\u001b[0m\u001b[0m\n\u001b[1;32m     62\u001b[0m         \u001b[0;32mimport\u001b[0m \u001b[0mwinreg\u001b[0m\u001b[0;34m\u001b[0m\u001b[0;34m\u001b[0m\u001b[0m\n",
            "\u001b[0;31mOSError\u001b[0m: Chrome executable not able to be found on your machine"
          ]
        }
      ]
    }
  ],
  "metadata": {
    "colab": {
      "collapsed_sections": [
        "xhMU8a7-u-OH",
        "oOqMYPtEBnw_",
        "mE7Pscc7PRyu",
        "0L-w4XW_eqaT"
      ],
      "provenance": [],
      "include_colab_link": true
    },
    "kernelspec": {
      "display_name": "Python 3",
      "name": "python3"
    },
    "language_info": {
      "name": "python"
    }
  },
  "nbformat": 4,
  "nbformat_minor": 0
}