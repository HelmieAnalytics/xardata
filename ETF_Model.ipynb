{
  "cells": [
    {
      "cell_type": "markdown",
      "metadata": {
        "id": "view-in-github",
        "colab_type": "text"
      },
      "source": [
        "<a href=\"https://colab.research.google.com/github/HelmieAnalytics/xardata/blob/main/ETF_Model.ipynb\" target=\"_parent\"><img src=\"https://colab.research.google.com/assets/colab-badge.svg\" alt=\"Open In Colab\"/></a>"
      ]
    },
    {
      "cell_type": "code",
      "source": [
        "pip install yfinance"
      ],
      "metadata": {
        "id": "xOKzdU_GGZcB",
        "outputId": "2627a83b-8a53-4ada-91e3-7225b2a3bb42",
        "colab": {
          "base_uri": "https://localhost:8080/"
        }
      },
      "execution_count": 1,
      "outputs": [
        {
          "output_type": "stream",
          "name": "stdout",
          "text": [
            "Requirement already satisfied: yfinance in /usr/local/lib/python3.10/dist-packages (0.2.41)\n",
            "Requirement already satisfied: pandas>=1.3.0 in /usr/local/lib/python3.10/dist-packages (from yfinance) (2.1.4)\n",
            "Requirement already satisfied: numpy>=1.16.5 in /usr/local/lib/python3.10/dist-packages (from yfinance) (1.26.4)\n",
            "Requirement already satisfied: requests>=2.31 in /usr/local/lib/python3.10/dist-packages (from yfinance) (2.32.3)\n",
            "Requirement already satisfied: multitasking>=0.0.7 in /usr/local/lib/python3.10/dist-packages (from yfinance) (0.0.11)\n",
            "Requirement already satisfied: lxml>=4.9.1 in /usr/local/lib/python3.10/dist-packages (from yfinance) (4.9.4)\n",
            "Requirement already satisfied: platformdirs>=2.0.0 in /usr/local/lib/python3.10/dist-packages (from yfinance) (4.2.2)\n",
            "Requirement already satisfied: pytz>=2022.5 in /usr/local/lib/python3.10/dist-packages (from yfinance) (2024.1)\n",
            "Requirement already satisfied: frozendict>=2.3.4 in /usr/local/lib/python3.10/dist-packages (from yfinance) (2.4.4)\n",
            "Requirement already satisfied: peewee>=3.16.2 in /usr/local/lib/python3.10/dist-packages (from yfinance) (3.17.6)\n",
            "Requirement already satisfied: beautifulsoup4>=4.11.1 in /usr/local/lib/python3.10/dist-packages (from yfinance) (4.12.3)\n",
            "Requirement already satisfied: html5lib>=1.1 in /usr/local/lib/python3.10/dist-packages (from yfinance) (1.1)\n",
            "Requirement already satisfied: soupsieve>1.2 in /usr/local/lib/python3.10/dist-packages (from beautifulsoup4>=4.11.1->yfinance) (2.6)\n",
            "Requirement already satisfied: six>=1.9 in /usr/local/lib/python3.10/dist-packages (from html5lib>=1.1->yfinance) (1.16.0)\n",
            "Requirement already satisfied: webencodings in /usr/local/lib/python3.10/dist-packages (from html5lib>=1.1->yfinance) (0.5.1)\n",
            "Requirement already satisfied: python-dateutil>=2.8.2 in /usr/local/lib/python3.10/dist-packages (from pandas>=1.3.0->yfinance) (2.8.2)\n",
            "Requirement already satisfied: tzdata>=2022.1 in /usr/local/lib/python3.10/dist-packages (from pandas>=1.3.0->yfinance) (2024.1)\n",
            "Requirement already satisfied: charset-normalizer<4,>=2 in /usr/local/lib/python3.10/dist-packages (from requests>=2.31->yfinance) (3.3.2)\n",
            "Requirement already satisfied: idna<4,>=2.5 in /usr/local/lib/python3.10/dist-packages (from requests>=2.31->yfinance) (3.7)\n",
            "Requirement already satisfied: urllib3<3,>=1.21.1 in /usr/local/lib/python3.10/dist-packages (from requests>=2.31->yfinance) (2.0.7)\n",
            "Requirement already satisfied: certifi>=2017.4.17 in /usr/local/lib/python3.10/dist-packages (from requests>=2.31->yfinance) (2024.7.4)\n"
          ]
        }
      ]
    },
    {
      "cell_type": "code",
      "source": [
        "pip install mpld3"
      ],
      "metadata": {
        "id": "aJzCrphGruqF",
        "outputId": "098165a1-2627-4583-b62c-b66ca042df68",
        "colab": {
          "base_uri": "https://localhost:8080/"
        }
      },
      "execution_count": 66,
      "outputs": [
        {
          "output_type": "stream",
          "name": "stdout",
          "text": [
            "Collecting mpld3\n",
            "  Downloading mpld3-0.5.10-py3-none-any.whl.metadata (5.1 kB)\n",
            "Requirement already satisfied: jinja2 in /usr/local/lib/python3.10/dist-packages (from mpld3) (3.1.4)\n",
            "Requirement already satisfied: matplotlib in /usr/local/lib/python3.10/dist-packages (from mpld3) (3.7.1)\n",
            "Requirement already satisfied: MarkupSafe>=2.0 in /usr/local/lib/python3.10/dist-packages (from jinja2->mpld3) (2.1.5)\n",
            "Requirement already satisfied: contourpy>=1.0.1 in /usr/local/lib/python3.10/dist-packages (from matplotlib->mpld3) (1.2.1)\n",
            "Requirement already satisfied: cycler>=0.10 in /usr/local/lib/python3.10/dist-packages (from matplotlib->mpld3) (0.12.1)\n",
            "Requirement already satisfied: fonttools>=4.22.0 in /usr/local/lib/python3.10/dist-packages (from matplotlib->mpld3) (4.53.1)\n",
            "Requirement already satisfied: kiwisolver>=1.0.1 in /usr/local/lib/python3.10/dist-packages (from matplotlib->mpld3) (1.4.5)\n",
            "Requirement already satisfied: numpy>=1.20 in /usr/local/lib/python3.10/dist-packages (from matplotlib->mpld3) (1.26.4)\n",
            "Requirement already satisfied: packaging>=20.0 in /usr/local/lib/python3.10/dist-packages (from matplotlib->mpld3) (24.1)\n",
            "Requirement already satisfied: pillow>=6.2.0 in /usr/local/lib/python3.10/dist-packages (from matplotlib->mpld3) (9.4.0)\n",
            "Requirement already satisfied: pyparsing>=2.3.1 in /usr/local/lib/python3.10/dist-packages (from matplotlib->mpld3) (3.1.2)\n",
            "Requirement already satisfied: python-dateutil>=2.7 in /usr/local/lib/python3.10/dist-packages (from matplotlib->mpld3) (2.8.2)\n",
            "Requirement already satisfied: six>=1.5 in /usr/local/lib/python3.10/dist-packages (from python-dateutil>=2.7->matplotlib->mpld3) (1.16.0)\n",
            "Downloading mpld3-0.5.10-py3-none-any.whl (202 kB)\n",
            "\u001b[2K   \u001b[90m━━━━━━━━━━━━━━━━━━━━━━━━━━━━━━━━━━━━━━━━\u001b[0m \u001b[32m202.6/202.6 kB\u001b[0m \u001b[31m3.2 MB/s\u001b[0m eta \u001b[36m0:00:00\u001b[0m\n",
            "\u001b[?25hInstalling collected packages: mpld3\n",
            "Successfully installed mpld3-0.5.10\n"
          ]
        }
      ]
    },
    {
      "cell_type": "code",
      "source": [
        "import yfinance as yf\n",
        "import pandas as pd\n",
        "import numpy as np\n",
        "import matplotlib.pyplot as plt\n",
        "import mpld3\n",
        "\n",
        "mpld3.enable_notebook()\n",
        "\n",
        "# List of ETFs (excluding ^J303.JO)\n",
        "etfs = [\n",
        "    'STXFIN.JO', 'STXIND.JO', 'STXRES.JO', 'SYG4IR.JO',\n",
        "    'STXSWX.JO', 'CTOP50.JO', 'STXPRO.JO', 'STXWDM.JO',\n",
        "    'SYGEMF.JO', 'STXNDQ.JO', 'STXCHN.JO', 'SYG500.JO',\n",
        "    'GLPROP.JO', 'STXEMG.JO', 'SYGP.JO', 'NEWUSD.JO',\n",
        "    'NEWGBP.JO', 'NEWPLT.JO', 'STXGOV.JO', 'FNBWGB.JO'\n",
        "]\n",
        "\n",
        "# Categorize ETFs\n",
        "bond_etfs = ['STXGOV.JO', 'FNBWGB.JO']\n",
        "local_etfs = ['STXFIN.JO', 'STXIND.JO', 'STXRES.JO', 'SYG4IR.JO',\n",
        "              'STXSWX.JO', 'CTOP50.JO', 'STXPRO.JO']\n",
        "world_market_etfs = ['STXWDM.JO', 'SYGEMF.JO', 'STXNDQ.JO',\n",
        "                     'STXCHN.JO', 'SYG500.JO', 'GLPROP.JO',\n",
        "                     'STXEMG.JO', 'SYGP.JO']\n",
        "\n",
        "# Fetch historical price data for ETFs and ^J303.JO\n",
        "data = yf.download(etfs + ['^J303.JO'], start='2022-01-01', end='2023-07-30')['Adj Close']\n",
        "\n",
        "# Drop columns with all NaN values (failed downloads)\n",
        "data = data.dropna(axis=1, how='all')\n",
        "\n",
        "# Calculate returns for ETFs (excluding ^J303.JO)\n",
        "returns = data[etfs].pct_change().dropna()\n",
        "\n",
        "# Initial capital allocation\n",
        "capital = 1000\n",
        "\n",
        "def rebalance_portfolio_with_trend_filter_and_mean_check(returns, capital, trend_filter, prices):\n",
        "    allocation = pd.Series(0, index=returns.columns)\n",
        "\n",
        "    # Allocate 30% to bond ETFs\n",
        "    bond_allocation = capital * 0.30 / len(bond_etfs)\n",
        "    allocation[bond_etfs] = bond_allocation\n",
        "\n",
        "    # Allocate 50% to local ETFs\n",
        "    local_allocation = capital * 0.50 / len(local_etfs)\n",
        "    allocation[local_etfs] = local_allocation\n",
        "\n",
        "    # Allocate 20% to world market ETFs\n",
        "    world_market_allocation = capital * 0.20 / len(world_market_etfs)\n",
        "    allocation[world_market_etfs] = world_market_allocation\n",
        "\n",
        "    portfolio_value = pd.DataFrame(index=trend_filter.index, columns=returns.columns)  # Use trend_filter.index\n",
        "\n",
        "    # Calculate 100-day moving average for each ETF\n",
        "    ma100 = prices.rolling(window=100).mean()\n",
        "\n",
        "    # Iterate over MONTHLY dates to match trend_filter\n",
        "    for date in trend_filter.index:\n",
        "        if trend_filter.loc[date] > 0:\n",
        "            for etf in returns.columns:\n",
        "                # Use .loc with a tuple to access specific cells in the DataFrame\n",
        "                if prices.loc[date, etf] < ma100.loc[date, etf]:\n",
        "                    allocation[etf] = 0\n",
        "            # Forward fill daily returns to match monthly dates\n",
        "            daily_returns_filled = returns.loc[date:].iloc[0]\n",
        "            portfolio_value.loc[date] = (daily_returns_filled + 1).cumprod() * allocation\n",
        "        else:\n",
        "            # Handle the first month where there's no previous data\n",
        "            if date == trend_filter.index[0]:\n",
        "                portfolio_value.loc[date] = allocation  # Start with initial allocation\n",
        "            else:\n",
        "                portfolio_value.loc[date] = portfolio_value.shift(1).loc[date]\n",
        "\n",
        "    return portfolio_value.sum(axis=1)\n",
        "\n",
        "# Calculate 200-day moving average for ^J303 index\n",
        "jcals_ma200 = data['^J303.JO'].rolling(window=200).mean()\n",
        "\n",
        "# Create trend filter: 1 if above 200-day MA, 0 if below\n",
        "trend_filter_daily = (data['^J303.JO'] > jcals_ma200).astype(int)\n",
        "\n",
        "# Resample trend filter to monthly frequency, taking the last value of each month\n",
        "trend_filter_monthly = trend_filter_daily.resample('M').last()\n",
        "\n",
        "# Rebalance portfolio monthly with trend filter and 100-day mean check\n",
        "monthly_returns = returns.resample('M').apply(lambda x: (x + 1).prod() - 1)\n",
        "# Resample prices to monthly frequency to align with monthly_returns and trend_filter_monthly\n",
        "monthly_prices = data[etfs].resample('M').last()\n",
        "portfolio_value = rebalance_portfolio_with_trend_filter_and_mean_check(monthly_returns, capital, trend_filter_monthly, monthly_prices)  # Pass monthly_prices here\n",
        "\n",
        "# Normalize the benchmark performance (^J303.JO) and portfolio value to start from a common date\n",
        "common_start_date = max(portfolio_value.index.min(), data['^J303.JO'].index.min())\n",
        "portfolio_value = portfolio_value[portfolio_value.index >= common_start_date]\n",
        "benchmark_returns = data['^J303.JO'][data['^J303.JO'].index >= common_start_date].pct_change().dropna().resample('M').apply(lambda x: (x + 1).prod() - 1)\n",
        "benchmark_performance = (benchmark_returns + 1).cumprod() * portfolio_value.iloc[0]\n",
        "\n",
        "# Create interactive plot\n",
        "fig, ax = plt.subplots(figsize=(10, 6))\n",
        "\n",
        "ax.plot(portfolio_value.index, portfolio_value, label='Portfolio Value')\n",
        "ax.plot(benchmark_performance.index, benchmark_performance, label='Benchmark (^J303.JO)')\n",
        "\n",
        "ax.set_title('Portfolio Value vs Benchmark (^J303.JO)')\n",
        "ax.set_xlabel('Date')\n",
        "ax.set_ylabel('Value')\n",
        "ax.legend()\n",
        "\n",
        "mpld3.display()\n"
      ],
      "metadata": {
        "id": "1geR8c3HpkGR",
        "outputId": "0400cddc-5a74-45af-c6b9-cb267aac906f",
        "colab": {
          "base_uri": "https://localhost:8080/",
          "height": 797
        }
      },
      "execution_count": 71,
      "outputs": [
        {
          "output_type": "stream",
          "name": "stderr",
          "text": [
            "[*********************100%%**********************]  21 of 21 completed\n",
            "<ipython-input-71-ab32302ade60>:33: FutureWarning:\n",
            "\n",
            "The default fill_method='pad' in DataFrame.pct_change is deprecated and will be removed in a future version. Either fill in any non-leading NA values prior to calling pct_change or specify 'fill_method=None' to not fill NA values.\n",
            "\n",
            "<ipython-input-71-ab32302ade60>:47: FutureWarning:\n",
            "\n",
            "Setting an item of incompatible dtype is deprecated and will raise in a future error of pandas. Value '71.42857142857143' has dtype incompatible with int64, please explicitly cast to a compatible dtype first.\n",
            "\n"
          ]
        },
        {
          "output_type": "execute_result",
          "data": {
            "text/plain": [
              "<IPython.core.display.HTML object>"
            ],
            "text/html": [
              "\n",
              "\n",
              "<style>\n",
              "\n",
              "</style>\n",
              "\n",
              "<div id=\"fig_el2021355886886191369630439238\"></div>\n",
              "<script>\n",
              "function mpld3_load_lib(url, callback){\n",
              "  var s = document.createElement('script');\n",
              "  s.src = url;\n",
              "  s.async = true;\n",
              "  s.onreadystatechange = s.onload = callback;\n",
              "  s.onerror = function(){console.warn(\"failed to load library \" + url);};\n",
              "  document.getElementsByTagName(\"head\")[0].appendChild(s);\n",
              "}\n",
              "\n",
              "if(typeof(mpld3) !== \"undefined\" && mpld3._mpld3IsLoaded){\n",
              "   // already loaded: just create the figure\n",
              "   !function(mpld3){\n",
              "       \n",
              "       mpld3.draw_figure(\"fig_el2021355886886191369630439238\", {\"width\": 1000.0, \"height\": 600.0, \"axes\": [{\"bbox\": [0.125, 0.10999999999999999, 0.775, 0.77], \"xlim\": [18995.7, 19596.3], \"ylim\": [692.2336104432886, 2507.7559276113984], \"xdomain\": [[2022, 0, 3, 16, 48, 0, 0.0], [2023, 7, 27, 7, 12, 0, 0.0]], \"ydomain\": [692.2336104432886, 2507.7559276113984], \"xscale\": \"date\", \"yscale\": \"linear\", \"axes\": [{\"position\": \"bottom\", \"nticks\": 9, \"tickvalues\": null, \"tickformat_formatter\": \"\", \"tickformat\": null, \"scale\": \"linear\", \"fontsize\": 10.0, \"grid\": {\"gridOn\": false}, \"visible\": true}, {\"position\": \"left\", \"nticks\": 10, \"tickvalues\": null, \"tickformat_formatter\": \"\", \"tickformat\": null, \"scale\": \"linear\", \"fontsize\": 10.0, \"grid\": {\"gridOn\": false}, \"visible\": true}], \"axesbg\": \"#FFFFFF\", \"axesbgalpha\": null, \"zoomable\": true, \"id\": \"el202135588685062464\", \"lines\": [{\"data\": \"data01\", \"xindex\": 0, \"yindex\": 1, \"coordinates\": \"data\", \"id\": \"el202135588685063520\", \"color\": \"#1F77B4\", \"linewidth\": 1.5, \"dasharray\": \"none\", \"alpha\": 1, \"zorder\": 2, \"drawstyle\": \"default\"}, {\"data\": \"data02\", \"xindex\": 0, \"yindex\": 1, \"coordinates\": \"data\", \"id\": \"el202135588685140496\", \"color\": \"#FF7F0E\", \"linewidth\": 1.5, \"dasharray\": \"none\", \"alpha\": 1, \"zorder\": 2, \"drawstyle\": \"default\"}, {\"data\": \"data03\", \"xindex\": 0, \"yindex\": 1, \"coordinates\": \"axes\", \"id\": \"el202135588685147312\", \"color\": \"#1F77B4\", \"linewidth\": 1.5, \"dasharray\": \"none\", \"alpha\": 1, \"zorder\": 1000002.0, \"drawstyle\": \"default\"}, {\"data\": \"data03\", \"xindex\": 0, \"yindex\": 2, \"coordinates\": \"axes\", \"id\": \"el202135588685148800\", \"color\": \"#FF7F0E\", \"linewidth\": 1.5, \"dasharray\": \"none\", \"alpha\": 1, \"zorder\": 1000002.0, \"drawstyle\": \"default\"}], \"paths\": [{\"data\": \"data04\", \"xindex\": 0, \"yindex\": 1, \"coordinates\": \"axes\", \"pathcodes\": [\"M\", \"L\", \"S\", \"L\", \"S\", \"L\", \"S\", \"L\", \"S\", \"Z\"], \"id\": \"el202135588685145968\", \"dasharray\": \"none\", \"alpha\": 0.8, \"facecolor\": \"rgba(255, 255, 255, 0.8)\", \"edgecolor\": \"rgba(204, 204, 204, 0.8)\", \"edgewidth\": 1.0, \"zorder\": 1000000.0}], \"markers\": [], \"texts\": [{\"text\": \"Date\", \"position\": [0.5, -0.06337181337181337], \"coordinates\": \"axes\", \"h_anchor\": \"middle\", \"v_baseline\": \"hanging\", \"rotation\": -0.0, \"fontsize\": 10.0, \"color\": \"#000000\", \"alpha\": 1, \"zorder\": 3, \"id\": \"el202135588685054208\"}, {\"text\": \"Value\", \"position\": [-0.06503584229390681, 0.5], \"coordinates\": \"axes\", \"h_anchor\": \"middle\", \"v_baseline\": \"auto\", \"rotation\": -90.0, \"fontsize\": 10.0, \"color\": \"#000000\", \"alpha\": 1, \"zorder\": 3, \"id\": \"el202135588685060064\"}, {\"text\": \"Portfolio Value vs Benchmark (^J303.JO)\", \"position\": [0.5, 1.018037518037518], \"coordinates\": \"axes\", \"h_anchor\": \"middle\", \"v_baseline\": \"auto\", \"rotation\": -0.0, \"fontsize\": 12.0, \"color\": \"#000000\", \"alpha\": 1, \"zorder\": 3, \"id\": \"el202135588685070048\"}, {\"text\": \"Portfolio Value\", \"position\": [0.7830645161290323, 0.9491341991341993], \"coordinates\": \"axes\", \"h_anchor\": \"start\", \"v_baseline\": \"auto\", \"rotation\": -0.0, \"fontsize\": 10.0, \"color\": \"#000000\", \"alpha\": 1, \"zorder\": 1000003.0, \"id\": \"el202135588685146640\"}, {\"text\": \"Benchmark (^J303.JO)\", \"position\": [0.7830645161290323, 0.9037999037999038], \"coordinates\": \"axes\", \"h_anchor\": \"start\", \"v_baseline\": \"auto\", \"rotation\": -0.0, \"fontsize\": 10.0, \"color\": \"#000000\", \"alpha\": 1, \"zorder\": 1000003.0, \"id\": \"el202135588685148128\"}], \"collections\": [], \"images\": [], \"sharex\": [], \"sharey\": []}], \"data\": {\"data01\": [[19023.0, 1000.0], [19051.0, 1000.0], [19082.0, 1000.0], [19112.0, 1000.0], [19143.0, 1000.0], [19173.0, 1000.0], [19204.0, 1000.0], [19235.0, 1000.0], [19265.0, 1000.0], [19296.0, 1000.0], [19326.0, 1831.6495771728837], [19357.0, 774.7573521327482], [19388.0, 2425.2321859219387], [19416.0, 921.1223084656988], [19447.0, 899.818947314129], [19477.0, 1315.276481498082], [19508.0, 1118.8144443495787], [19538.0, 1091.112420401836], [19569.0, 973.3215375658585]], \"data02\": [[19051.0, 1027.287018490073], [19082.0, 1021.2667124069321], [19112.0, 979.7673607427588], [19143.0, 975.2875976714738], [19173.0, 898.0946229242429], [19204.0, 932.4901096615533], [19235.0, 910.960066404989], [19265.0, 863.5472789250163], [19296.0, 903.3925215712641], [19326.0, 1012.2899238129551], [19357.0, 987.5025082864998], [19388.0, 1071.1918142920126], [19416.0, 1044.6188335646502], [19447.0, 1019.763728304499], [19477.0, 1045.3258617258816], [19508.0, 996.6679283949339], [19538.0, 1017.3100539237146], [19569.0, 1050.532530932745]], \"data03\": [[0.7328853046594982, 0.9596560846560848, 0.9143217893217893], [0.7508064516129032, 0.9596560846560848, 0.9143217893217893], [0.7687275985663082, 0.9596560846560848, 0.9143217893217893]], \"data04\": [[0.7293010752688173, 0.8852813852813854], [0.9874551971326165, 0.8852813852813854], [0.9910394265232975, 0.8852813852813854], [0.9910394265232975, 0.8912938912938912], [0.9910394265232975, 0.9789562289562288], [0.9910394265232975, 0.984968734968735], [0.9874551971326165, 0.984968734968735], [0.7293010752688173, 0.984968734968735], [0.7257168458781362, 0.984968734968735], [0.7257168458781362, 0.9789562289562288], [0.7257168458781362, 0.8912938912938912], [0.7257168458781362, 0.8852813852813854], [0.7293010752688173, 0.8852813852813854]]}, \"id\": \"el202135588688619136\", \"plugins\": [{\"type\": \"reset\"}, {\"type\": \"zoom\", \"button\": true, \"enabled\": false}, {\"type\": \"boxzoom\", \"button\": true, \"enabled\": false}]});\n",
              "   }(mpld3);\n",
              "}else if(typeof define === \"function\" && define.amd){\n",
              "   // require.js is available: use it to load d3/mpld3\n",
              "   require.config({paths: {d3: \"https://d3js.org/d3.v5\"}});\n",
              "   require([\"d3\"], function(d3){\n",
              "      window.d3 = d3;\n",
              "      mpld3_load_lib(\"https://mpld3.github.io/js/mpld3.v0.5.10.js\", function(){\n",
              "         \n",
              "         mpld3.draw_figure(\"fig_el2021355886886191369630439238\", {\"width\": 1000.0, \"height\": 600.0, \"axes\": [{\"bbox\": [0.125, 0.10999999999999999, 0.775, 0.77], \"xlim\": [18995.7, 19596.3], \"ylim\": [692.2336104432886, 2507.7559276113984], \"xdomain\": [[2022, 0, 3, 16, 48, 0, 0.0], [2023, 7, 27, 7, 12, 0, 0.0]], \"ydomain\": [692.2336104432886, 2507.7559276113984], \"xscale\": \"date\", \"yscale\": \"linear\", \"axes\": [{\"position\": \"bottom\", \"nticks\": 9, \"tickvalues\": null, \"tickformat_formatter\": \"\", \"tickformat\": null, \"scale\": \"linear\", \"fontsize\": 10.0, \"grid\": {\"gridOn\": false}, \"visible\": true}, {\"position\": \"left\", \"nticks\": 10, \"tickvalues\": null, \"tickformat_formatter\": \"\", \"tickformat\": null, \"scale\": \"linear\", \"fontsize\": 10.0, \"grid\": {\"gridOn\": false}, \"visible\": true}], \"axesbg\": \"#FFFFFF\", \"axesbgalpha\": null, \"zoomable\": true, \"id\": \"el202135588685062464\", \"lines\": [{\"data\": \"data01\", \"xindex\": 0, \"yindex\": 1, \"coordinates\": \"data\", \"id\": \"el202135588685063520\", \"color\": \"#1F77B4\", \"linewidth\": 1.5, \"dasharray\": \"none\", \"alpha\": 1, \"zorder\": 2, \"drawstyle\": \"default\"}, {\"data\": \"data02\", \"xindex\": 0, \"yindex\": 1, \"coordinates\": \"data\", \"id\": \"el202135588685140496\", \"color\": \"#FF7F0E\", \"linewidth\": 1.5, \"dasharray\": \"none\", \"alpha\": 1, \"zorder\": 2, \"drawstyle\": \"default\"}, {\"data\": \"data03\", \"xindex\": 0, \"yindex\": 1, \"coordinates\": \"axes\", \"id\": \"el202135588685147312\", \"color\": \"#1F77B4\", \"linewidth\": 1.5, \"dasharray\": \"none\", \"alpha\": 1, \"zorder\": 1000002.0, \"drawstyle\": \"default\"}, {\"data\": \"data03\", \"xindex\": 0, \"yindex\": 2, \"coordinates\": \"axes\", \"id\": \"el202135588685148800\", \"color\": \"#FF7F0E\", \"linewidth\": 1.5, \"dasharray\": \"none\", \"alpha\": 1, \"zorder\": 1000002.0, \"drawstyle\": \"default\"}], \"paths\": [{\"data\": \"data04\", \"xindex\": 0, \"yindex\": 1, \"coordinates\": \"axes\", \"pathcodes\": [\"M\", \"L\", \"S\", \"L\", \"S\", \"L\", \"S\", \"L\", \"S\", \"Z\"], \"id\": \"el202135588685145968\", \"dasharray\": \"none\", \"alpha\": 0.8, \"facecolor\": \"rgba(255, 255, 255, 0.8)\", \"edgecolor\": \"rgba(204, 204, 204, 0.8)\", \"edgewidth\": 1.0, \"zorder\": 1000000.0}], \"markers\": [], \"texts\": [{\"text\": \"Date\", \"position\": [0.5, -0.06337181337181337], \"coordinates\": \"axes\", \"h_anchor\": \"middle\", \"v_baseline\": \"hanging\", \"rotation\": -0.0, \"fontsize\": 10.0, \"color\": \"#000000\", \"alpha\": 1, \"zorder\": 3, \"id\": \"el202135588685054208\"}, {\"text\": \"Value\", \"position\": [-0.06503584229390681, 0.5], \"coordinates\": \"axes\", \"h_anchor\": \"middle\", \"v_baseline\": \"auto\", \"rotation\": -90.0, \"fontsize\": 10.0, \"color\": \"#000000\", \"alpha\": 1, \"zorder\": 3, \"id\": \"el202135588685060064\"}, {\"text\": \"Portfolio Value vs Benchmark (^J303.JO)\", \"position\": [0.5, 1.018037518037518], \"coordinates\": \"axes\", \"h_anchor\": \"middle\", \"v_baseline\": \"auto\", \"rotation\": -0.0, \"fontsize\": 12.0, \"color\": \"#000000\", \"alpha\": 1, \"zorder\": 3, \"id\": \"el202135588685070048\"}, {\"text\": \"Portfolio Value\", \"position\": [0.7830645161290323, 0.9491341991341993], \"coordinates\": \"axes\", \"h_anchor\": \"start\", \"v_baseline\": \"auto\", \"rotation\": -0.0, \"fontsize\": 10.0, \"color\": \"#000000\", \"alpha\": 1, \"zorder\": 1000003.0, \"id\": \"el202135588685146640\"}, {\"text\": \"Benchmark (^J303.JO)\", \"position\": [0.7830645161290323, 0.9037999037999038], \"coordinates\": \"axes\", \"h_anchor\": \"start\", \"v_baseline\": \"auto\", \"rotation\": -0.0, \"fontsize\": 10.0, \"color\": \"#000000\", \"alpha\": 1, \"zorder\": 1000003.0, \"id\": \"el202135588685148128\"}], \"collections\": [], \"images\": [], \"sharex\": [], \"sharey\": []}], \"data\": {\"data01\": [[19023.0, 1000.0], [19051.0, 1000.0], [19082.0, 1000.0], [19112.0, 1000.0], [19143.0, 1000.0], [19173.0, 1000.0], [19204.0, 1000.0], [19235.0, 1000.0], [19265.0, 1000.0], [19296.0, 1000.0], [19326.0, 1831.6495771728837], [19357.0, 774.7573521327482], [19388.0, 2425.2321859219387], [19416.0, 921.1223084656988], [19447.0, 899.818947314129], [19477.0, 1315.276481498082], [19508.0, 1118.8144443495787], [19538.0, 1091.112420401836], [19569.0, 973.3215375658585]], \"data02\": [[19051.0, 1027.287018490073], [19082.0, 1021.2667124069321], [19112.0, 979.7673607427588], [19143.0, 975.2875976714738], [19173.0, 898.0946229242429], [19204.0, 932.4901096615533], [19235.0, 910.960066404989], [19265.0, 863.5472789250163], [19296.0, 903.3925215712641], [19326.0, 1012.2899238129551], [19357.0, 987.5025082864998], [19388.0, 1071.1918142920126], [19416.0, 1044.6188335646502], [19447.0, 1019.763728304499], [19477.0, 1045.3258617258816], [19508.0, 996.6679283949339], [19538.0, 1017.3100539237146], [19569.0, 1050.532530932745]], \"data03\": [[0.7328853046594982, 0.9596560846560848, 0.9143217893217893], [0.7508064516129032, 0.9596560846560848, 0.9143217893217893], [0.7687275985663082, 0.9596560846560848, 0.9143217893217893]], \"data04\": [[0.7293010752688173, 0.8852813852813854], [0.9874551971326165, 0.8852813852813854], [0.9910394265232975, 0.8852813852813854], [0.9910394265232975, 0.8912938912938912], [0.9910394265232975, 0.9789562289562288], [0.9910394265232975, 0.984968734968735], [0.9874551971326165, 0.984968734968735], [0.7293010752688173, 0.984968734968735], [0.7257168458781362, 0.984968734968735], [0.7257168458781362, 0.9789562289562288], [0.7257168458781362, 0.8912938912938912], [0.7257168458781362, 0.8852813852813854], [0.7293010752688173, 0.8852813852813854]]}, \"id\": \"el202135588688619136\", \"plugins\": [{\"type\": \"reset\"}, {\"type\": \"zoom\", \"button\": true, \"enabled\": false}, {\"type\": \"boxzoom\", \"button\": true, \"enabled\": false}]});\n",
              "      });\n",
              "    });\n",
              "}else{\n",
              "    // require.js not available: dynamically load d3 & mpld3\n",
              "    mpld3_load_lib(\"https://d3js.org/d3.v5.js\", function(){\n",
              "         mpld3_load_lib(\"https://mpld3.github.io/js/mpld3.v0.5.10.js\", function(){\n",
              "                 \n",
              "                 mpld3.draw_figure(\"fig_el2021355886886191369630439238\", {\"width\": 1000.0, \"height\": 600.0, \"axes\": [{\"bbox\": [0.125, 0.10999999999999999, 0.775, 0.77], \"xlim\": [18995.7, 19596.3], \"ylim\": [692.2336104432886, 2507.7559276113984], \"xdomain\": [[2022, 0, 3, 16, 48, 0, 0.0], [2023, 7, 27, 7, 12, 0, 0.0]], \"ydomain\": [692.2336104432886, 2507.7559276113984], \"xscale\": \"date\", \"yscale\": \"linear\", \"axes\": [{\"position\": \"bottom\", \"nticks\": 9, \"tickvalues\": null, \"tickformat_formatter\": \"\", \"tickformat\": null, \"scale\": \"linear\", \"fontsize\": 10.0, \"grid\": {\"gridOn\": false}, \"visible\": true}, {\"position\": \"left\", \"nticks\": 10, \"tickvalues\": null, \"tickformat_formatter\": \"\", \"tickformat\": null, \"scale\": \"linear\", \"fontsize\": 10.0, \"grid\": {\"gridOn\": false}, \"visible\": true}], \"axesbg\": \"#FFFFFF\", \"axesbgalpha\": null, \"zoomable\": true, \"id\": \"el202135588685062464\", \"lines\": [{\"data\": \"data01\", \"xindex\": 0, \"yindex\": 1, \"coordinates\": \"data\", \"id\": \"el202135588685063520\", \"color\": \"#1F77B4\", \"linewidth\": 1.5, \"dasharray\": \"none\", \"alpha\": 1, \"zorder\": 2, \"drawstyle\": \"default\"}, {\"data\": \"data02\", \"xindex\": 0, \"yindex\": 1, \"coordinates\": \"data\", \"id\": \"el202135588685140496\", \"color\": \"#FF7F0E\", \"linewidth\": 1.5, \"dasharray\": \"none\", \"alpha\": 1, \"zorder\": 2, \"drawstyle\": \"default\"}, {\"data\": \"data03\", \"xindex\": 0, \"yindex\": 1, \"coordinates\": \"axes\", \"id\": \"el202135588685147312\", \"color\": \"#1F77B4\", \"linewidth\": 1.5, \"dasharray\": \"none\", \"alpha\": 1, \"zorder\": 1000002.0, \"drawstyle\": \"default\"}, {\"data\": \"data03\", \"xindex\": 0, \"yindex\": 2, \"coordinates\": \"axes\", \"id\": \"el202135588685148800\", \"color\": \"#FF7F0E\", \"linewidth\": 1.5, \"dasharray\": \"none\", \"alpha\": 1, \"zorder\": 1000002.0, \"drawstyle\": \"default\"}], \"paths\": [{\"data\": \"data04\", \"xindex\": 0, \"yindex\": 1, \"coordinates\": \"axes\", \"pathcodes\": [\"M\", \"L\", \"S\", \"L\", \"S\", \"L\", \"S\", \"L\", \"S\", \"Z\"], \"id\": \"el202135588685145968\", \"dasharray\": \"none\", \"alpha\": 0.8, \"facecolor\": \"rgba(255, 255, 255, 0.8)\", \"edgecolor\": \"rgba(204, 204, 204, 0.8)\", \"edgewidth\": 1.0, \"zorder\": 1000000.0}], \"markers\": [], \"texts\": [{\"text\": \"Date\", \"position\": [0.5, -0.06337181337181337], \"coordinates\": \"axes\", \"h_anchor\": \"middle\", \"v_baseline\": \"hanging\", \"rotation\": -0.0, \"fontsize\": 10.0, \"color\": \"#000000\", \"alpha\": 1, \"zorder\": 3, \"id\": \"el202135588685054208\"}, {\"text\": \"Value\", \"position\": [-0.06503584229390681, 0.5], \"coordinates\": \"axes\", \"h_anchor\": \"middle\", \"v_baseline\": \"auto\", \"rotation\": -90.0, \"fontsize\": 10.0, \"color\": \"#000000\", \"alpha\": 1, \"zorder\": 3, \"id\": \"el202135588685060064\"}, {\"text\": \"Portfolio Value vs Benchmark (^J303.JO)\", \"position\": [0.5, 1.018037518037518], \"coordinates\": \"axes\", \"h_anchor\": \"middle\", \"v_baseline\": \"auto\", \"rotation\": -0.0, \"fontsize\": 12.0, \"color\": \"#000000\", \"alpha\": 1, \"zorder\": 3, \"id\": \"el202135588685070048\"}, {\"text\": \"Portfolio Value\", \"position\": [0.7830645161290323, 0.9491341991341993], \"coordinates\": \"axes\", \"h_anchor\": \"start\", \"v_baseline\": \"auto\", \"rotation\": -0.0, \"fontsize\": 10.0, \"color\": \"#000000\", \"alpha\": 1, \"zorder\": 1000003.0, \"id\": \"el202135588685146640\"}, {\"text\": \"Benchmark (^J303.JO)\", \"position\": [0.7830645161290323, 0.9037999037999038], \"coordinates\": \"axes\", \"h_anchor\": \"start\", \"v_baseline\": \"auto\", \"rotation\": -0.0, \"fontsize\": 10.0, \"color\": \"#000000\", \"alpha\": 1, \"zorder\": 1000003.0, \"id\": \"el202135588685148128\"}], \"collections\": [], \"images\": [], \"sharex\": [], \"sharey\": []}], \"data\": {\"data01\": [[19023.0, 1000.0], [19051.0, 1000.0], [19082.0, 1000.0], [19112.0, 1000.0], [19143.0, 1000.0], [19173.0, 1000.0], [19204.0, 1000.0], [19235.0, 1000.0], [19265.0, 1000.0], [19296.0, 1000.0], [19326.0, 1831.6495771728837], [19357.0, 774.7573521327482], [19388.0, 2425.2321859219387], [19416.0, 921.1223084656988], [19447.0, 899.818947314129], [19477.0, 1315.276481498082], [19508.0, 1118.8144443495787], [19538.0, 1091.112420401836], [19569.0, 973.3215375658585]], \"data02\": [[19051.0, 1027.287018490073], [19082.0, 1021.2667124069321], [19112.0, 979.7673607427588], [19143.0, 975.2875976714738], [19173.0, 898.0946229242429], [19204.0, 932.4901096615533], [19235.0, 910.960066404989], [19265.0, 863.5472789250163], [19296.0, 903.3925215712641], [19326.0, 1012.2899238129551], [19357.0, 987.5025082864998], [19388.0, 1071.1918142920126], [19416.0, 1044.6188335646502], [19447.0, 1019.763728304499], [19477.0, 1045.3258617258816], [19508.0, 996.6679283949339], [19538.0, 1017.3100539237146], [19569.0, 1050.532530932745]], \"data03\": [[0.7328853046594982, 0.9596560846560848, 0.9143217893217893], [0.7508064516129032, 0.9596560846560848, 0.9143217893217893], [0.7687275985663082, 0.9596560846560848, 0.9143217893217893]], \"data04\": [[0.7293010752688173, 0.8852813852813854], [0.9874551971326165, 0.8852813852813854], [0.9910394265232975, 0.8852813852813854], [0.9910394265232975, 0.8912938912938912], [0.9910394265232975, 0.9789562289562288], [0.9910394265232975, 0.984968734968735], [0.9874551971326165, 0.984968734968735], [0.7293010752688173, 0.984968734968735], [0.7257168458781362, 0.984968734968735], [0.7257168458781362, 0.9789562289562288], [0.7257168458781362, 0.8912938912938912], [0.7257168458781362, 0.8852813852813854], [0.7293010752688173, 0.8852813852813854]]}, \"id\": \"el202135588688619136\", \"plugins\": [{\"type\": \"reset\"}, {\"type\": \"zoom\", \"button\": true, \"enabled\": false}, {\"type\": \"boxzoom\", \"button\": true, \"enabled\": false}]});\n",
              "            })\n",
              "         });\n",
              "}\n",
              "</script>"
            ]
          },
          "metadata": {},
          "execution_count": 71
        }
      ]
    },
    {
      "cell_type": "code",
      "source": [
        "from google.colab import drive\n",
        "drive.mount('/content/drive')"
      ],
      "metadata": {
        "id": "kI0XSb9rvuOz",
        "outputId": "c31e9197-9e1f-44fc-e442-da5edd9cb744",
        "colab": {
          "base_uri": "https://localhost:8080/"
        }
      },
      "execution_count": 72,
      "outputs": [
        {
          "output_type": "stream",
          "name": "stdout",
          "text": [
            "Mounted at /content/drive\n"
          ]
        }
      ]
    }
  ],
  "metadata": {
    "colab": {
      "name": "Welcome To Colab",
      "provenance": [],
      "include_colab_link": true
    },
    "kernelspec": {
      "display_name": "Python 3",
      "name": "python3"
    }
  },
  "nbformat": 4,
  "nbformat_minor": 0
}